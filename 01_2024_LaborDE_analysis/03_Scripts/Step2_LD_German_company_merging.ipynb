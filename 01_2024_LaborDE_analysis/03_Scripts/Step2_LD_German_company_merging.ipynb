{
 "cells": [
  {
   "cell_type": "markdown",
   "id": "41fb9705",
   "metadata": {},
   "source": [
    "# Project: 01-2024 LaborDE Analysis\n",
    "## Author: Nadia Ordonez\n",
    "## Step2 LD German company merging"
   ]
  },
  {
   "cell_type": "markdown",
   "id": "aaf28674",
   "metadata": {},
   "source": [
    "# Table of Contents\n",
    "* [1. Introduction](#1.-Introduction)\n",
    "* [2. Importing data](#2.-Importing-data)\n",
    "    * [2.1 Importing libraries](#2.1-Importing-libraries)\n",
    "    * [2.2 Importing dataframes](#2.2-Importing-dataframes)  \n",
    "* [3. Merging companies Bundesland](#3.-Merging-companies-Bundesland)\n",
    "    * [3.1 Key variable](#3.1-Key-variable)\n",
    "    * [3.2 Merge](#3.2-Merge)\n",
    "    * [3.3 Exporting dataframe](#3.3-Exporting-dataframe)\n",
    "* [4. Merging companies regional](#4.-Merging-companies-regional)\n",
    "    * [4.1 Key variable](#4.1-Key-variable)\n",
    "    * [4.2 Merge](#4.2-Merge)\n",
    "    * [4.3 Exporting dataframe](#4.3-Exporting-dataframe)"
   ]
  },
  {
   "cell_type": "markdown",
   "id": "62521fd6",
   "metadata": {},
   "source": [
    "# 1. Introduction"
   ]
  },
  {
   "cell_type": "markdown",
   "id": "5f6b146f",
   "metadata": {},
   "source": [
    "Here, I will merge the German company data at the Bundesland and regional levels. Our client LaborDe is interested at addressing their business questions at these two levels."
   ]
  },
  {
   "cell_type": "markdown",
   "id": "f865cf30",
   "metadata": {},
   "source": [
    "# 2. Importing data"
   ]
  },
  {
   "cell_type": "markdown",
   "id": "f5088c67",
   "metadata": {},
   "source": [
    "## 2.1 Importing libraries"
   ]
  },
  {
   "cell_type": "code",
   "execution_count": 1,
   "id": "503d6252",
   "metadata": {},
   "outputs": [],
   "source": [
    "#Import analytical libraries\n",
    "import pandas as pd\n",
    "import numpy as np\n",
    "import os"
   ]
  },
  {
   "cell_type": "markdown",
   "id": "6f923b56",
   "metadata": {},
   "source": [
    "## 2.2 Importing dataframes"
   ]
  },
  {
   "cell_type": "code",
   "execution_count": 2,
   "id": "07ddc86e",
   "metadata": {},
   "outputs": [],
   "source": [
    "# Project folder path into a string to easily retrieve data\n",
    "path = r'C:\\Users\\Ich\\Documents\\01_2024_LaborDE_analysis'"
   ]
  },
  {
   "cell_type": "markdown",
   "id": "b6f76ff2",
   "metadata": {},
   "source": [
    "### German companies"
   ]
  },
  {
   "cell_type": "code",
   "execution_count": 4,
   "id": "e4a1af5c",
   "metadata": {},
   "outputs": [],
   "source": [
    "# Read the CSV file with UTF-8 encoding\n",
    "# The encoding='utf-8' parameter ensures that the file is read in UTF-8 format, which supports German characters.\n",
    "company_de = pd.read_csv(os.path.join(path, '02_Data', 'Prepared_data', 'all_company_de_step1.csv'), dtype={'plz_original': object, 'plz_imputed': object }, encoding='utf-8')"
   ]
  },
  {
   "cell_type": "code",
   "execution_count": 5,
   "id": "3de553c8",
   "metadata": {},
   "outputs": [
    {
     "data": {
      "text/plain": [
       "(2393515, 8)"
      ]
     },
     "execution_count": 5,
     "metadata": {},
     "output_type": "execute_result"
    }
   ],
   "source": [
    "# See df shape\n",
    "company_de.shape\n",
    "# expected number of rows"
   ]
  },
  {
   "cell_type": "code",
   "execution_count": 6,
   "id": "2d2ad903",
   "metadata": {},
   "outputs": [
    {
     "data": {
      "text/html": [
       "<div>\n",
       "<style scoped>\n",
       "    .dataframe tbody tr th:only-of-type {\n",
       "        vertical-align: middle;\n",
       "    }\n",
       "\n",
       "    .dataframe tbody tr th {\n",
       "        vertical-align: top;\n",
       "    }\n",
       "\n",
       "    .dataframe thead th {\n",
       "        text-align: right;\n",
       "    }\n",
       "</style>\n",
       "<table border=\"1\" class=\"dataframe\">\n",
       "  <thead>\n",
       "    <tr style=\"text-align: right;\">\n",
       "      <th></th>\n",
       "      <th>company_number</th>\n",
       "      <th>company_name</th>\n",
       "      <th>registered_address</th>\n",
       "      <th>bundesland_en</th>\n",
       "      <th>labor</th>\n",
       "      <th>cancer</th>\n",
       "      <th>plz_original</th>\n",
       "      <th>plz_imputed</th>\n",
       "    </tr>\n",
       "  </thead>\n",
       "  <tbody>\n",
       "    <tr>\n",
       "      <th>0</th>\n",
       "      <td>K1101R_HRB150148</td>\n",
       "      <td>olly UG (haftungsbeschränkt)</td>\n",
       "      <td>Waidmannstraße 1, 22769 Hamburg.</td>\n",
       "      <td>Hamburg</td>\n",
       "      <td>0</td>\n",
       "      <td>0</td>\n",
       "      <td>22769</td>\n",
       "      <td>22769</td>\n",
       "    </tr>\n",
       "    <tr>\n",
       "      <th>1</th>\n",
       "      <td>R1101_HRB81092</td>\n",
       "      <td>BLUECHILLED Verwaltungs GmbH</td>\n",
       "      <td>Oststr.</td>\n",
       "      <td>North Rhine-Westphalia</td>\n",
       "      <td>0</td>\n",
       "      <td>0</td>\n",
       "      <td>NaN</td>\n",
       "      <td>40549</td>\n",
       "    </tr>\n",
       "    <tr>\n",
       "      <th>2</th>\n",
       "      <td>H1101_H1101_HRB18423</td>\n",
       "      <td>Mittelständische Beteiligungsgesellschaft Brem...</td>\n",
       "      <td>Langenstraße 2-4, 28195 Bremen.</td>\n",
       "      <td>Bremen</td>\n",
       "      <td>0</td>\n",
       "      <td>0</td>\n",
       "      <td>28195</td>\n",
       "      <td>28195</td>\n",
       "    </tr>\n",
       "    <tr>\n",
       "      <th>3</th>\n",
       "      <td>R1101_HRB45109</td>\n",
       "      <td>Albert Barufe GmbH</td>\n",
       "      <td>Hans-Sachs-Straße 11, 40721 Hilden.</td>\n",
       "      <td>North Rhine-Westphalia</td>\n",
       "      <td>0</td>\n",
       "      <td>0</td>\n",
       "      <td>40721</td>\n",
       "      <td>40721</td>\n",
       "    </tr>\n",
       "    <tr>\n",
       "      <th>4</th>\n",
       "      <td>R1101_HRB37996</td>\n",
       "      <td>ITERGO Informationstechnologie GmbH</td>\n",
       "      <td>ERGO-Platz 1, 40477 Düsseldorf.</td>\n",
       "      <td>North Rhine-Westphalia</td>\n",
       "      <td>0</td>\n",
       "      <td>0</td>\n",
       "      <td>40477</td>\n",
       "      <td>40477</td>\n",
       "    </tr>\n",
       "  </tbody>\n",
       "</table>\n",
       "</div>"
      ],
      "text/plain": [
       "         company_number                                       company_name  \\\n",
       "0      K1101R_HRB150148                       olly UG (haftungsbeschränkt)   \n",
       "1        R1101_HRB81092                       BLUECHILLED Verwaltungs GmbH   \n",
       "2  H1101_H1101_HRB18423  Mittelständische Beteiligungsgesellschaft Brem...   \n",
       "3        R1101_HRB45109                                 Albert Barufe GmbH   \n",
       "4        R1101_HRB37996                ITERGO Informationstechnologie GmbH   \n",
       "\n",
       "                    registered_address           bundesland_en  labor  cancer  \\\n",
       "0     Waidmannstraße 1, 22769 Hamburg.                 Hamburg      0       0   \n",
       "1                              Oststr.  North Rhine-Westphalia      0       0   \n",
       "2      Langenstraße 2-4, 28195 Bremen.                  Bremen      0       0   \n",
       "3  Hans-Sachs-Straße 11, 40721 Hilden.  North Rhine-Westphalia      0       0   \n",
       "4      ERGO-Platz 1, 40477 Düsseldorf.  North Rhine-Westphalia      0       0   \n",
       "\n",
       "  plz_original plz_imputed  \n",
       "0        22769       22769  \n",
       "1          NaN       40549  \n",
       "2        28195       28195  \n",
       "3        40721       40721  \n",
       "4        40477       40477  "
      ]
     },
     "execution_count": 6,
     "metadata": {},
     "output_type": "execute_result"
    }
   ],
   "source": [
    "# See headers\n",
    "company_de.head()"
   ]
  },
  {
   "cell_type": "markdown",
   "id": "8f72a2e7",
   "metadata": {},
   "source": [
    "### German population Bundesland"
   ]
  },
  {
   "cell_type": "code",
   "execution_count": 7,
   "id": "8f970826",
   "metadata": {},
   "outputs": [],
   "source": [
    "# Read the CSV file with UTF-8 encoding\n",
    "# The encoding='utf-8' parameter ensures that the file is read in UTF-8 format, which supports German characters.\n",
    "population_de = pd.read_csv(os.path.join(path, '02_Data', 'Prepared_data', 'population_bundesland_step1.csv'), encoding='utf-8')"
   ]
  },
  {
   "cell_type": "code",
   "execution_count": 8,
   "id": "7d9f7aff",
   "metadata": {},
   "outputs": [
    {
     "data": {
      "text/plain": [
       "(16, 8)"
      ]
     },
     "execution_count": 8,
     "metadata": {},
     "output_type": "execute_result"
    }
   ],
   "source": [
    "# See df shape\n",
    "population_de.shape\n",
    "# expected number of rows"
   ]
  },
  {
   "cell_type": "code",
   "execution_count": 9,
   "id": "d26078c9",
   "metadata": {},
   "outputs": [
    {
     "data": {
      "text/html": [
       "<div>\n",
       "<style scoped>\n",
       "    .dataframe tbody tr th:only-of-type {\n",
       "        vertical-align: middle;\n",
       "    }\n",
       "\n",
       "    .dataframe tbody tr th {\n",
       "        vertical-align: top;\n",
       "    }\n",
       "\n",
       "    .dataframe thead th {\n",
       "        text-align: right;\n",
       "    }\n",
       "</style>\n",
       "<table border=\"1\" class=\"dataframe\">\n",
       "  <thead>\n",
       "    <tr style=\"text-align: right;\">\n",
       "      <th></th>\n",
       "      <th>administration_unit_id</th>\n",
       "      <th>bundesland_de</th>\n",
       "      <th>area_sqkm</th>\n",
       "      <th>population</th>\n",
       "      <th>male</th>\n",
       "      <th>female</th>\n",
       "      <th>population_per_sqkm</th>\n",
       "      <th>gdp_mill_euro</th>\n",
       "    </tr>\n",
       "  </thead>\n",
       "  <tbody>\n",
       "    <tr>\n",
       "      <th>0</th>\n",
       "      <td>1</td>\n",
       "      <td>Schleswig-Holstein</td>\n",
       "      <td>15804.30</td>\n",
       "      <td>2896712.0</td>\n",
       "      <td>1419457.0</td>\n",
       "      <td>1477255.0</td>\n",
       "      <td>183.0</td>\n",
       "      <td>112755</td>\n",
       "    </tr>\n",
       "    <tr>\n",
       "      <th>1</th>\n",
       "      <td>2</td>\n",
       "      <td>Hamburg</td>\n",
       "      <td>755.09</td>\n",
       "      <td>1841179.0</td>\n",
       "      <td>902048.0</td>\n",
       "      <td>939131.0</td>\n",
       "      <td>2438.0</td>\n",
       "      <td>144220</td>\n",
       "    </tr>\n",
       "    <tr>\n",
       "      <th>2</th>\n",
       "      <td>3</td>\n",
       "      <td>Niedersachsen</td>\n",
       "      <td>47709.51</td>\n",
       "      <td>7982448.0</td>\n",
       "      <td>3943243.0</td>\n",
       "      <td>4039205.0</td>\n",
       "      <td>167.0</td>\n",
       "      <td>339414</td>\n",
       "    </tr>\n",
       "    <tr>\n",
       "      <th>3</th>\n",
       "      <td>4</td>\n",
       "      <td>Bremen</td>\n",
       "      <td>419.36</td>\n",
       "      <td>682986.0</td>\n",
       "      <td>338035.0</td>\n",
       "      <td>344951.0</td>\n",
       "      <td>1629.0</td>\n",
       "      <td>38698</td>\n",
       "    </tr>\n",
       "    <tr>\n",
       "      <th>4</th>\n",
       "      <td>5</td>\n",
       "      <td>Nordrhein-Westfalen</td>\n",
       "      <td>34112.31</td>\n",
       "      <td>17932651.0</td>\n",
       "      <td>8798631.0</td>\n",
       "      <td>9134020.0</td>\n",
       "      <td>526.0</td>\n",
       "      <td>793790</td>\n",
       "    </tr>\n",
       "  </tbody>\n",
       "</table>\n",
       "</div>"
      ],
      "text/plain": [
       "   administration_unit_id        bundesland_de  area_sqkm  population  \\\n",
       "0                       1   Schleswig-Holstein   15804.30   2896712.0   \n",
       "1                       2              Hamburg     755.09   1841179.0   \n",
       "2                       3        Niedersachsen   47709.51   7982448.0   \n",
       "3                       4               Bremen     419.36    682986.0   \n",
       "4                       5  Nordrhein-Westfalen   34112.31  17932651.0   \n",
       "\n",
       "        male     female  population_per_sqkm  gdp_mill_euro  \n",
       "0  1419457.0  1477255.0                183.0         112755  \n",
       "1   902048.0   939131.0               2438.0         144220  \n",
       "2  3943243.0  4039205.0                167.0         339414  \n",
       "3   338035.0   344951.0               1629.0          38698  \n",
       "4  8798631.0  9134020.0                526.0         793790  "
      ]
     },
     "execution_count": 9,
     "metadata": {},
     "output_type": "execute_result"
    }
   ],
   "source": [
    "# See headers\n",
    "population_de.head()"
   ]
  },
  {
   "cell_type": "markdown",
   "id": "f944c31e",
   "metadata": {},
   "source": [
    "### German population regional"
   ]
  },
  {
   "cell_type": "code",
   "execution_count": 7,
   "id": "63f06dd0",
   "metadata": {},
   "outputs": [],
   "source": [
    "# Read the CSV file with UTF-8 encoding\n",
    "# The encoding='utf-8' parameter ensures that the file is read in UTF-8 format, which supports German characters.\n",
    "regional_de = pd.read_csv(os.path.join(path, '02_Data', 'Prepared_data', 'population_regional_step1.csv'), dtype={'plz': object}, encoding='utf-8')"
   ]
  },
  {
   "cell_type": "code",
   "execution_count": 5,
   "id": "689046db",
   "metadata": {},
   "outputs": [
    {
     "data": {
      "text/plain": [
       "(8170, 6)"
      ]
     },
     "execution_count": 5,
     "metadata": {},
     "output_type": "execute_result"
    }
   ],
   "source": [
    "# See df shape\n",
    "regional_de.shape\n",
    "# expected number of rows"
   ]
  },
  {
   "cell_type": "code",
   "execution_count": 6,
   "id": "9e61ee2c",
   "metadata": {},
   "outputs": [
    {
     "data": {
      "text/html": [
       "<div>\n",
       "<style scoped>\n",
       "    .dataframe tbody tr th:only-of-type {\n",
       "        vertical-align: middle;\n",
       "    }\n",
       "\n",
       "    .dataframe tbody tr th {\n",
       "        vertical-align: top;\n",
       "    }\n",
       "\n",
       "    .dataframe thead th {\n",
       "        text-align: right;\n",
       "    }\n",
       "</style>\n",
       "<table border=\"1\" class=\"dataframe\">\n",
       "  <thead>\n",
       "    <tr style=\"text-align: right;\">\n",
       "      <th></th>\n",
       "      <th>plz</th>\n",
       "      <th>habitants</th>\n",
       "      <th>area_sqkm</th>\n",
       "      <th>city</th>\n",
       "      <th>region</th>\n",
       "      <th>bundesland</th>\n",
       "    </tr>\n",
       "  </thead>\n",
       "  <tbody>\n",
       "    <tr>\n",
       "      <th>0</th>\n",
       "      <td>01067</td>\n",
       "      <td>11957</td>\n",
       "      <td>6.866839</td>\n",
       "      <td>Dresden</td>\n",
       "      <td>Dresden</td>\n",
       "      <td>Sachsen</td>\n",
       "    </tr>\n",
       "    <tr>\n",
       "      <th>1</th>\n",
       "      <td>01069</td>\n",
       "      <td>25483</td>\n",
       "      <td>5.339213</td>\n",
       "      <td>Dresden</td>\n",
       "      <td>Dresden</td>\n",
       "      <td>Sachsen</td>\n",
       "    </tr>\n",
       "    <tr>\n",
       "      <th>2</th>\n",
       "      <td>01097</td>\n",
       "      <td>14821</td>\n",
       "      <td>3.298022</td>\n",
       "      <td>Dresden</td>\n",
       "      <td>Dresden</td>\n",
       "      <td>Sachsen</td>\n",
       "    </tr>\n",
       "    <tr>\n",
       "      <th>3</th>\n",
       "      <td>01099</td>\n",
       "      <td>28018</td>\n",
       "      <td>58.505818</td>\n",
       "      <td>Dresden</td>\n",
       "      <td>Dresden</td>\n",
       "      <td>Sachsen</td>\n",
       "    </tr>\n",
       "    <tr>\n",
       "      <th>4</th>\n",
       "      <td>01108</td>\n",
       "      <td>5876</td>\n",
       "      <td>16.447222</td>\n",
       "      <td>Dresden</td>\n",
       "      <td>Dresden</td>\n",
       "      <td>Sachsen</td>\n",
       "    </tr>\n",
       "  </tbody>\n",
       "</table>\n",
       "</div>"
      ],
      "text/plain": [
       "     plz  habitants  area_sqkm     city   region bundesland\n",
       "0  01067      11957   6.866839  Dresden  Dresden    Sachsen\n",
       "1  01069      25483   5.339213  Dresden  Dresden    Sachsen\n",
       "2  01097      14821   3.298022  Dresden  Dresden    Sachsen\n",
       "3  01099      28018  58.505818  Dresden  Dresden    Sachsen\n",
       "4  01108       5876  16.447222  Dresden  Dresden    Sachsen"
      ]
     },
     "execution_count": 6,
     "metadata": {},
     "output_type": "execute_result"
    }
   ],
   "source": [
    "# See headers\n",
    "regional_de.head()"
   ]
  },
  {
   "cell_type": "markdown",
   "id": "2a37e369",
   "metadata": {},
   "source": [
    "# 3. Merging companies Bundesland"
   ]
  },
  {
   "cell_type": "markdown",
   "id": "16733d64",
   "metadata": {},
   "source": [
    "The German company dataframe will be merged with the Bundesland dataframe using the key variable Bundesland. Prior to the merge, the company dataframe will be grouped at the Bundesland level."
   ]
  },
  {
   "cell_type": "markdown",
   "id": "46e06cba",
   "metadata": {},
   "source": [
    "## 3.1 Key variable"
   ]
  },
  {
   "cell_type": "code",
   "execution_count": 13,
   "id": "db6052a6",
   "metadata": {},
   "outputs": [
    {
     "data": {
      "text/plain": [
       "bundesland_en\n",
       "North Rhine-Westphalia           505294\n",
       "Bavaria                          412937\n",
       "Baden-Württemberg                299894\n",
       "Lower Saxony                     219162\n",
       "Hesse                            195520\n",
       "Berlin                           142570\n",
       "Rhineland-Palatinate             109797\n",
       "Saxony                            92364\n",
       "Hamburg                           90427\n",
       "Schleswig-Holstein                83243\n",
       "Brandenburg                       57793\n",
       "Saxony-Anhalt                     48918\n",
       "Thuringia                         48541\n",
       "Mecklenburg-Western Pomerania     37426\n",
       "Saarland                          27738\n",
       "Bremen                            21891\n",
       "Name: count, dtype: int64"
      ]
     },
     "execution_count": 13,
     "metadata": {},
     "output_type": "execute_result"
    }
   ],
   "source": [
    "# German company dataframe key variable Bundesland\n",
    "company_de['bundesland_en'].value_counts(dropna = False)\n",
    "# all 16 Bundesländer from Germany are listed"
   ]
  },
  {
   "cell_type": "code",
   "execution_count": 14,
   "id": "f88cb5ca",
   "metadata": {},
   "outputs": [],
   "source": [
    "# Group by 'bundesland' and perform aggregations\n",
    "result_df = company_de.groupby('bundesland_en').agg(\n",
    "    company_total=('company_name', 'count'),\n",
    "    labor_total=('labor', 'sum'),\n",
    "    cancer_total=('cancer', 'sum'),\n",
    "    plz_total=('plz_imputed', 'nunique')\n",
    ").reset_index()"
   ]
  },
  {
   "cell_type": "code",
   "execution_count": 15,
   "id": "6bf0cd22",
   "metadata": {},
   "outputs": [
    {
     "data": {
      "text/plain": [
       "(16, 5)"
      ]
     },
     "execution_count": 15,
     "metadata": {},
     "output_type": "execute_result"
    }
   ],
   "source": [
    "# See results\n",
    "result_df.shape\n",
    "# as expected all Bundelander are listed"
   ]
  },
  {
   "cell_type": "code",
   "execution_count": 16,
   "id": "a1713fad",
   "metadata": {},
   "outputs": [
    {
     "data": {
      "text/html": [
       "<div>\n",
       "<style scoped>\n",
       "    .dataframe tbody tr th:only-of-type {\n",
       "        vertical-align: middle;\n",
       "    }\n",
       "\n",
       "    .dataframe tbody tr th {\n",
       "        vertical-align: top;\n",
       "    }\n",
       "\n",
       "    .dataframe thead th {\n",
       "        text-align: right;\n",
       "    }\n",
       "</style>\n",
       "<table border=\"1\" class=\"dataframe\">\n",
       "  <thead>\n",
       "    <tr style=\"text-align: right;\">\n",
       "      <th></th>\n",
       "      <th>bundesland_en</th>\n",
       "      <th>company_total</th>\n",
       "      <th>labor_total</th>\n",
       "      <th>cancer_total</th>\n",
       "      <th>plz_total</th>\n",
       "    </tr>\n",
       "  </thead>\n",
       "  <tbody>\n",
       "    <tr>\n",
       "      <th>0</th>\n",
       "      <td>Baden-Württemberg</td>\n",
       "      <td>299894</td>\n",
       "      <td>1381</td>\n",
       "      <td>133</td>\n",
       "      <td>2073</td>\n",
       "    </tr>\n",
       "    <tr>\n",
       "      <th>1</th>\n",
       "      <td>Bavaria</td>\n",
       "      <td>412937</td>\n",
       "      <td>1604</td>\n",
       "      <td>158</td>\n",
       "      <td>3160</td>\n",
       "    </tr>\n",
       "    <tr>\n",
       "      <th>2</th>\n",
       "      <td>Berlin</td>\n",
       "      <td>142570</td>\n",
       "      <td>668</td>\n",
       "      <td>75</td>\n",
       "      <td>1318</td>\n",
       "    </tr>\n",
       "    <tr>\n",
       "      <th>3</th>\n",
       "      <td>Brandenburg</td>\n",
       "      <td>57793</td>\n",
       "      <td>247</td>\n",
       "      <td>31</td>\n",
       "      <td>570</td>\n",
       "    </tr>\n",
       "    <tr>\n",
       "      <th>4</th>\n",
       "      <td>Bremen</td>\n",
       "      <td>21891</td>\n",
       "      <td>115</td>\n",
       "      <td>9</td>\n",
       "      <td>157</td>\n",
       "    </tr>\n",
       "    <tr>\n",
       "      <th>5</th>\n",
       "      <td>Hamburg</td>\n",
       "      <td>90427</td>\n",
       "      <td>340</td>\n",
       "      <td>33</td>\n",
       "      <td>962</td>\n",
       "    </tr>\n",
       "    <tr>\n",
       "      <th>6</th>\n",
       "      <td>Hesse</td>\n",
       "      <td>195520</td>\n",
       "      <td>812</td>\n",
       "      <td>139</td>\n",
       "      <td>1746</td>\n",
       "    </tr>\n",
       "    <tr>\n",
       "      <th>7</th>\n",
       "      <td>Lower Saxony</td>\n",
       "      <td>219162</td>\n",
       "      <td>806</td>\n",
       "      <td>121</td>\n",
       "      <td>1442</td>\n",
       "    </tr>\n",
       "    <tr>\n",
       "      <th>8</th>\n",
       "      <td>Mecklenburg-Western Pomerania</td>\n",
       "      <td>37426</td>\n",
       "      <td>183</td>\n",
       "      <td>24</td>\n",
       "      <td>462</td>\n",
       "    </tr>\n",
       "    <tr>\n",
       "      <th>9</th>\n",
       "      <td>North Rhine-Westphalia</td>\n",
       "      <td>505294</td>\n",
       "      <td>2112</td>\n",
       "      <td>267</td>\n",
       "      <td>2310</td>\n",
       "    </tr>\n",
       "    <tr>\n",
       "      <th>10</th>\n",
       "      <td>Rhineland-Palatinate</td>\n",
       "      <td>109797</td>\n",
       "      <td>441</td>\n",
       "      <td>60</td>\n",
       "      <td>1089</td>\n",
       "    </tr>\n",
       "    <tr>\n",
       "      <th>11</th>\n",
       "      <td>Saarland</td>\n",
       "      <td>27738</td>\n",
       "      <td>124</td>\n",
       "      <td>19</td>\n",
       "      <td>160</td>\n",
       "    </tr>\n",
       "    <tr>\n",
       "      <th>12</th>\n",
       "      <td>Saxony</td>\n",
       "      <td>92364</td>\n",
       "      <td>436</td>\n",
       "      <td>54</td>\n",
       "      <td>850</td>\n",
       "    </tr>\n",
       "    <tr>\n",
       "      <th>13</th>\n",
       "      <td>Saxony-Anhalt</td>\n",
       "      <td>48918</td>\n",
       "      <td>215</td>\n",
       "      <td>24</td>\n",
       "      <td>490</td>\n",
       "    </tr>\n",
       "    <tr>\n",
       "      <th>14</th>\n",
       "      <td>Schleswig-Holstein</td>\n",
       "      <td>83243</td>\n",
       "      <td>329</td>\n",
       "      <td>43</td>\n",
       "      <td>693</td>\n",
       "    </tr>\n",
       "    <tr>\n",
       "      <th>15</th>\n",
       "      <td>Thuringia</td>\n",
       "      <td>48541</td>\n",
       "      <td>202</td>\n",
       "      <td>22</td>\n",
       "      <td>503</td>\n",
       "    </tr>\n",
       "  </tbody>\n",
       "</table>\n",
       "</div>"
      ],
      "text/plain": [
       "                    bundesland_en  company_total  labor_total  cancer_total  \\\n",
       "0               Baden-Württemberg         299894         1381           133   \n",
       "1                         Bavaria         412937         1604           158   \n",
       "2                          Berlin         142570          668            75   \n",
       "3                     Brandenburg          57793          247            31   \n",
       "4                          Bremen          21891          115             9   \n",
       "5                         Hamburg          90427          340            33   \n",
       "6                           Hesse         195520          812           139   \n",
       "7                    Lower Saxony         219162          806           121   \n",
       "8   Mecklenburg-Western Pomerania          37426          183            24   \n",
       "9          North Rhine-Westphalia         505294         2112           267   \n",
       "10           Rhineland-Palatinate         109797          441            60   \n",
       "11                       Saarland          27738          124            19   \n",
       "12                         Saxony          92364          436            54   \n",
       "13                  Saxony-Anhalt          48918          215            24   \n",
       "14             Schleswig-Holstein          83243          329            43   \n",
       "15                      Thuringia          48541          202            22   \n",
       "\n",
       "    plz_total  \n",
       "0        2073  \n",
       "1        3160  \n",
       "2        1318  \n",
       "3         570  \n",
       "4         157  \n",
       "5         962  \n",
       "6        1746  \n",
       "7        1442  \n",
       "8         462  \n",
       "9        2310  \n",
       "10       1089  \n",
       "11        160  \n",
       "12        850  \n",
       "13        490  \n",
       "14        693  \n",
       "15        503  "
      ]
     },
     "execution_count": 16,
     "metadata": {},
     "output_type": "execute_result"
    }
   ],
   "source": [
    "# See results\n",
    "result_df\n",
    "# all companies were grouped at the Bundesland level"
   ]
  },
  {
   "cell_type": "code",
   "execution_count": 17,
   "id": "5c1914bd",
   "metadata": {},
   "outputs": [
    {
     "data": {
      "text/plain": [
       "bundesland_de\n",
       "Schleswig-Holstein        1\n",
       "Hamburg                   1\n",
       "Niedersachsen             1\n",
       "Bremen                    1\n",
       "Nordrhein-Westfalen       1\n",
       "Hessen                    1\n",
       "Rheinland-Pfalz           1\n",
       "Baden-Württemberg         1\n",
       "Bayern                    1\n",
       "Saarland                  1\n",
       "Berlin                    1\n",
       "Brandenburg               1\n",
       "Mecklenburg-Vorpommern    1\n",
       "Sachsen                   1\n",
       "Sachsen-Anhalt            1\n",
       "Thüringen                 1\n",
       "Name: count, dtype: int64"
      ]
     },
     "execution_count": 17,
     "metadata": {},
     "output_type": "execute_result"
    }
   ],
   "source": [
    "# German population Bundesland dataframe key variable Bundesland\n",
    "population_de['bundesland_de'].value_counts(dropna = False)\n",
    "# all 16 Bundesländer from Germany are listed"
   ]
  },
  {
   "cell_type": "markdown",
   "id": "7539defd",
   "metadata": {},
   "source": [
    "### Creating a common key variable"
   ]
  },
  {
   "cell_type": "markdown",
   "id": "934a56ba",
   "metadata": {},
   "source": [
    "Common values are present in both dataframes, these refer to the 16 Bundesländer in Germany. However, the values differ, since they are written in German and English. Here, I will create a 'administrative_unit_id'variable in the company_de df to assign the same values as described in the population_de df, thus creating a common key variable to perform the merge."
   ]
  },
  {
   "cell_type": "code",
   "execution_count": 18,
   "id": "b8c81c19",
   "metadata": {},
   "outputs": [],
   "source": [
    "# Deriving a variable from the 'bundesland' variable\n",
    "result_df.loc[result_df['bundesland_en'] == 'Schleswig-Holstein' , 'administration_unit_id'] = 1"
   ]
  },
  {
   "cell_type": "code",
   "execution_count": 19,
   "id": "f7d7934e",
   "metadata": {},
   "outputs": [],
   "source": [
    "# Deriving a variable from the 'bundesland' variable\n",
    "result_df.loc[result_df['bundesland_en'] == 'Hamburg', 'administration_unit_id'] = 2"
   ]
  },
  {
   "cell_type": "code",
   "execution_count": 20,
   "id": "7b7d4fb0",
   "metadata": {},
   "outputs": [],
   "source": [
    "# Deriving a variable from the 'bundesland' variable\n",
    "result_df.loc[result_df['bundesland_en'] == 'Lower Saxony', 'administration_unit_id'] = 3"
   ]
  },
  {
   "cell_type": "code",
   "execution_count": 21,
   "id": "eca6c54b",
   "metadata": {},
   "outputs": [],
   "source": [
    "# Deriving a variable from the 'bundesland' variable\n",
    "result_df.loc[result_df['bundesland_en'] == 'Bremen', 'administration_unit_id'] = 4"
   ]
  },
  {
   "cell_type": "code",
   "execution_count": 22,
   "id": "0469c6e5",
   "metadata": {},
   "outputs": [],
   "source": [
    "# Deriving a variable from the 'bundesland' variable\n",
    "result_df.loc[result_df['bundesland_en'] == 'North Rhine-Westphalia', 'administration_unit_id'] = 5"
   ]
  },
  {
   "cell_type": "code",
   "execution_count": 23,
   "id": "78e19106",
   "metadata": {},
   "outputs": [],
   "source": [
    "# Deriving a variable from the 'bundesland' variable\n",
    "result_df.loc[result_df['bundesland_en'] == 'Hesse', 'administration_unit_id'] = 6"
   ]
  },
  {
   "cell_type": "code",
   "execution_count": 24,
   "id": "fc57d278",
   "metadata": {},
   "outputs": [],
   "source": [
    "# Deriving a variable from the 'bundesland' variable\n",
    "result_df.loc[result_df['bundesland_en'] == 'Rhineland-Palatinate', 'administration_unit_id'] = 7"
   ]
  },
  {
   "cell_type": "code",
   "execution_count": 25,
   "id": "912bb395",
   "metadata": {},
   "outputs": [],
   "source": [
    "# Deriving a variable from the 'bundesland' variable\n",
    "result_df.loc[result_df['bundesland_en'] == 'Baden-Württemberg', 'administration_unit_id'] = 8"
   ]
  },
  {
   "cell_type": "code",
   "execution_count": 26,
   "id": "a3c57e2e",
   "metadata": {},
   "outputs": [],
   "source": [
    "# Deriving a variable from the 'bundesland' variable\n",
    "result_df.loc[result_df['bundesland_en'] == 'Bavaria', 'administration_unit_id'] = 9"
   ]
  },
  {
   "cell_type": "code",
   "execution_count": 27,
   "id": "c16f926a",
   "metadata": {},
   "outputs": [],
   "source": [
    "# Deriving a variable from the 'bundesland' variable\n",
    "result_df.loc[result_df['bundesland_en'] == 'Saarland', 'administration_unit_id'] = 10"
   ]
  },
  {
   "cell_type": "code",
   "execution_count": 28,
   "id": "f97f1639",
   "metadata": {},
   "outputs": [],
   "source": [
    "# Deriving a variable from the 'bundesland' variable\n",
    "result_df.loc[result_df['bundesland_en'] == 'Berlin', 'administration_unit_id'] = 11"
   ]
  },
  {
   "cell_type": "code",
   "execution_count": 29,
   "id": "6a12cae1",
   "metadata": {},
   "outputs": [],
   "source": [
    "# Deriving a variable from the 'bundesland' variable\n",
    "result_df.loc[result_df['bundesland_en'] == 'Brandenburg', 'administration_unit_id'] = 12"
   ]
  },
  {
   "cell_type": "code",
   "execution_count": 30,
   "id": "fd80ee53",
   "metadata": {},
   "outputs": [],
   "source": [
    "# Deriving a variable from the 'bundesland' variable\n",
    "result_df.loc[result_df['bundesland_en'] == 'Mecklenburg-Western Pomerania', 'administration_unit_id'] = 13"
   ]
  },
  {
   "cell_type": "code",
   "execution_count": 31,
   "id": "7a881768",
   "metadata": {},
   "outputs": [],
   "source": [
    "# Deriving a variable from the 'bundesland' variable\n",
    "result_df.loc[result_df['bundesland_en'] == 'Saxony', 'administration_unit_id'] = 14"
   ]
  },
  {
   "cell_type": "code",
   "execution_count": 32,
   "id": "fec646a6",
   "metadata": {},
   "outputs": [],
   "source": [
    "# Deriving a variable from the 'bundesland' variable\n",
    "result_df.loc[result_df['bundesland_en'] == 'Saxony-Anhalt', 'administration_unit_id'] = 15"
   ]
  },
  {
   "cell_type": "code",
   "execution_count": 33,
   "id": "f12c1dc0",
   "metadata": {},
   "outputs": [],
   "source": [
    "# Deriving a variable from the 'bundesland' variable\n",
    "result_df.loc[result_df['bundesland_en'] == 'Thuringia', 'administration_unit_id'] = 16"
   ]
  },
  {
   "cell_type": "code",
   "execution_count": 34,
   "id": "fb3eca30",
   "metadata": {},
   "outputs": [
    {
     "data": {
      "text/plain": [
       "administration_unit_id\n",
       "8.0     1\n",
       "9.0     1\n",
       "11.0    1\n",
       "12.0    1\n",
       "4.0     1\n",
       "2.0     1\n",
       "6.0     1\n",
       "3.0     1\n",
       "13.0    1\n",
       "5.0     1\n",
       "7.0     1\n",
       "10.0    1\n",
       "14.0    1\n",
       "15.0    1\n",
       "1.0     1\n",
       "16.0    1\n",
       "Name: count, dtype: int64"
      ]
     },
     "execution_count": 34,
     "metadata": {},
     "output_type": "execute_result"
    }
   ],
   "source": [
    "# See results\n",
    "result_df['administration_unit_id'].value_counts(dropna = False)\n",
    "# counts values match with those previously recorded for the Bundesländer"
   ]
  },
  {
   "cell_type": "code",
   "execution_count": 35,
   "id": "e2ebbd16",
   "metadata": {},
   "outputs": [
    {
     "data": {
      "text/html": [
       "<div>\n",
       "<style scoped>\n",
       "    .dataframe tbody tr th:only-of-type {\n",
       "        vertical-align: middle;\n",
       "    }\n",
       "\n",
       "    .dataframe tbody tr th {\n",
       "        vertical-align: top;\n",
       "    }\n",
       "\n",
       "    .dataframe thead th {\n",
       "        text-align: right;\n",
       "    }\n",
       "</style>\n",
       "<table border=\"1\" class=\"dataframe\">\n",
       "  <thead>\n",
       "    <tr style=\"text-align: right;\">\n",
       "      <th></th>\n",
       "      <th>bundesland_en</th>\n",
       "      <th>company_total</th>\n",
       "      <th>labor_total</th>\n",
       "      <th>cancer_total</th>\n",
       "      <th>plz_total</th>\n",
       "      <th>administration_unit_id</th>\n",
       "    </tr>\n",
       "  </thead>\n",
       "  <tbody>\n",
       "    <tr>\n",
       "      <th>0</th>\n",
       "      <td>Baden-Württemberg</td>\n",
       "      <td>299894</td>\n",
       "      <td>1381</td>\n",
       "      <td>133</td>\n",
       "      <td>2073</td>\n",
       "      <td>8.0</td>\n",
       "    </tr>\n",
       "    <tr>\n",
       "      <th>1</th>\n",
       "      <td>Bavaria</td>\n",
       "      <td>412937</td>\n",
       "      <td>1604</td>\n",
       "      <td>158</td>\n",
       "      <td>3160</td>\n",
       "      <td>9.0</td>\n",
       "    </tr>\n",
       "    <tr>\n",
       "      <th>2</th>\n",
       "      <td>Berlin</td>\n",
       "      <td>142570</td>\n",
       "      <td>668</td>\n",
       "      <td>75</td>\n",
       "      <td>1318</td>\n",
       "      <td>11.0</td>\n",
       "    </tr>\n",
       "    <tr>\n",
       "      <th>3</th>\n",
       "      <td>Brandenburg</td>\n",
       "      <td>57793</td>\n",
       "      <td>247</td>\n",
       "      <td>31</td>\n",
       "      <td>570</td>\n",
       "      <td>12.0</td>\n",
       "    </tr>\n",
       "    <tr>\n",
       "      <th>4</th>\n",
       "      <td>Bremen</td>\n",
       "      <td>21891</td>\n",
       "      <td>115</td>\n",
       "      <td>9</td>\n",
       "      <td>157</td>\n",
       "      <td>4.0</td>\n",
       "    </tr>\n",
       "  </tbody>\n",
       "</table>\n",
       "</div>"
      ],
      "text/plain": [
       "       bundesland_en  company_total  labor_total  cancer_total  plz_total  \\\n",
       "0  Baden-Württemberg         299894         1381           133       2073   \n",
       "1            Bavaria         412937         1604           158       3160   \n",
       "2             Berlin         142570          668            75       1318   \n",
       "3        Brandenburg          57793          247            31        570   \n",
       "4             Bremen          21891          115             9        157   \n",
       "\n",
       "   administration_unit_id  \n",
       "0                     8.0  \n",
       "1                     9.0  \n",
       "2                    11.0  \n",
       "3                    12.0  \n",
       "4                     4.0  "
      ]
     },
     "execution_count": 35,
     "metadata": {},
     "output_type": "execute_result"
    }
   ],
   "source": [
    "# see results\n",
    "result_df.head()"
   ]
  },
  {
   "cell_type": "code",
   "execution_count": 36,
   "id": "24eba029",
   "metadata": {},
   "outputs": [
    {
     "data": {
      "text/plain": [
       "bundesland_en              object\n",
       "company_total               int64\n",
       "labor_total                 int64\n",
       "cancer_total                int64\n",
       "plz_total                   int64\n",
       "administration_unit_id    float64\n",
       "dtype: object"
      ]
     },
     "execution_count": 36,
     "metadata": {},
     "output_type": "execute_result"
    }
   ],
   "source": [
    "# see data types of variables\n",
    "result_df.dtypes"
   ]
  },
  {
   "cell_type": "code",
   "execution_count": 37,
   "id": "b95e32a8",
   "metadata": {},
   "outputs": [
    {
     "data": {
      "text/plain": [
       "administration_unit_id      int64\n",
       "bundesland_de              object\n",
       "area_sqkm                 float64\n",
       "population                float64\n",
       "male                      float64\n",
       "female                    float64\n",
       "population_per_sqkm       float64\n",
       "gdp_mill_euro               int64\n",
       "dtype: object"
      ]
     },
     "execution_count": 37,
     "metadata": {},
     "output_type": "execute_result"
    }
   ],
   "source": [
    "# see data types of variables\n",
    "population_de.dtypes"
   ]
  },
  {
   "cell_type": "code",
   "execution_count": 38,
   "id": "80f5e6f9",
   "metadata": {},
   "outputs": [],
   "source": [
    "# converting the key variable to int64 to match datatypes before merging\n",
    "result_df['administration_unit_id'] = result_df['administration_unit_id'].astype('int64')"
   ]
  },
  {
   "cell_type": "code",
   "execution_count": 39,
   "id": "3f635a69",
   "metadata": {},
   "outputs": [
    {
     "data": {
      "text/plain": [
       "bundesland_en             object\n",
       "company_total              int64\n",
       "labor_total                int64\n",
       "cancer_total               int64\n",
       "plz_total                  int64\n",
       "administration_unit_id     int64\n",
       "dtype: object"
      ]
     },
     "execution_count": 39,
     "metadata": {},
     "output_type": "execute_result"
    }
   ],
   "source": [
    "# see data types of variables\n",
    "result_df.dtypes\n",
    "# it was changed to int64"
   ]
  },
  {
   "cell_type": "code",
   "execution_count": 40,
   "id": "06b8c504",
   "metadata": {},
   "outputs": [
    {
     "data": {
      "text/html": [
       "<div>\n",
       "<style scoped>\n",
       "    .dataframe tbody tr th:only-of-type {\n",
       "        vertical-align: middle;\n",
       "    }\n",
       "\n",
       "    .dataframe tbody tr th {\n",
       "        vertical-align: top;\n",
       "    }\n",
       "\n",
       "    .dataframe thead th {\n",
       "        text-align: right;\n",
       "    }\n",
       "</style>\n",
       "<table border=\"1\" class=\"dataframe\">\n",
       "  <thead>\n",
       "    <tr style=\"text-align: right;\">\n",
       "      <th></th>\n",
       "      <th>bundesland_en</th>\n",
       "      <th>company_total</th>\n",
       "      <th>labor_total</th>\n",
       "      <th>cancer_total</th>\n",
       "      <th>plz_total</th>\n",
       "      <th>administration_unit_id</th>\n",
       "    </tr>\n",
       "  </thead>\n",
       "  <tbody>\n",
       "    <tr>\n",
       "      <th>0</th>\n",
       "      <td>Baden-Württemberg</td>\n",
       "      <td>299894</td>\n",
       "      <td>1381</td>\n",
       "      <td>133</td>\n",
       "      <td>2073</td>\n",
       "      <td>8</td>\n",
       "    </tr>\n",
       "    <tr>\n",
       "      <th>1</th>\n",
       "      <td>Bavaria</td>\n",
       "      <td>412937</td>\n",
       "      <td>1604</td>\n",
       "      <td>158</td>\n",
       "      <td>3160</td>\n",
       "      <td>9</td>\n",
       "    </tr>\n",
       "    <tr>\n",
       "      <th>2</th>\n",
       "      <td>Berlin</td>\n",
       "      <td>142570</td>\n",
       "      <td>668</td>\n",
       "      <td>75</td>\n",
       "      <td>1318</td>\n",
       "      <td>11</td>\n",
       "    </tr>\n",
       "    <tr>\n",
       "      <th>3</th>\n",
       "      <td>Brandenburg</td>\n",
       "      <td>57793</td>\n",
       "      <td>247</td>\n",
       "      <td>31</td>\n",
       "      <td>570</td>\n",
       "      <td>12</td>\n",
       "    </tr>\n",
       "    <tr>\n",
       "      <th>4</th>\n",
       "      <td>Bremen</td>\n",
       "      <td>21891</td>\n",
       "      <td>115</td>\n",
       "      <td>9</td>\n",
       "      <td>157</td>\n",
       "      <td>4</td>\n",
       "    </tr>\n",
       "  </tbody>\n",
       "</table>\n",
       "</div>"
      ],
      "text/plain": [
       "       bundesland_en  company_total  labor_total  cancer_total  plz_total  \\\n",
       "0  Baden-Württemberg         299894         1381           133       2073   \n",
       "1            Bavaria         412937         1604           158       3160   \n",
       "2             Berlin         142570          668            75       1318   \n",
       "3        Brandenburg          57793          247            31        570   \n",
       "4             Bremen          21891          115             9        157   \n",
       "\n",
       "   administration_unit_id  \n",
       "0                       8  \n",
       "1                       9  \n",
       "2                      11  \n",
       "3                      12  \n",
       "4                       4  "
      ]
     },
     "execution_count": 40,
     "metadata": {},
     "output_type": "execute_result"
    }
   ],
   "source": [
    "# see results\n",
    "result_df.head()"
   ]
  },
  {
   "cell_type": "markdown",
   "id": "4637dcf0",
   "metadata": {},
   "source": [
    "## 3.2 Merge"
   ]
  },
  {
   "cell_type": "code",
   "execution_count": 41,
   "id": "1e6375ed",
   "metadata": {},
   "outputs": [],
   "source": [
    "# Perform the merge\n",
    "company_bundesland = result_df.merge(population_de, on='administration_unit_id')"
   ]
  },
  {
   "cell_type": "code",
   "execution_count": 42,
   "id": "83c2e83a",
   "metadata": {},
   "outputs": [
    {
     "data": {
      "text/html": [
       "<div>\n",
       "<style scoped>\n",
       "    .dataframe tbody tr th:only-of-type {\n",
       "        vertical-align: middle;\n",
       "    }\n",
       "\n",
       "    .dataframe tbody tr th {\n",
       "        vertical-align: top;\n",
       "    }\n",
       "\n",
       "    .dataframe thead th {\n",
       "        text-align: right;\n",
       "    }\n",
       "</style>\n",
       "<table border=\"1\" class=\"dataframe\">\n",
       "  <thead>\n",
       "    <tr style=\"text-align: right;\">\n",
       "      <th></th>\n",
       "      <th>bundesland_en</th>\n",
       "      <th>company_total</th>\n",
       "      <th>labor_total</th>\n",
       "      <th>cancer_total</th>\n",
       "      <th>plz_total</th>\n",
       "      <th>administration_unit_id</th>\n",
       "      <th>bundesland_de</th>\n",
       "      <th>area_sqkm</th>\n",
       "      <th>population</th>\n",
       "      <th>male</th>\n",
       "      <th>female</th>\n",
       "      <th>population_per_sqkm</th>\n",
       "      <th>gdp_mill_euro</th>\n",
       "    </tr>\n",
       "  </thead>\n",
       "  <tbody>\n",
       "    <tr>\n",
       "      <th>0</th>\n",
       "      <td>Baden-Württemberg</td>\n",
       "      <td>299894</td>\n",
       "      <td>1381</td>\n",
       "      <td>133</td>\n",
       "      <td>2073</td>\n",
       "      <td>8</td>\n",
       "      <td>Baden-Württemberg</td>\n",
       "      <td>35748.20</td>\n",
       "      <td>11069533.0</td>\n",
       "      <td>5501693.0</td>\n",
       "      <td>5567840.0</td>\n",
       "      <td>310.0</td>\n",
       "      <td>572837</td>\n",
       "    </tr>\n",
       "    <tr>\n",
       "      <th>1</th>\n",
       "      <td>Bavaria</td>\n",
       "      <td>412937</td>\n",
       "      <td>1604</td>\n",
       "      <td>158</td>\n",
       "      <td>3160</td>\n",
       "      <td>9</td>\n",
       "      <td>Bayern</td>\n",
       "      <td>70541.61</td>\n",
       "      <td>13076721.0</td>\n",
       "      <td>6483793.0</td>\n",
       "      <td>6592928.0</td>\n",
       "      <td>185.0</td>\n",
       "      <td>716784</td>\n",
       "    </tr>\n",
       "    <tr>\n",
       "      <th>2</th>\n",
       "      <td>Berlin</td>\n",
       "      <td>142570</td>\n",
       "      <td>668</td>\n",
       "      <td>75</td>\n",
       "      <td>1318</td>\n",
       "      <td>11</td>\n",
       "      <td>Berlin</td>\n",
       "      <td>891.12</td>\n",
       "      <td>3644826.0</td>\n",
       "      <td>1792801.0</td>\n",
       "      <td>1852025.0</td>\n",
       "      <td>4090.0</td>\n",
       "      <td>179379</td>\n",
       "    </tr>\n",
       "    <tr>\n",
       "      <th>3</th>\n",
       "      <td>Brandenburg</td>\n",
       "      <td>57793</td>\n",
       "      <td>247</td>\n",
       "      <td>31</td>\n",
       "      <td>570</td>\n",
       "      <td>12</td>\n",
       "      <td>Brandenburg</td>\n",
       "      <td>29654.48</td>\n",
       "      <td>2511917.0</td>\n",
       "      <td>1239460.0</td>\n",
       "      <td>1272457.0</td>\n",
       "      <td>85.0</td>\n",
       "      <td>88800</td>\n",
       "    </tr>\n",
       "    <tr>\n",
       "      <th>4</th>\n",
       "      <td>Bremen</td>\n",
       "      <td>21891</td>\n",
       "      <td>115</td>\n",
       "      <td>9</td>\n",
       "      <td>157</td>\n",
       "      <td>4</td>\n",
       "      <td>Bremen</td>\n",
       "      <td>419.36</td>\n",
       "      <td>682986.0</td>\n",
       "      <td>338035.0</td>\n",
       "      <td>344951.0</td>\n",
       "      <td>1629.0</td>\n",
       "      <td>38698</td>\n",
       "    </tr>\n",
       "    <tr>\n",
       "      <th>5</th>\n",
       "      <td>Hamburg</td>\n",
       "      <td>90427</td>\n",
       "      <td>340</td>\n",
       "      <td>33</td>\n",
       "      <td>962</td>\n",
       "      <td>2</td>\n",
       "      <td>Hamburg</td>\n",
       "      <td>755.09</td>\n",
       "      <td>1841179.0</td>\n",
       "      <td>902048.0</td>\n",
       "      <td>939131.0</td>\n",
       "      <td>2438.0</td>\n",
       "      <td>144220</td>\n",
       "    </tr>\n",
       "    <tr>\n",
       "      <th>6</th>\n",
       "      <td>Hesse</td>\n",
       "      <td>195520</td>\n",
       "      <td>812</td>\n",
       "      <td>139</td>\n",
       "      <td>1746</td>\n",
       "      <td>6</td>\n",
       "      <td>Hessen</td>\n",
       "      <td>21115.67</td>\n",
       "      <td>6265809.0</td>\n",
       "      <td>3093044.0</td>\n",
       "      <td>3172765.0</td>\n",
       "      <td>297.0</td>\n",
       "      <td>323352</td>\n",
       "    </tr>\n",
       "    <tr>\n",
       "      <th>7</th>\n",
       "      <td>Lower Saxony</td>\n",
       "      <td>219162</td>\n",
       "      <td>806</td>\n",
       "      <td>121</td>\n",
       "      <td>1442</td>\n",
       "      <td>3</td>\n",
       "      <td>Niedersachsen</td>\n",
       "      <td>47709.51</td>\n",
       "      <td>7982448.0</td>\n",
       "      <td>3943243.0</td>\n",
       "      <td>4039205.0</td>\n",
       "      <td>167.0</td>\n",
       "      <td>339414</td>\n",
       "    </tr>\n",
       "    <tr>\n",
       "      <th>8</th>\n",
       "      <td>Mecklenburg-Western Pomerania</td>\n",
       "      <td>37426</td>\n",
       "      <td>183</td>\n",
       "      <td>24</td>\n",
       "      <td>462</td>\n",
       "      <td>13</td>\n",
       "      <td>Mecklenburg-Vorpommern</td>\n",
       "      <td>23293.61</td>\n",
       "      <td>1609675.0</td>\n",
       "      <td>793639.0</td>\n",
       "      <td>816036.0</td>\n",
       "      <td>69.0</td>\n",
       "      <td>53440</td>\n",
       "    </tr>\n",
       "    <tr>\n",
       "      <th>9</th>\n",
       "      <td>North Rhine-Westphalia</td>\n",
       "      <td>505294</td>\n",
       "      <td>2112</td>\n",
       "      <td>267</td>\n",
       "      <td>2310</td>\n",
       "      <td>5</td>\n",
       "      <td>Nordrhein-Westfalen</td>\n",
       "      <td>34112.31</td>\n",
       "      <td>17932651.0</td>\n",
       "      <td>8798631.0</td>\n",
       "      <td>9134020.0</td>\n",
       "      <td>526.0</td>\n",
       "      <td>793790</td>\n",
       "    </tr>\n",
       "    <tr>\n",
       "      <th>10</th>\n",
       "      <td>Rhineland-Palatinate</td>\n",
       "      <td>109797</td>\n",
       "      <td>441</td>\n",
       "      <td>60</td>\n",
       "      <td>1089</td>\n",
       "      <td>7</td>\n",
       "      <td>Rheinland-Pfalz</td>\n",
       "      <td>19851.82</td>\n",
       "      <td>4084844.0</td>\n",
       "      <td>2017576.0</td>\n",
       "      <td>2067268.0</td>\n",
       "      <td>206.0</td>\n",
       "      <td>171699</td>\n",
       "    </tr>\n",
       "    <tr>\n",
       "      <th>11</th>\n",
       "      <td>Saarland</td>\n",
       "      <td>27738</td>\n",
       "      <td>124</td>\n",
       "      <td>19</td>\n",
       "      <td>160</td>\n",
       "      <td>10</td>\n",
       "      <td>Saarland</td>\n",
       "      <td>2571.11</td>\n",
       "      <td>990509.0</td>\n",
       "      <td>486159.0</td>\n",
       "      <td>504350.0</td>\n",
       "      <td>385.0</td>\n",
       "      <td>38505</td>\n",
       "    </tr>\n",
       "    <tr>\n",
       "      <th>12</th>\n",
       "      <td>Saxony</td>\n",
       "      <td>92364</td>\n",
       "      <td>436</td>\n",
       "      <td>54</td>\n",
       "      <td>850</td>\n",
       "      <td>14</td>\n",
       "      <td>Sachsen</td>\n",
       "      <td>18449.95</td>\n",
       "      <td>4077937.0</td>\n",
       "      <td>2009619.0</td>\n",
       "      <td>2068318.0</td>\n",
       "      <td>221.0</td>\n",
       "      <td>146511</td>\n",
       "    </tr>\n",
       "    <tr>\n",
       "      <th>13</th>\n",
       "      <td>Saxony-Anhalt</td>\n",
       "      <td>48918</td>\n",
       "      <td>215</td>\n",
       "      <td>24</td>\n",
       "      <td>490</td>\n",
       "      <td>15</td>\n",
       "      <td>Sachsen-Anhalt</td>\n",
       "      <td>20454.31</td>\n",
       "      <td>2208321.0</td>\n",
       "      <td>1086679.0</td>\n",
       "      <td>1121642.0</td>\n",
       "      <td>108.0</td>\n",
       "      <td>75436</td>\n",
       "    </tr>\n",
       "    <tr>\n",
       "      <th>14</th>\n",
       "      <td>Schleswig-Holstein</td>\n",
       "      <td>83243</td>\n",
       "      <td>329</td>\n",
       "      <td>43</td>\n",
       "      <td>693</td>\n",
       "      <td>1</td>\n",
       "      <td>Schleswig-Holstein</td>\n",
       "      <td>15804.30</td>\n",
       "      <td>2896712.0</td>\n",
       "      <td>1419457.0</td>\n",
       "      <td>1477255.0</td>\n",
       "      <td>183.0</td>\n",
       "      <td>112755</td>\n",
       "    </tr>\n",
       "    <tr>\n",
       "      <th>15</th>\n",
       "      <td>Thuringia</td>\n",
       "      <td>48541</td>\n",
       "      <td>202</td>\n",
       "      <td>22</td>\n",
       "      <td>503</td>\n",
       "      <td>16</td>\n",
       "      <td>Thüringen</td>\n",
       "      <td>16202.39</td>\n",
       "      <td>2143145.0</td>\n",
       "      <td>1060814.0</td>\n",
       "      <td>1082331.0</td>\n",
       "      <td>132.0</td>\n",
       "      <td>71430</td>\n",
       "    </tr>\n",
       "  </tbody>\n",
       "</table>\n",
       "</div>"
      ],
      "text/plain": [
       "                    bundesland_en  company_total  labor_total  cancer_total  \\\n",
       "0               Baden-Württemberg         299894         1381           133   \n",
       "1                         Bavaria         412937         1604           158   \n",
       "2                          Berlin         142570          668            75   \n",
       "3                     Brandenburg          57793          247            31   \n",
       "4                          Bremen          21891          115             9   \n",
       "5                         Hamburg          90427          340            33   \n",
       "6                           Hesse         195520          812           139   \n",
       "7                    Lower Saxony         219162          806           121   \n",
       "8   Mecklenburg-Western Pomerania          37426          183            24   \n",
       "9          North Rhine-Westphalia         505294         2112           267   \n",
       "10           Rhineland-Palatinate         109797          441            60   \n",
       "11                       Saarland          27738          124            19   \n",
       "12                         Saxony          92364          436            54   \n",
       "13                  Saxony-Anhalt          48918          215            24   \n",
       "14             Schleswig-Holstein          83243          329            43   \n",
       "15                      Thuringia          48541          202            22   \n",
       "\n",
       "    plz_total  administration_unit_id           bundesland_de  area_sqkm  \\\n",
       "0        2073                       8       Baden-Württemberg   35748.20   \n",
       "1        3160                       9                  Bayern   70541.61   \n",
       "2        1318                      11                  Berlin     891.12   \n",
       "3         570                      12             Brandenburg   29654.48   \n",
       "4         157                       4                  Bremen     419.36   \n",
       "5         962                       2                 Hamburg     755.09   \n",
       "6        1746                       6                  Hessen   21115.67   \n",
       "7        1442                       3           Niedersachsen   47709.51   \n",
       "8         462                      13  Mecklenburg-Vorpommern   23293.61   \n",
       "9        2310                       5     Nordrhein-Westfalen   34112.31   \n",
       "10       1089                       7         Rheinland-Pfalz   19851.82   \n",
       "11        160                      10                Saarland    2571.11   \n",
       "12        850                      14                 Sachsen   18449.95   \n",
       "13        490                      15          Sachsen-Anhalt   20454.31   \n",
       "14        693                       1      Schleswig-Holstein   15804.30   \n",
       "15        503                      16               Thüringen   16202.39   \n",
       "\n",
       "    population       male     female  population_per_sqkm  gdp_mill_euro  \n",
       "0   11069533.0  5501693.0  5567840.0                310.0         572837  \n",
       "1   13076721.0  6483793.0  6592928.0                185.0         716784  \n",
       "2    3644826.0  1792801.0  1852025.0               4090.0         179379  \n",
       "3    2511917.0  1239460.0  1272457.0                 85.0          88800  \n",
       "4     682986.0   338035.0   344951.0               1629.0          38698  \n",
       "5    1841179.0   902048.0   939131.0               2438.0         144220  \n",
       "6    6265809.0  3093044.0  3172765.0                297.0         323352  \n",
       "7    7982448.0  3943243.0  4039205.0                167.0         339414  \n",
       "8    1609675.0   793639.0   816036.0                 69.0          53440  \n",
       "9   17932651.0  8798631.0  9134020.0                526.0         793790  \n",
       "10   4084844.0  2017576.0  2067268.0                206.0         171699  \n",
       "11    990509.0   486159.0   504350.0                385.0          38505  \n",
       "12   4077937.0  2009619.0  2068318.0                221.0         146511  \n",
       "13   2208321.0  1086679.0  1121642.0                108.0          75436  \n",
       "14   2896712.0  1419457.0  1477255.0                183.0         112755  \n",
       "15   2143145.0  1060814.0  1082331.0                132.0          71430  "
      ]
     },
     "execution_count": 42,
     "metadata": {},
     "output_type": "execute_result"
    }
   ],
   "source": [
    "# See results\n",
    "company_bundesland\n",
    "# all 16 Bundesländer are included"
   ]
  },
  {
   "cell_type": "code",
   "execution_count": 43,
   "id": "33172d5a",
   "metadata": {},
   "outputs": [
    {
     "data": {
      "text/plain": [
       "(16, 13)"
      ]
     },
     "execution_count": 43,
     "metadata": {},
     "output_type": "execute_result"
    }
   ],
   "source": [
    "# See results\n",
    "company_bundesland.shape"
   ]
  },
  {
   "cell_type": "markdown",
   "id": "e633fe5b",
   "metadata": {},
   "source": [
    "## 3.3 Exporting dataframe"
   ]
  },
  {
   "cell_type": "code",
   "execution_count": 44,
   "id": "66a22075",
   "metadata": {},
   "outputs": [],
   "source": [
    "# Exporting to prepared data folder\n",
    "#\"index = False\" avoids the automatic creation of an unnamed column in the exported csv file\n",
    "company_bundesland.to_csv(os.path.join(path, '02_Data','Prepared_data', 'company_bundesland_step2.csv'), index = False)"
   ]
  },
  {
   "cell_type": "markdown",
   "id": "10242d76",
   "metadata": {},
   "source": [
    "# 4. Merging companies regional"
   ]
  },
  {
   "cell_type": "markdown",
   "id": "e515c043",
   "metadata": {},
   "source": [
    "The German company dataframe will be merged with the regional dataframe using the key variable postcode. Prior to the merge, the company dataframe will be grouped at the postcode level."
   ]
  },
  {
   "cell_type": "markdown",
   "id": "5959e86c",
   "metadata": {},
   "source": [
    "## 4.1 Key variable"
   ]
  },
  {
   "cell_type": "code",
   "execution_count": 8,
   "id": "112c113e",
   "metadata": {},
   "outputs": [
    {
     "data": {
      "text/plain": [
       "plz_imputed\n",
       "40549    297428\n",
       "82031    266522\n",
       "70173    178552\n",
       "26789    139657\n",
       "60325    103300\n",
       "          ...  \n",
       "53178         1\n",
       "44687         1\n",
       "08279         1\n",
       "49252         1\n",
       "23113         1\n",
       "Name: count, Length: 9511, dtype: int64"
      ]
     },
     "execution_count": 8,
     "metadata": {},
     "output_type": "execute_result"
    }
   ],
   "source": [
    "# German company dataframe key variable plz_imputed\n",
    "company_de['plz_imputed'].value_counts(dropna = False)\n",
    "# There are 9511 unique postcodes extracted from the German company dataframe\n",
    "# There is a biased towards the most common postcodes within a Bundesland, since nearly 58% of values were imputed\n",
    "# There are nearly 2.3 M companies listed on the dataframe, some postcodes are very rich on the number of companies"
   ]
  },
  {
   "cell_type": "code",
   "execution_count": 9,
   "id": "54bf8a98",
   "metadata": {},
   "outputs": [],
   "source": [
    "# Group the company df by plz\n",
    "result_df = company_de.groupby('plz_imputed').agg(\n",
    "    company_total=('company_name', 'count'),\n",
    "    labor_total=('labor', 'sum'),\n",
    "    cancer_total=('cancer', 'sum'),\n",
    "    bundesland_en=('bundesland_en', lambda x: x.mode().iloc[0] if not x.mode().empty else None),\n",
    "    plz_original=('plz_original', lambda x: x.mode().iloc[0] if not x.mode().empty else None)\n",
    ").reset_index()"
   ]
  },
  {
   "cell_type": "code",
   "execution_count": 10,
   "id": "2a576c5f",
   "metadata": {},
   "outputs": [
    {
     "data": {
      "text/plain": [
       "(9511, 6)"
      ]
     },
     "execution_count": 10,
     "metadata": {},
     "output_type": "execute_result"
    }
   ],
   "source": [
    "# See results\n",
    "result_df.shape\n",
    "# as expected 9511 observation are listed at the postcode level\n",
    "# it is worthy to notice that in the company df there is a higher number of postcodes listed as in the regional_de df\n",
    "# this can be expected since 28,278 different postal codes were awarded in Germany in 2018, including 8,181 for places, \n",
    "# 16,137 for mailboxes, 3,095 for major customers and 865 so-called \"Aktions-PLZ\" (e.g. for lottery games) \n",
    "# Also buildings might have their own postcode\n",
    "# This explains the larger number of postcodes listed in this dataframe"
   ]
  },
  {
   "cell_type": "code",
   "execution_count": 11,
   "id": "fe43626b",
   "metadata": {},
   "outputs": [
    {
     "data": {
      "text/html": [
       "<div>\n",
       "<style scoped>\n",
       "    .dataframe tbody tr th:only-of-type {\n",
       "        vertical-align: middle;\n",
       "    }\n",
       "\n",
       "    .dataframe tbody tr th {\n",
       "        vertical-align: top;\n",
       "    }\n",
       "\n",
       "    .dataframe thead th {\n",
       "        text-align: right;\n",
       "    }\n",
       "</style>\n",
       "<table border=\"1\" class=\"dataframe\">\n",
       "  <thead>\n",
       "    <tr style=\"text-align: right;\">\n",
       "      <th></th>\n",
       "      <th>plz_imputed</th>\n",
       "      <th>company_total</th>\n",
       "      <th>labor_total</th>\n",
       "      <th>cancer_total</th>\n",
       "      <th>bundesland_en</th>\n",
       "      <th>plz_original</th>\n",
       "    </tr>\n",
       "  </thead>\n",
       "  <tbody>\n",
       "    <tr>\n",
       "      <th>0</th>\n",
       "      <td>01067</td>\n",
       "      <td>393</td>\n",
       "      <td>0</td>\n",
       "      <td>0</td>\n",
       "      <td>Saxony</td>\n",
       "      <td>01067</td>\n",
       "    </tr>\n",
       "    <tr>\n",
       "      <th>1</th>\n",
       "      <td>01069</td>\n",
       "      <td>107</td>\n",
       "      <td>0</td>\n",
       "      <td>0</td>\n",
       "      <td>Saxony</td>\n",
       "      <td>01069</td>\n",
       "    </tr>\n",
       "    <tr>\n",
       "      <th>2</th>\n",
       "      <td>01076</td>\n",
       "      <td>1</td>\n",
       "      <td>0</td>\n",
       "      <td>0</td>\n",
       "      <td>Saxony</td>\n",
       "      <td>01076</td>\n",
       "    </tr>\n",
       "    <tr>\n",
       "      <th>3</th>\n",
       "      <td>01097</td>\n",
       "      <td>127</td>\n",
       "      <td>1</td>\n",
       "      <td>0</td>\n",
       "      <td>Saxony</td>\n",
       "      <td>01097</td>\n",
       "    </tr>\n",
       "    <tr>\n",
       "      <th>4</th>\n",
       "      <td>01099</td>\n",
       "      <td>202</td>\n",
       "      <td>1</td>\n",
       "      <td>0</td>\n",
       "      <td>Saxony</td>\n",
       "      <td>01099</td>\n",
       "    </tr>\n",
       "  </tbody>\n",
       "</table>\n",
       "</div>"
      ],
      "text/plain": [
       "  plz_imputed  company_total  labor_total  cancer_total bundesland_en  \\\n",
       "0       01067            393            0             0        Saxony   \n",
       "1       01069            107            0             0        Saxony   \n",
       "2       01076              1            0             0        Saxony   \n",
       "3       01097            127            1             0        Saxony   \n",
       "4       01099            202            1             0        Saxony   \n",
       "\n",
       "  plz_original  \n",
       "0        01067  \n",
       "1        01069  \n",
       "2        01076  \n",
       "3        01097  \n",
       "4        01099  "
      ]
     },
     "execution_count": 11,
     "metadata": {},
     "output_type": "execute_result"
    }
   ],
   "source": [
    "# See results\n",
    "result_df.head()\n",
    "# all companies were grouped at postcode level"
   ]
  },
  {
   "cell_type": "code",
   "execution_count": 12,
   "id": "f4a507dc",
   "metadata": {},
   "outputs": [
    {
     "data": {
      "text/plain": [
       "plz\n",
       "01067    1\n",
       "75335    1\n",
       "75397    1\n",
       "75395    1\n",
       "75394    1\n",
       "        ..\n",
       "37635    1\n",
       "37633    1\n",
       "37632    1\n",
       "37627    1\n",
       "99998    1\n",
       "Name: count, Length: 8170, dtype: int64"
      ]
     },
     "execution_count": 12,
     "metadata": {},
     "output_type": "execute_result"
    }
   ],
   "source": [
    "# German population regional dataframe key variable plz\n",
    "regional_de['plz'].value_counts(dropna = False)\n",
    "# There are 8170 unique postcodes, in our original dataframe not all German postcodes are listed\n",
    "# During the merge I expect that some postcodes wont be matched, since there are more postcodes listed in the company df"
   ]
  },
  {
   "cell_type": "markdown",
   "id": "5370d973",
   "metadata": {},
   "source": [
    "## 4.2 Merge"
   ]
  },
  {
   "cell_type": "code",
   "execution_count": 13,
   "id": "ddb17b2f",
   "metadata": {},
   "outputs": [],
   "source": [
    "# Based on the shapes of the dfs, \n",
    "# I already expect that some postcodes listed in the company_de df wont be found in the regional_de df,\n",
    "# thus I will add an indicator to track those observations that were not matched\n",
    "\n",
    "# Perform the merge with indicator\n",
    "company_regional = result_df.merge(regional_de, left_on='plz_imputed', right_on='plz', how='left', indicator=True)\n",
    "\n",
    "# Create a flag column based on the merge indicator\n",
    "company_regional['not_matched'] = np.where(company_regional['_merge'] == 'left_only', 1, 0)\n",
    "\n",
    "# Drop the indicator column if needed\n",
    "company_regional = company_regional.drop('_merge', axis=1)"
   ]
  },
  {
   "cell_type": "code",
   "execution_count": 14,
   "id": "3fe71a28",
   "metadata": {},
   "outputs": [
    {
     "data": {
      "text/html": [
       "<div>\n",
       "<style scoped>\n",
       "    .dataframe tbody tr th:only-of-type {\n",
       "        vertical-align: middle;\n",
       "    }\n",
       "\n",
       "    .dataframe tbody tr th {\n",
       "        vertical-align: top;\n",
       "    }\n",
       "\n",
       "    .dataframe thead th {\n",
       "        text-align: right;\n",
       "    }\n",
       "</style>\n",
       "<table border=\"1\" class=\"dataframe\">\n",
       "  <thead>\n",
       "    <tr style=\"text-align: right;\">\n",
       "      <th></th>\n",
       "      <th>plz_imputed</th>\n",
       "      <th>company_total</th>\n",
       "      <th>labor_total</th>\n",
       "      <th>cancer_total</th>\n",
       "      <th>bundesland_en</th>\n",
       "      <th>plz_original</th>\n",
       "      <th>plz</th>\n",
       "      <th>habitants</th>\n",
       "      <th>area_sqkm</th>\n",
       "      <th>city</th>\n",
       "      <th>region</th>\n",
       "      <th>bundesland</th>\n",
       "      <th>not_matched</th>\n",
       "    </tr>\n",
       "  </thead>\n",
       "  <tbody>\n",
       "    <tr>\n",
       "      <th>0</th>\n",
       "      <td>01067</td>\n",
       "      <td>393</td>\n",
       "      <td>0</td>\n",
       "      <td>0</td>\n",
       "      <td>Saxony</td>\n",
       "      <td>01067</td>\n",
       "      <td>01067</td>\n",
       "      <td>11957.0</td>\n",
       "      <td>6.866839</td>\n",
       "      <td>Dresden</td>\n",
       "      <td>Dresden</td>\n",
       "      <td>Sachsen</td>\n",
       "      <td>0</td>\n",
       "    </tr>\n",
       "    <tr>\n",
       "      <th>1</th>\n",
       "      <td>01069</td>\n",
       "      <td>107</td>\n",
       "      <td>0</td>\n",
       "      <td>0</td>\n",
       "      <td>Saxony</td>\n",
       "      <td>01069</td>\n",
       "      <td>01069</td>\n",
       "      <td>25483.0</td>\n",
       "      <td>5.339213</td>\n",
       "      <td>Dresden</td>\n",
       "      <td>Dresden</td>\n",
       "      <td>Sachsen</td>\n",
       "      <td>0</td>\n",
       "    </tr>\n",
       "    <tr>\n",
       "      <th>2</th>\n",
       "      <td>01076</td>\n",
       "      <td>1</td>\n",
       "      <td>0</td>\n",
       "      <td>0</td>\n",
       "      <td>Saxony</td>\n",
       "      <td>01076</td>\n",
       "      <td>NaN</td>\n",
       "      <td>NaN</td>\n",
       "      <td>NaN</td>\n",
       "      <td>NaN</td>\n",
       "      <td>NaN</td>\n",
       "      <td>NaN</td>\n",
       "      <td>1</td>\n",
       "    </tr>\n",
       "    <tr>\n",
       "      <th>3</th>\n",
       "      <td>01097</td>\n",
       "      <td>127</td>\n",
       "      <td>1</td>\n",
       "      <td>0</td>\n",
       "      <td>Saxony</td>\n",
       "      <td>01097</td>\n",
       "      <td>01097</td>\n",
       "      <td>14821.0</td>\n",
       "      <td>3.298022</td>\n",
       "      <td>Dresden</td>\n",
       "      <td>Dresden</td>\n",
       "      <td>Sachsen</td>\n",
       "      <td>0</td>\n",
       "    </tr>\n",
       "    <tr>\n",
       "      <th>4</th>\n",
       "      <td>01099</td>\n",
       "      <td>202</td>\n",
       "      <td>1</td>\n",
       "      <td>0</td>\n",
       "      <td>Saxony</td>\n",
       "      <td>01099</td>\n",
       "      <td>01099</td>\n",
       "      <td>28018.0</td>\n",
       "      <td>58.505818</td>\n",
       "      <td>Dresden</td>\n",
       "      <td>Dresden</td>\n",
       "      <td>Sachsen</td>\n",
       "      <td>0</td>\n",
       "    </tr>\n",
       "  </tbody>\n",
       "</table>\n",
       "</div>"
      ],
      "text/plain": [
       "  plz_imputed  company_total  labor_total  cancer_total bundesland_en  \\\n",
       "0       01067            393            0             0        Saxony   \n",
       "1       01069            107            0             0        Saxony   \n",
       "2       01076              1            0             0        Saxony   \n",
       "3       01097            127            1             0        Saxony   \n",
       "4       01099            202            1             0        Saxony   \n",
       "\n",
       "  plz_original    plz  habitants  area_sqkm     city   region bundesland  \\\n",
       "0        01067  01067    11957.0   6.866839  Dresden  Dresden    Sachsen   \n",
       "1        01069  01069    25483.0   5.339213  Dresden  Dresden    Sachsen   \n",
       "2        01076    NaN        NaN        NaN      NaN      NaN        NaN   \n",
       "3        01097  01097    14821.0   3.298022  Dresden  Dresden    Sachsen   \n",
       "4        01099  01099    28018.0  58.505818  Dresden  Dresden    Sachsen   \n",
       "\n",
       "   not_matched  \n",
       "0            0  \n",
       "1            0  \n",
       "2            1  \n",
       "3            0  \n",
       "4            0  "
      ]
     },
     "execution_count": 14,
     "metadata": {},
     "output_type": "execute_result"
    }
   ],
   "source": [
    "# See results\n",
    "company_regional.head()"
   ]
  },
  {
   "cell_type": "code",
   "execution_count": 15,
   "id": "9f986016",
   "metadata": {},
   "outputs": [
    {
     "data": {
      "text/plain": [
       "not_matched\n",
       "0    8136\n",
       "1    1375\n",
       "Name: count, dtype: int64"
      ]
     },
     "execution_count": 15,
     "metadata": {},
     "output_type": "execute_result"
    }
   ],
   "source": [
    "# Counting observations after merge\n",
    "company_regional['not_matched'].value_counts(dropna = False)\n",
    "# as I expected 1375 did not match"
   ]
  },
  {
   "cell_type": "markdown",
   "id": "4df8752c",
   "metadata": {},
   "source": [
    "### Imputing values"
   ]
  },
  {
   "cell_type": "markdown",
   "id": "3616f01d",
   "metadata": {},
   "source": [
    "After the merge, 1375 observation did not match to the regional_de df as expected. Here, I will impute values for the variables \"bundesland\", \"region\" and, \"city\". I wont impute values for the variables \"habitants\" and \"area_sqkm\", since I already checked that the total sum of these values are similar to the values expected for the whole Germany. Imputing these values for the missing data will alter the actual number of area and habitants for Germany. In this case, do-nothing is the best approach.  "
   ]
  },
  {
   "cell_type": "code",
   "execution_count": 16,
   "id": "9bef5a2c",
   "metadata": {},
   "outputs": [],
   "source": [
    "# Replacing NaN in variables that were not a match\n",
    "company_regional['bundesland'] = company_regional.groupby('bundesland_en')['bundesland'].transform(lambda x: x.fillna(x.mode().iloc[0]))"
   ]
  },
  {
   "cell_type": "code",
   "execution_count": 17,
   "id": "9da051b6",
   "metadata": {},
   "outputs": [
    {
     "data": {
      "text/html": [
       "<div>\n",
       "<style scoped>\n",
       "    .dataframe tbody tr th:only-of-type {\n",
       "        vertical-align: middle;\n",
       "    }\n",
       "\n",
       "    .dataframe tbody tr th {\n",
       "        vertical-align: top;\n",
       "    }\n",
       "\n",
       "    .dataframe thead th {\n",
       "        text-align: right;\n",
       "    }\n",
       "</style>\n",
       "<table border=\"1\" class=\"dataframe\">\n",
       "  <thead>\n",
       "    <tr style=\"text-align: right;\">\n",
       "      <th></th>\n",
       "      <th>bundesland_en</th>\n",
       "      <th>bundesland</th>\n",
       "    </tr>\n",
       "  </thead>\n",
       "  <tbody>\n",
       "    <tr>\n",
       "      <th>0</th>\n",
       "      <td>Saxony</td>\n",
       "      <td>Sachsen</td>\n",
       "    </tr>\n",
       "    <tr>\n",
       "      <th>1</th>\n",
       "      <td>Saxony</td>\n",
       "      <td>Sachsen</td>\n",
       "    </tr>\n",
       "    <tr>\n",
       "      <th>2</th>\n",
       "      <td>Saxony</td>\n",
       "      <td>Sachsen</td>\n",
       "    </tr>\n",
       "    <tr>\n",
       "      <th>3</th>\n",
       "      <td>Saxony</td>\n",
       "      <td>Sachsen</td>\n",
       "    </tr>\n",
       "    <tr>\n",
       "      <th>4</th>\n",
       "      <td>Saxony</td>\n",
       "      <td>Sachsen</td>\n",
       "    </tr>\n",
       "    <tr>\n",
       "      <th>...</th>\n",
       "      <td>...</td>\n",
       "      <td>...</td>\n",
       "    </tr>\n",
       "    <tr>\n",
       "      <th>9506</th>\n",
       "      <td>Thuringia</td>\n",
       "      <td>Thüringen</td>\n",
       "    </tr>\n",
       "    <tr>\n",
       "      <th>9507</th>\n",
       "      <td>Thuringia</td>\n",
       "      <td>Thüringen</td>\n",
       "    </tr>\n",
       "    <tr>\n",
       "      <th>9508</th>\n",
       "      <td>Thuringia</td>\n",
       "      <td>Thüringen</td>\n",
       "    </tr>\n",
       "    <tr>\n",
       "      <th>9509</th>\n",
       "      <td>Thuringia</td>\n",
       "      <td>Thüringen</td>\n",
       "    </tr>\n",
       "    <tr>\n",
       "      <th>9510</th>\n",
       "      <td>Thuringia</td>\n",
       "      <td>Thüringen</td>\n",
       "    </tr>\n",
       "  </tbody>\n",
       "</table>\n",
       "<p>9511 rows × 2 columns</p>\n",
       "</div>"
      ],
      "text/plain": [
       "     bundesland_en bundesland\n",
       "0           Saxony    Sachsen\n",
       "1           Saxony    Sachsen\n",
       "2           Saxony    Sachsen\n",
       "3           Saxony    Sachsen\n",
       "4           Saxony    Sachsen\n",
       "...            ...        ...\n",
       "9506     Thuringia  Thüringen\n",
       "9507     Thuringia  Thüringen\n",
       "9508     Thuringia  Thüringen\n",
       "9509     Thuringia  Thüringen\n",
       "9510     Thuringia  Thüringen\n",
       "\n",
       "[9511 rows x 2 columns]"
      ]
     },
     "execution_count": 17,
     "metadata": {},
     "output_type": "execute_result"
    }
   ],
   "source": [
    "# See results\n",
    "subset = company_regional[['bundesland_en','bundesland']]\n",
    "subset"
   ]
  },
  {
   "cell_type": "code",
   "execution_count": 18,
   "id": "bcf457a4",
   "metadata": {},
   "outputs": [],
   "source": [
    "# Rename variable using df.rename(columns = {'old_name' : 'new_name'}, inplace = True)\n",
    "company_regional.rename(columns = {'bundesland' : 'bundesland_de'}, inplace = True)"
   ]
  },
  {
   "cell_type": "code",
   "execution_count": 19,
   "id": "888513f2",
   "metadata": {},
   "outputs": [],
   "source": [
    "# Replacing NaN in variables that were not a match\n",
    "company_regional['region'] = company_regional.groupby('bundesland_en')['region'].transform(lambda x: x.fillna(x.mode().iloc[0]))"
   ]
  },
  {
   "cell_type": "code",
   "execution_count": 20,
   "id": "b4dc215d",
   "metadata": {},
   "outputs": [],
   "source": [
    "# Replacing NaN in variables that were not a match\n",
    "company_regional['city'] = company_regional.groupby('region')['city'].transform(lambda x: x.fillna(x.mode().iloc[0]))"
   ]
  },
  {
   "cell_type": "code",
   "execution_count": 21,
   "id": "720ab183",
   "metadata": {},
   "outputs": [
    {
     "data": {
      "text/html": [
       "<div>\n",
       "<style scoped>\n",
       "    .dataframe tbody tr th:only-of-type {\n",
       "        vertical-align: middle;\n",
       "    }\n",
       "\n",
       "    .dataframe tbody tr th {\n",
       "        vertical-align: top;\n",
       "    }\n",
       "\n",
       "    .dataframe thead th {\n",
       "        text-align: right;\n",
       "    }\n",
       "</style>\n",
       "<table border=\"1\" class=\"dataframe\">\n",
       "  <thead>\n",
       "    <tr style=\"text-align: right;\">\n",
       "      <th></th>\n",
       "      <th>bundesland_en</th>\n",
       "      <th>bundesland_de</th>\n",
       "      <th>region</th>\n",
       "      <th>city</th>\n",
       "    </tr>\n",
       "  </thead>\n",
       "  <tbody>\n",
       "    <tr>\n",
       "      <th>0</th>\n",
       "      <td>Saxony</td>\n",
       "      <td>Sachsen</td>\n",
       "      <td>Dresden</td>\n",
       "      <td>Dresden</td>\n",
       "    </tr>\n",
       "    <tr>\n",
       "      <th>1</th>\n",
       "      <td>Saxony</td>\n",
       "      <td>Sachsen</td>\n",
       "      <td>Dresden</td>\n",
       "      <td>Dresden</td>\n",
       "    </tr>\n",
       "    <tr>\n",
       "      <th>2</th>\n",
       "      <td>Saxony</td>\n",
       "      <td>Sachsen</td>\n",
       "      <td>Erzgebirgskreis</td>\n",
       "      <td>Aue-Bad Schlema</td>\n",
       "    </tr>\n",
       "    <tr>\n",
       "      <th>3</th>\n",
       "      <td>Saxony</td>\n",
       "      <td>Sachsen</td>\n",
       "      <td>Dresden</td>\n",
       "      <td>Dresden</td>\n",
       "    </tr>\n",
       "    <tr>\n",
       "      <th>4</th>\n",
       "      <td>Saxony</td>\n",
       "      <td>Sachsen</td>\n",
       "      <td>Dresden</td>\n",
       "      <td>Dresden</td>\n",
       "    </tr>\n",
       "    <tr>\n",
       "      <th>...</th>\n",
       "      <td>...</td>\n",
       "      <td>...</td>\n",
       "      <td>...</td>\n",
       "      <td>...</td>\n",
       "    </tr>\n",
       "    <tr>\n",
       "      <th>9506</th>\n",
       "      <td>Thuringia</td>\n",
       "      <td>Thüringen</td>\n",
       "      <td>Unstrut-Hainich-Kreis</td>\n",
       "      <td>Südeichsfeld</td>\n",
       "    </tr>\n",
       "    <tr>\n",
       "      <th>9507</th>\n",
       "      <td>Thuringia</td>\n",
       "      <td>Thüringen</td>\n",
       "      <td>Unstrut-Hainich-Kreis</td>\n",
       "      <td>Unstrut-Hainich</td>\n",
       "    </tr>\n",
       "    <tr>\n",
       "      <th>9508</th>\n",
       "      <td>Thuringia</td>\n",
       "      <td>Thüringen</td>\n",
       "      <td>Unstrut-Hainich-Kreis</td>\n",
       "      <td>Marolterode</td>\n",
       "    </tr>\n",
       "    <tr>\n",
       "      <th>9509</th>\n",
       "      <td>Thuringia</td>\n",
       "      <td>Thüringen</td>\n",
       "      <td>Unstrut-Hainich-Kreis</td>\n",
       "      <td>Unstruttal</td>\n",
       "    </tr>\n",
       "    <tr>\n",
       "      <th>9510</th>\n",
       "      <td>Thuringia</td>\n",
       "      <td>Thüringen</td>\n",
       "      <td>Unstrut-Hainich-Kreis</td>\n",
       "      <td>Körner</td>\n",
       "    </tr>\n",
       "  </tbody>\n",
       "</table>\n",
       "<p>9511 rows × 4 columns</p>\n",
       "</div>"
      ],
      "text/plain": [
       "     bundesland_en bundesland_de                 region             city\n",
       "0           Saxony       Sachsen                Dresden          Dresden\n",
       "1           Saxony       Sachsen                Dresden          Dresden\n",
       "2           Saxony       Sachsen        Erzgebirgskreis  Aue-Bad Schlema\n",
       "3           Saxony       Sachsen                Dresden          Dresden\n",
       "4           Saxony       Sachsen                Dresden          Dresden\n",
       "...            ...           ...                    ...              ...\n",
       "9506     Thuringia     Thüringen  Unstrut-Hainich-Kreis     Südeichsfeld\n",
       "9507     Thuringia     Thüringen  Unstrut-Hainich-Kreis  Unstrut-Hainich\n",
       "9508     Thuringia     Thüringen  Unstrut-Hainich-Kreis      Marolterode\n",
       "9509     Thuringia     Thüringen  Unstrut-Hainich-Kreis       Unstruttal\n",
       "9510     Thuringia     Thüringen  Unstrut-Hainich-Kreis           Körner\n",
       "\n",
       "[9511 rows x 4 columns]"
      ]
     },
     "execution_count": 21,
     "metadata": {},
     "output_type": "execute_result"
    }
   ],
   "source": [
    "# See results\n",
    "subset = company_regional[['bundesland_en','bundesland_de', 'region', 'city']]\n",
    "subset"
   ]
  },
  {
   "cell_type": "code",
   "execution_count": 22,
   "id": "fbfbf1b6",
   "metadata": {},
   "outputs": [
    {
     "data": {
      "text/html": [
       "<div>\n",
       "<style scoped>\n",
       "    .dataframe tbody tr th:only-of-type {\n",
       "        vertical-align: middle;\n",
       "    }\n",
       "\n",
       "    .dataframe tbody tr th {\n",
       "        vertical-align: top;\n",
       "    }\n",
       "\n",
       "    .dataframe thead th {\n",
       "        text-align: right;\n",
       "    }\n",
       "</style>\n",
       "<table border=\"1\" class=\"dataframe\">\n",
       "  <thead>\n",
       "    <tr style=\"text-align: right;\">\n",
       "      <th></th>\n",
       "      <th>plz_imputed</th>\n",
       "      <th>company_total</th>\n",
       "      <th>labor_total</th>\n",
       "      <th>cancer_total</th>\n",
       "      <th>bundesland_en</th>\n",
       "      <th>plz_original</th>\n",
       "      <th>plz</th>\n",
       "      <th>habitants</th>\n",
       "      <th>area_sqkm</th>\n",
       "      <th>city</th>\n",
       "      <th>region</th>\n",
       "      <th>bundesland_de</th>\n",
       "      <th>not_matched</th>\n",
       "    </tr>\n",
       "  </thead>\n",
       "  <tbody>\n",
       "    <tr>\n",
       "      <th>0</th>\n",
       "      <td>01067</td>\n",
       "      <td>393</td>\n",
       "      <td>0</td>\n",
       "      <td>0</td>\n",
       "      <td>Saxony</td>\n",
       "      <td>01067</td>\n",
       "      <td>01067</td>\n",
       "      <td>11957.0</td>\n",
       "      <td>6.866839</td>\n",
       "      <td>Dresden</td>\n",
       "      <td>Dresden</td>\n",
       "      <td>Sachsen</td>\n",
       "      <td>0</td>\n",
       "    </tr>\n",
       "    <tr>\n",
       "      <th>1</th>\n",
       "      <td>01069</td>\n",
       "      <td>107</td>\n",
       "      <td>0</td>\n",
       "      <td>0</td>\n",
       "      <td>Saxony</td>\n",
       "      <td>01069</td>\n",
       "      <td>01069</td>\n",
       "      <td>25483.0</td>\n",
       "      <td>5.339213</td>\n",
       "      <td>Dresden</td>\n",
       "      <td>Dresden</td>\n",
       "      <td>Sachsen</td>\n",
       "      <td>0</td>\n",
       "    </tr>\n",
       "    <tr>\n",
       "      <th>2</th>\n",
       "      <td>01076</td>\n",
       "      <td>1</td>\n",
       "      <td>0</td>\n",
       "      <td>0</td>\n",
       "      <td>Saxony</td>\n",
       "      <td>01076</td>\n",
       "      <td>NaN</td>\n",
       "      <td>NaN</td>\n",
       "      <td>NaN</td>\n",
       "      <td>Aue-Bad Schlema</td>\n",
       "      <td>Erzgebirgskreis</td>\n",
       "      <td>Sachsen</td>\n",
       "      <td>1</td>\n",
       "    </tr>\n",
       "    <tr>\n",
       "      <th>3</th>\n",
       "      <td>01097</td>\n",
       "      <td>127</td>\n",
       "      <td>1</td>\n",
       "      <td>0</td>\n",
       "      <td>Saxony</td>\n",
       "      <td>01097</td>\n",
       "      <td>01097</td>\n",
       "      <td>14821.0</td>\n",
       "      <td>3.298022</td>\n",
       "      <td>Dresden</td>\n",
       "      <td>Dresden</td>\n",
       "      <td>Sachsen</td>\n",
       "      <td>0</td>\n",
       "    </tr>\n",
       "    <tr>\n",
       "      <th>4</th>\n",
       "      <td>01099</td>\n",
       "      <td>202</td>\n",
       "      <td>1</td>\n",
       "      <td>0</td>\n",
       "      <td>Saxony</td>\n",
       "      <td>01099</td>\n",
       "      <td>01099</td>\n",
       "      <td>28018.0</td>\n",
       "      <td>58.505818</td>\n",
       "      <td>Dresden</td>\n",
       "      <td>Dresden</td>\n",
       "      <td>Sachsen</td>\n",
       "      <td>0</td>\n",
       "    </tr>\n",
       "  </tbody>\n",
       "</table>\n",
       "</div>"
      ],
      "text/plain": [
       "  plz_imputed  company_total  labor_total  cancer_total bundesland_en  \\\n",
       "0       01067            393            0             0        Saxony   \n",
       "1       01069            107            0             0        Saxony   \n",
       "2       01076              1            0             0        Saxony   \n",
       "3       01097            127            1             0        Saxony   \n",
       "4       01099            202            1             0        Saxony   \n",
       "\n",
       "  plz_original    plz  habitants  area_sqkm             city           region  \\\n",
       "0        01067  01067    11957.0   6.866839          Dresden          Dresden   \n",
       "1        01069  01069    25483.0   5.339213          Dresden          Dresden   \n",
       "2        01076    NaN        NaN        NaN  Aue-Bad Schlema  Erzgebirgskreis   \n",
       "3        01097  01097    14821.0   3.298022          Dresden          Dresden   \n",
       "4        01099  01099    28018.0  58.505818          Dresden          Dresden   \n",
       "\n",
       "  bundesland_de  not_matched  \n",
       "0       Sachsen            0  \n",
       "1       Sachsen            0  \n",
       "2       Sachsen            1  \n",
       "3       Sachsen            0  \n",
       "4       Sachsen            0  "
      ]
     },
     "execution_count": 22,
     "metadata": {},
     "output_type": "execute_result"
    }
   ],
   "source": [
    "# See results\n",
    "company_regional.head()"
   ]
  },
  {
   "cell_type": "markdown",
   "id": "6071f2b3",
   "metadata": {},
   "source": [
    "### Dropping columns"
   ]
  },
  {
   "cell_type": "code",
   "execution_count": 23,
   "id": "cd3f244f",
   "metadata": {},
   "outputs": [],
   "source": [
    "# Dropping function with function df.drop(columns = ['variable'])\n",
    "company_regional = company_regional.drop(columns = ['plz', 'not_matched'])"
   ]
  },
  {
   "cell_type": "markdown",
   "id": "2d215b6c",
   "metadata": {},
   "source": [
    "## 4.3 Exporting dataframe"
   ]
  },
  {
   "cell_type": "code",
   "execution_count": 24,
   "id": "d0782de1",
   "metadata": {},
   "outputs": [
    {
     "data": {
      "text/plain": [
       "(9511, 11)"
      ]
     },
     "execution_count": 24,
     "metadata": {},
     "output_type": "execute_result"
    }
   ],
   "source": [
    "# Check size before exporting\n",
    "company_regional.shape"
   ]
  },
  {
   "cell_type": "code",
   "execution_count": 25,
   "id": "32dd9b68",
   "metadata": {},
   "outputs": [],
   "source": [
    "# Exporting to prepared data folder\n",
    "#\"index = False\" avoids the automatic creation of an unnamed column in the exported csv file\n",
    "company_regional.to_csv(os.path.join(path, '02_Data','Prepared_data', 'company_regional_step2.csv'), index = False)"
   ]
  }
 ],
 "metadata": {
  "kernelspec": {
   "display_name": "Python 3 (ipykernel)",
   "language": "python",
   "name": "python3"
  },
  "language_info": {
   "codemirror_mode": {
    "name": "ipython",
    "version": 3
   },
   "file_extension": ".py",
   "mimetype": "text/x-python",
   "name": "python",
   "nbconvert_exporter": "python",
   "pygments_lexer": "ipython3",
   "version": "3.11.4"
  }
 },
 "nbformat": 4,
 "nbformat_minor": 5
}
