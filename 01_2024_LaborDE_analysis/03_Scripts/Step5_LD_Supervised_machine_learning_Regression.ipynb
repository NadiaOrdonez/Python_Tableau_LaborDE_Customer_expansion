{
 "cells": [
  {
   "cell_type": "markdown",
   "metadata": {},
   "source": [
    "# Project: 01-2024 LaborDE Analysis\n",
    "## Author: Nadia Ordonez\n",
    "## Step 5 LD Supervised machine learning Regression"
   ]
  },
  {
   "cell_type": "markdown",
   "metadata": {},
   "source": [
    "* [1. Introduction](#1.-Introduction)\n",
    "* [2. Importing data](#2.-Importing-data)  \n",
    "    * [2.1 Importing libraries](#2.1-Importing-libraries) \n",
    "    * [2.2 Importing dataframe](#2.2-Importing-dataframe)\n",
    "* [3. Data wrangling before regression](#3.-Data-wrangling-before-regression)\n",
    "* [4. Regression analysis](#4.-Regression-analysis)\n",
    "    * [4.1 Scaterplot](#4.1-Scaterplot) \n",
    "    * [4.2 Regression steps](#4.2-Regression-steps)\n",
    "    * [4.3 Model performance evaluation](#4.3-Model-performance-evaluation)\n",
    "* [5. Data driven insights](#5.-Data-driven-insights)"
   ]
  },
  {
   "cell_type": "markdown",
   "metadata": {},
   "source": [
    "# 1. Introduction"
   ]
  },
  {
   "cell_type": "markdown",
   "metadata": {},
   "source": [
    "In Step 3 Exploring relationships, a strong correlation (correlation = 1) was identified between the total number of potential company customers for LaborDE and the overall number of companies per Bundesland. This led to the formulation of the hypothesis: \n",
    "\n",
    "\"The greater the number of total companies in a location, the greater the likelihood of potential laboratory customers for LaborDE in that region\"\n",
    "\n",
    "To test this hypothesis, I will employ a Supervised machine learning approach using a linear regression model. This method is apt for examining the relationship between the independent variable (total number of companies) and the dependent variable (total number of potential laboratory customers), quantifying the impact of changes in the former on the latter.\n",
    "\n",
    "The hypothesis originated from Bundesland-level data, with 16 data points, corresponding to the 16 Bundesländer in Germany. Acknowledging the small dataset, I will address this limitation by leveraging a more extensive dataset, where German companies are aggregated based on postcodes. This approach aims to provide a larger and diverse set of datapoints for robust regression analyses and thorough testing of the hypothesis."
   ]
  },
  {
   "cell_type": "markdown",
   "metadata": {},
   "source": [
    "# 2. Importing data"
   ]
  },
  {
   "cell_type": "markdown",
   "metadata": {},
   "source": [
    "## 2.1 Importing libraries"
   ]
  },
  {
   "cell_type": "code",
   "execution_count": 1,
   "metadata": {},
   "outputs": [],
   "source": [
    "import pandas as pd\n",
    "import numpy as np\n",
    "import seaborn as sns\n",
    "import matplotlib\n",
    "import matplotlib.pyplot as plt\n",
    "import os\n",
    "import sklearn\n",
    "from sklearn.model_selection import train_test_split \n",
    "from sklearn.linear_model import LinearRegression\n",
    "from sklearn.metrics import mean_squared_error, r2_score\n",
    "\n",
    "import warnings # This is a library that handles warnings.\n",
    "warnings.filterwarnings(\"ignore\") # Disable deprecation warnings that could indicate, for instance, a suspended library or \n",
    "# feature. These are more relevant to developers and very seldom to analysts."
   ]
  },
  {
   "cell_type": "code",
   "execution_count": 2,
   "metadata": {},
   "outputs": [],
   "source": [
    "# This option ensures that the graphs you create are displayed within the notebook without the need to \"call\" them specifically.\n",
    "\n",
    "%matplotlib inline"
   ]
  },
  {
   "cell_type": "markdown",
   "metadata": {},
   "source": [
    "## 2.2 Importing dataframe"
   ]
  },
  {
   "cell_type": "markdown",
   "metadata": {},
   "source": [
    "The hypothesis above was concluded when exploring relationships at the Bundesland level, where only 16 data points were available, which corresponded to the 16 Bundesländer in Germany. Howerver, as a rule of thumb, having at least several hundred to a few thousand datapoints is often considered a reasonable starting point for regression analysis, then I will use my dataframe were Germany companies are grouped into postcodes to run my regression analyses and test my proposed hypothesis."
   ]
  },
  {
   "cell_type": "code",
   "execution_count": 3,
   "metadata": {},
   "outputs": [],
   "source": [
    "# Define path\n",
    "path = r'C:\\Users\\Ich\\Documents\\01_2024_LaborDE_analysis'"
   ]
  },
  {
   "cell_type": "code",
   "execution_count": 4,
   "metadata": {},
   "outputs": [],
   "source": [
    "# Import df\n",
    "df = pd.read_csv(os.path.join(path,'02_Data', 'Prepared_data', 'company_regional_step2.csv'), encoding='utf-8')"
   ]
  },
  {
   "cell_type": "code",
   "execution_count": 5,
   "metadata": {
    "scrolled": true
   },
   "outputs": [
    {
     "data": {
      "text/plain": [
       "Index(['plz_imputed', 'company_total', 'labor_total', 'cancer_total',\n",
       "       'bundesland_en', 'plz_original', 'habitants', 'area_sqkm', 'city',\n",
       "       'region', 'bundesland_de'],\n",
       "      dtype='object')"
      ]
     },
     "execution_count": 5,
     "metadata": {},
     "output_type": "execute_result"
    }
   ],
   "source": [
    "df.columns"
   ]
  },
  {
   "cell_type": "code",
   "execution_count": 6,
   "metadata": {
    "scrolled": true
   },
   "outputs": [
    {
     "data": {
      "text/html": [
       "<div>\n",
       "<style scoped>\n",
       "    .dataframe tbody tr th:only-of-type {\n",
       "        vertical-align: middle;\n",
       "    }\n",
       "\n",
       "    .dataframe tbody tr th {\n",
       "        vertical-align: top;\n",
       "    }\n",
       "\n",
       "    .dataframe thead th {\n",
       "        text-align: right;\n",
       "    }\n",
       "</style>\n",
       "<table border=\"1\" class=\"dataframe\">\n",
       "  <thead>\n",
       "    <tr style=\"text-align: right;\">\n",
       "      <th></th>\n",
       "      <th>plz_imputed</th>\n",
       "      <th>company_total</th>\n",
       "      <th>labor_total</th>\n",
       "      <th>cancer_total</th>\n",
       "      <th>bundesland_en</th>\n",
       "      <th>plz_original</th>\n",
       "      <th>habitants</th>\n",
       "      <th>area_sqkm</th>\n",
       "      <th>city</th>\n",
       "      <th>region</th>\n",
       "      <th>bundesland_de</th>\n",
       "    </tr>\n",
       "  </thead>\n",
       "  <tbody>\n",
       "    <tr>\n",
       "      <th>0</th>\n",
       "      <td>1067</td>\n",
       "      <td>393</td>\n",
       "      <td>0</td>\n",
       "      <td>0</td>\n",
       "      <td>Saxony</td>\n",
       "      <td>1067</td>\n",
       "      <td>11957.0</td>\n",
       "      <td>6.866839</td>\n",
       "      <td>Dresden</td>\n",
       "      <td>Dresden</td>\n",
       "      <td>Sachsen</td>\n",
       "    </tr>\n",
       "    <tr>\n",
       "      <th>1</th>\n",
       "      <td>1069</td>\n",
       "      <td>107</td>\n",
       "      <td>0</td>\n",
       "      <td>0</td>\n",
       "      <td>Saxony</td>\n",
       "      <td>1069</td>\n",
       "      <td>25483.0</td>\n",
       "      <td>5.339213</td>\n",
       "      <td>Dresden</td>\n",
       "      <td>Dresden</td>\n",
       "      <td>Sachsen</td>\n",
       "    </tr>\n",
       "    <tr>\n",
       "      <th>2</th>\n",
       "      <td>1076</td>\n",
       "      <td>1</td>\n",
       "      <td>0</td>\n",
       "      <td>0</td>\n",
       "      <td>Saxony</td>\n",
       "      <td>1076</td>\n",
       "      <td>NaN</td>\n",
       "      <td>NaN</td>\n",
       "      <td>Aue-Bad Schlema</td>\n",
       "      <td>Erzgebirgskreis</td>\n",
       "      <td>Sachsen</td>\n",
       "    </tr>\n",
       "    <tr>\n",
       "      <th>3</th>\n",
       "      <td>1097</td>\n",
       "      <td>127</td>\n",
       "      <td>1</td>\n",
       "      <td>0</td>\n",
       "      <td>Saxony</td>\n",
       "      <td>1097</td>\n",
       "      <td>14821.0</td>\n",
       "      <td>3.298022</td>\n",
       "      <td>Dresden</td>\n",
       "      <td>Dresden</td>\n",
       "      <td>Sachsen</td>\n",
       "    </tr>\n",
       "    <tr>\n",
       "      <th>4</th>\n",
       "      <td>1099</td>\n",
       "      <td>202</td>\n",
       "      <td>1</td>\n",
       "      <td>0</td>\n",
       "      <td>Saxony</td>\n",
       "      <td>1099</td>\n",
       "      <td>28018.0</td>\n",
       "      <td>58.505818</td>\n",
       "      <td>Dresden</td>\n",
       "      <td>Dresden</td>\n",
       "      <td>Sachsen</td>\n",
       "    </tr>\n",
       "  </tbody>\n",
       "</table>\n",
       "</div>"
      ],
      "text/plain": [
       "   plz_imputed  company_total  labor_total  cancer_total bundesland_en  \\\n",
       "0         1067            393            0             0        Saxony   \n",
       "1         1069            107            0             0        Saxony   \n",
       "2         1076              1            0             0        Saxony   \n",
       "3         1097            127            1             0        Saxony   \n",
       "4         1099            202            1             0        Saxony   \n",
       "\n",
       "   plz_original  habitants  area_sqkm             city           region  \\\n",
       "0          1067    11957.0   6.866839          Dresden          Dresden   \n",
       "1          1069    25483.0   5.339213          Dresden          Dresden   \n",
       "2          1076        NaN        NaN  Aue-Bad Schlema  Erzgebirgskreis   \n",
       "3          1097    14821.0   3.298022          Dresden          Dresden   \n",
       "4          1099    28018.0  58.505818          Dresden          Dresden   \n",
       "\n",
       "  bundesland_de  \n",
       "0       Sachsen  \n",
       "1       Sachsen  \n",
       "2       Sachsen  \n",
       "3       Sachsen  \n",
       "4       Sachsen  "
      ]
     },
     "execution_count": 6,
     "metadata": {},
     "output_type": "execute_result"
    }
   ],
   "source": [
    "df.head()"
   ]
  },
  {
   "cell_type": "code",
   "execution_count": 7,
   "metadata": {
    "scrolled": true
   },
   "outputs": [
    {
     "data": {
      "text/plain": [
       "(9511, 11)"
      ]
     },
     "execution_count": 7,
     "metadata": {},
     "output_type": "execute_result"
    }
   ],
   "source": [
    "df.shape"
   ]
  },
  {
   "cell_type": "markdown",
   "metadata": {},
   "source": [
    "# 3. Data wrangling before regression"
   ]
  },
  {
   "cell_type": "markdown",
   "metadata": {},
   "source": [
    "### Selecting relevant variables"
   ]
  },
  {
   "cell_type": "code",
   "execution_count": 8,
   "metadata": {},
   "outputs": [],
   "source": [
    "# Subsetting dataframe\n",
    "selected_variables = ['plz_imputed', 'plz_original', 'company_total', 'labor_total', 'bundesland_en', 'region']\n",
    "sub_df = df[selected_variables]"
   ]
  },
  {
   "cell_type": "code",
   "execution_count": 9,
   "metadata": {},
   "outputs": [
    {
     "data": {
      "text/html": [
       "<div>\n",
       "<style scoped>\n",
       "    .dataframe tbody tr th:only-of-type {\n",
       "        vertical-align: middle;\n",
       "    }\n",
       "\n",
       "    .dataframe tbody tr th {\n",
       "        vertical-align: top;\n",
       "    }\n",
       "\n",
       "    .dataframe thead th {\n",
       "        text-align: right;\n",
       "    }\n",
       "</style>\n",
       "<table border=\"1\" class=\"dataframe\">\n",
       "  <thead>\n",
       "    <tr style=\"text-align: right;\">\n",
       "      <th></th>\n",
       "      <th>plz_imputed</th>\n",
       "      <th>plz_original</th>\n",
       "      <th>company_total</th>\n",
       "      <th>labor_total</th>\n",
       "      <th>bundesland_en</th>\n",
       "      <th>region</th>\n",
       "    </tr>\n",
       "  </thead>\n",
       "  <tbody>\n",
       "    <tr>\n",
       "      <th>0</th>\n",
       "      <td>1067</td>\n",
       "      <td>1067</td>\n",
       "      <td>393</td>\n",
       "      <td>0</td>\n",
       "      <td>Saxony</td>\n",
       "      <td>Dresden</td>\n",
       "    </tr>\n",
       "    <tr>\n",
       "      <th>1</th>\n",
       "      <td>1069</td>\n",
       "      <td>1069</td>\n",
       "      <td>107</td>\n",
       "      <td>0</td>\n",
       "      <td>Saxony</td>\n",
       "      <td>Dresden</td>\n",
       "    </tr>\n",
       "    <tr>\n",
       "      <th>2</th>\n",
       "      <td>1076</td>\n",
       "      <td>1076</td>\n",
       "      <td>1</td>\n",
       "      <td>0</td>\n",
       "      <td>Saxony</td>\n",
       "      <td>Erzgebirgskreis</td>\n",
       "    </tr>\n",
       "    <tr>\n",
       "      <th>3</th>\n",
       "      <td>1097</td>\n",
       "      <td>1097</td>\n",
       "      <td>127</td>\n",
       "      <td>1</td>\n",
       "      <td>Saxony</td>\n",
       "      <td>Dresden</td>\n",
       "    </tr>\n",
       "    <tr>\n",
       "      <th>4</th>\n",
       "      <td>1099</td>\n",
       "      <td>1099</td>\n",
       "      <td>202</td>\n",
       "      <td>1</td>\n",
       "      <td>Saxony</td>\n",
       "      <td>Dresden</td>\n",
       "    </tr>\n",
       "  </tbody>\n",
       "</table>\n",
       "</div>"
      ],
      "text/plain": [
       "   plz_imputed  plz_original  company_total  labor_total bundesland_en  \\\n",
       "0         1067          1067            393            0        Saxony   \n",
       "1         1069          1069            107            0        Saxony   \n",
       "2         1076          1076              1            0        Saxony   \n",
       "3         1097          1097            127            1        Saxony   \n",
       "4         1099          1099            202            1        Saxony   \n",
       "\n",
       "            region  \n",
       "0          Dresden  \n",
       "1          Dresden  \n",
       "2  Erzgebirgskreis  \n",
       "3          Dresden  \n",
       "4          Dresden  "
      ]
     },
     "execution_count": 9,
     "metadata": {},
     "output_type": "execute_result"
    }
   ],
   "source": [
    "# See results\n",
    "sub_df.head()"
   ]
  },
  {
   "cell_type": "markdown",
   "metadata": {},
   "source": [
    "### Missing values"
   ]
  },
  {
   "cell_type": "code",
   "execution_count": 10,
   "metadata": {},
   "outputs": [
    {
     "data": {
      "text/plain": [
       "plz_imputed      0\n",
       "plz_original     0\n",
       "company_total    0\n",
       "labor_total      0\n",
       "bundesland_en    0\n",
       "region           0\n",
       "dtype: int64"
      ]
     },
     "execution_count": 10,
     "metadata": {},
     "output_type": "execute_result"
    }
   ],
   "source": [
    "# Check for missing values\n",
    "sub_df.isnull().sum()\n",
    "# no missing values"
   ]
  },
  {
   "cell_type": "markdown",
   "metadata": {},
   "source": [
    "### Duplicates check"
   ]
  },
  {
   "cell_type": "code",
   "execution_count": 11,
   "metadata": {},
   "outputs": [],
   "source": [
    "sub_dups = df.duplicated()"
   ]
  },
  {
   "cell_type": "code",
   "execution_count": 12,
   "metadata": {},
   "outputs": [
    {
     "data": {
      "text/plain": [
       "(9511,)"
      ]
     },
     "execution_count": 12,
     "metadata": {},
     "output_type": "execute_result"
    }
   ],
   "source": [
    "sub_dups.shape # No dups"
   ]
  },
  {
   "cell_type": "markdown",
   "metadata": {},
   "source": [
    "### Extreme values checks"
   ]
  },
  {
   "cell_type": "code",
   "execution_count": 13,
   "metadata": {
    "scrolled": true
   },
   "outputs": [
    {
     "data": {
      "text/plain": [
       "<Axes: xlabel='company_total', ylabel='Density'>"
      ]
     },
     "execution_count": 13,
     "metadata": {},
     "output_type": "execute_result"
    },
    {
     "data": {
      "image/png": "[encoded data removed]",
      "text/plain": [
       "<Figure size 640x480 with 1 Axes>"
      ]
     },
     "metadata": {},
     "output_type": "display_data"
    }
   ],
   "source": [
    "sns.distplot(sub_df['company_total'], bins=2) \n",
    "# some postcodes areas have a high industrial activity"
   ]
  },
  {
   "cell_type": "code",
   "execution_count": 14,
   "metadata": {},
   "outputs": [
    {
     "data": {
      "text/plain": [
       "251.65755441068237"
      ]
     },
     "execution_count": 14,
     "metadata": {},
     "output_type": "execute_result"
    }
   ],
   "source": [
    "sub_df['company_total'].mean() # Check the mean"
   ]
  },
  {
   "cell_type": "code",
   "execution_count": 15,
   "metadata": {},
   "outputs": [
    {
     "data": {
      "text/plain": [
       "40.0"
      ]
     },
     "execution_count": 15,
     "metadata": {},
     "output_type": "execute_result"
    }
   ],
   "source": [
    "sub_df['company_total'].median() # Check the median"
   ]
  },
  {
   "cell_type": "code",
   "execution_count": 16,
   "metadata": {},
   "outputs": [
    {
     "data": {
      "text/plain": [
       "297428"
      ]
     },
     "execution_count": 16,
     "metadata": {},
     "output_type": "execute_result"
    }
   ],
   "source": [
    "sub_df['company_total'].max() # Check the max"
   ]
  },
  {
   "cell_type": "markdown",
   "metadata": {},
   "source": [
    "There are extreme values within the \"company_total\" variable. Most of values are close to 0. Some poscode areas have more than 50k listed companies. "
   ]
  },
  {
   "cell_type": "code",
   "execution_count": 17,
   "metadata": {},
   "outputs": [
    {
     "data": {
      "text/plain": [
       "{'whiskers': [<matplotlib.lines.Line2D at 0x1e636fbea90>,\n",
       "  <matplotlib.lines.Line2D at 0x1e636fbf790>],\n",
       " 'caps': [<matplotlib.lines.Line2D at 0x1e636f4f350>,\n",
       "  <matplotlib.lines.Line2D at 0x1e636e7fd50>],\n",
       " 'boxes': [<matplotlib.lines.Line2D at 0x1e636e96290>],\n",
       " 'medians': [<matplotlib.lines.Line2D at 0x1e636fcc250>],\n",
       " 'fliers': [<matplotlib.lines.Line2D at 0x1e636fcc510>],\n",
       " 'means': []}"
      ]
     },
     "execution_count": 17,
     "metadata": {},
     "output_type": "execute_result"
    },
    {
     "data": {
      "image/png": "[encoded data removed]",
      "text/plain": [
       "<Figure size 640x480 with 1 Axes>"
      ]
     },
     "metadata": {},
     "output_type": "display_data"
    }
   ],
   "source": [
    "# Explore extrem values in detail\n",
    "plt.boxplot(sub_df['company_total'])"
   ]
  },
  {
   "cell_type": "code",
   "execution_count": 18,
   "metadata": {},
   "outputs": [
    {
     "data": {
      "text/plain": [
       "(9, 6)"
      ]
     },
     "execution_count": 18,
     "metadata": {},
     "output_type": "execute_result"
    }
   ],
   "source": [
    "# Explore extreme values\n",
    "extrem = sub_df[sub_df['company_total'] > 50000]\n",
    "extrem.shape"
   ]
  },
  {
   "cell_type": "code",
   "execution_count": 19,
   "metadata": {},
   "outputs": [
    {
     "data": {
      "text/html": [
       "<div>\n",
       "<style scoped>\n",
       "    .dataframe tbody tr th:only-of-type {\n",
       "        vertical-align: middle;\n",
       "    }\n",
       "\n",
       "    .dataframe tbody tr th {\n",
       "        vertical-align: top;\n",
       "    }\n",
       "\n",
       "    .dataframe thead th {\n",
       "        text-align: right;\n",
       "    }\n",
       "</style>\n",
       "<table border=\"1\" class=\"dataframe\">\n",
       "  <thead>\n",
       "    <tr style=\"text-align: right;\">\n",
       "      <th></th>\n",
       "      <th>plz_imputed</th>\n",
       "      <th>plz_original</th>\n",
       "      <th>company_total</th>\n",
       "      <th>labor_total</th>\n",
       "      <th>bundesland_en</th>\n",
       "      <th>region</th>\n",
       "    </tr>\n",
       "  </thead>\n",
       "  <tbody>\n",
       "    <tr>\n",
       "      <th>196</th>\n",
       "      <td>4109</td>\n",
       "      <td>4109</td>\n",
       "      <td>64524</td>\n",
       "      <td>321</td>\n",
       "      <td>Saxony</td>\n",
       "      <td>Leipzig</td>\n",
       "    </tr>\n",
       "    <tr>\n",
       "      <th>720</th>\n",
       "      <td>10117</td>\n",
       "      <td>10117</td>\n",
       "      <td>60737</td>\n",
       "      <td>421</td>\n",
       "      <td>Berlin</td>\n",
       "      <td>Berlin</td>\n",
       "    </tr>\n",
       "    <tr>\n",
       "      <th>1704</th>\n",
       "      <td>22926</td>\n",
       "      <td>22926</td>\n",
       "      <td>52691</td>\n",
       "      <td>223</td>\n",
       "      <td>Schleswig-Holstein</td>\n",
       "      <td>Kreis Stormarn</td>\n",
       "    </tr>\n",
       "    <tr>\n",
       "      <th>2268</th>\n",
       "      <td>26789</td>\n",
       "      <td>26789</td>\n",
       "      <td>139657</td>\n",
       "      <td>583</td>\n",
       "      <td>Lower Saxony</td>\n",
       "      <td>Landkreis Leer</td>\n",
       "    </tr>\n",
       "    <tr>\n",
       "      <th>3506</th>\n",
       "      <td>40549</td>\n",
       "      <td>40549</td>\n",
       "      <td>297428</td>\n",
       "      <td>1375</td>\n",
       "      <td>North Rhine-Westphalia</td>\n",
       "      <td>Düsseldorf</td>\n",
       "    </tr>\n",
       "    <tr>\n",
       "      <th>4561</th>\n",
       "      <td>55129</td>\n",
       "      <td>55129</td>\n",
       "      <td>69777</td>\n",
       "      <td>284</td>\n",
       "      <td>Rhineland-Palatinate</td>\n",
       "      <td>Mainz</td>\n",
       "    </tr>\n",
       "    <tr>\n",
       "      <th>5024</th>\n",
       "      <td>60325</td>\n",
       "      <td>60325</td>\n",
       "      <td>103300</td>\n",
       "      <td>460</td>\n",
       "      <td>Hesse</td>\n",
       "      <td>Frankfurt am Main</td>\n",
       "    </tr>\n",
       "    <tr>\n",
       "      <th>5897</th>\n",
       "      <td>70173</td>\n",
       "      <td>70173</td>\n",
       "      <td>178552</td>\n",
       "      <td>903</td>\n",
       "      <td>Baden-Württemberg</td>\n",
       "      <td>Stuttgart</td>\n",
       "    </tr>\n",
       "    <tr>\n",
       "      <th>7093</th>\n",
       "      <td>82031</td>\n",
       "      <td>82031</td>\n",
       "      <td>266522</td>\n",
       "      <td>1141</td>\n",
       "      <td>Bavaria</td>\n",
       "      <td>Landkreis München</td>\n",
       "    </tr>\n",
       "  </tbody>\n",
       "</table>\n",
       "</div>"
      ],
      "text/plain": [
       "      plz_imputed  plz_original  company_total  labor_total  \\\n",
       "196          4109          4109          64524          321   \n",
       "720         10117         10117          60737          421   \n",
       "1704        22926         22926          52691          223   \n",
       "2268        26789         26789         139657          583   \n",
       "3506        40549         40549         297428         1375   \n",
       "4561        55129         55129          69777          284   \n",
       "5024        60325         60325         103300          460   \n",
       "5897        70173         70173         178552          903   \n",
       "7093        82031         82031         266522         1141   \n",
       "\n",
       "               bundesland_en             region  \n",
       "196                   Saxony            Leipzig  \n",
       "720                   Berlin             Berlin  \n",
       "1704      Schleswig-Holstein     Kreis Stormarn  \n",
       "2268            Lower Saxony     Landkreis Leer  \n",
       "3506  North Rhine-Westphalia         Düsseldorf  \n",
       "4561    Rhineland-Palatinate              Mainz  \n",
       "5024                   Hesse  Frankfurt am Main  \n",
       "5897       Baden-Württemberg          Stuttgart  \n",
       "7093                 Bavaria  Landkreis München  "
      ]
     },
     "execution_count": 19,
     "metadata": {},
     "output_type": "execute_result"
    }
   ],
   "source": [
    "# See results\n",
    "extrem\n",
    "# Although these are extrem values, they match with top industrial cities, regions and Bunsdeländer in Germany\n",
    "# Thus, extrem values wont be removed"
   ]
  },
  {
   "cell_type": "markdown",
   "metadata": {},
   "source": [
    "# 4. Regression analysis "
   ]
  },
  {
   "cell_type": "markdown",
   "metadata": {},
   "source": [
    "## 4.1 Scaterplot"
   ]
  },
  {
   "cell_type": "code",
   "execution_count": 20,
   "metadata": {
    "scrolled": true
   },
   "outputs": [
    {
     "data": {
      "image/png": "[encoded data removed]",
      "text/plain": [
       "<Figure size 640x480 with 1 Axes>"
      ]
     },
     "metadata": {},
     "output_type": "display_data"
    }
   ],
   "source": [
    "# Create a scatterplot using matplotlib for another look at how the chosen variables plot against each other\n",
    "sub_df.plot(x = 'company_total', y='labor_total',style='o') \n",
    "# The style option creates a scatterplot; without it, we only have lines.\n",
    "plt.title('Total companies vs total Laboratory company per postcode in Germany')  \n",
    "plt.xlabel('Number of companies')  \n",
    "plt.ylabel('Number of potential laboratory customers')  \n",
    "plt.show()"
   ]
  },
  {
   "cell_type": "markdown",
   "metadata": {},
   "source": [
    "## 4.2 Regression steps"
   ]
  },
  {
   "cell_type": "markdown",
   "metadata": {},
   "source": [
    "### Data preparation"
   ]
  },
  {
   "cell_type": "code",
   "execution_count": 21,
   "metadata": {},
   "outputs": [],
   "source": [
    "# Reshape the variables into NumPy arrays and put them into separate objects\n",
    "X = sub_df['company_total'].values.reshape(-1,1)\n",
    "y = sub_df['labor_total'].values.reshape(-1,1)"
   ]
  },
  {
   "cell_type": "code",
   "execution_count": 22,
   "metadata": {},
   "outputs": [
    {
     "data": {
      "text/plain": [
       "array([[393],\n",
       "       [107],\n",
       "       [  1],\n",
       "       ...,\n",
       "       [ 33],\n",
       "       [ 10],\n",
       "       [ 22]], dtype=int64)"
      ]
     },
     "execution_count": 22,
     "metadata": {},
     "output_type": "execute_result"
    }
   ],
   "source": [
    "# see results\n",
    "X"
   ]
  },
  {
   "cell_type": "code",
   "execution_count": 23,
   "metadata": {},
   "outputs": [
    {
     "data": {
      "text/plain": [
       "array([[0],\n",
       "       [0],\n",
       "       [0],\n",
       "       ...,\n",
       "       [0],\n",
       "       [0],\n",
       "       [0]], dtype=int64)"
      ]
     },
     "execution_count": 23,
     "metadata": {},
     "output_type": "execute_result"
    }
   ],
   "source": [
    "# see results\n",
    "y"
   ]
  },
  {
   "cell_type": "code",
   "execution_count": 24,
   "metadata": {
    "scrolled": true
   },
   "outputs": [],
   "source": [
    "# Split data into a training set and a test set\n",
    "X_train, X_test, y_train, y_test = train_test_split(X, y, test_size=0.3, random_state=0)\n",
    "# The test_size = 0.3 argument within the function is specifying that the test set should comprise 30 percent of the data \n",
    "# (thus making the training set 70 percent of the data)"
   ]
  },
  {
   "cell_type": "markdown",
   "metadata": {},
   "source": [
    "### Performing a regression"
   ]
  },
  {
   "cell_type": "code",
   "execution_count": 25,
   "metadata": {},
   "outputs": [],
   "source": [
    "# Create a regression object.\n",
    "regression = LinearRegression()  # This is the regression object, which will be fit onto the training set"
   ]
  },
  {
   "cell_type": "code",
   "execution_count": 26,
   "metadata": {},
   "outputs": [
    {
     "data": {
      "text/html": [
       "<style>#sk-container-id-1 {color: black;}#sk-container-id-1 pre{padding: 0;}#sk-container-id-1 div.sk-toggleable {background-color: white;}#sk-container-id-1 label.sk-toggleable__label {cursor: pointer;display: block;width: 100%;margin-bottom: 0;padding: 0.3em;box-sizing: border-box;text-align: center;}#sk-container-id-1 label.sk-toggleable__label-arrow:before {content: \"▸\";float: left;margin-right: 0.25em;color: #696969;}#sk-container-id-1 label.sk-toggleable__label-arrow:hover:before {color: black;}#sk-container-id-1 div.sk-estimator:hover label.sk-toggleable__label-arrow:before {color: black;}#sk-container-id-1 div.sk-toggleable__content {max-height: 0;max-width: 0;overflow: hidden;text-align: left;background-color: #f0f8ff;}#sk-container-id-1 div.sk-toggleable__content pre {margin: 0.2em;color: black;border-radius: 0.25em;background-color: #f0f8ff;}#sk-container-id-1 input.sk-toggleable__control:checked~div.sk-toggleable__content {max-height: 200px;max-width: 100%;overflow: auto;}#sk-container-id-1 input.sk-toggleable__control:checked~label.sk-toggleable__label-arrow:before {content: \"▾\";}#sk-container-id-1 div.sk-estimator input.sk-toggleable__control:checked~label.sk-toggleable__label {background-color: #d4ebff;}#sk-container-id-1 div.sk-label input.sk-toggleable__control:checked~label.sk-toggleable__label {background-color: #d4ebff;}#sk-container-id-1 input.sk-hidden--visually {border: 0;clip: rect(1px 1px 1px 1px);clip: rect(1px, 1px, 1px, 1px);height: 1px;margin: -1px;overflow: hidden;padding: 0;position: absolute;width: 1px;}#sk-container-id-1 div.sk-estimator {font-family: monospace;background-color: #f0f8ff;border: 1px dotted black;border-radius: 0.25em;box-sizing: border-box;margin-bottom: 0.5em;}#sk-container-id-1 div.sk-estimator:hover {background-color: #d4ebff;}#sk-container-id-1 div.sk-parallel-item::after {content: \"\";width: 100%;border-bottom: 1px solid gray;flex-grow: 1;}#sk-container-id-1 div.sk-label:hover label.sk-toggleable__label {background-color: #d4ebff;}#sk-container-id-1 div.sk-serial::before {content: \"\";position: absolute;border-left: 1px solid gray;box-sizing: border-box;top: 0;bottom: 0;left: 50%;z-index: 0;}#sk-container-id-1 div.sk-serial {display: flex;flex-direction: column;align-items: center;background-color: white;padding-right: 0.2em;padding-left: 0.2em;position: relative;}#sk-container-id-1 div.sk-item {position: relative;z-index: 1;}#sk-container-id-1 div.sk-parallel {display: flex;align-items: stretch;justify-content: center;background-color: white;position: relative;}#sk-container-id-1 div.sk-item::before, #sk-container-id-1 div.sk-parallel-item::before {content: \"\";position: absolute;border-left: 1px solid gray;box-sizing: border-box;top: 0;bottom: 0;left: 50%;z-index: -1;}#sk-container-id-1 div.sk-parallel-item {display: flex;flex-direction: column;z-index: 1;position: relative;background-color: white;}#sk-container-id-1 div.sk-parallel-item:first-child::after {align-self: flex-end;width: 50%;}#sk-container-id-1 div.sk-parallel-item:last-child::after {align-self: flex-start;width: 50%;}#sk-container-id-1 div.sk-parallel-item:only-child::after {width: 0;}#sk-container-id-1 div.sk-dashed-wrapped {border: 1px dashed gray;margin: 0 0.4em 0.5em 0.4em;box-sizing: border-box;padding-bottom: 0.4em;background-color: white;}#sk-container-id-1 div.sk-label label {font-family: monospace;font-weight: bold;display: inline-block;line-height: 1.2em;}#sk-container-id-1 div.sk-label-container {text-align: center;}#sk-container-id-1 div.sk-container {/* jupyter's `normalize.less` sets `[hidden] { display: none; }` but bootstrap.min.css set `[hidden] { display: none !important; }` so we also need the `!important` here to be able to override the default hidden behavior on the sphinx rendered scikit-learn.org. See: https://github.com/scikit-learn/scikit-learn/issues/21755 */display: inline-block !important;position: relative;}#sk-container-id-1 div.sk-text-repr-fallback {display: none;}</style><div id=\"sk-container-id-1\" class=\"sk-top-container\"><div class=\"sk-text-repr-fallback\"><pre>LinearRegression()</pre><b>In a Jupyter environment, please rerun this cell to show the HTML representation or trust the notebook. <br />On GitHub, the HTML representation is unable to render, please try loading this page with nbviewer.org.</b></div><div class=\"sk-container\" hidden><div class=\"sk-item\"><div class=\"sk-estimator sk-toggleable\"><input class=\"sk-toggleable__control sk-hidden--visually\" id=\"sk-estimator-id-1\" type=\"checkbox\" checked><label for=\"sk-estimator-id-1\" class=\"sk-toggleable__label sk-toggleable__label-arrow\">LinearRegression</label><div class=\"sk-toggleable__content\"><pre>LinearRegression()</pre></div></div></div></div></div>"
      ],
      "text/plain": [
       "LinearRegression()"
      ]
     },
     "execution_count": 26,
     "metadata": {},
     "output_type": "execute_result"
    }
   ],
   "source": [
    "# Fit the regression object onto the training set\n",
    "regression.fit(X_train, y_train)"
   ]
  },
  {
   "cell_type": "code",
   "execution_count": 27,
   "metadata": {},
   "outputs": [],
   "source": [
    "# Predict the values of y using X\n",
    "y_predicted = regression.predict(X_test)"
   ]
  },
  {
   "cell_type": "code",
   "execution_count": 28,
   "metadata": {},
   "outputs": [
    {
     "data": {
      "image/png": "[encoded data removed]",
      "text/plain": [
       "<Figure size 640x480 with 1 Axes>"
      ]
     },
     "metadata": {},
     "output_type": "display_data"
    }
   ],
   "source": [
    "# Create a plot that shows the regression line from the model on the test set.\n",
    "plot_test = plt\n",
    "plot_test.scatter(X_test, y_test, color='gray', s = 15)\n",
    "plot_test.plot(X_test, y_predicted, color='red', linewidth =3)\n",
    "plot_test.title('Total companies vs Laboratory companies (Test set)')\n",
    "plot_test.xlabel('Number of companies')\n",
    "plot_test.ylabel('Number of potential laboratory customers')\n",
    "\n",
    "# Save the regression line plot\n",
    "plot_test.savefig(os.path.join(path, '04_Analysis', 'Visuals', 'regression_line_model_test_set.png'))\n",
    "\n",
    "# Display the plot\n",
    "plot_test.show()"
   ]
  },
  {
   "cell_type": "markdown",
   "metadata": {},
   "source": [
    "The linear model, illustrated by the prominent red regression line, adeptly encompasses all the data points. This is especially evident in regions at the postal code level where numerous total companies coexist, revealing data points associated with a notably higher count of potential laboratory customers. This observation strongly corroborates my initial hypothesis."
   ]
  },
  {
   "cell_type": "code",
   "execution_count": 29,
   "metadata": {},
   "outputs": [],
   "source": [
    "# Create objects that contain the model summary statistics.\n",
    "rmse = mean_squared_error(y_test, y_predicted) # This is the mean squared error\n",
    "r2 = r2_score(y_test, y_predicted) # This is the R2 score "
   ]
  },
  {
   "cell_type": "code",
   "execution_count": 30,
   "metadata": {},
   "outputs": [
    {
     "name": "stdout",
     "output_type": "stream",
     "text": [
      "Slope: [[0.00459817]]\n",
      "Mean squared error:  2.577773410118582\n",
      "R2 score:  0.9866896464042321\n"
     ]
    }
   ],
   "source": [
    "# Print the model summary statistics. This is where the performance of the model is evaluated\n",
    "print('Slope:' ,regression.coef_)\n",
    "print('Mean squared error: ', rmse)\n",
    "print('R2 score: ', r2)"
   ]
  },
  {
   "cell_type": "markdown",
   "metadata": {},
   "source": [
    "The positive slope coefficient (0.0046) in our model signifies a direct relationship between the number of total companies per postcode (X) and the slight increase in potential laboratory customers (y). This suggests that, as the number of total companies rises, there is a proportional rise in potential laboratory customers.\n",
    "\n",
    "The low root mean squared error (MSE) value (2.57) indicates the accuracy of our regression line, closely aligning with the observed data points. This implies a reliable fit, with an approximate error of 3 potential laboratory companies over or under-estimated at the postcode level.\n",
    "\n",
    "The R2 score, approaching 1, indicates that our model effectively explains the variance in the data, reinforcing its overall good fit. Collectively, these metrics affirm the strong performance of the model, suggesting that areas with a higher concentration of industrial activity correspond to an increased number of potential customers for our client, LaborDe."
   ]
  },
  {
   "cell_type": "markdown",
   "metadata": {},
   "source": [
    "## 4.3 Model performance evaluation"
   ]
  },
  {
   "cell_type": "markdown",
   "metadata": {},
   "source": [
    "### Evaluation of predicted values"
   ]
  },
  {
   "cell_type": "code",
   "execution_count": 31,
   "metadata": {},
   "outputs": [
    {
     "data": {
      "text/plain": [
       "array([[-0.08122706],\n",
       "       [-0.07203072],\n",
       "       [-0.01685269],\n",
       "       ...,\n",
       "       [ 0.10269972],\n",
       "       [-0.08122706],\n",
       "       [ 0.51193679]])"
      ]
     },
     "execution_count": 31,
     "metadata": {},
     "output_type": "execute_result"
    }
   ],
   "source": [
    "# See values that were predicted\n",
    "y_predicted"
   ]
  },
  {
   "cell_type": "code",
   "execution_count": 32,
   "metadata": {
    "scrolled": true
   },
   "outputs": [
    {
     "data": {
      "text/html": [
       "<div>\n",
       "<style scoped>\n",
       "    .dataframe tbody tr th:only-of-type {\n",
       "        vertical-align: middle;\n",
       "    }\n",
       "\n",
       "    .dataframe tbody tr th {\n",
       "        vertical-align: top;\n",
       "    }\n",
       "\n",
       "    .dataframe thead th {\n",
       "        text-align: right;\n",
       "    }\n",
       "</style>\n",
       "<table border=\"1\" class=\"dataframe\">\n",
       "  <thead>\n",
       "    <tr style=\"text-align: right;\">\n",
       "      <th></th>\n",
       "      <th>Actual</th>\n",
       "      <th>Predicted</th>\n",
       "    </tr>\n",
       "  </thead>\n",
       "  <tbody>\n",
       "    <tr>\n",
       "      <th>0</th>\n",
       "      <td>0</td>\n",
       "      <td>-0.081227</td>\n",
       "    </tr>\n",
       "    <tr>\n",
       "      <th>1</th>\n",
       "      <td>0</td>\n",
       "      <td>-0.072031</td>\n",
       "    </tr>\n",
       "    <tr>\n",
       "      <th>2</th>\n",
       "      <td>0</td>\n",
       "      <td>-0.016853</td>\n",
       "    </tr>\n",
       "    <tr>\n",
       "      <th>3</th>\n",
       "      <td>0</td>\n",
       "      <td>0.934968</td>\n",
       "    </tr>\n",
       "    <tr>\n",
       "      <th>4</th>\n",
       "      <td>0</td>\n",
       "      <td>0.056718</td>\n",
       "    </tr>\n",
       "    <tr>\n",
       "      <th>5</th>\n",
       "      <td>0</td>\n",
       "      <td>0.337206</td>\n",
       "    </tr>\n",
       "    <tr>\n",
       "      <th>6</th>\n",
       "      <td>0</td>\n",
       "      <td>-0.081227</td>\n",
       "    </tr>\n",
       "    <tr>\n",
       "      <th>7</th>\n",
       "      <td>0</td>\n",
       "      <td>-0.053638</td>\n",
       "    </tr>\n",
       "    <tr>\n",
       "      <th>8</th>\n",
       "      <td>0</td>\n",
       "      <td>-0.044442</td>\n",
       "    </tr>\n",
       "    <tr>\n",
       "      <th>9</th>\n",
       "      <td>0</td>\n",
       "      <td>0.479750</td>\n",
       "    </tr>\n",
       "    <tr>\n",
       "      <th>10</th>\n",
       "      <td>2</td>\n",
       "      <td>1.707461</td>\n",
       "    </tr>\n",
       "    <tr>\n",
       "      <th>11</th>\n",
       "      <td>0</td>\n",
       "      <td>-0.016853</td>\n",
       "    </tr>\n",
       "    <tr>\n",
       "      <th>12</th>\n",
       "      <td>0</td>\n",
       "      <td>0.038325</td>\n",
       "    </tr>\n",
       "    <tr>\n",
       "      <th>13</th>\n",
       "      <td>0</td>\n",
       "      <td>-0.081227</td>\n",
       "    </tr>\n",
       "    <tr>\n",
       "      <th>14</th>\n",
       "      <td>0</td>\n",
       "      <td>-0.058236</td>\n",
       "    </tr>\n",
       "    <tr>\n",
       "      <th>15</th>\n",
       "      <td>0</td>\n",
       "      <td>-0.081227</td>\n",
       "    </tr>\n",
       "    <tr>\n",
       "      <th>16</th>\n",
       "      <td>0</td>\n",
       "      <td>0.199261</td>\n",
       "    </tr>\n",
       "    <tr>\n",
       "      <th>17</th>\n",
       "      <td>0</td>\n",
       "      <td>0.553320</td>\n",
       "    </tr>\n",
       "    <tr>\n",
       "      <th>18</th>\n",
       "      <td>0</td>\n",
       "      <td>-0.003058</td>\n",
       "    </tr>\n",
       "    <tr>\n",
       "      <th>19</th>\n",
       "      <td>7</td>\n",
       "      <td>1.509740</td>\n",
       "    </tr>\n",
       "    <tr>\n",
       "      <th>20</th>\n",
       "      <td>0</td>\n",
       "      <td>0.282028</td>\n",
       "    </tr>\n",
       "    <tr>\n",
       "      <th>21</th>\n",
       "      <td>0</td>\n",
       "      <td>-0.081227</td>\n",
       "    </tr>\n",
       "    <tr>\n",
       "      <th>22</th>\n",
       "      <td>0</td>\n",
       "      <td>-0.081227</td>\n",
       "    </tr>\n",
       "    <tr>\n",
       "      <th>23</th>\n",
       "      <td>0</td>\n",
       "      <td>0.065914</td>\n",
       "    </tr>\n",
       "    <tr>\n",
       "      <th>24</th>\n",
       "      <td>2</td>\n",
       "      <td>1.583310</td>\n",
       "    </tr>\n",
       "    <tr>\n",
       "      <th>25</th>\n",
       "      <td>0</td>\n",
       "      <td>0.176270</td>\n",
       "    </tr>\n",
       "    <tr>\n",
       "      <th>26</th>\n",
       "      <td>0</td>\n",
       "      <td>0.134887</td>\n",
       "    </tr>\n",
       "    <tr>\n",
       "      <th>27</th>\n",
       "      <td>0</td>\n",
       "      <td>0.157878</td>\n",
       "    </tr>\n",
       "    <tr>\n",
       "      <th>28</th>\n",
       "      <td>2</td>\n",
       "      <td>0.603900</td>\n",
       "    </tr>\n",
       "    <tr>\n",
       "      <th>29</th>\n",
       "      <td>1</td>\n",
       "      <td>0.847603</td>\n",
       "    </tr>\n",
       "  </tbody>\n",
       "</table>\n",
       "</div>"
      ],
      "text/plain": [
       "    Actual  Predicted\n",
       "0        0  -0.081227\n",
       "1        0  -0.072031\n",
       "2        0  -0.016853\n",
       "3        0   0.934968\n",
       "4        0   0.056718\n",
       "5        0   0.337206\n",
       "6        0  -0.081227\n",
       "7        0  -0.053638\n",
       "8        0  -0.044442\n",
       "9        0   0.479750\n",
       "10       2   1.707461\n",
       "11       0  -0.016853\n",
       "12       0   0.038325\n",
       "13       0  -0.081227\n",
       "14       0  -0.058236\n",
       "15       0  -0.081227\n",
       "16       0   0.199261\n",
       "17       0   0.553320\n",
       "18       0  -0.003058\n",
       "19       7   1.509740\n",
       "20       0   0.282028\n",
       "21       0  -0.081227\n",
       "22       0  -0.081227\n",
       "23       0   0.065914\n",
       "24       2   1.583310\n",
       "25       0   0.176270\n",
       "26       0   0.134887\n",
       "27       0   0.157878\n",
       "28       2   0.603900\n",
       "29       1   0.847603"
      ]
     },
     "execution_count": 32,
     "metadata": {},
     "output_type": "execute_result"
    }
   ],
   "source": [
    "# Create a dataframe comparing the actual and predicted values of y\n",
    "data = pd.DataFrame({'Actual': y_test.flatten(), 'Predicted': y_predicted.flatten()})\n",
    "data.head(30)"
   ]
  },
  {
   "cell_type": "markdown",
   "metadata": {},
   "source": [
    "Once more, the impact of 0 values in the dataframe is apparent. Nevertheless, the model continues to provide accurate estimates for potential customers of our client, LaborDe."
   ]
  },
  {
   "cell_type": "markdown",
   "metadata": {},
   "source": [
    "### Evaluation with the training set"
   ]
  },
  {
   "cell_type": "code",
   "execution_count": 33,
   "metadata": {},
   "outputs": [],
   "source": [
    "# Predict\n",
    "y_predicted_train = regression.predict(X_train) # This is predicting X_train!"
   ]
  },
  {
   "cell_type": "code",
   "execution_count": 34,
   "metadata": {},
   "outputs": [],
   "source": [
    "rmse = mean_squared_error(y_train, y_predicted_train)\n",
    "r2 = r2_score(y_train, y_predicted_train)"
   ]
  },
  {
   "cell_type": "code",
   "execution_count": 35,
   "metadata": {},
   "outputs": [
    {
     "name": "stdout",
     "output_type": "stream",
     "text": [
      "Slope: [[0.00459817]]\n",
      "Mean squared error:  6.00999258709226\n",
      "R2 score:  0.991182163935733\n"
     ]
    }
   ],
   "source": [
    "print('Slope:' ,regression.coef_)\n",
    "print('Mean squared error: ', rmse)\n",
    "print('R2 score: ', r2)"
   ]
  },
  {
   "cell_type": "markdown",
   "metadata": {},
   "source": [
    "Together, these three metrics validate the robust performance of the model on the training data, indicating a positive correlation between areas exhibiting a higher concentration of industrial activity and an elevated number of potential customers for our client, LaborDE. These results strengthen my initial hypothesis. "
   ]
  },
  {
   "cell_type": "code",
   "execution_count": 36,
   "metadata": {
    "scrolled": true
   },
   "outputs": [
    {
     "data": {
      "image/png": "[encoded data removed]",
      "text/plain": [
       "<Figure size 640x480 with 1 Axes>"
      ]
     },
     "metadata": {},
     "output_type": "display_data"
    }
   ],
   "source": [
    "# Visualizing the training set results.\n",
    "plot_test = plt\n",
    "plot_test.scatter(X_train, y_train, color='green', s = 15)\n",
    "plot_test.plot(X_train, y_predicted_train, color='red', linewidth =3)\n",
    "plot_test.title('Total companies vs Laboratory companies (Training set)')\n",
    "plot_test.xlabel('Number of companies')\n",
    "plot_test.ylabel('Number of potential laboratory customers')\n",
    "# Save the regression line plot\n",
    "plot_test.savefig(os.path.join(path, '04_Analysis', 'Visuals', 'regression_line_model_training_set.png'))\n",
    "\n",
    "# Display the plot\n",
    "plot_test.show()"
   ]
  },
  {
   "cell_type": "markdown",
   "metadata": {},
   "source": [
    "Likewise, this graph illustrates the proximity of data points to the regression line, providing further support for the evidence accumulated thus far in favor of my hypothesis."
   ]
  },
  {
   "cell_type": "markdown",
   "metadata": {},
   "source": [
    "# 5. Data driven insights"
   ]
  },
  {
   "cell_type": "markdown",
   "metadata": {},
   "source": [
    "I've amassed substantial evidence supporting my hypothesis that a greater presence in industrial locations correlates with an increased number of potential customers for our client, LaborDe. The robust linear regression line, coupled with its strong performance metrics, reinforces this conclusion. Consequently, I recommend LaborDE strategically position its business operations in proximity to industrial areas to maximize customer acquisition.\n",
    "\n",
    "However, it's crucial to acknowledge potential biases in the analysis, primarily stemming from filtering and imputations in the dataframe. Relying solely on company names for filtering potential customer companies may overlook some opportunities. Additionally, incomplete addresses for German companies in the original file led to postcode and region imputations based on the most common values at the regional or Bundesland level. This introduces a bias toward the most frequently listed companies.  "
   ]
  }
 ],
 "metadata": {
  "kernelspec": {
   "display_name": "Python 3 (ipykernel)",
   "language": "python",
   "name": "python3"
  },
  "language_info": {
   "codemirror_mode": {
    "name": "ipython",
    "version": 3
   },
   "file_extension": ".py",
   "mimetype": "text/x-python",
   "name": "python",
   "nbconvert_exporter": "python",
   "pygments_lexer": "ipython3",
   "version": "3.11.4"
  }
 },
 "nbformat": 4,
 "nbformat_minor": 4
}
