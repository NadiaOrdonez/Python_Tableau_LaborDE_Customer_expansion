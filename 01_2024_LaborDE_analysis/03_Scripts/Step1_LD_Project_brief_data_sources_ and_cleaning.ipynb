{
 "cells": [
  {
   "cell_type": "markdown",
   "id": "41fb9705",
   "metadata": {},
   "source": [
    "# Project: 01-2024 LaborDE Analysis\n",
    "## Author: Nadia Ordonez\n",
    "## Step1 LD Project brief, data sources,  and data cleaning"
   ]
  },
  {
   "cell_type": "markdown",
   "id": "aaf28674",
   "metadata": {},
   "source": [
    "# Table of Contents\n",
    "* [1. Introduction](#1.-Introduction)\n",
    "    * [1.1 Research questions](#1.1-Research-questions)\n",
    "    * [1.2 Project scripts](#1.2-Project-scripts)\n",
    "    * [1.3 Data limitations and ethics](#1.3-Data-limitations-and-ethics)\n",
    "* [2. Data sources](#2.-Data-sources)\n",
    "    * [2.1 German companies](#2.1-German-companies)\n",
    "    * [2.2 German population Bundesland](#2.2-German-population-Bundesland)\n",
    "    * [2.3 German population regional](#2.3-German-population-regional)\n",
    "        * [2.3.1 Habitants per postcode](#2.3.1-Habitants-per-postcode)\n",
    "        * [2.3.2 Regions per postcode](#2.3.2-Regions-per-postcode)\n",
    "* [3. Data wrangling and consistency checks](#3.-Data-wrangling-and-consistency-checks)\n",
    "    * [3.1 German companies](#3.1-German-companies)\n",
    "    * [3.2 German population Bundesland](#3.2-German-population-Bundesland)\n",
    "    * [3.3 German population regional](#3.3-German-population-regional)\n",
    "        * [3.3.1 Habitants per postcode](#3.3.1-Habitants-per-postcode)\n",
    "        * [3.3.2 Regions per postcode](#3.3.2-Regions-per-postcode)\n",
    "* [4. Merging German population regional](#4.-Merging-German-population-regional)\n",
    "    * [4.1 Key variable](#4.1-Key-variable)\n",
    "    * [4.2 Merge](#4.2-Merge) \n",
    "* [5. Exporting dataframes](#5.-Exporting-dataframes)"
   ]
  },
  {
   "cell_type": "markdown",
   "id": "62521fd6",
   "metadata": {},
   "source": [
    "# 1. Introduction"
   ]
  },
  {
   "cell_type": "markdown",
   "id": "5f6b146f",
   "metadata": {},
   "source": [
    "LaborDE, a prominent laboratory supplier based in Nordrhein-Westphalia, Germany, has excelled in providing diagnostic laboratories with cutting-edge equipment and materials, including a specialized department focused on cancer diagnostics products. In 2009, the German NGO [Open Knowledge Foundation Deutschland e.V.](https://okfn.de/) and the British NGO [Opencorporates](https://opencorporates.com/) collaborated to release German Trade Register data via [OffeneRegister.de](https://offeneregister.de/), offering a comprehensive list of over 5 million companies to the public. Recognizing the strategic value of this data, LaborDE aims to leverage it for identifying potential laboratory customers, not only in their stronghold of Nordrhein-Westphalia (NRW) but also for exploring new market opportunities in other Bundesländer. This initiative positions LaborDE at the forefront of the industry by adopting a data-driven approach to inform decision-making and foster growth."
   ]
  },
  {
   "cell_type": "markdown",
   "id": "f865cf30",
   "metadata": {},
   "source": [
    "## 1.1 Research questions"
   ]
  },
  {
   "cell_type": "markdown",
   "id": "a3aeeaed",
   "metadata": {},
   "source": [
    "To strengthen our market presence in NRW and expand our reach into other Bundesländer, stakeholders at LaborDE are committed to addressing key research data analysis questions. These inquiries will not only fortify our customer base but also strategically position us in the highly competitive landscape of laboratory diagnostics."
   ]
  },
  {
   "cell_type": "markdown",
   "id": "85bb2d67",
   "metadata": {},
   "source": [
    "* Regional Focus in NRW:\n",
    "    * What is the distribution of potential customer companies specializing in laboratory diagnostics across NRW, and which regions exhibit the highest concentration? Rationale: By understanding the geographical concentration of potential customer companies in NRW, we can tailor our outreach strategies to maximize impact in key cities, thereby enhancing our regional presence. \n",
    "    * What is the extent of the customer base served by laboratory diagnostic companies in NRW in terms male and female population? By quantifying the current customer base in NRW, we refine our service offerings and better meet the needs of our existing and potential customer companies that are serving these customers.\n"
   ]
  },
  {
   "cell_type": "markdown",
   "id": "b90cb09b",
   "metadata": {},
   "source": [
    "* National Landscape in Germany:\n",
    "    * What is the nationwide distribution of potential customer companies specializing in laboratory diagnostics, and which Bundesländer has the highest concentration of potential customers? Rationale: Expanding our scope beyond NRW, this analysis aims to identify promising markets in other Bundesländer, providing valuable insights to inform our strategic expansion plans across Germany.\n",
    "    * Within the identified companies, what is the prevalence of those offering diagnostic services specifically for cancer, and where are they situated in Germany? Rationale: Recognizing the demand for cancer-related diagnostic services is crucial for tailoring our offerings to meet specific healthcare needs, thereby positioning LaborDE as a specialized and sought-after service provider.\n"
   ]
  },
  {
   "cell_type": "markdown",
   "id": "6f923b56",
   "metadata": {},
   "source": [
    "## 1.2 Project scripts"
   ]
  },
  {
   "cell_type": "markdown",
   "id": "b6f76ff2",
   "metadata": {},
   "source": [
    "* This data analysis project was executed using Jupyter and is organized into 7 scripts outlined below:\n",
    "    * Step 1: LD Project brief, data sources, and initial data cleaning\n",
    "        * Comprehensive project description, research questions, and data sources\n",
    "        * Data wrangling, cleaning and inconsistency checks.\n",
    "        * Merging of German population regional dataframes.\n",
    "        \n",
    "\n",
    "    * Step 2: LD Merging dataframes, Bundesland and regional\n",
    "        * Merging companies and Bundesland dataframes.\n",
    "        * Merging companies and regional dataframes.\n",
    "        \n",
    "    \n",
    "    * Step 3: LD Exploring relationships between companies and Bundesland\n",
    "        * Correlation, scatterplots, pairplots and categorial plots.\n",
    "        * Constructing the research hypothesis.\n",
    "        \n",
    "        \n",
    "    * Step 4: LD Geographical visualization\n",
    "        * Bundesland company mapping.\n",
    "        * NRW company mapping.\n",
    "        \n",
    "\n",
    "    * Step 5: LD Supervised Machine Learning: Regression\n",
    "        * Testing the research hypothesis with a regression model.\n",
    "        * Model performance evaluation.\n",
    "        \n",
    "\n",
    "    * Step 6: Unsupervised Machine Learning: Clustering\n",
    "        * Clustering analysis of Bundesländer. \n",
    "        \n",
    "    \n",
    "    * Step 7: German GDP time-series analysis\n",
    "        * Subsetting, wrangling, and cleaning time series data.\n",
    "        * Decomposition, Dicker Fuller test, Autocorrelation, Stationarizing data."
   ]
  },
  {
   "cell_type": "markdown",
   "id": "de7737ce",
   "metadata": {},
   "source": [
    "## 1.3 Data limitations and ethics"
   ]
  },
  {
   "cell_type": "markdown",
   "id": "b6a03ad9",
   "metadata": {},
   "source": [
    "Regarding the German companies dataset obtained through OpenCorporates, there are notable limitations in data collection. The terms of use for Bundesanzeiger and Unternehmensregister, two additional German company registers, restrict OpenCorporates from publishing data sourced from these registers. Consequently, information on companies registered in these datasets is unavailable. Moreover, the dataset's information is only current up until January 2019, omitting companies established thereafter. The basic nature of the company details further hinders the precision with which laboratory diagnostics can be extracted from the comprehensive list of companies. In terms of data ethics, it's crucial to acknowledge that the original German companies dataset contains personal data, which may fall under GDPR regulations. Therefore, careful attention to privacy and compliance with relevant data protection laws is imperative when managing and utilizing this dataset. "
   ]
  },
  {
   "cell_type": "markdown",
   "id": "ac73d42d",
   "metadata": {},
   "source": [
    "# 2. Data sources"
   ]
  },
  {
   "cell_type": "markdown",
   "id": "03722983",
   "metadata": {},
   "source": [
    "### Importing libraries"
   ]
  },
  {
   "cell_type": "code",
   "execution_count": 1,
   "id": "aeee239c",
   "metadata": {},
   "outputs": [],
   "source": [
    "# Libraries to unzip downloaded SQLite Datenbank for German companies df\n",
    "import gzip\n",
    "import shutil\n",
    "\n",
    "# Import library to access SQLite files for German companies df\n",
    "import sqlite3\n",
    "\n",
    "# Importing libraries for data analysis for all dfs\n",
    "import pandas as pd\n",
    "import numpy as np\n",
    "import os"
   ]
  },
  {
   "cell_type": "code",
   "execution_count": 2,
   "id": "de8aa769",
   "metadata": {},
   "outputs": [],
   "source": [
    "# Project folder path into a string to easily retrieve data\n",
    "path = r'C:\\Users\\Ich\\Documents\\01_2024_LaborDE_analysis'"
   ]
  },
  {
   "cell_type": "markdown",
   "id": "1ce6fb31",
   "metadata": {},
   "source": [
    "## 2.1 German companies"
   ]
  },
  {
   "cell_type": "markdown",
   "id": "08e496e2",
   "metadata": {},
   "source": [
    "The files, compiled by OpenCorporates primarily between June 2017 and January 2019, contain basic information on over 5 million German companies and their officers, sourced mainly from [Handelsregisterbekanntmachungen](https://www.handelsregister.de/rp_web/welcome.xhtml) and to a lesser extent, [Handelsregister](https://www.handelsregister.de/rp_web/welcome.xhtml) search results listings. OpenCorporates is generously sharing this dataset under an [open license](https://creativecommons.org/licenses/by/4.0/), aiming to demonstrate the advantages of releasing company information as open data. As a social enterprise committed to enhancing societal benefits, OpenCorporates actively advocates for open company data, collaborating with civil society, businesses, and governments to promote accessibility and transparency in critical information without financial barriers."
   ]
  },
  {
   "cell_type": "markdown",
   "id": "8b44d458",
   "metadata": {},
   "source": [
    "The dataset was downloaded as a [SQLite Datenbak](https://offeneregister.de/#download) and later opened with Python using Jupyter notebooks. The original table named \"company\" was saved as pickle file as \"all_de_companies\", selecting relevant variables such as company names and addresses."
   ]
  },
  {
   "cell_type": "markdown",
   "id": "f54dc979",
   "metadata": {},
   "source": [
    "### Extracting company dataframe"
   ]
  },
  {
   "cell_type": "code",
   "execution_count": 2,
   "id": "1fb47527",
   "metadata": {},
   "outputs": [],
   "source": [
    "# Create a path to unzip\n",
    "gzip_file_path = r'C:\\Users\\Ich\\Documents\\01_2024_LaborDE_analysis\\02_Data\\Original_data\\openregister.db.gz'"
   ]
  },
  {
   "cell_type": "code",
   "execution_count": 3,
   "id": "f60e7a23",
   "metadata": {},
   "outputs": [],
   "source": [
    "# Create a path to extract file\n",
    "extracted_file_path = r'C:\\Users\\Ich\\Documents\\01_2024_LaborDE_analysis\\02_Data\\Original_data\\openregister.db'"
   ]
  },
  {
   "cell_type": "code",
   "execution_count": 4,
   "id": "73173ff3",
   "metadata": {},
   "outputs": [
    {
     "name": "stdout",
     "output_type": "stream",
     "text": [
      "File extracted successfully.\n"
     ]
    }
   ],
   "source": [
    "# Unzip file\n",
    "with gzip.open(gzip_file_path, 'rb') as f_in:\n",
    "    with open(extracted_file_path, 'wb') as f_out:\n",
    "        shutil.copyfileobj(f_in, f_out)\n",
    "print(\"File extracted successfully.\")"
   ]
  },
  {
   "cell_type": "code",
   "execution_count": 5,
   "id": "3dc24925",
   "metadata": {},
   "outputs": [],
   "source": [
    "# Create a path to execute SQLite commands\n",
    "sqlite_file_path = r'C:\\Users\\Ich\\Documents\\01_2024_LaborDE_analysis\\02_Data\\Original_data\\openregister.db'"
   ]
  },
  {
   "cell_type": "code",
   "execution_count": 8,
   "id": "eb667009",
   "metadata": {},
   "outputs": [
    {
     "name": "stdout",
     "output_type": "stream",
     "text": [
      "Table: name, Rows: 1409429, Columns: 3\n",
      "Table: registrations, Rows: 375180, Columns: 21\n",
      "Table: officer, Rows: 4803514, Columns: 15\n",
      "Table: company, Rows: 5305727, Columns: 25\n",
      "Table: company_fts, Rows: 5305727, Columns: 2\n",
      "Table: company_fts_data, Rows: 38643, Columns: 2\n",
      "Table: company_fts_idx, Rows: 23360, Columns: 3\n",
      "Table: company_fts_docsize, Rows: 5305727, Columns: 2\n",
      "Table: company_fts_config, Rows: 1, Columns: 2\n",
      "Table: officer_fts, Rows: 4803514, Columns: 1\n",
      "Table: officer_fts_data, Rows: 15757, Columns: 2\n",
      "Table: officer_fts_idx, Rows: 10764, Columns: 3\n",
      "Table: officer_fts_docsize, Rows: 4803514, Columns: 2\n",
      "Table: officer_fts_config, Rows: 1, Columns: 2\n",
      "Table: name_fts, Rows: 1409429, Columns: 1\n",
      "Table: name_fts_data, Rows: 7855, Columns: 2\n",
      "Table: name_fts_idx, Rows: 5770, Columns: 3\n",
      "Table: name_fts_docsize, Rows: 1409429, Columns: 2\n",
      "Table: name_fts_config, Rows: 1, Columns: 2\n"
     ]
    }
   ],
   "source": [
    "# Get shapes of all tables in the database\n",
    "\n",
    "# Connect to the SQLite database\n",
    "conn = sqlite3.connect(sqlite_file_path)\n",
    "cursor = conn.cursor()\n",
    "\n",
    "# Get the names of all tables in the database\n",
    "cursor.execute(\"SELECT name FROM sqlite_master WHERE type='table';\")\n",
    "tables = cursor.fetchall()\n",
    "\n",
    "# Iterate through tables and retrieve information\n",
    "for table in tables:\n",
    "    table_name = table[0]\n",
    "\n",
    "    # Get the number of rows in the table\n",
    "    cursor.execute(f\"SELECT COUNT(*) FROM {table_name};\")\n",
    "    row_count = cursor.fetchone()[0]\n",
    "\n",
    "    # Get the number of columns in the table\n",
    "    cursor.execute(f\"PRAGMA table_info({table_name});\")\n",
    "    columns = cursor.fetchall()\n",
    "    column_count = len(columns)\n",
    "\n",
    "    # Print information about the table\n",
    "    print(f\"Table: {table_name}, Rows: {row_count}, Columns: {column_count}\")\n",
    "\n",
    "# Close the connection\n",
    "conn.close()"
   ]
  },
  {
   "cell_type": "markdown",
   "id": "6fb7415f",
   "metadata": {},
   "source": [
    "Based on this output, I can see that the \"company\" table contains 5.3M observations regarding all companies compiled in this dataset.  "
   ]
  },
  {
   "cell_type": "code",
   "execution_count": 9,
   "id": "702dbeec",
   "metadata": {},
   "outputs": [
    {
     "name": "stdout",
     "output_type": "stream",
     "text": [
      "Column names for table 'company':\n",
      "id\n",
      "company_number\n",
      "current_status\n",
      "jurisdiction_code\n",
      "name\n",
      "registered_address\n",
      "retrieved_at\n",
      "register_flag_AD\n",
      "register_flag_CD\n",
      "register_flag_DK\n",
      "register_flag_HD\n",
      "register_flag_SI\n",
      "register_flag_UT\n",
      "register_flag_VOE\n",
      "federal_state\n",
      "native_company_number\n",
      "registered_office\n",
      "registrar\n",
      "register_art\n",
      "register_nummer\n",
      "former_registrar\n",
      "register_flag_\n",
      "register_flag_Note:\n",
      "_registerNummerSuffix\n",
      "register_flag_Status information\n"
     ]
    }
   ],
   "source": [
    "# Check the variables containing the company table\n",
    "\n",
    "# Connect to the SQLite database\n",
    "conn = sqlite3.connect(sqlite_file_path)\n",
    "cursor = conn.cursor()\n",
    "\n",
    "# Specify the table name for which you want to retrieve column names\n",
    "table_name = 'company'  # Replace with the actual table name\n",
    "\n",
    "# Get the column names for the specified table\n",
    "cursor.execute(f\"PRAGMA table_info({table_name});\")\n",
    "columns = cursor.fetchall()\n",
    "\n",
    "# Print the column names\n",
    "print(f\"Column names for table '{table_name}':\")\n",
    "for column in columns:\n",
    "    print(column[1])  # Column name is at index 1\n",
    "\n",
    "# Close the connection\n",
    "conn.close()"
   ]
  },
  {
   "cell_type": "code",
   "execution_count": 10,
   "id": "205aec79",
   "metadata": {},
   "outputs": [
    {
     "name": "stdout",
     "output_type": "stream",
     "text": [
      "(1, 'K1101R_HRB150148', 'currently registered', 'de', 'olly UG (haftungsbeschränkt)', 'Waidmannstraße 1, 22769 Hamburg.', '2018-11-09T18:03:03Z', 1, 1, 1, 0, 1, 1, 0, 'Hamburg', 'Hamburg HRB 150148', 'Hamburg', 'Hamburg', 'HRB', '150148', None, None, None, None, None)\n",
      "(2, 'R1101_HRB81092', 'currently registered', 'de', 'BLUECHILLED Verwaltungs GmbH', 'Oststr.', '2018-07-25T11:14:02Z', 1, 1, 1, 0, 1, 1, 1, 'North Rhine-Westphalia', 'Düsseldorf HRB 81092', 'Düsseldorf', 'Düsseldorf', 'HRB', '81092', None, None, None, None, None)\n",
      "(3, 'H1101_H1101_HRB18423', 'currently registered', 'de', 'Mittelständische Beteiligungsgesellschaft Bremen mbH', 'Langenstraße 2-4, 28195 Bremen.', '2018-06-24T21:12:00Z', 1, 1, 1, 1, 1, 1, 1, 'Bremen', 'Bremen früher Bremen HRB 18423', 'Bremen', 'Bremen', 'HRB', '18423', 'Bremen', None, None, None, None)\n",
      "(4, 'R1101_HRB45109', 'currently registered', 'de', 'Albert Barufe GmbH', 'Hans-Sachs-Straße 11, 40721 Hilden.', '2018-07-25T11:15:01Z', 1, 1, 1, 1, 1, 1, 1, 'North Rhine-Westphalia', 'Düsseldorf HRB 45109', 'Hilden', 'Düsseldorf', 'HRB', '45109', None, None, None, None, None)\n",
      "(5, 'R1101_HRB37996', 'currently registered', 'de', 'ITERGO Informationstechnologie GmbH', 'ERGO-Platz 1, 40477 Düsseldorf.', '2018-07-25T12:32:08Z', 1, 1, 1, 1, 1, 1, 1, 'North Rhine-Westphalia', 'Düsseldorf HRB 37996', 'Düsseldorf', 'Düsseldorf', 'HRB', '37996', None, None, None, None, None)\n"
     ]
    }
   ],
   "source": [
    "# See top results for all variables\n",
    "\n",
    "# Connect to the SQLite database\n",
    "conn = sqlite3.connect(sqlite_file_path)\n",
    "cursor = conn.cursor()\n",
    "\n",
    "# Example: Retrieve data from a table\n",
    "cursor.execute(\"SELECT * FROM company LIMIT 5;\")\n",
    "rows = cursor.fetchall()\n",
    "\n",
    "for row in rows:\n",
    "    print(row)\n",
    "\n",
    "# Close the connection\n",
    "conn.close()"
   ]
  },
  {
   "cell_type": "markdown",
   "id": "d2484f39",
   "metadata": {},
   "source": [
    "There are several listed variables that do not play a major role in our project. Thus, I will select variables from both tables that are relevant for this project and save the file as a pickle. "
   ]
  },
  {
   "cell_type": "code",
   "execution_count": 6,
   "id": "fe9cc86c",
   "metadata": {},
   "outputs": [],
   "source": [
    "# Create a path to save pickle file\n",
    "output_pickle_path = r'C:\\Users\\Ich\\Documents\\01_2024_LaborDE_analysis\\02_Data\\Prepared_data\\all_companies_de.pkl'"
   ]
  },
  {
   "cell_type": "code",
   "execution_count": 8,
   "id": "18f5f99e",
   "metadata": {},
   "outputs": [
    {
     "name": "stdout",
     "output_type": "stream",
     "text": [
      "Output exported to C:\\Users\\Ich\\Documents\\01_2024_LaborDE_analysis\\02_Data\\Prepared_data\\all_companies_de.pkl\n"
     ]
    }
   ],
   "source": [
    "# Connect to the SQLite database\n",
    "conn = sqlite3.connect(sqlite_file_path)\n",
    "\n",
    "# Example: Retrieve data from a table\n",
    "query = \"SELECT company_number, current_status, name, registered_address, federal_state FROM company;\"\n",
    "df = pd.read_sql_query(query, conn)\n",
    "\n",
    "# Close the connection\n",
    "conn.close()\n",
    "\n",
    "# Save the DataFrame as a pickle file with headers\n",
    "df.to_pickle(output_pickle_path)\n",
    "\n",
    "print(f\"Output exported to {output_pickle_path}\")"
   ]
  },
  {
   "cell_type": "markdown",
   "id": "8d64f65a",
   "metadata": {},
   "source": [
    "### Importing extracted company dataframe"
   ]
  },
  {
   "cell_type": "code",
   "execution_count": 3,
   "id": "da6638d2",
   "metadata": {},
   "outputs": [],
   "source": [
    "# Import “all_companies_de.pickle”\n",
    "all_companies_de = pd.read_pickle(os.path.join(path, '02_Data', 'Prepared_data', 'all_companies_de.pkl')) "
   ]
  },
  {
   "cell_type": "code",
   "execution_count": 4,
   "id": "85e118e7",
   "metadata": {},
   "outputs": [
    {
     "data": {
      "text/plain": [
       "(5305727, 5)"
      ]
     },
     "execution_count": 4,
     "metadata": {},
     "output_type": "execute_result"
    }
   ],
   "source": [
    "# See results\n",
    "all_companies_de.shape\n",
    "# The pickle file contains all 5305727 expected observations as recorded on the original database and the 5 selected variables"
   ]
  },
  {
   "cell_type": "code",
   "execution_count": 5,
   "id": "c1103ecf",
   "metadata": {},
   "outputs": [
    {
     "data": {
      "text/html": [
       "<div>\n",
       "<style scoped>\n",
       "    .dataframe tbody tr th:only-of-type {\n",
       "        vertical-align: middle;\n",
       "    }\n",
       "\n",
       "    .dataframe tbody tr th {\n",
       "        vertical-align: top;\n",
       "    }\n",
       "\n",
       "    .dataframe thead th {\n",
       "        text-align: right;\n",
       "    }\n",
       "</style>\n",
       "<table border=\"1\" class=\"dataframe\">\n",
       "  <thead>\n",
       "    <tr style=\"text-align: right;\">\n",
       "      <th></th>\n",
       "      <th>company_number</th>\n",
       "      <th>current_status</th>\n",
       "      <th>name</th>\n",
       "      <th>registered_address</th>\n",
       "      <th>federal_state</th>\n",
       "    </tr>\n",
       "  </thead>\n",
       "  <tbody>\n",
       "    <tr>\n",
       "      <th>0</th>\n",
       "      <td>K1101R_HRB150148</td>\n",
       "      <td>currently registered</td>\n",
       "      <td>olly UG (haftungsbeschränkt)</td>\n",
       "      <td>Waidmannstraße 1, 22769 Hamburg.</td>\n",
       "      <td>Hamburg</td>\n",
       "    </tr>\n",
       "    <tr>\n",
       "      <th>1</th>\n",
       "      <td>R1101_HRB81092</td>\n",
       "      <td>currently registered</td>\n",
       "      <td>BLUECHILLED Verwaltungs GmbH</td>\n",
       "      <td>Oststr.</td>\n",
       "      <td>North Rhine-Westphalia</td>\n",
       "    </tr>\n",
       "    <tr>\n",
       "      <th>2</th>\n",
       "      <td>H1101_H1101_HRB18423</td>\n",
       "      <td>currently registered</td>\n",
       "      <td>Mittelständische Beteiligungsgesellschaft Brem...</td>\n",
       "      <td>Langenstraße 2-4, 28195 Bremen.</td>\n",
       "      <td>Bremen</td>\n",
       "    </tr>\n",
       "    <tr>\n",
       "      <th>3</th>\n",
       "      <td>R1101_HRB45109</td>\n",
       "      <td>currently registered</td>\n",
       "      <td>Albert Barufe GmbH</td>\n",
       "      <td>Hans-Sachs-Straße 11, 40721 Hilden.</td>\n",
       "      <td>North Rhine-Westphalia</td>\n",
       "    </tr>\n",
       "    <tr>\n",
       "      <th>4</th>\n",
       "      <td>R1101_HRB37996</td>\n",
       "      <td>currently registered</td>\n",
       "      <td>ITERGO Informationstechnologie GmbH</td>\n",
       "      <td>ERGO-Platz 1, 40477 Düsseldorf.</td>\n",
       "      <td>North Rhine-Westphalia</td>\n",
       "    </tr>\n",
       "  </tbody>\n",
       "</table>\n",
       "</div>"
      ],
      "text/plain": [
       "         company_number        current_status  \\\n",
       "0      K1101R_HRB150148  currently registered   \n",
       "1        R1101_HRB81092  currently registered   \n",
       "2  H1101_H1101_HRB18423  currently registered   \n",
       "3        R1101_HRB45109  currently registered   \n",
       "4        R1101_HRB37996  currently registered   \n",
       "\n",
       "                                                name  \\\n",
       "0                       olly UG (haftungsbeschränkt)   \n",
       "1                       BLUECHILLED Verwaltungs GmbH   \n",
       "2  Mittelständische Beteiligungsgesellschaft Brem...   \n",
       "3                                 Albert Barufe GmbH   \n",
       "4                ITERGO Informationstechnologie GmbH   \n",
       "\n",
       "                    registered_address           federal_state  \n",
       "0     Waidmannstraße 1, 22769 Hamburg.                 Hamburg  \n",
       "1                              Oststr.  North Rhine-Westphalia  \n",
       "2      Langenstraße 2-4, 28195 Bremen.                  Bremen  \n",
       "3  Hans-Sachs-Straße 11, 40721 Hilden.  North Rhine-Westphalia  \n",
       "4      ERGO-Platz 1, 40477 Düsseldorf.  North Rhine-Westphalia  "
      ]
     },
     "execution_count": 5,
     "metadata": {},
     "output_type": "execute_result"
    }
   ],
   "source": [
    "# See headers\n",
    "all_companies_de.head()"
   ]
  },
  {
   "cell_type": "code",
   "execution_count": 6,
   "id": "473d4cca",
   "metadata": {},
   "outputs": [
    {
     "data": {
      "text/html": [
       "<div>\n",
       "<style scoped>\n",
       "    .dataframe tbody tr th:only-of-type {\n",
       "        vertical-align: middle;\n",
       "    }\n",
       "\n",
       "    .dataframe tbody tr th {\n",
       "        vertical-align: top;\n",
       "    }\n",
       "\n",
       "    .dataframe thead th {\n",
       "        text-align: right;\n",
       "    }\n",
       "</style>\n",
       "<table border=\"1\" class=\"dataframe\">\n",
       "  <thead>\n",
       "    <tr style=\"text-align: right;\">\n",
       "      <th></th>\n",
       "      <th>company_number</th>\n",
       "      <th>current_status</th>\n",
       "      <th>name</th>\n",
       "      <th>registered_address</th>\n",
       "      <th>federal_state</th>\n",
       "    </tr>\n",
       "  </thead>\n",
       "  <tbody>\n",
       "    <tr>\n",
       "      <th>5305722</th>\n",
       "      <td>Y1301_VR300853</td>\n",
       "      <td>currently registered</td>\n",
       "      <td>Recht auf Heimat e.V.</td>\n",
       "      <td>None</td>\n",
       "      <td>Thuringia</td>\n",
       "    </tr>\n",
       "    <tr>\n",
       "      <th>5305723</th>\n",
       "      <td>Y1301_VR300854</td>\n",
       "      <td>currently registered</td>\n",
       "      <td>\"SEI LEBENSWERT - Verein für Gesundheitssport ...</td>\n",
       "      <td>None</td>\n",
       "      <td>Thuringia</td>\n",
       "    </tr>\n",
       "    <tr>\n",
       "      <th>5305724</th>\n",
       "      <td>Y1302_VR320869</td>\n",
       "      <td>currently registered</td>\n",
       "      <td>Kirmesverein Veilsdorf e. V.</td>\n",
       "      <td>None</td>\n",
       "      <td>Thuringia</td>\n",
       "    </tr>\n",
       "    <tr>\n",
       "      <th>5305725</th>\n",
       "      <td>Y1304_VR351602</td>\n",
       "      <td>currently registered</td>\n",
       "      <td>\"Reha- und Gesundheitssport Brotterode e. V.\"</td>\n",
       "      <td>None</td>\n",
       "      <td>Thuringia</td>\n",
       "    </tr>\n",
       "    <tr>\n",
       "      <th>5305726</th>\n",
       "      <td>Y1308_VR330869</td>\n",
       "      <td>currently registered</td>\n",
       "      <td>Waldfrieden Outdoor Crew e.V.</td>\n",
       "      <td>None</td>\n",
       "      <td>Thuringia</td>\n",
       "    </tr>\n",
       "  </tbody>\n",
       "</table>\n",
       "</div>"
      ],
      "text/plain": [
       "         company_number        current_status  \\\n",
       "5305722  Y1301_VR300853  currently registered   \n",
       "5305723  Y1301_VR300854  currently registered   \n",
       "5305724  Y1302_VR320869  currently registered   \n",
       "5305725  Y1304_VR351602  currently registered   \n",
       "5305726  Y1308_VR330869  currently registered   \n",
       "\n",
       "                                                      name registered_address  \\\n",
       "5305722                              Recht auf Heimat e.V.               None   \n",
       "5305723  \"SEI LEBENSWERT - Verein für Gesundheitssport ...               None   \n",
       "5305724                       Kirmesverein Veilsdorf e. V.               None   \n",
       "5305725      \"Reha- und Gesundheitssport Brotterode e. V.\"               None   \n",
       "5305726                      Waldfrieden Outdoor Crew e.V.               None   \n",
       "\n",
       "        federal_state  \n",
       "5305722     Thuringia  \n",
       "5305723     Thuringia  \n",
       "5305724     Thuringia  \n",
       "5305725     Thuringia  \n",
       "5305726     Thuringia  "
      ]
     },
     "execution_count": 6,
     "metadata": {},
     "output_type": "execute_result"
    }
   ],
   "source": [
    "# See headers\n",
    "all_companies_de.tail()"
   ]
  },
  {
   "cell_type": "code",
   "execution_count": 7,
   "id": "5989468d",
   "metadata": {},
   "outputs": [
    {
     "data": {
      "text/plain": [
       "company_number        object\n",
       "current_status        object\n",
       "name                  object\n",
       "registered_address    object\n",
       "federal_state         object\n",
       "dtype: object"
      ]
     },
     "execution_count": 7,
     "metadata": {},
     "output_type": "execute_result"
    }
   ],
   "source": [
    "# See variables\n",
    "all_companies_de.dtypes"
   ]
  },
  {
   "cell_type": "markdown",
   "id": "fb9a4764",
   "metadata": {},
   "source": [
    "### 2.2 German population Bundesland"
   ]
  },
  {
   "cell_type": "markdown",
   "id": "24dc11b5",
   "metadata": {},
   "source": [
    "This dataset was downloaded from the [Kaggle](https://www.kaggle.com/datasets/ralfschukey/districts-and-towns-in-germany2019) community, however the original data owner is the [Statistisches Bundesamt](https://www.destatis.de/DE/Home/_inhalt.html), which is a federal authority of Germany responsible for collecting, processing, presenting, and analyzing statistical information concerning the topics of economy, society, and environment. This dataset contains the population, area, and population density numbers by gender for all German towns and districts released on 31.12.2018."
   ]
  },
  {
   "cell_type": "code",
   "execution_count": 3,
   "id": "a442cbe1",
   "metadata": {},
   "outputs": [],
   "source": [
    "# Read the CSV file with UTF-8 encoding\n",
    "# The encoding='utf-8' parameter ensures that the file is read in UTF-8 format, which supports German characters.\n",
    "population_de = pd.read_csv(os.path.join(path, '02_Data', 'Original_data', 'Districts and Towns in Germany 2019.csv'), encoding='utf-8')"
   ]
  },
  {
   "cell_type": "code",
   "execution_count": 4,
   "id": "cb93371b",
   "metadata": {},
   "outputs": [
    {
     "data": {
      "text/plain": [
       "(470, 9)"
      ]
     },
     "execution_count": 4,
     "metadata": {},
     "output_type": "execute_result"
    }
   ],
   "source": [
    "# See results\n",
    "population_de.shape"
   ]
  },
  {
   "cell_type": "code",
   "execution_count": 5,
   "id": "b1c43ce6",
   "metadata": {},
   "outputs": [
    {
     "data": {
      "text/html": [
       "<div>\n",
       "<style scoped>\n",
       "    .dataframe tbody tr th:only-of-type {\n",
       "        vertical-align: middle;\n",
       "    }\n",
       "\n",
       "    .dataframe tbody tr th {\n",
       "        vertical-align: top;\n",
       "    }\n",
       "\n",
       "    .dataframe thead th {\n",
       "        text-align: right;\n",
       "    }\n",
       "</style>\n",
       "<table border=\"1\" class=\"dataframe\">\n",
       "  <thead>\n",
       "    <tr style=\"text-align: right;\">\n",
       "      <th></th>\n",
       "      <th>Schlüsselnummer</th>\n",
       "      <th>Regionale Bezeichnung</th>\n",
       "      <th>Kreisfreie Stadt – Landkreis</th>\n",
       "      <th>NUTS3</th>\n",
       "      <th>Fläche in qkm</th>\n",
       "      <th>Bevölkerung</th>\n",
       "      <th>Bev.M</th>\n",
       "      <th>Bev.W</th>\n",
       "      <th>Bev.qkm</th>\n",
       "    </tr>\n",
       "  </thead>\n",
       "  <tbody>\n",
       "    <tr>\n",
       "      <th>0</th>\n",
       "      <td>0</td>\n",
       "      <td>Staat</td>\n",
       "      <td>Deutschland</td>\n",
       "      <td>NaN</td>\n",
       "      <td>357574.84</td>\n",
       "      <td>83019213.0</td>\n",
       "      <td>40966691.0</td>\n",
       "      <td>42052522.0</td>\n",
       "      <td>232.0</td>\n",
       "    </tr>\n",
       "    <tr>\n",
       "      <th>1</th>\n",
       "      <td>1</td>\n",
       "      <td>Bundesland</td>\n",
       "      <td>Schleswig-Holstein</td>\n",
       "      <td>NaN</td>\n",
       "      <td>15804.30</td>\n",
       "      <td>2896712.0</td>\n",
       "      <td>1419457.0</td>\n",
       "      <td>1477255.0</td>\n",
       "      <td>183.0</td>\n",
       "    </tr>\n",
       "    <tr>\n",
       "      <th>2</th>\n",
       "      <td>1001</td>\n",
       "      <td>Kreisfreie Stadt</td>\n",
       "      <td>Flensburg</td>\n",
       "      <td>DEF01</td>\n",
       "      <td>56.73</td>\n",
       "      <td>89504.0</td>\n",
       "      <td>44599.0</td>\n",
       "      <td>44905.0</td>\n",
       "      <td>1578.0</td>\n",
       "    </tr>\n",
       "    <tr>\n",
       "      <th>3</th>\n",
       "      <td>1002</td>\n",
       "      <td>Landeshauptstadt</td>\n",
       "      <td>Kiel</td>\n",
       "      <td>DEF02</td>\n",
       "      <td>118.65</td>\n",
       "      <td>247548.0</td>\n",
       "      <td>120566.0</td>\n",
       "      <td>126982.0</td>\n",
       "      <td>2086.0</td>\n",
       "    </tr>\n",
       "    <tr>\n",
       "      <th>4</th>\n",
       "      <td>1003</td>\n",
       "      <td>Hansestadt</td>\n",
       "      <td>Lübeck</td>\n",
       "      <td>DEF03</td>\n",
       "      <td>214.19</td>\n",
       "      <td>217198.0</td>\n",
       "      <td>104371.0</td>\n",
       "      <td>112827.0</td>\n",
       "      <td>1014.0</td>\n",
       "    </tr>\n",
       "  </tbody>\n",
       "</table>\n",
       "</div>"
      ],
      "text/plain": [
       "   Schlüsselnummer Regionale Bezeichnung Kreisfreie Stadt – Landkreis  NUTS3  \\\n",
       "0                0                 Staat                  Deutschland    NaN   \n",
       "1                1            Bundesland           Schleswig-Holstein    NaN   \n",
       "2             1001      Kreisfreie Stadt                    Flensburg  DEF01   \n",
       "3             1002      Landeshauptstadt                         Kiel  DEF02   \n",
       "4             1003            Hansestadt                       Lübeck  DEF03   \n",
       "\n",
       "   Fläche in qkm  Bevölkerung       Bev.M       Bev.W  Bev.qkm  \n",
       "0      357574.84   83019213.0  40966691.0  42052522.0    232.0  \n",
       "1       15804.30    2896712.0   1419457.0   1477255.0    183.0  \n",
       "2          56.73      89504.0     44599.0     44905.0   1578.0  \n",
       "3         118.65     247548.0    120566.0    126982.0   2086.0  \n",
       "4         214.19     217198.0    104371.0    112827.0   1014.0  "
      ]
     },
     "execution_count": 5,
     "metadata": {},
     "output_type": "execute_result"
    }
   ],
   "source": [
    "# See headers\n",
    "population_de.head()"
   ]
  },
  {
   "cell_type": "code",
   "execution_count": 6,
   "id": "a8ad2f68",
   "metadata": {},
   "outputs": [
    {
     "data": {
      "text/html": [
       "<div>\n",
       "<style scoped>\n",
       "    .dataframe tbody tr th:only-of-type {\n",
       "        vertical-align: middle;\n",
       "    }\n",
       "\n",
       "    .dataframe tbody tr th {\n",
       "        vertical-align: top;\n",
       "    }\n",
       "\n",
       "    .dataframe thead th {\n",
       "        text-align: right;\n",
       "    }\n",
       "</style>\n",
       "<table border=\"1\" class=\"dataframe\">\n",
       "  <thead>\n",
       "    <tr style=\"text-align: right;\">\n",
       "      <th></th>\n",
       "      <th>Schlüsselnummer</th>\n",
       "      <th>Regionale Bezeichnung</th>\n",
       "      <th>Kreisfreie Stadt – Landkreis</th>\n",
       "      <th>NUTS3</th>\n",
       "      <th>Fläche in qkm</th>\n",
       "      <th>Bevölkerung</th>\n",
       "      <th>Bev.M</th>\n",
       "      <th>Bev.W</th>\n",
       "      <th>Bev.qkm</th>\n",
       "    </tr>\n",
       "  </thead>\n",
       "  <tbody>\n",
       "    <tr>\n",
       "      <th>465</th>\n",
       "      <td>16073</td>\n",
       "      <td>Landkreis</td>\n",
       "      <td>Saalfeld-Rudolstadt</td>\n",
       "      <td>DEG0I</td>\n",
       "      <td>1036.03</td>\n",
       "      <td>106356.0</td>\n",
       "      <td>52388.0</td>\n",
       "      <td>53968.0</td>\n",
       "      <td>103.0</td>\n",
       "    </tr>\n",
       "    <tr>\n",
       "      <th>466</th>\n",
       "      <td>16074</td>\n",
       "      <td>Landkreis</td>\n",
       "      <td>Saale-Holzland-Kreis</td>\n",
       "      <td>DEG0J</td>\n",
       "      <td>815.24</td>\n",
       "      <td>83051.0</td>\n",
       "      <td>41360.0</td>\n",
       "      <td>41691.0</td>\n",
       "      <td>102.0</td>\n",
       "    </tr>\n",
       "    <tr>\n",
       "      <th>467</th>\n",
       "      <td>16075</td>\n",
       "      <td>Landkreis</td>\n",
       "      <td>Saale-Orla-Kreis</td>\n",
       "      <td>DEG0K</td>\n",
       "      <td>1151.30</td>\n",
       "      <td>80868.0</td>\n",
       "      <td>40119.0</td>\n",
       "      <td>40749.0</td>\n",
       "      <td>70.0</td>\n",
       "    </tr>\n",
       "    <tr>\n",
       "      <th>468</th>\n",
       "      <td>16076</td>\n",
       "      <td>Landkreis</td>\n",
       "      <td>Greiz</td>\n",
       "      <td>DEG0L</td>\n",
       "      <td>845.98</td>\n",
       "      <td>98159.0</td>\n",
       "      <td>48326.0</td>\n",
       "      <td>49833.0</td>\n",
       "      <td>116.0</td>\n",
       "    </tr>\n",
       "    <tr>\n",
       "      <th>469</th>\n",
       "      <td>16077</td>\n",
       "      <td>Landkreis</td>\n",
       "      <td>Altenburger Land</td>\n",
       "      <td>DEG0M</td>\n",
       "      <td>569.40</td>\n",
       "      <td>90118.0</td>\n",
       "      <td>44138.0</td>\n",
       "      <td>45980.0</td>\n",
       "      <td>158.0</td>\n",
       "    </tr>\n",
       "  </tbody>\n",
       "</table>\n",
       "</div>"
      ],
      "text/plain": [
       "     Schlüsselnummer Regionale Bezeichnung Kreisfreie Stadt – Landkreis  \\\n",
       "465            16073             Landkreis          Saalfeld-Rudolstadt   \n",
       "466            16074             Landkreis         Saale-Holzland-Kreis   \n",
       "467            16075             Landkreis             Saale-Orla-Kreis   \n",
       "468            16076             Landkreis                        Greiz   \n",
       "469            16077             Landkreis             Altenburger Land   \n",
       "\n",
       "     NUTS3  Fläche in qkm  Bevölkerung    Bev.M    Bev.W  Bev.qkm  \n",
       "465  DEG0I        1036.03     106356.0  52388.0  53968.0    103.0  \n",
       "466  DEG0J         815.24      83051.0  41360.0  41691.0    102.0  \n",
       "467  DEG0K        1151.30      80868.0  40119.0  40749.0     70.0  \n",
       "468  DEG0L         845.98      98159.0  48326.0  49833.0    116.0  \n",
       "469  DEG0M         569.40      90118.0  44138.0  45980.0    158.0  "
      ]
     },
     "execution_count": 6,
     "metadata": {},
     "output_type": "execute_result"
    }
   ],
   "source": [
    "# See headers\n",
    "population_de.tail()"
   ]
  },
  {
   "cell_type": "code",
   "execution_count": 7,
   "id": "1b151f62",
   "metadata": {},
   "outputs": [
    {
     "data": {
      "text/plain": [
       "Schlüsselnummer                   int64\n",
       "Regionale Bezeichnung            object\n",
       "Kreisfreie Stadt – Landkreis     object\n",
       "NUTS3                            object\n",
       "Fläche in qkm                   float64\n",
       "Bevölkerung                     float64\n",
       "Bev.M                           float64\n",
       "Bev.W                           float64\n",
       "Bev.qkm                         float64\n",
       "dtype: object"
      ]
     },
     "execution_count": 7,
     "metadata": {},
     "output_type": "execute_result"
    }
   ],
   "source": [
    "# See variables\n",
    "population_de.dtypes"
   ]
  },
  {
   "cell_type": "markdown",
   "id": "05c61009",
   "metadata": {},
   "source": [
    "## 2.3 German population regional"
   ]
  },
  {
   "cell_type": "markdown",
   "id": "fd05173d",
   "metadata": {},
   "source": [
    "I downloaded two files from [Postleitzahlen Deutschland](https://www.suche-postleitzahl.org/), containing postcode information in Germany. I later unified them by merging them using the postcode data as the key variable. These files were last updated on July 15, 2023, and are freely available under the [Open Database License](https://www.openstreetmap.org/copyright). Their source of raw data is linked to [OpenStreetMap](https://osmfoundation.org/) contributors. Population figures as the basis for calculations were originally extracted from the [Statistical Offices of the Federal Government and the States](https://www.statistikportal.de/de)."
   ]
  },
  {
   "cell_type": "markdown",
   "id": "833f818b",
   "metadata": {},
   "source": [
    "### 2.3.1 Habitants per postcode"
   ]
  },
  {
   "cell_type": "code",
   "execution_count": 3,
   "id": "cb4610c7",
   "metadata": {},
   "outputs": [],
   "source": [
    "# Read the CSV file with UTF-8 encoding\n",
    "# The encoding='utf-8' parameter ensures that the file is read in UTF-8 format, which supports German characters.\n",
    "plz_de = pd.read_csv(os.path.join(path,'02_Data', 'Original_data', 'plz_einwohner.csv'), dtype={'plz': object},  encoding='utf-8')"
   ]
  },
  {
   "cell_type": "code",
   "execution_count": 34,
   "id": "1431cefe",
   "metadata": {},
   "outputs": [
    {
     "data": {
      "text/plain": [
       "(8170, 6)"
      ]
     },
     "execution_count": 34,
     "metadata": {},
     "output_type": "execute_result"
    }
   ],
   "source": [
    "# See results\n",
    "plz_de.shape\n",
    "# The German 5-digit postal code database consists of 8699 areas\n",
    "# 8170 is close to the whole German postcode database"
   ]
  },
  {
   "cell_type": "code",
   "execution_count": 35,
   "id": "cc4620c6",
   "metadata": {},
   "outputs": [
    {
     "data": {
      "text/html": [
       "<div>\n",
       "<style scoped>\n",
       "    .dataframe tbody tr th:only-of-type {\n",
       "        vertical-align: middle;\n",
       "    }\n",
       "\n",
       "    .dataframe tbody tr th {\n",
       "        vertical-align: top;\n",
       "    }\n",
       "\n",
       "    .dataframe thead th {\n",
       "        text-align: right;\n",
       "    }\n",
       "</style>\n",
       "<table border=\"1\" class=\"dataframe\">\n",
       "  <thead>\n",
       "    <tr style=\"text-align: right;\">\n",
       "      <th></th>\n",
       "      <th>plz</th>\n",
       "      <th>note</th>\n",
       "      <th>einwohner</th>\n",
       "      <th>qkm</th>\n",
       "      <th>lat</th>\n",
       "      <th>lon</th>\n",
       "    </tr>\n",
       "  </thead>\n",
       "  <tbody>\n",
       "    <tr>\n",
       "      <th>0</th>\n",
       "      <td>01067</td>\n",
       "      <td>01067 Dresden</td>\n",
       "      <td>11957</td>\n",
       "      <td>6.866839</td>\n",
       "      <td>51.06019</td>\n",
       "      <td>13.71117</td>\n",
       "    </tr>\n",
       "    <tr>\n",
       "      <th>1</th>\n",
       "      <td>01069</td>\n",
       "      <td>01069 Dresden</td>\n",
       "      <td>25483</td>\n",
       "      <td>5.339213</td>\n",
       "      <td>51.03964</td>\n",
       "      <td>13.73030</td>\n",
       "    </tr>\n",
       "    <tr>\n",
       "      <th>2</th>\n",
       "      <td>01097</td>\n",
       "      <td>01097 Dresden</td>\n",
       "      <td>14821</td>\n",
       "      <td>3.298022</td>\n",
       "      <td>51.06945</td>\n",
       "      <td>13.73781</td>\n",
       "    </tr>\n",
       "    <tr>\n",
       "      <th>3</th>\n",
       "      <td>01099</td>\n",
       "      <td>01099 Dresden</td>\n",
       "      <td>28018</td>\n",
       "      <td>58.505818</td>\n",
       "      <td>51.09272</td>\n",
       "      <td>13.82842</td>\n",
       "    </tr>\n",
       "    <tr>\n",
       "      <th>4</th>\n",
       "      <td>01108</td>\n",
       "      <td>01108 Dresden</td>\n",
       "      <td>5876</td>\n",
       "      <td>16.447222</td>\n",
       "      <td>51.15180</td>\n",
       "      <td>13.79227</td>\n",
       "    </tr>\n",
       "  </tbody>\n",
       "</table>\n",
       "</div>"
      ],
      "text/plain": [
       "     plz           note  einwohner        qkm       lat       lon\n",
       "0  01067  01067 Dresden      11957   6.866839  51.06019  13.71117\n",
       "1  01069  01069 Dresden      25483   5.339213  51.03964  13.73030\n",
       "2  01097  01097 Dresden      14821   3.298022  51.06945  13.73781\n",
       "3  01099  01099 Dresden      28018  58.505818  51.09272  13.82842\n",
       "4  01108  01108 Dresden       5876  16.447222  51.15180  13.79227"
      ]
     },
     "execution_count": 35,
     "metadata": {},
     "output_type": "execute_result"
    }
   ],
   "source": [
    "# See headers\n",
    "plz_de.head()"
   ]
  },
  {
   "cell_type": "code",
   "execution_count": 36,
   "id": "28246970",
   "metadata": {},
   "outputs": [
    {
     "data": {
      "text/html": [
       "<div>\n",
       "<style scoped>\n",
       "    .dataframe tbody tr th:only-of-type {\n",
       "        vertical-align: middle;\n",
       "    }\n",
       "\n",
       "    .dataframe tbody tr th {\n",
       "        vertical-align: top;\n",
       "    }\n",
       "\n",
       "    .dataframe thead th {\n",
       "        text-align: right;\n",
       "    }\n",
       "</style>\n",
       "<table border=\"1\" class=\"dataframe\">\n",
       "  <thead>\n",
       "    <tr style=\"text-align: right;\">\n",
       "      <th></th>\n",
       "      <th>plz</th>\n",
       "      <th>note</th>\n",
       "      <th>einwohner</th>\n",
       "      <th>qkm</th>\n",
       "      <th>lat</th>\n",
       "      <th>lon</th>\n",
       "    </tr>\n",
       "  </thead>\n",
       "  <tbody>\n",
       "    <tr>\n",
       "      <th>8165</th>\n",
       "      <td>99988</td>\n",
       "      <td>99988 Südeichsfeld</td>\n",
       "      <td>4866</td>\n",
       "      <td>40.320629</td>\n",
       "      <td>51.17553</td>\n",
       "      <td>10.26564</td>\n",
       "    </tr>\n",
       "    <tr>\n",
       "      <th>8166</th>\n",
       "      <td>99991</td>\n",
       "      <td>99991 Unstrut-Hainich</td>\n",
       "      <td>5269</td>\n",
       "      <td>96.922943</td>\n",
       "      <td>51.12179</td>\n",
       "      <td>10.49575</td>\n",
       "    </tr>\n",
       "    <tr>\n",
       "      <th>8167</th>\n",
       "      <td>99994</td>\n",
       "      <td>99994 Marolterode, Nottertal-Heilinger Höhen</td>\n",
       "      <td>6384</td>\n",
       "      <td>81.700264</td>\n",
       "      <td>51.23117</td>\n",
       "      <td>10.66455</td>\n",
       "    </tr>\n",
       "    <tr>\n",
       "      <th>8168</th>\n",
       "      <td>99996</td>\n",
       "      <td>99996 Unstruttal</td>\n",
       "      <td>6751</td>\n",
       "      <td>100.496013</td>\n",
       "      <td>51.28005</td>\n",
       "      <td>10.43125</td>\n",
       "    </tr>\n",
       "    <tr>\n",
       "      <th>8169</th>\n",
       "      <td>99998</td>\n",
       "      <td>99998 Körner, Weinbergen</td>\n",
       "      <td>4942</td>\n",
       "      <td>74.291525</td>\n",
       "      <td>51.20936</td>\n",
       "      <td>10.56753</td>\n",
       "    </tr>\n",
       "  </tbody>\n",
       "</table>\n",
       "</div>"
      ],
      "text/plain": [
       "        plz                                          note  einwohner  \\\n",
       "8165  99988                            99988 Südeichsfeld       4866   \n",
       "8166  99991                         99991 Unstrut-Hainich       5269   \n",
       "8167  99994  99994 Marolterode, Nottertal-Heilinger Höhen       6384   \n",
       "8168  99996                              99996 Unstruttal       6751   \n",
       "8169  99998                      99998 Körner, Weinbergen       4942   \n",
       "\n",
       "             qkm       lat       lon  \n",
       "8165   40.320629  51.17553  10.26564  \n",
       "8166   96.922943  51.12179  10.49575  \n",
       "8167   81.700264  51.23117  10.66455  \n",
       "8168  100.496013  51.28005  10.43125  \n",
       "8169   74.291525  51.20936  10.56753  "
      ]
     },
     "execution_count": 36,
     "metadata": {},
     "output_type": "execute_result"
    }
   ],
   "source": [
    "# See headers\n",
    "plz_de.tail()"
   ]
  },
  {
   "cell_type": "code",
   "execution_count": 4,
   "id": "02b738cf",
   "metadata": {},
   "outputs": [
    {
     "data": {
      "text/plain": [
       "plz           object\n",
       "note          object\n",
       "einwohner      int64\n",
       "qkm          float64\n",
       "lat          float64\n",
       "lon          float64\n",
       "dtype: object"
      ]
     },
     "execution_count": 4,
     "metadata": {},
     "output_type": "execute_result"
    }
   ],
   "source": [
    "# See variables\n",
    "plz_de.dtypes"
   ]
  },
  {
   "cell_type": "markdown",
   "id": "075ec518",
   "metadata": {},
   "source": [
    "### 2.3.2 Regions per postcode"
   ]
  },
  {
   "cell_type": "code",
   "execution_count": 5,
   "id": "b757aaf0",
   "metadata": {},
   "outputs": [],
   "source": [
    "# Read the CSV file with UTF-8 encoding\n",
    "# The encoding='utf-8' parameter ensures that the file is read in UTF-8 format, which supports German characters.\n",
    "ort_de = pd.read_csv(os.path.join(path,'02_Data', 'Original_data', 'zuordnung_plz_ort.csv'), dtype={'plz': object},  encoding='utf-8')"
   ]
  },
  {
   "cell_type": "code",
   "execution_count": 53,
   "id": "cedb8322",
   "metadata": {},
   "outputs": [
    {
     "data": {
      "text/plain": [
       "(12854, 6)"
      ]
     },
     "execution_count": 53,
     "metadata": {},
     "output_type": "execute_result"
    }
   ],
   "source": [
    "# See results\n",
    "ort_de.shape\n",
    "# Here, there are more postcodes listed as compared to our plz_de df\n",
    "# This is expected as some German poscodes are associated to several places, \n",
    "# in our ort_de those place will be listed under the city variable\n",
    "# however consistently the same postcode is related within the same \"landkreis\" or region level as well as bundesland level"
   ]
  },
  {
   "cell_type": "code",
   "execution_count": 54,
   "id": "cd8f3914",
   "metadata": {},
   "outputs": [
    {
     "data": {
      "text/html": [
       "<div>\n",
       "<style scoped>\n",
       "    .dataframe tbody tr th:only-of-type {\n",
       "        vertical-align: middle;\n",
       "    }\n",
       "\n",
       "    .dataframe tbody tr th {\n",
       "        vertical-align: top;\n",
       "    }\n",
       "\n",
       "    .dataframe thead th {\n",
       "        text-align: right;\n",
       "    }\n",
       "</style>\n",
       "<table border=\"1\" class=\"dataframe\">\n",
       "  <thead>\n",
       "    <tr style=\"text-align: right;\">\n",
       "      <th></th>\n",
       "      <th>osm_id</th>\n",
       "      <th>ags</th>\n",
       "      <th>ort</th>\n",
       "      <th>plz</th>\n",
       "      <th>landkreis</th>\n",
       "      <th>bundesland</th>\n",
       "    </tr>\n",
       "  </thead>\n",
       "  <tbody>\n",
       "    <tr>\n",
       "      <th>0</th>\n",
       "      <td>1104550</td>\n",
       "      <td>8335001</td>\n",
       "      <td>Aach</td>\n",
       "      <td>78267</td>\n",
       "      <td>Landkreis Konstanz</td>\n",
       "      <td>Baden-Württemberg</td>\n",
       "    </tr>\n",
       "    <tr>\n",
       "      <th>1</th>\n",
       "      <td>1255910</td>\n",
       "      <td>7235001</td>\n",
       "      <td>Aach</td>\n",
       "      <td>54298</td>\n",
       "      <td>Landkreis Trier-Saarburg</td>\n",
       "      <td>Rheinland-Pfalz</td>\n",
       "    </tr>\n",
       "    <tr>\n",
       "      <th>2</th>\n",
       "      <td>62564</td>\n",
       "      <td>5334002</td>\n",
       "      <td>Aachen</td>\n",
       "      <td>52062</td>\n",
       "      <td>Städteregion Aachen</td>\n",
       "      <td>Nordrhein-Westfalen</td>\n",
       "    </tr>\n",
       "    <tr>\n",
       "      <th>3</th>\n",
       "      <td>62564</td>\n",
       "      <td>5334002</td>\n",
       "      <td>Aachen</td>\n",
       "      <td>52064</td>\n",
       "      <td>Städteregion Aachen</td>\n",
       "      <td>Nordrhein-Westfalen</td>\n",
       "    </tr>\n",
       "    <tr>\n",
       "      <th>4</th>\n",
       "      <td>62564</td>\n",
       "      <td>5334002</td>\n",
       "      <td>Aachen</td>\n",
       "      <td>52066</td>\n",
       "      <td>Städteregion Aachen</td>\n",
       "      <td>Nordrhein-Westfalen</td>\n",
       "    </tr>\n",
       "  </tbody>\n",
       "</table>\n",
       "</div>"
      ],
      "text/plain": [
       "    osm_id      ags     ort    plz                 landkreis  \\\n",
       "0  1104550  8335001    Aach  78267        Landkreis Konstanz   \n",
       "1  1255910  7235001    Aach  54298  Landkreis Trier-Saarburg   \n",
       "2    62564  5334002  Aachen  52062       Städteregion Aachen   \n",
       "3    62564  5334002  Aachen  52064       Städteregion Aachen   \n",
       "4    62564  5334002  Aachen  52066       Städteregion Aachen   \n",
       "\n",
       "            bundesland  \n",
       "0    Baden-Württemberg  \n",
       "1      Rheinland-Pfalz  \n",
       "2  Nordrhein-Westfalen  \n",
       "3  Nordrhein-Westfalen  \n",
       "4  Nordrhein-Westfalen  "
      ]
     },
     "execution_count": 54,
     "metadata": {},
     "output_type": "execute_result"
    }
   ],
   "source": [
    "# See headers\n",
    "ort_de.head()"
   ]
  },
  {
   "cell_type": "code",
   "execution_count": 55,
   "id": "17b6ae76",
   "metadata": {},
   "outputs": [
    {
     "data": {
      "text/html": [
       "<div>\n",
       "<style scoped>\n",
       "    .dataframe tbody tr th:only-of-type {\n",
       "        vertical-align: middle;\n",
       "    }\n",
       "\n",
       "    .dataframe tbody tr th {\n",
       "        vertical-align: top;\n",
       "    }\n",
       "\n",
       "    .dataframe thead th {\n",
       "        text-align: right;\n",
       "    }\n",
       "</style>\n",
       "<table border=\"1\" class=\"dataframe\">\n",
       "  <thead>\n",
       "    <tr style=\"text-align: right;\">\n",
       "      <th></th>\n",
       "      <th>osm_id</th>\n",
       "      <th>ags</th>\n",
       "      <th>ort</th>\n",
       "      <th>plz</th>\n",
       "      <th>landkreis</th>\n",
       "      <th>bundesland</th>\n",
       "    </tr>\n",
       "  </thead>\n",
       "  <tbody>\n",
       "    <tr>\n",
       "      <th>12849</th>\n",
       "      <td>2778122</td>\n",
       "      <td>8415085</td>\n",
       "      <td>Zwiefalten</td>\n",
       "      <td>88529</td>\n",
       "      <td>Landkreis Reutlingen</td>\n",
       "      <td>Baden-Württemberg</td>\n",
       "    </tr>\n",
       "    <tr>\n",
       "      <th>12850</th>\n",
       "      <td>959161</td>\n",
       "      <td>9276148</td>\n",
       "      <td>Zwiesel</td>\n",
       "      <td>94227</td>\n",
       "      <td>Landkreis Regen</td>\n",
       "      <td>Bayern</td>\n",
       "    </tr>\n",
       "    <tr>\n",
       "      <th>12851</th>\n",
       "      <td>403750</td>\n",
       "      <td>8225113</td>\n",
       "      <td>Zwingenberg</td>\n",
       "      <td>69439</td>\n",
       "      <td>Neckar-Odenwald-Kreis</td>\n",
       "      <td>Baden-Württemberg</td>\n",
       "    </tr>\n",
       "    <tr>\n",
       "      <th>12852</th>\n",
       "      <td>537054</td>\n",
       "      <td>6431022</td>\n",
       "      <td>Zwingenberg</td>\n",
       "      <td>64673</td>\n",
       "      <td>Kreis Bergstraße</td>\n",
       "      <td>Hessen</td>\n",
       "    </tr>\n",
       "    <tr>\n",
       "      <th>12853</th>\n",
       "      <td>536015</td>\n",
       "      <td>14521710</td>\n",
       "      <td>Zwönitz</td>\n",
       "      <td>08297</td>\n",
       "      <td>Erzgebirgskreis</td>\n",
       "      <td>Sachsen</td>\n",
       "    </tr>\n",
       "  </tbody>\n",
       "</table>\n",
       "</div>"
      ],
      "text/plain": [
       "        osm_id       ags          ort    plz              landkreis  \\\n",
       "12849  2778122   8415085   Zwiefalten  88529   Landkreis Reutlingen   \n",
       "12850   959161   9276148      Zwiesel  94227        Landkreis Regen   \n",
       "12851   403750   8225113  Zwingenberg  69439  Neckar-Odenwald-Kreis   \n",
       "12852   537054   6431022  Zwingenberg  64673       Kreis Bergstraße   \n",
       "12853   536015  14521710      Zwönitz  08297        Erzgebirgskreis   \n",
       "\n",
       "              bundesland  \n",
       "12849  Baden-Württemberg  \n",
       "12850             Bayern  \n",
       "12851  Baden-Württemberg  \n",
       "12852             Hessen  \n",
       "12853            Sachsen  "
      ]
     },
     "execution_count": 55,
     "metadata": {},
     "output_type": "execute_result"
    }
   ],
   "source": [
    "# See headers\n",
    "ort_de.tail()"
   ]
  },
  {
   "cell_type": "code",
   "execution_count": 6,
   "id": "cb4972c9",
   "metadata": {},
   "outputs": [
    {
     "data": {
      "text/plain": [
       "osm_id         int64\n",
       "ags            int64\n",
       "ort           object\n",
       "plz           object\n",
       "landkreis     object\n",
       "bundesland    object\n",
       "dtype: object"
      ]
     },
     "execution_count": 6,
     "metadata": {},
     "output_type": "execute_result"
    }
   ],
   "source": [
    "# See variables\n",
    "ort_de.dtypes"
   ]
  },
  {
   "cell_type": "markdown",
   "id": "01915c77",
   "metadata": {},
   "source": [
    "# 3. Data wrangling and consistency checks"
   ]
  },
  {
   "cell_type": "markdown",
   "id": "8aef1aaf",
   "metadata": {},
   "source": [
    "## 3.1 German companies"
   ]
  },
  {
   "cell_type": "code",
   "execution_count": 8,
   "id": "aad6a2d7",
   "metadata": {},
   "outputs": [
    {
     "data": {
      "text/html": [
       "<div>\n",
       "<style scoped>\n",
       "    .dataframe tbody tr th:only-of-type {\n",
       "        vertical-align: middle;\n",
       "    }\n",
       "\n",
       "    .dataframe tbody tr th {\n",
       "        vertical-align: top;\n",
       "    }\n",
       "\n",
       "    .dataframe thead th {\n",
       "        text-align: right;\n",
       "    }\n",
       "</style>\n",
       "<table border=\"1\" class=\"dataframe\">\n",
       "  <thead>\n",
       "    <tr style=\"text-align: right;\">\n",
       "      <th></th>\n",
       "      <th>company_number</th>\n",
       "      <th>current_status</th>\n",
       "      <th>name</th>\n",
       "      <th>registered_address</th>\n",
       "      <th>federal_state</th>\n",
       "    </tr>\n",
       "  </thead>\n",
       "  <tbody>\n",
       "    <tr>\n",
       "      <th>0</th>\n",
       "      <td>K1101R_HRB150148</td>\n",
       "      <td>currently registered</td>\n",
       "      <td>olly UG (haftungsbeschränkt)</td>\n",
       "      <td>Waidmannstraße 1, 22769 Hamburg.</td>\n",
       "      <td>Hamburg</td>\n",
       "    </tr>\n",
       "    <tr>\n",
       "      <th>1</th>\n",
       "      <td>R1101_HRB81092</td>\n",
       "      <td>currently registered</td>\n",
       "      <td>BLUECHILLED Verwaltungs GmbH</td>\n",
       "      <td>Oststr.</td>\n",
       "      <td>North Rhine-Westphalia</td>\n",
       "    </tr>\n",
       "    <tr>\n",
       "      <th>2</th>\n",
       "      <td>H1101_H1101_HRB18423</td>\n",
       "      <td>currently registered</td>\n",
       "      <td>Mittelständische Beteiligungsgesellschaft Brem...</td>\n",
       "      <td>Langenstraße 2-4, 28195 Bremen.</td>\n",
       "      <td>Bremen</td>\n",
       "    </tr>\n",
       "    <tr>\n",
       "      <th>3</th>\n",
       "      <td>R1101_HRB45109</td>\n",
       "      <td>currently registered</td>\n",
       "      <td>Albert Barufe GmbH</td>\n",
       "      <td>Hans-Sachs-Straße 11, 40721 Hilden.</td>\n",
       "      <td>North Rhine-Westphalia</td>\n",
       "    </tr>\n",
       "    <tr>\n",
       "      <th>4</th>\n",
       "      <td>R1101_HRB37996</td>\n",
       "      <td>currently registered</td>\n",
       "      <td>ITERGO Informationstechnologie GmbH</td>\n",
       "      <td>ERGO-Platz 1, 40477 Düsseldorf.</td>\n",
       "      <td>North Rhine-Westphalia</td>\n",
       "    </tr>\n",
       "  </tbody>\n",
       "</table>\n",
       "</div>"
      ],
      "text/plain": [
       "         company_number        current_status  \\\n",
       "0      K1101R_HRB150148  currently registered   \n",
       "1        R1101_HRB81092  currently registered   \n",
       "2  H1101_H1101_HRB18423  currently registered   \n",
       "3        R1101_HRB45109  currently registered   \n",
       "4        R1101_HRB37996  currently registered   \n",
       "\n",
       "                                                name  \\\n",
       "0                       olly UG (haftungsbeschränkt)   \n",
       "1                       BLUECHILLED Verwaltungs GmbH   \n",
       "2  Mittelständische Beteiligungsgesellschaft Brem...   \n",
       "3                                 Albert Barufe GmbH   \n",
       "4                ITERGO Informationstechnologie GmbH   \n",
       "\n",
       "                    registered_address           federal_state  \n",
       "0     Waidmannstraße 1, 22769 Hamburg.                 Hamburg  \n",
       "1                              Oststr.  North Rhine-Westphalia  \n",
       "2      Langenstraße 2-4, 28195 Bremen.                  Bremen  \n",
       "3  Hans-Sachs-Straße 11, 40721 Hilden.  North Rhine-Westphalia  \n",
       "4      ERGO-Platz 1, 40477 Düsseldorf.  North Rhine-Westphalia  "
      ]
     },
     "execution_count": 8,
     "metadata": {},
     "output_type": "execute_result"
    }
   ],
   "source": [
    "# See headers\n",
    "all_companies_de.head()"
   ]
  },
  {
   "cell_type": "markdown",
   "id": "36adadb8",
   "metadata": {},
   "source": [
    "### Renaming columns"
   ]
  },
  {
   "cell_type": "code",
   "execution_count": 9,
   "id": "b4acf3da",
   "metadata": {},
   "outputs": [],
   "source": [
    "# Rename variable using df.rename(columns = {'old_name' : 'new_name'}, inplace = True)\n",
    "all_companies_de.rename(columns = {'federal_state' : 'bundesland_en'}, inplace = True)"
   ]
  },
  {
   "cell_type": "code",
   "execution_count": 10,
   "id": "a2b7bedd",
   "metadata": {},
   "outputs": [],
   "source": [
    "# Rename variable using df.rename(columns = {'old_name' : 'new_name'}, inplace = True)\n",
    "all_companies_de.rename(columns = {'name' : 'company_name'}, inplace = True)"
   ]
  },
  {
   "cell_type": "code",
   "execution_count": 11,
   "id": "563a00e2",
   "metadata": {},
   "outputs": [
    {
     "data": {
      "text/html": [
       "<div>\n",
       "<style scoped>\n",
       "    .dataframe tbody tr th:only-of-type {\n",
       "        vertical-align: middle;\n",
       "    }\n",
       "\n",
       "    .dataframe tbody tr th {\n",
       "        vertical-align: top;\n",
       "    }\n",
       "\n",
       "    .dataframe thead th {\n",
       "        text-align: right;\n",
       "    }\n",
       "</style>\n",
       "<table border=\"1\" class=\"dataframe\">\n",
       "  <thead>\n",
       "    <tr style=\"text-align: right;\">\n",
       "      <th></th>\n",
       "      <th>company_number</th>\n",
       "      <th>current_status</th>\n",
       "      <th>company_name</th>\n",
       "      <th>registered_address</th>\n",
       "      <th>bundesland_en</th>\n",
       "    </tr>\n",
       "  </thead>\n",
       "  <tbody>\n",
       "    <tr>\n",
       "      <th>0</th>\n",
       "      <td>K1101R_HRB150148</td>\n",
       "      <td>currently registered</td>\n",
       "      <td>olly UG (haftungsbeschränkt)</td>\n",
       "      <td>Waidmannstraße 1, 22769 Hamburg.</td>\n",
       "      <td>Hamburg</td>\n",
       "    </tr>\n",
       "    <tr>\n",
       "      <th>1</th>\n",
       "      <td>R1101_HRB81092</td>\n",
       "      <td>currently registered</td>\n",
       "      <td>BLUECHILLED Verwaltungs GmbH</td>\n",
       "      <td>Oststr.</td>\n",
       "      <td>North Rhine-Westphalia</td>\n",
       "    </tr>\n",
       "    <tr>\n",
       "      <th>2</th>\n",
       "      <td>H1101_H1101_HRB18423</td>\n",
       "      <td>currently registered</td>\n",
       "      <td>Mittelständische Beteiligungsgesellschaft Brem...</td>\n",
       "      <td>Langenstraße 2-4, 28195 Bremen.</td>\n",
       "      <td>Bremen</td>\n",
       "    </tr>\n",
       "    <tr>\n",
       "      <th>3</th>\n",
       "      <td>R1101_HRB45109</td>\n",
       "      <td>currently registered</td>\n",
       "      <td>Albert Barufe GmbH</td>\n",
       "      <td>Hans-Sachs-Straße 11, 40721 Hilden.</td>\n",
       "      <td>North Rhine-Westphalia</td>\n",
       "    </tr>\n",
       "    <tr>\n",
       "      <th>4</th>\n",
       "      <td>R1101_HRB37996</td>\n",
       "      <td>currently registered</td>\n",
       "      <td>ITERGO Informationstechnologie GmbH</td>\n",
       "      <td>ERGO-Platz 1, 40477 Düsseldorf.</td>\n",
       "      <td>North Rhine-Westphalia</td>\n",
       "    </tr>\n",
       "  </tbody>\n",
       "</table>\n",
       "</div>"
      ],
      "text/plain": [
       "         company_number        current_status  \\\n",
       "0      K1101R_HRB150148  currently registered   \n",
       "1        R1101_HRB81092  currently registered   \n",
       "2  H1101_H1101_HRB18423  currently registered   \n",
       "3        R1101_HRB45109  currently registered   \n",
       "4        R1101_HRB37996  currently registered   \n",
       "\n",
       "                                        company_name  \\\n",
       "0                       olly UG (haftungsbeschränkt)   \n",
       "1                       BLUECHILLED Verwaltungs GmbH   \n",
       "2  Mittelständische Beteiligungsgesellschaft Brem...   \n",
       "3                                 Albert Barufe GmbH   \n",
       "4                ITERGO Informationstechnologie GmbH   \n",
       "\n",
       "                    registered_address           bundesland_en  \n",
       "0     Waidmannstraße 1, 22769 Hamburg.                 Hamburg  \n",
       "1                              Oststr.  North Rhine-Westphalia  \n",
       "2      Langenstraße 2-4, 28195 Bremen.                  Bremen  \n",
       "3  Hans-Sachs-Straße 11, 40721 Hilden.  North Rhine-Westphalia  \n",
       "4      ERGO-Platz 1, 40477 Düsseldorf.  North Rhine-Westphalia  "
      ]
     },
     "execution_count": 11,
     "metadata": {},
     "output_type": "execute_result"
    }
   ],
   "source": [
    "# See results\n",
    "all_companies_de.head()"
   ]
  },
  {
   "cell_type": "markdown",
   "id": "bf779f70",
   "metadata": {},
   "source": [
    "### Subsetting companies"
   ]
  },
  {
   "cell_type": "markdown",
   "id": "461c456f",
   "metadata": {},
   "source": [
    "The value \"currently registered\" within the column \"current_status\" refers to companies that were active as of January 2019, the release date of the dataset. These are the companies of our interest that I will select for my subsequent analysis. "
   ]
  },
  {
   "cell_type": "code",
   "execution_count": 12,
   "id": "66457126",
   "metadata": {},
   "outputs": [
    {
     "data": {
      "text/plain": [
       "current_status\n",
       "removed                 2912209\n",
       "currently registered    2393517\n",
       "None                          1\n",
       "Name: count, dtype: int64"
      ]
     },
     "execution_count": 12,
     "metadata": {},
     "output_type": "execute_result"
    }
   ],
   "source": [
    "# Subsetting for currently registered companies\n",
    "# Checking values within the \"current_status\" variable\n",
    "all_companies_de['current_status'].value_counts(dropna = False)\n",
    "# companies with the status 'removed' are companies that are not longer active\n",
    "# 2.3 M companies are active = \"currently_registered\""
   ]
  },
  {
   "cell_type": "code",
   "execution_count": 13,
   "id": "6f94d1cc",
   "metadata": {},
   "outputs": [],
   "source": [
    "#Creating a subset to select only companies currently registered \n",
    "companies_reg =  all_companies_de[all_companies_de['current_status']=='currently registered']"
   ]
  },
  {
   "cell_type": "code",
   "execution_count": 14,
   "id": "f3db24d8",
   "metadata": {},
   "outputs": [
    {
     "data": {
      "text/plain": [
       "(2393517, 5)"
      ]
     },
     "execution_count": 14,
     "metadata": {},
     "output_type": "execute_result"
    }
   ],
   "source": [
    "# See results\n",
    "companies_reg.shape\n",
    "# the output is as expected 2.3M companies are currently (= as in January 2019, the most uptodate data) registered "
   ]
  },
  {
   "cell_type": "markdown",
   "id": "02c1296a",
   "metadata": {},
   "source": [
    "### Deriving labor and cancer columns"
   ]
  },
  {
   "cell_type": "markdown",
   "id": "597b0a4b",
   "metadata": {},
   "source": [
    "Selecting companies that specialize in providing laboratory diagnostic services and cancer-related diagnostic services. These are the type of companies that our client LaborDE is interested on. Here, I will select companies whose names contain specific keywords in the \"company_name\" variable. These keywords include:\n",
    "\n",
    "* Create a variable named \"labor\" and assign 1 if the \"company_name\" contains the below descriptions, else assign 0:\n",
    "   * 'laborat': To identify all companies involved in laboratory activities.\n",
    "   * 'diagnosti', 'analytik', 'medizin': To pinpoint companies engaged in laboratory diagnostics services.\n",
    "* Create a variable named \"cancer\" and assign 1 if the \"company_name\" contains the below descriptions, else assign 0:\n",
    "   * 'kreb', 'cancer', 'onkolog': To identify companies related to cancer research, diagnostics, or services.\n",
    "\n",
    "This refined approach allows for a more targeted selection of companies that meet our criteria for laboratory diagnostics services and ensures that they are currently registered based on the dataset's release date."
   ]
  },
  {
   "cell_type": "code",
   "execution_count": 15,
   "id": "434c04e5",
   "metadata": {},
   "outputs": [
    {
     "name": "stderr",
     "output_type": "stream",
     "text": [
      "C:\\Users\\Ich\\AppData\\Local\\Temp\\ipykernel_2812\\889256663.py:2: SettingWithCopyWarning: \n",
      "A value is trying to be set on a copy of a slice from a DataFrame.\n",
      "Try using .loc[row_indexer,col_indexer] = value instead\n",
      "\n",
      "See the caveats in the documentation: https://pandas.pydata.org/pandas-docs/stable/user_guide/indexing.html#returning-a-view-versus-a-copy\n",
      "  companies_reg.loc[:, 'labor'] = companies_reg['company_name'].str.contains(r'labor|diagnosti|analytik|medizin', case=False, regex=True).astype(int)\n"
     ]
    }
   ],
   "source": [
    "# Adding the \"labor\" variable\n",
    "companies_reg.loc[:, 'labor'] = companies_reg['company_name'].str.contains(r'labor|diagnosti|analytik|medizin', case=False, regex=True).astype(int)"
   ]
  },
  {
   "cell_type": "code",
   "execution_count": 16,
   "id": "b2041e63",
   "metadata": {},
   "outputs": [
    {
     "name": "stderr",
     "output_type": "stream",
     "text": [
      "C:\\Users\\Ich\\AppData\\Local\\Temp\\ipykernel_2812\\3391870659.py:2: SettingWithCopyWarning: \n",
      "A value is trying to be set on a copy of a slice from a DataFrame.\n",
      "Try using .loc[row_indexer,col_indexer] = value instead\n",
      "\n",
      "See the caveats in the documentation: https://pandas.pydata.org/pandas-docs/stable/user_guide/indexing.html#returning-a-view-versus-a-copy\n",
      "  companies_reg.loc[:, 'cancer'] = companies_reg['company_name'].str.contains(r'kreb|cancer|onkolog', case=False, regex=True).astype(int)\n"
     ]
    }
   ],
   "source": [
    "# Adding the \"cancer\" variable\n",
    "companies_reg.loc[:, 'cancer'] = companies_reg['company_name'].str.contains(r'kreb|cancer|onkolog', case=False, regex=True).astype(int)"
   ]
  },
  {
   "cell_type": "code",
   "execution_count": 17,
   "id": "795e7de1",
   "metadata": {},
   "outputs": [
    {
     "data": {
      "text/html": [
       "<div>\n",
       "<style scoped>\n",
       "    .dataframe tbody tr th:only-of-type {\n",
       "        vertical-align: middle;\n",
       "    }\n",
       "\n",
       "    .dataframe tbody tr th {\n",
       "        vertical-align: top;\n",
       "    }\n",
       "\n",
       "    .dataframe thead th {\n",
       "        text-align: right;\n",
       "    }\n",
       "</style>\n",
       "<table border=\"1\" class=\"dataframe\">\n",
       "  <thead>\n",
       "    <tr style=\"text-align: right;\">\n",
       "      <th></th>\n",
       "      <th>company_number</th>\n",
       "      <th>current_status</th>\n",
       "      <th>company_name</th>\n",
       "      <th>registered_address</th>\n",
       "      <th>bundesland_en</th>\n",
       "      <th>labor</th>\n",
       "      <th>cancer</th>\n",
       "    </tr>\n",
       "  </thead>\n",
       "  <tbody>\n",
       "    <tr>\n",
       "      <th>0</th>\n",
       "      <td>K1101R_HRB150148</td>\n",
       "      <td>currently registered</td>\n",
       "      <td>olly UG (haftungsbeschränkt)</td>\n",
       "      <td>Waidmannstraße 1, 22769 Hamburg.</td>\n",
       "      <td>Hamburg</td>\n",
       "      <td>0</td>\n",
       "      <td>0</td>\n",
       "    </tr>\n",
       "    <tr>\n",
       "      <th>1</th>\n",
       "      <td>R1101_HRB81092</td>\n",
       "      <td>currently registered</td>\n",
       "      <td>BLUECHILLED Verwaltungs GmbH</td>\n",
       "      <td>Oststr.</td>\n",
       "      <td>North Rhine-Westphalia</td>\n",
       "      <td>0</td>\n",
       "      <td>0</td>\n",
       "    </tr>\n",
       "    <tr>\n",
       "      <th>2</th>\n",
       "      <td>H1101_H1101_HRB18423</td>\n",
       "      <td>currently registered</td>\n",
       "      <td>Mittelständische Beteiligungsgesellschaft Brem...</td>\n",
       "      <td>Langenstraße 2-4, 28195 Bremen.</td>\n",
       "      <td>Bremen</td>\n",
       "      <td>0</td>\n",
       "      <td>0</td>\n",
       "    </tr>\n",
       "    <tr>\n",
       "      <th>3</th>\n",
       "      <td>R1101_HRB45109</td>\n",
       "      <td>currently registered</td>\n",
       "      <td>Albert Barufe GmbH</td>\n",
       "      <td>Hans-Sachs-Straße 11, 40721 Hilden.</td>\n",
       "      <td>North Rhine-Westphalia</td>\n",
       "      <td>0</td>\n",
       "      <td>0</td>\n",
       "    </tr>\n",
       "    <tr>\n",
       "      <th>4</th>\n",
       "      <td>R1101_HRB37996</td>\n",
       "      <td>currently registered</td>\n",
       "      <td>ITERGO Informationstechnologie GmbH</td>\n",
       "      <td>ERGO-Platz 1, 40477 Düsseldorf.</td>\n",
       "      <td>North Rhine-Westphalia</td>\n",
       "      <td>0</td>\n",
       "      <td>0</td>\n",
       "    </tr>\n",
       "  </tbody>\n",
       "</table>\n",
       "</div>"
      ],
      "text/plain": [
       "         company_number        current_status  \\\n",
       "0      K1101R_HRB150148  currently registered   \n",
       "1        R1101_HRB81092  currently registered   \n",
       "2  H1101_H1101_HRB18423  currently registered   \n",
       "3        R1101_HRB45109  currently registered   \n",
       "4        R1101_HRB37996  currently registered   \n",
       "\n",
       "                                        company_name  \\\n",
       "0                       olly UG (haftungsbeschränkt)   \n",
       "1                       BLUECHILLED Verwaltungs GmbH   \n",
       "2  Mittelständische Beteiligungsgesellschaft Brem...   \n",
       "3                                 Albert Barufe GmbH   \n",
       "4                ITERGO Informationstechnologie GmbH   \n",
       "\n",
       "                    registered_address           bundesland_en  labor  cancer  \n",
       "0     Waidmannstraße 1, 22769 Hamburg.                 Hamburg      0       0  \n",
       "1                              Oststr.  North Rhine-Westphalia      0       0  \n",
       "2      Langenstraße 2-4, 28195 Bremen.                  Bremen      0       0  \n",
       "3  Hans-Sachs-Straße 11, 40721 Hilden.  North Rhine-Westphalia      0       0  \n",
       "4      ERGO-Platz 1, 40477 Düsseldorf.  North Rhine-Westphalia      0       0  "
      ]
     },
     "execution_count": 17,
     "metadata": {},
     "output_type": "execute_result"
    }
   ],
   "source": [
    "# See results\n",
    "companies_reg.head()"
   ]
  },
  {
   "cell_type": "code",
   "execution_count": 18,
   "id": "b5b393cf",
   "metadata": {},
   "outputs": [
    {
     "data": {
      "text/plain": [
       "labor\n",
       "0    2383502\n",
       "1      10015\n",
       "Name: count, dtype: int64"
      ]
     },
     "execution_count": 18,
     "metadata": {},
     "output_type": "execute_result"
    }
   ],
   "source": [
    "# Total number of laboratories that can be potential customers for our LaborDE client = 10015\n",
    "companies_reg['labor'].value_counts(dropna = False)"
   ]
  },
  {
   "cell_type": "code",
   "execution_count": 19,
   "id": "d4e7988b",
   "metadata": {},
   "outputs": [
    {
     "data": {
      "text/plain": [
       "cancer\n",
       "0    2392305\n",
       "1       1212\n",
       "Name: count, dtype: int64"
      ]
     },
     "execution_count": 19,
     "metadata": {},
     "output_type": "execute_result"
    }
   ],
   "source": [
    "# Total number of cancer related companies that can be potential customers for our LaborDE client = 1212\n",
    "companies_reg['cancer'].value_counts(dropna = False)"
   ]
  },
  {
   "cell_type": "markdown",
   "id": "71b4e87e",
   "metadata": {},
   "source": [
    "### Dropping columns"
   ]
  },
  {
   "cell_type": "code",
   "execution_count": 20,
   "id": "118545bf",
   "metadata": {},
   "outputs": [],
   "source": [
    "# Dropping the \"current_status\" column, there is no need of this variable anymore\n",
    "# Dropping function with function df.drop(columns = ['variable'])\n",
    "companies_reg = companies_reg.drop(columns = ['current_status'])"
   ]
  },
  {
   "cell_type": "code",
   "execution_count": 21,
   "id": "834bdbc2",
   "metadata": {},
   "outputs": [
    {
     "data": {
      "text/html": [
       "<div>\n",
       "<style scoped>\n",
       "    .dataframe tbody tr th:only-of-type {\n",
       "        vertical-align: middle;\n",
       "    }\n",
       "\n",
       "    .dataframe tbody tr th {\n",
       "        vertical-align: top;\n",
       "    }\n",
       "\n",
       "    .dataframe thead th {\n",
       "        text-align: right;\n",
       "    }\n",
       "</style>\n",
       "<table border=\"1\" class=\"dataframe\">\n",
       "  <thead>\n",
       "    <tr style=\"text-align: right;\">\n",
       "      <th></th>\n",
       "      <th>company_number</th>\n",
       "      <th>company_name</th>\n",
       "      <th>registered_address</th>\n",
       "      <th>bundesland_en</th>\n",
       "      <th>labor</th>\n",
       "      <th>cancer</th>\n",
       "    </tr>\n",
       "  </thead>\n",
       "  <tbody>\n",
       "    <tr>\n",
       "      <th>0</th>\n",
       "      <td>K1101R_HRB150148</td>\n",
       "      <td>olly UG (haftungsbeschränkt)</td>\n",
       "      <td>Waidmannstraße 1, 22769 Hamburg.</td>\n",
       "      <td>Hamburg</td>\n",
       "      <td>0</td>\n",
       "      <td>0</td>\n",
       "    </tr>\n",
       "    <tr>\n",
       "      <th>1</th>\n",
       "      <td>R1101_HRB81092</td>\n",
       "      <td>BLUECHILLED Verwaltungs GmbH</td>\n",
       "      <td>Oststr.</td>\n",
       "      <td>North Rhine-Westphalia</td>\n",
       "      <td>0</td>\n",
       "      <td>0</td>\n",
       "    </tr>\n",
       "    <tr>\n",
       "      <th>2</th>\n",
       "      <td>H1101_H1101_HRB18423</td>\n",
       "      <td>Mittelständische Beteiligungsgesellschaft Brem...</td>\n",
       "      <td>Langenstraße 2-4, 28195 Bremen.</td>\n",
       "      <td>Bremen</td>\n",
       "      <td>0</td>\n",
       "      <td>0</td>\n",
       "    </tr>\n",
       "    <tr>\n",
       "      <th>3</th>\n",
       "      <td>R1101_HRB45109</td>\n",
       "      <td>Albert Barufe GmbH</td>\n",
       "      <td>Hans-Sachs-Straße 11, 40721 Hilden.</td>\n",
       "      <td>North Rhine-Westphalia</td>\n",
       "      <td>0</td>\n",
       "      <td>0</td>\n",
       "    </tr>\n",
       "    <tr>\n",
       "      <th>4</th>\n",
       "      <td>R1101_HRB37996</td>\n",
       "      <td>ITERGO Informationstechnologie GmbH</td>\n",
       "      <td>ERGO-Platz 1, 40477 Düsseldorf.</td>\n",
       "      <td>North Rhine-Westphalia</td>\n",
       "      <td>0</td>\n",
       "      <td>0</td>\n",
       "    </tr>\n",
       "  </tbody>\n",
       "</table>\n",
       "</div>"
      ],
      "text/plain": [
       "         company_number                                       company_name  \\\n",
       "0      K1101R_HRB150148                       olly UG (haftungsbeschränkt)   \n",
       "1        R1101_HRB81092                       BLUECHILLED Verwaltungs GmbH   \n",
       "2  H1101_H1101_HRB18423  Mittelständische Beteiligungsgesellschaft Brem...   \n",
       "3        R1101_HRB45109                                 Albert Barufe GmbH   \n",
       "4        R1101_HRB37996                ITERGO Informationstechnologie GmbH   \n",
       "\n",
       "                    registered_address           bundesland_en  labor  cancer  \n",
       "0     Waidmannstraße 1, 22769 Hamburg.                 Hamburg      0       0  \n",
       "1                              Oststr.  North Rhine-Westphalia      0       0  \n",
       "2      Langenstraße 2-4, 28195 Bremen.                  Bremen      0       0  \n",
       "3  Hans-Sachs-Straße 11, 40721 Hilden.  North Rhine-Westphalia      0       0  \n",
       "4      ERGO-Platz 1, 40477 Düsseldorf.  North Rhine-Westphalia      0       0  "
      ]
     },
     "execution_count": 21,
     "metadata": {},
     "output_type": "execute_result"
    }
   ],
   "source": [
    "# See results\n",
    "companies_reg.head()\n",
    "# companies names resemble expected potential customer companies"
   ]
  },
  {
   "cell_type": "markdown",
   "id": "9efdb8e9",
   "metadata": {},
   "source": [
    "### Deriving postcode data"
   ]
  },
  {
   "cell_type": "code",
   "execution_count": 22,
   "id": "307c0821",
   "metadata": {},
   "outputs": [],
   "source": [
    "# Define a regular expression to extract the 5-digit postcode in the 'registered_address' variable\n",
    "regex_pattern = r'(\\d{5})'\n",
    "# Use str.extract to apply the regex pattern and create new columns for postcode\n",
    "companies_reg['plz_original'] = companies_reg['registered_address'].str.extract(regex_pattern, expand=False)"
   ]
  },
  {
   "cell_type": "code",
   "execution_count": 23,
   "id": "15879f63",
   "metadata": {},
   "outputs": [
    {
     "data": {
      "text/html": [
       "<div>\n",
       "<style scoped>\n",
       "    .dataframe tbody tr th:only-of-type {\n",
       "        vertical-align: middle;\n",
       "    }\n",
       "\n",
       "    .dataframe tbody tr th {\n",
       "        vertical-align: top;\n",
       "    }\n",
       "\n",
       "    .dataframe thead th {\n",
       "        text-align: right;\n",
       "    }\n",
       "</style>\n",
       "<table border=\"1\" class=\"dataframe\">\n",
       "  <thead>\n",
       "    <tr style=\"text-align: right;\">\n",
       "      <th></th>\n",
       "      <th>company_number</th>\n",
       "      <th>company_name</th>\n",
       "      <th>registered_address</th>\n",
       "      <th>bundesland_en</th>\n",
       "      <th>labor</th>\n",
       "      <th>cancer</th>\n",
       "      <th>plz_original</th>\n",
       "    </tr>\n",
       "  </thead>\n",
       "  <tbody>\n",
       "    <tr>\n",
       "      <th>0</th>\n",
       "      <td>K1101R_HRB150148</td>\n",
       "      <td>olly UG (haftungsbeschränkt)</td>\n",
       "      <td>Waidmannstraße 1, 22769 Hamburg.</td>\n",
       "      <td>Hamburg</td>\n",
       "      <td>0</td>\n",
       "      <td>0</td>\n",
       "      <td>22769</td>\n",
       "    </tr>\n",
       "    <tr>\n",
       "      <th>1</th>\n",
       "      <td>R1101_HRB81092</td>\n",
       "      <td>BLUECHILLED Verwaltungs GmbH</td>\n",
       "      <td>Oststr.</td>\n",
       "      <td>North Rhine-Westphalia</td>\n",
       "      <td>0</td>\n",
       "      <td>0</td>\n",
       "      <td>NaN</td>\n",
       "    </tr>\n",
       "    <tr>\n",
       "      <th>2</th>\n",
       "      <td>H1101_H1101_HRB18423</td>\n",
       "      <td>Mittelständische Beteiligungsgesellschaft Brem...</td>\n",
       "      <td>Langenstraße 2-4, 28195 Bremen.</td>\n",
       "      <td>Bremen</td>\n",
       "      <td>0</td>\n",
       "      <td>0</td>\n",
       "      <td>28195</td>\n",
       "    </tr>\n",
       "    <tr>\n",
       "      <th>3</th>\n",
       "      <td>R1101_HRB45109</td>\n",
       "      <td>Albert Barufe GmbH</td>\n",
       "      <td>Hans-Sachs-Straße 11, 40721 Hilden.</td>\n",
       "      <td>North Rhine-Westphalia</td>\n",
       "      <td>0</td>\n",
       "      <td>0</td>\n",
       "      <td>40721</td>\n",
       "    </tr>\n",
       "    <tr>\n",
       "      <th>4</th>\n",
       "      <td>R1101_HRB37996</td>\n",
       "      <td>ITERGO Informationstechnologie GmbH</td>\n",
       "      <td>ERGO-Platz 1, 40477 Düsseldorf.</td>\n",
       "      <td>North Rhine-Westphalia</td>\n",
       "      <td>0</td>\n",
       "      <td>0</td>\n",
       "      <td>40477</td>\n",
       "    </tr>\n",
       "  </tbody>\n",
       "</table>\n",
       "</div>"
      ],
      "text/plain": [
       "         company_number                                       company_name  \\\n",
       "0      K1101R_HRB150148                       olly UG (haftungsbeschränkt)   \n",
       "1        R1101_HRB81092                       BLUECHILLED Verwaltungs GmbH   \n",
       "2  H1101_H1101_HRB18423  Mittelständische Beteiligungsgesellschaft Brem...   \n",
       "3        R1101_HRB45109                                 Albert Barufe GmbH   \n",
       "4        R1101_HRB37996                ITERGO Informationstechnologie GmbH   \n",
       "\n",
       "                    registered_address           bundesland_en  labor  cancer  \\\n",
       "0     Waidmannstraße 1, 22769 Hamburg.                 Hamburg      0       0   \n",
       "1                              Oststr.  North Rhine-Westphalia      0       0   \n",
       "2      Langenstraße 2-4, 28195 Bremen.                  Bremen      0       0   \n",
       "3  Hans-Sachs-Straße 11, 40721 Hilden.  North Rhine-Westphalia      0       0   \n",
       "4      ERGO-Platz 1, 40477 Düsseldorf.  North Rhine-Westphalia      0       0   \n",
       "\n",
       "  plz_original  \n",
       "0        22769  \n",
       "1          NaN  \n",
       "2        28195  \n",
       "3        40721  \n",
       "4        40477  "
      ]
     },
     "execution_count": 23,
     "metadata": {},
     "output_type": "execute_result"
    }
   ],
   "source": [
    "# See results\n",
    "companies_reg.head()"
   ]
  },
  {
   "cell_type": "code",
   "execution_count": 24,
   "id": "6538070d",
   "metadata": {},
   "outputs": [
    {
     "data": {
      "text/plain": [
       "company_number        object\n",
       "company_name          object\n",
       "registered_address    object\n",
       "bundesland_en         object\n",
       "labor                  int32\n",
       "cancer                 int32\n",
       "plz_original          object\n",
       "dtype: object"
      ]
     },
     "execution_count": 24,
     "metadata": {},
     "output_type": "execute_result"
    }
   ],
   "source": [
    "# See results\n",
    "companies_reg.dtypes"
   ]
  },
  {
   "cell_type": "code",
   "execution_count": 25,
   "id": "908471f6",
   "metadata": {},
   "outputs": [
    {
     "name": "stdout",
     "output_type": "stream",
     "text": [
      "The number of NaN values in the \"plz\" column is: 1393866\n"
     ]
    }
   ],
   "source": [
    "# Counting NaN within plz_original\n",
    "nan_count = companies_reg['plz_original'].isna().sum()\n",
    "\n",
    "print(f'The number of NaN values in the \"plz\" column is: {nan_count}')\n",
    "# 58.2% of active companies dont contain a postcode information"
   ]
  },
  {
   "cell_type": "markdown",
   "id": "5b82d769",
   "metadata": {},
   "source": [
    "### Imputing postcodes"
   ]
  },
  {
   "cell_type": "code",
   "execution_count": 26,
   "id": "94e1f7d7",
   "metadata": {},
   "outputs": [],
   "source": [
    "# Imputing NaN for the 'plz_original' variable, since there are several empty addresses\n",
    "# Duplicate the 'plz_original' column and name it 'plz_imputed'\n",
    "companies_reg['plz_imputed'] = companies_reg['plz_original'].copy()"
   ]
  },
  {
   "cell_type": "code",
   "execution_count": 27,
   "id": "aefea4f8",
   "metadata": {},
   "outputs": [
    {
     "data": {
      "text/html": [
       "<div>\n",
       "<style scoped>\n",
       "    .dataframe tbody tr th:only-of-type {\n",
       "        vertical-align: middle;\n",
       "    }\n",
       "\n",
       "    .dataframe tbody tr th {\n",
       "        vertical-align: top;\n",
       "    }\n",
       "\n",
       "    .dataframe thead th {\n",
       "        text-align: right;\n",
       "    }\n",
       "</style>\n",
       "<table border=\"1\" class=\"dataframe\">\n",
       "  <thead>\n",
       "    <tr style=\"text-align: right;\">\n",
       "      <th></th>\n",
       "      <th>company_number</th>\n",
       "      <th>company_name</th>\n",
       "      <th>registered_address</th>\n",
       "      <th>bundesland_en</th>\n",
       "      <th>labor</th>\n",
       "      <th>cancer</th>\n",
       "      <th>plz_original</th>\n",
       "      <th>plz_imputed</th>\n",
       "    </tr>\n",
       "  </thead>\n",
       "  <tbody>\n",
       "    <tr>\n",
       "      <th>0</th>\n",
       "      <td>K1101R_HRB150148</td>\n",
       "      <td>olly UG (haftungsbeschränkt)</td>\n",
       "      <td>Waidmannstraße 1, 22769 Hamburg.</td>\n",
       "      <td>Hamburg</td>\n",
       "      <td>0</td>\n",
       "      <td>0</td>\n",
       "      <td>22769</td>\n",
       "      <td>22769</td>\n",
       "    </tr>\n",
       "    <tr>\n",
       "      <th>1</th>\n",
       "      <td>R1101_HRB81092</td>\n",
       "      <td>BLUECHILLED Verwaltungs GmbH</td>\n",
       "      <td>Oststr.</td>\n",
       "      <td>North Rhine-Westphalia</td>\n",
       "      <td>0</td>\n",
       "      <td>0</td>\n",
       "      <td>NaN</td>\n",
       "      <td>NaN</td>\n",
       "    </tr>\n",
       "    <tr>\n",
       "      <th>2</th>\n",
       "      <td>H1101_H1101_HRB18423</td>\n",
       "      <td>Mittelständische Beteiligungsgesellschaft Brem...</td>\n",
       "      <td>Langenstraße 2-4, 28195 Bremen.</td>\n",
       "      <td>Bremen</td>\n",
       "      <td>0</td>\n",
       "      <td>0</td>\n",
       "      <td>28195</td>\n",
       "      <td>28195</td>\n",
       "    </tr>\n",
       "    <tr>\n",
       "      <th>3</th>\n",
       "      <td>R1101_HRB45109</td>\n",
       "      <td>Albert Barufe GmbH</td>\n",
       "      <td>Hans-Sachs-Straße 11, 40721 Hilden.</td>\n",
       "      <td>North Rhine-Westphalia</td>\n",
       "      <td>0</td>\n",
       "      <td>0</td>\n",
       "      <td>40721</td>\n",
       "      <td>40721</td>\n",
       "    </tr>\n",
       "    <tr>\n",
       "      <th>4</th>\n",
       "      <td>R1101_HRB37996</td>\n",
       "      <td>ITERGO Informationstechnologie GmbH</td>\n",
       "      <td>ERGO-Platz 1, 40477 Düsseldorf.</td>\n",
       "      <td>North Rhine-Westphalia</td>\n",
       "      <td>0</td>\n",
       "      <td>0</td>\n",
       "      <td>40477</td>\n",
       "      <td>40477</td>\n",
       "    </tr>\n",
       "  </tbody>\n",
       "</table>\n",
       "</div>"
      ],
      "text/plain": [
       "         company_number                                       company_name  \\\n",
       "0      K1101R_HRB150148                       olly UG (haftungsbeschränkt)   \n",
       "1        R1101_HRB81092                       BLUECHILLED Verwaltungs GmbH   \n",
       "2  H1101_H1101_HRB18423  Mittelständische Beteiligungsgesellschaft Brem...   \n",
       "3        R1101_HRB45109                                 Albert Barufe GmbH   \n",
       "4        R1101_HRB37996                ITERGO Informationstechnologie GmbH   \n",
       "\n",
       "                    registered_address           bundesland_en  labor  cancer  \\\n",
       "0     Waidmannstraße 1, 22769 Hamburg.                 Hamburg      0       0   \n",
       "1                              Oststr.  North Rhine-Westphalia      0       0   \n",
       "2      Langenstraße 2-4, 28195 Bremen.                  Bremen      0       0   \n",
       "3  Hans-Sachs-Straße 11, 40721 Hilden.  North Rhine-Westphalia      0       0   \n",
       "4      ERGO-Platz 1, 40477 Düsseldorf.  North Rhine-Westphalia      0       0   \n",
       "\n",
       "  plz_original plz_imputed  \n",
       "0        22769       22769  \n",
       "1          NaN         NaN  \n",
       "2        28195       28195  \n",
       "3        40721       40721  \n",
       "4        40477       40477  "
      ]
     },
     "execution_count": 27,
     "metadata": {},
     "output_type": "execute_result"
    }
   ],
   "source": [
    "# See results\n",
    "companies_reg.head()"
   ]
  },
  {
   "cell_type": "code",
   "execution_count": 28,
   "id": "fbb3971e",
   "metadata": {},
   "outputs": [],
   "source": [
    "# Replacing NaN in the 'plz_imputed' variable by using the mode 'plz_original' for each bundesland listed in 'bundesland_en'\n",
    "companies_reg['plz_imputed'] = companies_reg.groupby('bundesland_en')['plz_imputed'].transform(lambda x: x.fillna(x.mode().iloc[0]))"
   ]
  },
  {
   "cell_type": "code",
   "execution_count": 29,
   "id": "82e74b19",
   "metadata": {},
   "outputs": [
    {
     "data": {
      "text/html": [
       "<div>\n",
       "<style scoped>\n",
       "    .dataframe tbody tr th:only-of-type {\n",
       "        vertical-align: middle;\n",
       "    }\n",
       "\n",
       "    .dataframe tbody tr th {\n",
       "        vertical-align: top;\n",
       "    }\n",
       "\n",
       "    .dataframe thead th {\n",
       "        text-align: right;\n",
       "    }\n",
       "</style>\n",
       "<table border=\"1\" class=\"dataframe\">\n",
       "  <thead>\n",
       "    <tr style=\"text-align: right;\">\n",
       "      <th></th>\n",
       "      <th>bundesland_en</th>\n",
       "      <th>plz_original</th>\n",
       "      <th>plz_imputed</th>\n",
       "    </tr>\n",
       "  </thead>\n",
       "  <tbody>\n",
       "    <tr>\n",
       "      <th>0</th>\n",
       "      <td>Hamburg</td>\n",
       "      <td>22769</td>\n",
       "      <td>22769</td>\n",
       "    </tr>\n",
       "    <tr>\n",
       "      <th>1</th>\n",
       "      <td>North Rhine-Westphalia</td>\n",
       "      <td>NaN</td>\n",
       "      <td>40549</td>\n",
       "    </tr>\n",
       "    <tr>\n",
       "      <th>2</th>\n",
       "      <td>Bremen</td>\n",
       "      <td>28195</td>\n",
       "      <td>28195</td>\n",
       "    </tr>\n",
       "    <tr>\n",
       "      <th>3</th>\n",
       "      <td>North Rhine-Westphalia</td>\n",
       "      <td>40721</td>\n",
       "      <td>40721</td>\n",
       "    </tr>\n",
       "    <tr>\n",
       "      <th>4</th>\n",
       "      <td>North Rhine-Westphalia</td>\n",
       "      <td>40477</td>\n",
       "      <td>40477</td>\n",
       "    </tr>\n",
       "    <tr>\n",
       "      <th>...</th>\n",
       "      <td>...</td>\n",
       "      <td>...</td>\n",
       "      <td>...</td>\n",
       "    </tr>\n",
       "    <tr>\n",
       "      <th>5305722</th>\n",
       "      <td>Thuringia</td>\n",
       "      <td>None</td>\n",
       "      <td>99084</td>\n",
       "    </tr>\n",
       "    <tr>\n",
       "      <th>5305723</th>\n",
       "      <td>Thuringia</td>\n",
       "      <td>None</td>\n",
       "      <td>99084</td>\n",
       "    </tr>\n",
       "    <tr>\n",
       "      <th>5305724</th>\n",
       "      <td>Thuringia</td>\n",
       "      <td>None</td>\n",
       "      <td>99084</td>\n",
       "    </tr>\n",
       "    <tr>\n",
       "      <th>5305725</th>\n",
       "      <td>Thuringia</td>\n",
       "      <td>None</td>\n",
       "      <td>99084</td>\n",
       "    </tr>\n",
       "    <tr>\n",
       "      <th>5305726</th>\n",
       "      <td>Thuringia</td>\n",
       "      <td>None</td>\n",
       "      <td>99084</td>\n",
       "    </tr>\n",
       "  </tbody>\n",
       "</table>\n",
       "<p>2393517 rows × 3 columns</p>\n",
       "</div>"
      ],
      "text/plain": [
       "                  bundesland_en plz_original plz_imputed\n",
       "0                       Hamburg        22769       22769\n",
       "1        North Rhine-Westphalia          NaN       40549\n",
       "2                        Bremen        28195       28195\n",
       "3        North Rhine-Westphalia        40721       40721\n",
       "4        North Rhine-Westphalia        40477       40477\n",
       "...                         ...          ...         ...\n",
       "5305722               Thuringia         None       99084\n",
       "5305723               Thuringia         None       99084\n",
       "5305724               Thuringia         None       99084\n",
       "5305725               Thuringia         None       99084\n",
       "5305726               Thuringia         None       99084\n",
       "\n",
       "[2393517 rows x 3 columns]"
      ]
     },
     "execution_count": 29,
     "metadata": {},
     "output_type": "execute_result"
    }
   ],
   "source": [
    "# See results\n",
    "subset = companies_reg[['bundesland_en','plz_original', 'plz_imputed']]\n",
    "subset\n",
    "# the most common postcode was assigned"
   ]
  },
  {
   "cell_type": "code",
   "execution_count": 31,
   "id": "09b9ffb0",
   "metadata": {},
   "outputs": [
    {
     "name": "stdout",
     "output_type": "stream",
     "text": [
      "          company_number                            company_name  \\\n",
      "39959    K1101R_HRB72526  TDH - GmbH Technischer Dämmstoffhandel   \n",
      "4317088  F1103R_HRB59581  Masterplan Informationsmanagement GmbH   \n",
      "\n",
      "                                        registered_address bundesland_en  \\\n",
      "39959                       Sternstraße 14, 00139 Dresden.       Hamburg   \n",
      "4317088  Ehrenbergstraße 16 a, Scanbox #00472, 10245 Be...        Berlin   \n",
      "\n",
      "         labor  cancer plz_original plz_imputed  \n",
      "39959        0       0        00139       00139  \n",
      "4317088      0       0        00472       00472  \n"
     ]
    }
   ],
   "source": [
    "# Checking whether extracted postcodes are within a sensitive range\n",
    "# The current postal codes (Postleitzahlen) in Germany (DE) range from 01067 – 99998\n",
    "# Check for values less than '01067' or greater than '99998'\n",
    "invalid_values = companies_reg[~companies_reg['plz_imputed'].between('01067', '99998')]\n",
    "# Display the invalid values\n",
    "print(invalid_values)\n",
    "# in two instances the extracted postcode value was not the adequate\n",
    "# to avoid further incompatibilites with the german poscode and because these two companies are of no interest for our client\n",
    "# I will delete these two companies using their indexes"
   ]
  },
  {
   "cell_type": "code",
   "execution_count": 32,
   "id": "9adb5809",
   "metadata": {},
   "outputs": [],
   "source": [
    "# Drop rows by indices\n",
    "companies_reg = companies_reg.drop([39959, 4317088])\n",
    "\n",
    "# Reset the index after dropping rows\n",
    "companies_reg = companies_reg.reset_index(drop=True)"
   ]
  },
  {
   "cell_type": "code",
   "execution_count": 33,
   "id": "ecd58f1a",
   "metadata": {},
   "outputs": [
    {
     "data": {
      "text/plain": [
       "(2393515, 8)"
      ]
     },
     "execution_count": 33,
     "metadata": {},
     "output_type": "execute_result"
    }
   ],
   "source": [
    "# See results\n",
    "companies_reg.shape\n",
    "# as expected the two rows were deleted, previously I had 2393517"
   ]
  },
  {
   "cell_type": "code",
   "execution_count": 34,
   "id": "39ee0c47",
   "metadata": {},
   "outputs": [
    {
     "data": {
      "text/plain": [
       "company_number        object\n",
       "company_name          object\n",
       "registered_address    object\n",
       "bundesland_en         object\n",
       "labor                  int32\n",
       "cancer                 int32\n",
       "plz_original          object\n",
       "plz_imputed           object\n",
       "dtype: object"
      ]
     },
     "execution_count": 34,
     "metadata": {},
     "output_type": "execute_result"
    }
   ],
   "source": [
    "# See results\n",
    "companies_reg.dtypes"
   ]
  },
  {
   "cell_type": "code",
   "execution_count": 35,
   "id": "15e28eb4",
   "metadata": {},
   "outputs": [
    {
     "name": "stdout",
     "output_type": "stream",
     "text": [
      "plz_digit_count\n",
      "5    2393515\n",
      "Name: count, dtype: int64\n"
     ]
    }
   ],
   "source": [
    "# Count the number of digits in each entry of 'plz_imputed'\n",
    "companies_reg['plz_digit_count'] = companies_reg['plz_imputed'].apply(lambda x: len(x) if isinstance(x, str) else None)\n",
    "\n",
    "# Count the occurrences of each digit count\n",
    "digit_count_distribution = companies_reg['plz_digit_count'].value_counts().sort_index()\n",
    "\n",
    "# Display the results\n",
    "print(digit_count_distribution) \n",
    "# as expected the plz_imputed consist of 5 digits postcode number, which is typical for Germany"
   ]
  },
  {
   "cell_type": "code",
   "execution_count": 36,
   "id": "a65e6693",
   "metadata": {},
   "outputs": [],
   "source": [
    "# Dropping the column created to check the lenght of the variable, there is no need of this variable anymore\n",
    "# Dropping function with function df.drop(columns = ['variable'])\n",
    "companies_reg = companies_reg.drop(columns = ['plz_digit_count'])"
   ]
  },
  {
   "cell_type": "code",
   "execution_count": 37,
   "id": "3654e653",
   "metadata": {},
   "outputs": [
    {
     "data": {
      "text/html": [
       "<div>\n",
       "<style scoped>\n",
       "    .dataframe tbody tr th:only-of-type {\n",
       "        vertical-align: middle;\n",
       "    }\n",
       "\n",
       "    .dataframe tbody tr th {\n",
       "        vertical-align: top;\n",
       "    }\n",
       "\n",
       "    .dataframe thead th {\n",
       "        text-align: right;\n",
       "    }\n",
       "</style>\n",
       "<table border=\"1\" class=\"dataframe\">\n",
       "  <thead>\n",
       "    <tr style=\"text-align: right;\">\n",
       "      <th></th>\n",
       "      <th>company_number</th>\n",
       "      <th>company_name</th>\n",
       "      <th>registered_address</th>\n",
       "      <th>bundesland_en</th>\n",
       "      <th>labor</th>\n",
       "      <th>cancer</th>\n",
       "      <th>plz_original</th>\n",
       "      <th>plz_imputed</th>\n",
       "    </tr>\n",
       "  </thead>\n",
       "  <tbody>\n",
       "    <tr>\n",
       "      <th>0</th>\n",
       "      <td>K1101R_HRB150148</td>\n",
       "      <td>olly UG (haftungsbeschränkt)</td>\n",
       "      <td>Waidmannstraße 1, 22769 Hamburg.</td>\n",
       "      <td>Hamburg</td>\n",
       "      <td>0</td>\n",
       "      <td>0</td>\n",
       "      <td>22769</td>\n",
       "      <td>22769</td>\n",
       "    </tr>\n",
       "    <tr>\n",
       "      <th>1</th>\n",
       "      <td>R1101_HRB81092</td>\n",
       "      <td>BLUECHILLED Verwaltungs GmbH</td>\n",
       "      <td>Oststr.</td>\n",
       "      <td>North Rhine-Westphalia</td>\n",
       "      <td>0</td>\n",
       "      <td>0</td>\n",
       "      <td>NaN</td>\n",
       "      <td>40549</td>\n",
       "    </tr>\n",
       "    <tr>\n",
       "      <th>2</th>\n",
       "      <td>H1101_H1101_HRB18423</td>\n",
       "      <td>Mittelständische Beteiligungsgesellschaft Brem...</td>\n",
       "      <td>Langenstraße 2-4, 28195 Bremen.</td>\n",
       "      <td>Bremen</td>\n",
       "      <td>0</td>\n",
       "      <td>0</td>\n",
       "      <td>28195</td>\n",
       "      <td>28195</td>\n",
       "    </tr>\n",
       "    <tr>\n",
       "      <th>3</th>\n",
       "      <td>R1101_HRB45109</td>\n",
       "      <td>Albert Barufe GmbH</td>\n",
       "      <td>Hans-Sachs-Straße 11, 40721 Hilden.</td>\n",
       "      <td>North Rhine-Westphalia</td>\n",
       "      <td>0</td>\n",
       "      <td>0</td>\n",
       "      <td>40721</td>\n",
       "      <td>40721</td>\n",
       "    </tr>\n",
       "    <tr>\n",
       "      <th>4</th>\n",
       "      <td>R1101_HRB37996</td>\n",
       "      <td>ITERGO Informationstechnologie GmbH</td>\n",
       "      <td>ERGO-Platz 1, 40477 Düsseldorf.</td>\n",
       "      <td>North Rhine-Westphalia</td>\n",
       "      <td>0</td>\n",
       "      <td>0</td>\n",
       "      <td>40477</td>\n",
       "      <td>40477</td>\n",
       "    </tr>\n",
       "  </tbody>\n",
       "</table>\n",
       "</div>"
      ],
      "text/plain": [
       "         company_number                                       company_name  \\\n",
       "0      K1101R_HRB150148                       olly UG (haftungsbeschränkt)   \n",
       "1        R1101_HRB81092                       BLUECHILLED Verwaltungs GmbH   \n",
       "2  H1101_H1101_HRB18423  Mittelständische Beteiligungsgesellschaft Brem...   \n",
       "3        R1101_HRB45109                                 Albert Barufe GmbH   \n",
       "4        R1101_HRB37996                ITERGO Informationstechnologie GmbH   \n",
       "\n",
       "                    registered_address           bundesland_en  labor  cancer  \\\n",
       "0     Waidmannstraße 1, 22769 Hamburg.                 Hamburg      0       0   \n",
       "1                              Oststr.  North Rhine-Westphalia      0       0   \n",
       "2      Langenstraße 2-4, 28195 Bremen.                  Bremen      0       0   \n",
       "3  Hans-Sachs-Straße 11, 40721 Hilden.  North Rhine-Westphalia      0       0   \n",
       "4      ERGO-Platz 1, 40477 Düsseldorf.  North Rhine-Westphalia      0       0   \n",
       "\n",
       "  plz_original plz_imputed  \n",
       "0        22769       22769  \n",
       "1          NaN       40549  \n",
       "2        28195       28195  \n",
       "3        40721       40721  \n",
       "4        40477       40477  "
      ]
     },
     "execution_count": 37,
     "metadata": {},
     "output_type": "execute_result"
    }
   ],
   "source": [
    "# See results\n",
    "companies_reg.head()"
   ]
  },
  {
   "cell_type": "markdown",
   "id": "56dd830b",
   "metadata": {},
   "source": [
    "### Missing data"
   ]
  },
  {
   "cell_type": "code",
   "execution_count": 39,
   "id": "f2c30bb4",
   "metadata": {},
   "outputs": [
    {
     "data": {
      "text/plain": [
       "company_number              0\n",
       "company_name                0\n",
       "registered_address    1195258\n",
       "bundesland_en               0\n",
       "labor                       0\n",
       "cancer                      0\n",
       "plz_original          1393866\n",
       "plz_imputed                 0\n",
       "dtype: int64"
      ]
     },
     "execution_count": 39,
     "metadata": {},
     "output_type": "execute_result"
    }
   ],
   "source": [
    "# Finding missing values\n",
    "# isnull() function is used to find missing observations, with “observations” referring to entries in your df = cells in Excel\n",
    "companies_reg.isnull().sum()\n",
    "# We already knew that nearly half of the companies do not have a registered address,\n",
    "# or when a registered address is described it does not contain a postcode, thus the excess of missing values with plz_original"
   ]
  },
  {
   "cell_type": "markdown",
   "id": "2e1377ae",
   "metadata": {},
   "source": [
    "### Mixed data type"
   ]
  },
  {
   "cell_type": "code",
   "execution_count": 40,
   "id": "6c760d75",
   "metadata": {},
   "outputs": [
    {
     "name": "stdout",
     "output_type": "stream",
     "text": [
      "registered_address\n",
      "plz_original\n"
     ]
    }
   ],
   "source": [
    "# Check for mixed data types\n",
    "for col in companies_reg.columns.tolist():\n",
    "  weird = (companies_reg[[col]].map(type) != companies_reg[[col]].iloc[0].apply(type)).any(axis = 1)\n",
    "  if len (companies_reg[weird]) > 0:\n",
    "    print (col)\n",
    "# as explore before these are missing values within these two variables\n",
    "# these variables wont be used on the subsequent analysis so, I wont change them "
   ]
  },
  {
   "cell_type": "markdown",
   "id": "8d50828e",
   "metadata": {},
   "source": [
    "### Duplicates"
   ]
  },
  {
   "cell_type": "code",
   "execution_count": 41,
   "id": "c6fe4df2",
   "metadata": {},
   "outputs": [],
   "source": [
    "# The following command will look for full duplicates within your df\n",
    "dups = companies_reg[companies_reg.duplicated()]"
   ]
  },
  {
   "cell_type": "code",
   "execution_count": 42,
   "id": "98eab672",
   "metadata": {},
   "outputs": [
    {
     "data": {
      "text/html": [
       "<div>\n",
       "<style scoped>\n",
       "    .dataframe tbody tr th:only-of-type {\n",
       "        vertical-align: middle;\n",
       "    }\n",
       "\n",
       "    .dataframe tbody tr th {\n",
       "        vertical-align: top;\n",
       "    }\n",
       "\n",
       "    .dataframe thead th {\n",
       "        text-align: right;\n",
       "    }\n",
       "</style>\n",
       "<table border=\"1\" class=\"dataframe\">\n",
       "  <thead>\n",
       "    <tr style=\"text-align: right;\">\n",
       "      <th></th>\n",
       "      <th>company_number</th>\n",
       "      <th>company_name</th>\n",
       "      <th>registered_address</th>\n",
       "      <th>bundesland_en</th>\n",
       "      <th>labor</th>\n",
       "      <th>cancer</th>\n",
       "      <th>plz_original</th>\n",
       "      <th>plz_imputed</th>\n",
       "    </tr>\n",
       "  </thead>\n",
       "  <tbody>\n",
       "  </tbody>\n",
       "</table>\n",
       "</div>"
      ],
      "text/plain": [
       "Empty DataFrame\n",
       "Columns: [company_number, company_name, registered_address, bundesland_en, labor, cancer, plz_original, plz_imputed]\n",
       "Index: []"
      ]
     },
     "execution_count": 42,
     "metadata": {},
     "output_type": "execute_result"
    }
   ],
   "source": [
    "# See results\n",
    "dups.head()\n",
    "# No duplicates values"
   ]
  },
  {
   "cell_type": "markdown",
   "id": "0afe72fe",
   "metadata": {},
   "source": [
    "### Inconsistency checks"
   ]
  },
  {
   "cell_type": "code",
   "execution_count": 43,
   "id": "0157f71a",
   "metadata": {},
   "outputs": [
    {
     "data": {
      "text/plain": [
       "bundesland_en\n",
       "North Rhine-Westphalia           505294\n",
       "Bavaria                          412937\n",
       "Baden-Württemberg                299894\n",
       "Lower Saxony                     219162\n",
       "Hesse                            195520\n",
       "Berlin                           142570\n",
       "Rhineland-Palatinate             109797\n",
       "Saxony                            92364\n",
       "Hamburg                           90427\n",
       "Schleswig-Holstein                83243\n",
       "Brandenburg                       57793\n",
       "Saxony-Anhalt                     48918\n",
       "Thuringia                         48541\n",
       "Mecklenburg-Western Pomerania     37426\n",
       "Saarland                          27738\n",
       "Bremen                            21891\n",
       "Name: count, dtype: int64"
      ]
     },
     "execution_count": 43,
     "metadata": {},
     "output_type": "execute_result"
    }
   ],
   "source": [
    "# Checking how many Bundeslander are listed\n",
    "companies_reg['bundesland_en'].value_counts(dropna = False)\n",
    "# there are 16 Bundeslander listed which correspond to the total number of Bundeslander in Germany"
   ]
  },
  {
   "cell_type": "markdown",
   "id": "fa1314a7",
   "metadata": {},
   "source": [
    "## 3.2 German population Bundesland"
   ]
  },
  {
   "cell_type": "markdown",
   "id": "6ed44e4e",
   "metadata": {},
   "source": [
    "This dataset was downloaded from the [Kaggle](https://www.kaggle.com/datasets/ralfschukey/districts-and-towns-in-germany2019) community, however the original data owner is the [Statistisches Bundesamt](https://www.destatis.de/DE/Home/_inhalt.html), which is a federal authority of Germany responsible for collecting, processing, presenting, and analyzing statistical information concerning the topics of economy, society, and environment. This dataset contains the population, area, and population density numbers by gender for all German towns and districts released on 31.12.2018."
   ]
  },
  {
   "cell_type": "code",
   "execution_count": 8,
   "id": "ee6da498",
   "metadata": {},
   "outputs": [
    {
     "data": {
      "text/html": [
       "<div>\n",
       "<style scoped>\n",
       "    .dataframe tbody tr th:only-of-type {\n",
       "        vertical-align: middle;\n",
       "    }\n",
       "\n",
       "    .dataframe tbody tr th {\n",
       "        vertical-align: top;\n",
       "    }\n",
       "\n",
       "    .dataframe thead th {\n",
       "        text-align: right;\n",
       "    }\n",
       "</style>\n",
       "<table border=\"1\" class=\"dataframe\">\n",
       "  <thead>\n",
       "    <tr style=\"text-align: right;\">\n",
       "      <th></th>\n",
       "      <th>Schlüsselnummer</th>\n",
       "      <th>Regionale Bezeichnung</th>\n",
       "      <th>Kreisfreie Stadt – Landkreis</th>\n",
       "      <th>NUTS3</th>\n",
       "      <th>Fläche in qkm</th>\n",
       "      <th>Bevölkerung</th>\n",
       "      <th>Bev.M</th>\n",
       "      <th>Bev.W</th>\n",
       "      <th>Bev.qkm</th>\n",
       "    </tr>\n",
       "  </thead>\n",
       "  <tbody>\n",
       "    <tr>\n",
       "      <th>0</th>\n",
       "      <td>0</td>\n",
       "      <td>Staat</td>\n",
       "      <td>Deutschland</td>\n",
       "      <td>NaN</td>\n",
       "      <td>357574.84</td>\n",
       "      <td>83019213.0</td>\n",
       "      <td>40966691.0</td>\n",
       "      <td>42052522.0</td>\n",
       "      <td>232.0</td>\n",
       "    </tr>\n",
       "    <tr>\n",
       "      <th>1</th>\n",
       "      <td>1</td>\n",
       "      <td>Bundesland</td>\n",
       "      <td>Schleswig-Holstein</td>\n",
       "      <td>NaN</td>\n",
       "      <td>15804.30</td>\n",
       "      <td>2896712.0</td>\n",
       "      <td>1419457.0</td>\n",
       "      <td>1477255.0</td>\n",
       "      <td>183.0</td>\n",
       "    </tr>\n",
       "    <tr>\n",
       "      <th>2</th>\n",
       "      <td>1001</td>\n",
       "      <td>Kreisfreie Stadt</td>\n",
       "      <td>Flensburg</td>\n",
       "      <td>DEF01</td>\n",
       "      <td>56.73</td>\n",
       "      <td>89504.0</td>\n",
       "      <td>44599.0</td>\n",
       "      <td>44905.0</td>\n",
       "      <td>1578.0</td>\n",
       "    </tr>\n",
       "    <tr>\n",
       "      <th>3</th>\n",
       "      <td>1002</td>\n",
       "      <td>Landeshauptstadt</td>\n",
       "      <td>Kiel</td>\n",
       "      <td>DEF02</td>\n",
       "      <td>118.65</td>\n",
       "      <td>247548.0</td>\n",
       "      <td>120566.0</td>\n",
       "      <td>126982.0</td>\n",
       "      <td>2086.0</td>\n",
       "    </tr>\n",
       "    <tr>\n",
       "      <th>4</th>\n",
       "      <td>1003</td>\n",
       "      <td>Hansestadt</td>\n",
       "      <td>Lübeck</td>\n",
       "      <td>DEF03</td>\n",
       "      <td>214.19</td>\n",
       "      <td>217198.0</td>\n",
       "      <td>104371.0</td>\n",
       "      <td>112827.0</td>\n",
       "      <td>1014.0</td>\n",
       "    </tr>\n",
       "  </tbody>\n",
       "</table>\n",
       "</div>"
      ],
      "text/plain": [
       "   Schlüsselnummer Regionale Bezeichnung Kreisfreie Stadt – Landkreis  NUTS3  \\\n",
       "0                0                 Staat                  Deutschland    NaN   \n",
       "1                1            Bundesland           Schleswig-Holstein    NaN   \n",
       "2             1001      Kreisfreie Stadt                    Flensburg  DEF01   \n",
       "3             1002      Landeshauptstadt                         Kiel  DEF02   \n",
       "4             1003            Hansestadt                       Lübeck  DEF03   \n",
       "\n",
       "   Fläche in qkm  Bevölkerung       Bev.M       Bev.W  Bev.qkm  \n",
       "0      357574.84   83019213.0  40966691.0  42052522.0    232.0  \n",
       "1       15804.30    2896712.0   1419457.0   1477255.0    183.0  \n",
       "2          56.73      89504.0     44599.0     44905.0   1578.0  \n",
       "3         118.65     247548.0    120566.0    126982.0   2086.0  \n",
       "4         214.19     217198.0    104371.0    112827.0   1014.0  "
      ]
     },
     "execution_count": 8,
     "metadata": {},
     "output_type": "execute_result"
    }
   ],
   "source": [
    "# See headers\n",
    "population_de.head()"
   ]
  },
  {
   "cell_type": "code",
   "execution_count": 9,
   "id": "b0ac7e60",
   "metadata": {},
   "outputs": [],
   "source": [
    "# Dropping the \"NUTS3\"  column, there is no need of these variables\n",
    "# Dropping function with function df.drop(columns = ['variable'])\n",
    "population_de = population_de.drop(columns = ['NUTS3'])"
   ]
  },
  {
   "cell_type": "code",
   "execution_count": 10,
   "id": "9c993ca6",
   "metadata": {},
   "outputs": [
    {
     "data": {
      "text/html": [
       "<div>\n",
       "<style scoped>\n",
       "    .dataframe tbody tr th:only-of-type {\n",
       "        vertical-align: middle;\n",
       "    }\n",
       "\n",
       "    .dataframe tbody tr th {\n",
       "        vertical-align: top;\n",
       "    }\n",
       "\n",
       "    .dataframe thead th {\n",
       "        text-align: right;\n",
       "    }\n",
       "</style>\n",
       "<table border=\"1\" class=\"dataframe\">\n",
       "  <thead>\n",
       "    <tr style=\"text-align: right;\">\n",
       "      <th></th>\n",
       "      <th>Schlüsselnummer</th>\n",
       "      <th>Regionale Bezeichnung</th>\n",
       "      <th>Kreisfreie Stadt – Landkreis</th>\n",
       "      <th>Fläche in qkm</th>\n",
       "      <th>Bevölkerung</th>\n",
       "      <th>Bev.M</th>\n",
       "      <th>Bev.W</th>\n",
       "      <th>Bev.qkm</th>\n",
       "    </tr>\n",
       "  </thead>\n",
       "  <tbody>\n",
       "    <tr>\n",
       "      <th>0</th>\n",
       "      <td>0</td>\n",
       "      <td>Staat</td>\n",
       "      <td>Deutschland</td>\n",
       "      <td>357574.84</td>\n",
       "      <td>83019213.0</td>\n",
       "      <td>40966691.0</td>\n",
       "      <td>42052522.0</td>\n",
       "      <td>232.0</td>\n",
       "    </tr>\n",
       "    <tr>\n",
       "      <th>1</th>\n",
       "      <td>1</td>\n",
       "      <td>Bundesland</td>\n",
       "      <td>Schleswig-Holstein</td>\n",
       "      <td>15804.30</td>\n",
       "      <td>2896712.0</td>\n",
       "      <td>1419457.0</td>\n",
       "      <td>1477255.0</td>\n",
       "      <td>183.0</td>\n",
       "    </tr>\n",
       "    <tr>\n",
       "      <th>2</th>\n",
       "      <td>1001</td>\n",
       "      <td>Kreisfreie Stadt</td>\n",
       "      <td>Flensburg</td>\n",
       "      <td>56.73</td>\n",
       "      <td>89504.0</td>\n",
       "      <td>44599.0</td>\n",
       "      <td>44905.0</td>\n",
       "      <td>1578.0</td>\n",
       "    </tr>\n",
       "    <tr>\n",
       "      <th>3</th>\n",
       "      <td>1002</td>\n",
       "      <td>Landeshauptstadt</td>\n",
       "      <td>Kiel</td>\n",
       "      <td>118.65</td>\n",
       "      <td>247548.0</td>\n",
       "      <td>120566.0</td>\n",
       "      <td>126982.0</td>\n",
       "      <td>2086.0</td>\n",
       "    </tr>\n",
       "    <tr>\n",
       "      <th>4</th>\n",
       "      <td>1003</td>\n",
       "      <td>Hansestadt</td>\n",
       "      <td>Lübeck</td>\n",
       "      <td>214.19</td>\n",
       "      <td>217198.0</td>\n",
       "      <td>104371.0</td>\n",
       "      <td>112827.0</td>\n",
       "      <td>1014.0</td>\n",
       "    </tr>\n",
       "  </tbody>\n",
       "</table>\n",
       "</div>"
      ],
      "text/plain": [
       "   Schlüsselnummer Regionale Bezeichnung Kreisfreie Stadt – Landkreis  \\\n",
       "0                0                 Staat                  Deutschland   \n",
       "1                1            Bundesland           Schleswig-Holstein   \n",
       "2             1001      Kreisfreie Stadt                    Flensburg   \n",
       "3             1002      Landeshauptstadt                         Kiel   \n",
       "4             1003            Hansestadt                       Lübeck   \n",
       "\n",
       "   Fläche in qkm  Bevölkerung       Bev.M       Bev.W  Bev.qkm  \n",
       "0      357574.84   83019213.0  40966691.0  42052522.0    232.0  \n",
       "1       15804.30    2896712.0   1419457.0   1477255.0    183.0  \n",
       "2          56.73      89504.0     44599.0     44905.0   1578.0  \n",
       "3         118.65     247548.0    120566.0    126982.0   2086.0  \n",
       "4         214.19     217198.0    104371.0    112827.0   1014.0  "
      ]
     },
     "execution_count": 10,
     "metadata": {},
     "output_type": "execute_result"
    }
   ],
   "source": [
    "# See results\n",
    "population_de.head()"
   ]
  },
  {
   "cell_type": "markdown",
   "id": "340d7425",
   "metadata": {},
   "source": [
    "### Renaming variables"
   ]
  },
  {
   "cell_type": "code",
   "execution_count": 11,
   "id": "803ecffa",
   "metadata": {},
   "outputs": [],
   "source": [
    "# Rename variable using df.rename(columns = {'old_name' : 'new_name'}, inplace = True)\n",
    "population_de.rename(columns = {'Schlüsselnummer' : 'administration_unit_id'}, inplace = True)"
   ]
  },
  {
   "cell_type": "code",
   "execution_count": 12,
   "id": "526ea41b",
   "metadata": {},
   "outputs": [],
   "source": [
    "# Rename variable using df.rename(columns = {'old_name' : 'new_name'}, inplace = True)\n",
    "population_de.rename(columns = {'Regionale Bezeichnung' : 'administration_level'}, inplace = True)"
   ]
  },
  {
   "cell_type": "code",
   "execution_count": 13,
   "id": "99e8bb7b",
   "metadata": {},
   "outputs": [],
   "source": [
    "# Rename variable using df.rename(columns = {'old_name' : 'new_name'}, inplace = True)\n",
    "population_de.rename(columns = {'Kreisfreie Stadt – Landkreis' : 'bundesland_de'}, inplace = True)"
   ]
  },
  {
   "cell_type": "code",
   "execution_count": 14,
   "id": "3ba04440",
   "metadata": {},
   "outputs": [],
   "source": [
    "# Rename variable using df.rename(columns = {'old_name' : 'new_name'}, inplace = True)\n",
    "population_de.rename(columns = {'Fläche in qkm' : 'area_sqkm'}, inplace = True)"
   ]
  },
  {
   "cell_type": "code",
   "execution_count": 15,
   "id": "9af067ae",
   "metadata": {},
   "outputs": [],
   "source": [
    "# Rename variable using df.rename(columns = {'old_name' : 'new_name'}, inplace = True)\n",
    "population_de.rename(columns = {'Bevölkerung' : 'population'}, inplace = True)"
   ]
  },
  {
   "cell_type": "code",
   "execution_count": 16,
   "id": "9ed8c193",
   "metadata": {},
   "outputs": [],
   "source": [
    "# Rename variable using df.rename(columns = {'old_name' : 'new_name'}, inplace = True)\n",
    "population_de.rename(columns = {'Bev.M' : 'male'}, inplace = True)"
   ]
  },
  {
   "cell_type": "code",
   "execution_count": 17,
   "id": "448b369b",
   "metadata": {},
   "outputs": [],
   "source": [
    "# Rename variable using df.rename(columns = {'old_name' : 'new_name'}, inplace = True)\n",
    "population_de.rename(columns = {'Bev.W' : 'female'}, inplace = True)"
   ]
  },
  {
   "cell_type": "code",
   "execution_count": 18,
   "id": "9eb4df14",
   "metadata": {},
   "outputs": [],
   "source": [
    "# Rename variable using df.rename(columns = {'old_name' : 'new_name'}, inplace = True)\n",
    "population_de.rename(columns = {'Bev.qkm' : 'population_per_sqkm'}, inplace = True)"
   ]
  },
  {
   "cell_type": "code",
   "execution_count": 19,
   "id": "6d33065f",
   "metadata": {},
   "outputs": [
    {
     "data": {
      "text/html": [
       "<div>\n",
       "<style scoped>\n",
       "    .dataframe tbody tr th:only-of-type {\n",
       "        vertical-align: middle;\n",
       "    }\n",
       "\n",
       "    .dataframe tbody tr th {\n",
       "        vertical-align: top;\n",
       "    }\n",
       "\n",
       "    .dataframe thead th {\n",
       "        text-align: right;\n",
       "    }\n",
       "</style>\n",
       "<table border=\"1\" class=\"dataframe\">\n",
       "  <thead>\n",
       "    <tr style=\"text-align: right;\">\n",
       "      <th></th>\n",
       "      <th>administration_unit_id</th>\n",
       "      <th>administration_level</th>\n",
       "      <th>bundesland_de</th>\n",
       "      <th>area_sqkm</th>\n",
       "      <th>population</th>\n",
       "      <th>male</th>\n",
       "      <th>female</th>\n",
       "      <th>population_per_sqkm</th>\n",
       "    </tr>\n",
       "  </thead>\n",
       "  <tbody>\n",
       "    <tr>\n",
       "      <th>0</th>\n",
       "      <td>0</td>\n",
       "      <td>Staat</td>\n",
       "      <td>Deutschland</td>\n",
       "      <td>357574.84</td>\n",
       "      <td>83019213.0</td>\n",
       "      <td>40966691.0</td>\n",
       "      <td>42052522.0</td>\n",
       "      <td>232.0</td>\n",
       "    </tr>\n",
       "    <tr>\n",
       "      <th>1</th>\n",
       "      <td>1</td>\n",
       "      <td>Bundesland</td>\n",
       "      <td>Schleswig-Holstein</td>\n",
       "      <td>15804.30</td>\n",
       "      <td>2896712.0</td>\n",
       "      <td>1419457.0</td>\n",
       "      <td>1477255.0</td>\n",
       "      <td>183.0</td>\n",
       "    </tr>\n",
       "    <tr>\n",
       "      <th>2</th>\n",
       "      <td>1001</td>\n",
       "      <td>Kreisfreie Stadt</td>\n",
       "      <td>Flensburg</td>\n",
       "      <td>56.73</td>\n",
       "      <td>89504.0</td>\n",
       "      <td>44599.0</td>\n",
       "      <td>44905.0</td>\n",
       "      <td>1578.0</td>\n",
       "    </tr>\n",
       "    <tr>\n",
       "      <th>3</th>\n",
       "      <td>1002</td>\n",
       "      <td>Landeshauptstadt</td>\n",
       "      <td>Kiel</td>\n",
       "      <td>118.65</td>\n",
       "      <td>247548.0</td>\n",
       "      <td>120566.0</td>\n",
       "      <td>126982.0</td>\n",
       "      <td>2086.0</td>\n",
       "    </tr>\n",
       "    <tr>\n",
       "      <th>4</th>\n",
       "      <td>1003</td>\n",
       "      <td>Hansestadt</td>\n",
       "      <td>Lübeck</td>\n",
       "      <td>214.19</td>\n",
       "      <td>217198.0</td>\n",
       "      <td>104371.0</td>\n",
       "      <td>112827.0</td>\n",
       "      <td>1014.0</td>\n",
       "    </tr>\n",
       "  </tbody>\n",
       "</table>\n",
       "</div>"
      ],
      "text/plain": [
       "   administration_unit_id administration_level       bundesland_de  area_sqkm  \\\n",
       "0                       0                Staat         Deutschland  357574.84   \n",
       "1                       1           Bundesland  Schleswig-Holstein   15804.30   \n",
       "2                    1001     Kreisfreie Stadt           Flensburg      56.73   \n",
       "3                    1002     Landeshauptstadt                Kiel     118.65   \n",
       "4                    1003           Hansestadt              Lübeck     214.19   \n",
       "\n",
       "   population        male      female  population_per_sqkm  \n",
       "0  83019213.0  40966691.0  42052522.0                232.0  \n",
       "1   2896712.0   1419457.0   1477255.0                183.0  \n",
       "2     89504.0     44599.0     44905.0               1578.0  \n",
       "3    247548.0    120566.0    126982.0               2086.0  \n",
       "4    217198.0    104371.0    112827.0               1014.0  "
      ]
     },
     "execution_count": 19,
     "metadata": {},
     "output_type": "execute_result"
    }
   ],
   "source": [
    "# See results\n",
    "population_de.head()"
   ]
  },
  {
   "cell_type": "markdown",
   "id": "8e888703",
   "metadata": {},
   "source": [
    "### Subsetting Bundesland"
   ]
  },
  {
   "cell_type": "markdown",
   "id": "02d8f4e4",
   "metadata": {},
   "source": [
    "From this dataframe, I am only interested to retrieve data at the Bundesland level"
   ]
  },
  {
   "cell_type": "code",
   "execution_count": 20,
   "id": "0497e5aa",
   "metadata": {},
   "outputs": [],
   "source": [
    "#Creating a subset to select only information at the Bundesland level\n",
    "# Bundesländer are listed from 1 to 16 within the administration_unit_id variable\n",
    "bundesland_de = population_de[population_de['administration_unit_id'].isin([1, 2, 3, 4, 5, 6, 7, 8, 9, 10, 11, 12, 13, 14, 15, 16])]"
   ]
  },
  {
   "cell_type": "code",
   "execution_count": 24,
   "id": "cccb7b4d",
   "metadata": {},
   "outputs": [
    {
     "data": {
      "text/html": [
       "<div>\n",
       "<style scoped>\n",
       "    .dataframe tbody tr th:only-of-type {\n",
       "        vertical-align: middle;\n",
       "    }\n",
       "\n",
       "    .dataframe tbody tr th {\n",
       "        vertical-align: top;\n",
       "    }\n",
       "\n",
       "    .dataframe thead th {\n",
       "        text-align: right;\n",
       "    }\n",
       "</style>\n",
       "<table border=\"1\" class=\"dataframe\">\n",
       "  <thead>\n",
       "    <tr style=\"text-align: right;\">\n",
       "      <th></th>\n",
       "      <th>administration_unit_id</th>\n",
       "      <th>administration_level</th>\n",
       "      <th>urban_rural_districts</th>\n",
       "      <th>area_sqkm</th>\n",
       "      <th>population</th>\n",
       "      <th>male</th>\n",
       "      <th>female</th>\n",
       "      <th>population_per_sqkm</th>\n",
       "    </tr>\n",
       "  </thead>\n",
       "  <tbody>\n",
       "    <tr>\n",
       "      <th>1</th>\n",
       "      <td>1</td>\n",
       "      <td>Bundesland</td>\n",
       "      <td>Schleswig-Holstein</td>\n",
       "      <td>15804.30</td>\n",
       "      <td>2896712.0</td>\n",
       "      <td>1419457.0</td>\n",
       "      <td>1477255.0</td>\n",
       "      <td>183.0</td>\n",
       "    </tr>\n",
       "    <tr>\n",
       "      <th>17</th>\n",
       "      <td>2</td>\n",
       "      <td>Bundesland</td>\n",
       "      <td>Hamburg</td>\n",
       "      <td>755.09</td>\n",
       "      <td>1841179.0</td>\n",
       "      <td>902048.0</td>\n",
       "      <td>939131.0</td>\n",
       "      <td>2438.0</td>\n",
       "    </tr>\n",
       "    <tr>\n",
       "      <th>19</th>\n",
       "      <td>3</td>\n",
       "      <td>Bundesland</td>\n",
       "      <td>Niedersachsen</td>\n",
       "      <td>47709.51</td>\n",
       "      <td>7982448.0</td>\n",
       "      <td>3943243.0</td>\n",
       "      <td>4039205.0</td>\n",
       "      <td>167.0</td>\n",
       "    </tr>\n",
       "    <tr>\n",
       "      <th>69</th>\n",
       "      <td>4</td>\n",
       "      <td>Bundesland</td>\n",
       "      <td>Bremen</td>\n",
       "      <td>419.36</td>\n",
       "      <td>682986.0</td>\n",
       "      <td>338035.0</td>\n",
       "      <td>344951.0</td>\n",
       "      <td>1629.0</td>\n",
       "    </tr>\n",
       "    <tr>\n",
       "      <th>72</th>\n",
       "      <td>5</td>\n",
       "      <td>Bundesland</td>\n",
       "      <td>Nordrhein-Westfalen</td>\n",
       "      <td>34112.31</td>\n",
       "      <td>17932651.0</td>\n",
       "      <td>8798631.0</td>\n",
       "      <td>9134020.0</td>\n",
       "      <td>526.0</td>\n",
       "    </tr>\n",
       "    <tr>\n",
       "      <th>131</th>\n",
       "      <td>6</td>\n",
       "      <td>Bundesland</td>\n",
       "      <td>Hessen</td>\n",
       "      <td>21115.67</td>\n",
       "      <td>6265809.0</td>\n",
       "      <td>3093044.0</td>\n",
       "      <td>3172765.0</td>\n",
       "      <td>297.0</td>\n",
       "    </tr>\n",
       "    <tr>\n",
       "      <th>161</th>\n",
       "      <td>7</td>\n",
       "      <td>Bundesland</td>\n",
       "      <td>Rheinland-Pfalz</td>\n",
       "      <td>19851.82</td>\n",
       "      <td>4084844.0</td>\n",
       "      <td>2017576.0</td>\n",
       "      <td>2067268.0</td>\n",
       "      <td>206.0</td>\n",
       "    </tr>\n",
       "    <tr>\n",
       "      <th>201</th>\n",
       "      <td>8</td>\n",
       "      <td>Bundesland</td>\n",
       "      <td>Baden-Württemberg</td>\n",
       "      <td>35748.20</td>\n",
       "      <td>11069533.0</td>\n",
       "      <td>5501693.0</td>\n",
       "      <td>5567840.0</td>\n",
       "      <td>310.0</td>\n",
       "    </tr>\n",
       "    <tr>\n",
       "      <th>262</th>\n",
       "      <td>9</td>\n",
       "      <td>Freistaat</td>\n",
       "      <td>Bayern</td>\n",
       "      <td>70541.61</td>\n",
       "      <td>13076721.0</td>\n",
       "      <td>6483793.0</td>\n",
       "      <td>6592928.0</td>\n",
       "      <td>185.0</td>\n",
       "    </tr>\n",
       "    <tr>\n",
       "      <th>366</th>\n",
       "      <td>10</td>\n",
       "      <td>Bundesland</td>\n",
       "      <td>Saarland</td>\n",
       "      <td>2571.11</td>\n",
       "      <td>990509.0</td>\n",
       "      <td>486159.0</td>\n",
       "      <td>504350.0</td>\n",
       "      <td>385.0</td>\n",
       "    </tr>\n",
       "    <tr>\n",
       "      <th>373</th>\n",
       "      <td>11</td>\n",
       "      <td>Bundesland</td>\n",
       "      <td>Berlin</td>\n",
       "      <td>891.12</td>\n",
       "      <td>3644826.0</td>\n",
       "      <td>1792801.0</td>\n",
       "      <td>1852025.0</td>\n",
       "      <td>4090.0</td>\n",
       "    </tr>\n",
       "    <tr>\n",
       "      <th>386</th>\n",
       "      <td>12</td>\n",
       "      <td>Bundesland</td>\n",
       "      <td>Brandenburg</td>\n",
       "      <td>29654.48</td>\n",
       "      <td>2511917.0</td>\n",
       "      <td>1239460.0</td>\n",
       "      <td>1272457.0</td>\n",
       "      <td>85.0</td>\n",
       "    </tr>\n",
       "    <tr>\n",
       "      <th>405</th>\n",
       "      <td>13</td>\n",
       "      <td>Bundesland</td>\n",
       "      <td>Mecklenburg-Vorpommern</td>\n",
       "      <td>23293.61</td>\n",
       "      <td>1609675.0</td>\n",
       "      <td>793639.0</td>\n",
       "      <td>816036.0</td>\n",
       "      <td>69.0</td>\n",
       "    </tr>\n",
       "    <tr>\n",
       "      <th>414</th>\n",
       "      <td>14</td>\n",
       "      <td>Freistaat</td>\n",
       "      <td>Sachsen</td>\n",
       "      <td>18449.95</td>\n",
       "      <td>4077937.0</td>\n",
       "      <td>2009619.0</td>\n",
       "      <td>2068318.0</td>\n",
       "      <td>221.0</td>\n",
       "    </tr>\n",
       "    <tr>\n",
       "      <th>431</th>\n",
       "      <td>15</td>\n",
       "      <td>Bundesland</td>\n",
       "      <td>Sachsen-Anhalt</td>\n",
       "      <td>20454.31</td>\n",
       "      <td>2208321.0</td>\n",
       "      <td>1086679.0</td>\n",
       "      <td>1121642.0</td>\n",
       "      <td>108.0</td>\n",
       "    </tr>\n",
       "    <tr>\n",
       "      <th>446</th>\n",
       "      <td>16</td>\n",
       "      <td>Freistaat</td>\n",
       "      <td>Thüringen</td>\n",
       "      <td>16202.39</td>\n",
       "      <td>2143145.0</td>\n",
       "      <td>1060814.0</td>\n",
       "      <td>1082331.0</td>\n",
       "      <td>132.0</td>\n",
       "    </tr>\n",
       "  </tbody>\n",
       "</table>\n",
       "</div>"
      ],
      "text/plain": [
       "     administration_unit_id administration_level   urban_rural_districts  \\\n",
       "1                         1           Bundesland      Schleswig-Holstein   \n",
       "17                        2           Bundesland                 Hamburg   \n",
       "19                        3           Bundesland           Niedersachsen   \n",
       "69                        4           Bundesland                  Bremen   \n",
       "72                        5           Bundesland     Nordrhein-Westfalen   \n",
       "131                       6           Bundesland                  Hessen   \n",
       "161                       7           Bundesland         Rheinland-Pfalz   \n",
       "201                       8           Bundesland       Baden-Württemberg   \n",
       "262                       9            Freistaat                  Bayern   \n",
       "366                      10           Bundesland                Saarland   \n",
       "373                      11           Bundesland                  Berlin   \n",
       "386                      12           Bundesland             Brandenburg   \n",
       "405                      13           Bundesland  Mecklenburg-Vorpommern   \n",
       "414                      14            Freistaat                 Sachsen   \n",
       "431                      15           Bundesland          Sachsen-Anhalt   \n",
       "446                      16            Freistaat               Thüringen   \n",
       "\n",
       "     area_sqkm  population       male     female  population_per_sqkm  \n",
       "1     15804.30   2896712.0  1419457.0  1477255.0                183.0  \n",
       "17      755.09   1841179.0   902048.0   939131.0               2438.0  \n",
       "19    47709.51   7982448.0  3943243.0  4039205.0                167.0  \n",
       "69      419.36    682986.0   338035.0   344951.0               1629.0  \n",
       "72    34112.31  17932651.0  8798631.0  9134020.0                526.0  \n",
       "131   21115.67   6265809.0  3093044.0  3172765.0                297.0  \n",
       "161   19851.82   4084844.0  2017576.0  2067268.0                206.0  \n",
       "201   35748.20  11069533.0  5501693.0  5567840.0                310.0  \n",
       "262   70541.61  13076721.0  6483793.0  6592928.0                185.0  \n",
       "366    2571.11    990509.0   486159.0   504350.0                385.0  \n",
       "373     891.12   3644826.0  1792801.0  1852025.0               4090.0  \n",
       "386   29654.48   2511917.0  1239460.0  1272457.0                 85.0  \n",
       "405   23293.61   1609675.0   793639.0   816036.0                 69.0  \n",
       "414   18449.95   4077937.0  2009619.0  2068318.0                221.0  \n",
       "431   20454.31   2208321.0  1086679.0  1121642.0                108.0  \n",
       "446   16202.39   2143145.0  1060814.0  1082331.0                132.0  "
      ]
     },
     "execution_count": 24,
     "metadata": {},
     "output_type": "execute_result"
    }
   ],
   "source": [
    "bundesland_de\n",
    "# the 16 Bundesländer are listed"
   ]
  },
  {
   "cell_type": "markdown",
   "id": "98fb5483",
   "metadata": {},
   "source": [
    "### Dropping columns"
   ]
  },
  {
   "cell_type": "code",
   "execution_count": 21,
   "id": "b1961864",
   "metadata": {},
   "outputs": [],
   "source": [
    "# Dropping function with function df.drop(columns = ['variable'])\n",
    "bundesland_de = bundesland_de.drop(columns = ['administration_level'])"
   ]
  },
  {
   "cell_type": "code",
   "execution_count": 22,
   "id": "7bb44ce0",
   "metadata": {},
   "outputs": [
    {
     "data": {
      "text/html": [
       "<div>\n",
       "<style scoped>\n",
       "    .dataframe tbody tr th:only-of-type {\n",
       "        vertical-align: middle;\n",
       "    }\n",
       "\n",
       "    .dataframe tbody tr th {\n",
       "        vertical-align: top;\n",
       "    }\n",
       "\n",
       "    .dataframe thead th {\n",
       "        text-align: right;\n",
       "    }\n",
       "</style>\n",
       "<table border=\"1\" class=\"dataframe\">\n",
       "  <thead>\n",
       "    <tr style=\"text-align: right;\">\n",
       "      <th></th>\n",
       "      <th>administration_unit_id</th>\n",
       "      <th>bundesland_de</th>\n",
       "      <th>area_sqkm</th>\n",
       "      <th>population</th>\n",
       "      <th>male</th>\n",
       "      <th>female</th>\n",
       "      <th>population_per_sqkm</th>\n",
       "    </tr>\n",
       "  </thead>\n",
       "  <tbody>\n",
       "    <tr>\n",
       "      <th>1</th>\n",
       "      <td>1</td>\n",
       "      <td>Schleswig-Holstein</td>\n",
       "      <td>15804.30</td>\n",
       "      <td>2896712.0</td>\n",
       "      <td>1419457.0</td>\n",
       "      <td>1477255.0</td>\n",
       "      <td>183.0</td>\n",
       "    </tr>\n",
       "    <tr>\n",
       "      <th>17</th>\n",
       "      <td>2</td>\n",
       "      <td>Hamburg</td>\n",
       "      <td>755.09</td>\n",
       "      <td>1841179.0</td>\n",
       "      <td>902048.0</td>\n",
       "      <td>939131.0</td>\n",
       "      <td>2438.0</td>\n",
       "    </tr>\n",
       "    <tr>\n",
       "      <th>19</th>\n",
       "      <td>3</td>\n",
       "      <td>Niedersachsen</td>\n",
       "      <td>47709.51</td>\n",
       "      <td>7982448.0</td>\n",
       "      <td>3943243.0</td>\n",
       "      <td>4039205.0</td>\n",
       "      <td>167.0</td>\n",
       "    </tr>\n",
       "    <tr>\n",
       "      <th>69</th>\n",
       "      <td>4</td>\n",
       "      <td>Bremen</td>\n",
       "      <td>419.36</td>\n",
       "      <td>682986.0</td>\n",
       "      <td>338035.0</td>\n",
       "      <td>344951.0</td>\n",
       "      <td>1629.0</td>\n",
       "    </tr>\n",
       "    <tr>\n",
       "      <th>72</th>\n",
       "      <td>5</td>\n",
       "      <td>Nordrhein-Westfalen</td>\n",
       "      <td>34112.31</td>\n",
       "      <td>17932651.0</td>\n",
       "      <td>8798631.0</td>\n",
       "      <td>9134020.0</td>\n",
       "      <td>526.0</td>\n",
       "    </tr>\n",
       "    <tr>\n",
       "      <th>131</th>\n",
       "      <td>6</td>\n",
       "      <td>Hessen</td>\n",
       "      <td>21115.67</td>\n",
       "      <td>6265809.0</td>\n",
       "      <td>3093044.0</td>\n",
       "      <td>3172765.0</td>\n",
       "      <td>297.0</td>\n",
       "    </tr>\n",
       "    <tr>\n",
       "      <th>161</th>\n",
       "      <td>7</td>\n",
       "      <td>Rheinland-Pfalz</td>\n",
       "      <td>19851.82</td>\n",
       "      <td>4084844.0</td>\n",
       "      <td>2017576.0</td>\n",
       "      <td>2067268.0</td>\n",
       "      <td>206.0</td>\n",
       "    </tr>\n",
       "    <tr>\n",
       "      <th>201</th>\n",
       "      <td>8</td>\n",
       "      <td>Baden-Württemberg</td>\n",
       "      <td>35748.20</td>\n",
       "      <td>11069533.0</td>\n",
       "      <td>5501693.0</td>\n",
       "      <td>5567840.0</td>\n",
       "      <td>310.0</td>\n",
       "    </tr>\n",
       "    <tr>\n",
       "      <th>262</th>\n",
       "      <td>9</td>\n",
       "      <td>Bayern</td>\n",
       "      <td>70541.61</td>\n",
       "      <td>13076721.0</td>\n",
       "      <td>6483793.0</td>\n",
       "      <td>6592928.0</td>\n",
       "      <td>185.0</td>\n",
       "    </tr>\n",
       "    <tr>\n",
       "      <th>366</th>\n",
       "      <td>10</td>\n",
       "      <td>Saarland</td>\n",
       "      <td>2571.11</td>\n",
       "      <td>990509.0</td>\n",
       "      <td>486159.0</td>\n",
       "      <td>504350.0</td>\n",
       "      <td>385.0</td>\n",
       "    </tr>\n",
       "    <tr>\n",
       "      <th>373</th>\n",
       "      <td>11</td>\n",
       "      <td>Berlin</td>\n",
       "      <td>891.12</td>\n",
       "      <td>3644826.0</td>\n",
       "      <td>1792801.0</td>\n",
       "      <td>1852025.0</td>\n",
       "      <td>4090.0</td>\n",
       "    </tr>\n",
       "    <tr>\n",
       "      <th>386</th>\n",
       "      <td>12</td>\n",
       "      <td>Brandenburg</td>\n",
       "      <td>29654.48</td>\n",
       "      <td>2511917.0</td>\n",
       "      <td>1239460.0</td>\n",
       "      <td>1272457.0</td>\n",
       "      <td>85.0</td>\n",
       "    </tr>\n",
       "    <tr>\n",
       "      <th>405</th>\n",
       "      <td>13</td>\n",
       "      <td>Mecklenburg-Vorpommern</td>\n",
       "      <td>23293.61</td>\n",
       "      <td>1609675.0</td>\n",
       "      <td>793639.0</td>\n",
       "      <td>816036.0</td>\n",
       "      <td>69.0</td>\n",
       "    </tr>\n",
       "    <tr>\n",
       "      <th>414</th>\n",
       "      <td>14</td>\n",
       "      <td>Sachsen</td>\n",
       "      <td>18449.95</td>\n",
       "      <td>4077937.0</td>\n",
       "      <td>2009619.0</td>\n",
       "      <td>2068318.0</td>\n",
       "      <td>221.0</td>\n",
       "    </tr>\n",
       "    <tr>\n",
       "      <th>431</th>\n",
       "      <td>15</td>\n",
       "      <td>Sachsen-Anhalt</td>\n",
       "      <td>20454.31</td>\n",
       "      <td>2208321.0</td>\n",
       "      <td>1086679.0</td>\n",
       "      <td>1121642.0</td>\n",
       "      <td>108.0</td>\n",
       "    </tr>\n",
       "    <tr>\n",
       "      <th>446</th>\n",
       "      <td>16</td>\n",
       "      <td>Thüringen</td>\n",
       "      <td>16202.39</td>\n",
       "      <td>2143145.0</td>\n",
       "      <td>1060814.0</td>\n",
       "      <td>1082331.0</td>\n",
       "      <td>132.0</td>\n",
       "    </tr>\n",
       "  </tbody>\n",
       "</table>\n",
       "</div>"
      ],
      "text/plain": [
       "     administration_unit_id           bundesland_de  area_sqkm  population  \\\n",
       "1                         1      Schleswig-Holstein   15804.30   2896712.0   \n",
       "17                        2                 Hamburg     755.09   1841179.0   \n",
       "19                        3           Niedersachsen   47709.51   7982448.0   \n",
       "69                        4                  Bremen     419.36    682986.0   \n",
       "72                        5     Nordrhein-Westfalen   34112.31  17932651.0   \n",
       "131                       6                  Hessen   21115.67   6265809.0   \n",
       "161                       7         Rheinland-Pfalz   19851.82   4084844.0   \n",
       "201                       8       Baden-Württemberg   35748.20  11069533.0   \n",
       "262                       9                  Bayern   70541.61  13076721.0   \n",
       "366                      10                Saarland    2571.11    990509.0   \n",
       "373                      11                  Berlin     891.12   3644826.0   \n",
       "386                      12             Brandenburg   29654.48   2511917.0   \n",
       "405                      13  Mecklenburg-Vorpommern   23293.61   1609675.0   \n",
       "414                      14                 Sachsen   18449.95   4077937.0   \n",
       "431                      15          Sachsen-Anhalt   20454.31   2208321.0   \n",
       "446                      16               Thüringen   16202.39   2143145.0   \n",
       "\n",
       "          male     female  population_per_sqkm  \n",
       "1    1419457.0  1477255.0                183.0  \n",
       "17    902048.0   939131.0               2438.0  \n",
       "19   3943243.0  4039205.0                167.0  \n",
       "69    338035.0   344951.0               1629.0  \n",
       "72   8798631.0  9134020.0                526.0  \n",
       "131  3093044.0  3172765.0                297.0  \n",
       "161  2017576.0  2067268.0                206.0  \n",
       "201  5501693.0  5567840.0                310.0  \n",
       "262  6483793.0  6592928.0                185.0  \n",
       "366   486159.0   504350.0                385.0  \n",
       "373  1792801.0  1852025.0               4090.0  \n",
       "386  1239460.0  1272457.0                 85.0  \n",
       "405   793639.0   816036.0                 69.0  \n",
       "414  2009619.0  2068318.0                221.0  \n",
       "431  1086679.0  1121642.0                108.0  \n",
       "446  1060814.0  1082331.0                132.0  "
      ]
     },
     "execution_count": 22,
     "metadata": {},
     "output_type": "execute_result"
    }
   ],
   "source": [
    "# See results\n",
    "bundesland_de"
   ]
  },
  {
   "cell_type": "markdown",
   "id": "9981293b",
   "metadata": {},
   "source": [
    "### Mixed datatypes"
   ]
  },
  {
   "cell_type": "code",
   "execution_count": 23,
   "id": "a2116e15",
   "metadata": {},
   "outputs": [],
   "source": [
    "# Check for mixed data types\n",
    "for col in bundesland_de.columns.tolist():\n",
    "  weird = (bundesland_de[[col]].map(type) != bundesland_de[[col]].iloc[0].apply(type)).any(axis = 1)\n",
    "  if len (bundesland_de[weird]) > 0:\n",
    "    print (col)\n",
    "    #no mixed data type\n",
    "    # no missing values"
   ]
  },
  {
   "cell_type": "markdown",
   "id": "57c0cb03",
   "metadata": {},
   "source": [
    "### Adding GDP information"
   ]
  },
  {
   "cell_type": "markdown",
   "id": "fab5663d",
   "metadata": {},
   "source": [
    "To compliment the information at the Bundesland level, I will add the GDP information. I retrieved the GDP data from 2022 at the Bundesland level from the [Statistische Ämter des Bundes und der Länder](https://www.statistikportal.de/de).     "
   ]
  },
  {
   "cell_type": "code",
   "execution_count": 28,
   "id": "98491018",
   "metadata": {},
   "outputs": [
    {
     "data": {
      "text/html": [
       "<div>\n",
       "<style scoped>\n",
       "    .dataframe tbody tr th:only-of-type {\n",
       "        vertical-align: middle;\n",
       "    }\n",
       "\n",
       "    .dataframe tbody tr th {\n",
       "        vertical-align: top;\n",
       "    }\n",
       "\n",
       "    .dataframe thead th {\n",
       "        text-align: right;\n",
       "    }\n",
       "</style>\n",
       "<table border=\"1\" class=\"dataframe\">\n",
       "  <thead>\n",
       "    <tr style=\"text-align: right;\">\n",
       "      <th></th>\n",
       "      <th>bundesland_de</th>\n",
       "      <th>gdp_mill_euro</th>\n",
       "    </tr>\n",
       "  </thead>\n",
       "  <tbody>\n",
       "    <tr>\n",
       "      <th>0</th>\n",
       "      <td>Baden-Württemberg</td>\n",
       "      <td>572837</td>\n",
       "    </tr>\n",
       "    <tr>\n",
       "      <th>1</th>\n",
       "      <td>Bayern</td>\n",
       "      <td>716784</td>\n",
       "    </tr>\n",
       "    <tr>\n",
       "      <th>2</th>\n",
       "      <td>Berlin</td>\n",
       "      <td>179379</td>\n",
       "    </tr>\n",
       "    <tr>\n",
       "      <th>3</th>\n",
       "      <td>Brandenburg</td>\n",
       "      <td>88800</td>\n",
       "    </tr>\n",
       "    <tr>\n",
       "      <th>4</th>\n",
       "      <td>Bremen</td>\n",
       "      <td>38698</td>\n",
       "    </tr>\n",
       "    <tr>\n",
       "      <th>5</th>\n",
       "      <td>Hamburg</td>\n",
       "      <td>144220</td>\n",
       "    </tr>\n",
       "    <tr>\n",
       "      <th>6</th>\n",
       "      <td>Hessen</td>\n",
       "      <td>323352</td>\n",
       "    </tr>\n",
       "    <tr>\n",
       "      <th>7</th>\n",
       "      <td>Mecklenburg-Vorpommern</td>\n",
       "      <td>53440</td>\n",
       "    </tr>\n",
       "    <tr>\n",
       "      <th>8</th>\n",
       "      <td>Niedersachsen</td>\n",
       "      <td>339414</td>\n",
       "    </tr>\n",
       "    <tr>\n",
       "      <th>9</th>\n",
       "      <td>Nordrhein-Westfalen</td>\n",
       "      <td>793790</td>\n",
       "    </tr>\n",
       "    <tr>\n",
       "      <th>10</th>\n",
       "      <td>Rheinland-Pfalz</td>\n",
       "      <td>171699</td>\n",
       "    </tr>\n",
       "    <tr>\n",
       "      <th>11</th>\n",
       "      <td>Saarland</td>\n",
       "      <td>38505</td>\n",
       "    </tr>\n",
       "    <tr>\n",
       "      <th>12</th>\n",
       "      <td>Sachsen</td>\n",
       "      <td>146511</td>\n",
       "    </tr>\n",
       "    <tr>\n",
       "      <th>13</th>\n",
       "      <td>Sachsen-Anhalt</td>\n",
       "      <td>75436</td>\n",
       "    </tr>\n",
       "    <tr>\n",
       "      <th>14</th>\n",
       "      <td>Schleswig-Holstein</td>\n",
       "      <td>112755</td>\n",
       "    </tr>\n",
       "    <tr>\n",
       "      <th>15</th>\n",
       "      <td>Thüringen</td>\n",
       "      <td>71430</td>\n",
       "    </tr>\n",
       "  </tbody>\n",
       "</table>\n",
       "</div>"
      ],
      "text/plain": [
       "             bundesland_de  gdp_mill_euro\n",
       "0        Baden-Württemberg         572837\n",
       "1                   Bayern         716784\n",
       "2                   Berlin         179379\n",
       "3              Brandenburg          88800\n",
       "4                   Bremen          38698\n",
       "5                  Hamburg         144220\n",
       "6                   Hessen         323352\n",
       "7   Mecklenburg-Vorpommern          53440\n",
       "8            Niedersachsen         339414\n",
       "9      Nordrhein-Westfalen         793790\n",
       "10         Rheinland-Pfalz         171699\n",
       "11                Saarland          38505\n",
       "12                 Sachsen         146511\n",
       "13          Sachsen-Anhalt          75436\n",
       "14      Schleswig-Holstein         112755\n",
       "15               Thüringen          71430"
      ]
     },
     "execution_count": 28,
     "metadata": {},
     "output_type": "execute_result"
    }
   ],
   "source": [
    "# Information about the GDP of each Bundesland\n",
    "GDP_data = {\n",
    "    'bundesland_de': ['Baden-Württemberg', 'Bayern', 'Berlin', 'Brandenburg', 'Bremen', 'Hamburg', 'Hessen', 'Mecklenburg-Vorpommern', 'Niedersachsen', 'Nordrhein-Westfalen', 'Rheinland-Pfalz', 'Saarland', 'Sachsen', 'Sachsen-Anhalt', 'Schleswig-Holstein', 'Thüringen'],\n",
    "    'gdp_mill_euro': [572837, 716784, 179379, 88800, 38698, 144220, 323352, 53440, 339414, 793790, 171699, 38505, 146511, 75436, 112755, 71430]\n",
    "}\n",
    "\n",
    "# Create a DataFrame from the provided area data\n",
    "gdp = pd.DataFrame(GDP_data)\n",
    "\n",
    "# See results\n",
    "gdp"
   ]
  },
  {
   "cell_type": "code",
   "execution_count": 29,
   "id": "a0aeab77",
   "metadata": {},
   "outputs": [
    {
     "data": {
      "text/html": [
       "<div>\n",
       "<style scoped>\n",
       "    .dataframe tbody tr th:only-of-type {\n",
       "        vertical-align: middle;\n",
       "    }\n",
       "\n",
       "    .dataframe tbody tr th {\n",
       "        vertical-align: top;\n",
       "    }\n",
       "\n",
       "    .dataframe thead th {\n",
       "        text-align: right;\n",
       "    }\n",
       "</style>\n",
       "<table border=\"1\" class=\"dataframe\">\n",
       "  <thead>\n",
       "    <tr style=\"text-align: right;\">\n",
       "      <th></th>\n",
       "      <th>administration_unit_id</th>\n",
       "      <th>bundesland_de</th>\n",
       "      <th>area_sqkm</th>\n",
       "      <th>population</th>\n",
       "      <th>male</th>\n",
       "      <th>female</th>\n",
       "      <th>population_per_sqkm</th>\n",
       "      <th>gdp_mill_euro</th>\n",
       "    </tr>\n",
       "  </thead>\n",
       "  <tbody>\n",
       "    <tr>\n",
       "      <th>0</th>\n",
       "      <td>1</td>\n",
       "      <td>Schleswig-Holstein</td>\n",
       "      <td>15804.30</td>\n",
       "      <td>2896712.0</td>\n",
       "      <td>1419457.0</td>\n",
       "      <td>1477255.0</td>\n",
       "      <td>183.0</td>\n",
       "      <td>112755</td>\n",
       "    </tr>\n",
       "    <tr>\n",
       "      <th>1</th>\n",
       "      <td>2</td>\n",
       "      <td>Hamburg</td>\n",
       "      <td>755.09</td>\n",
       "      <td>1841179.0</td>\n",
       "      <td>902048.0</td>\n",
       "      <td>939131.0</td>\n",
       "      <td>2438.0</td>\n",
       "      <td>144220</td>\n",
       "    </tr>\n",
       "    <tr>\n",
       "      <th>2</th>\n",
       "      <td>3</td>\n",
       "      <td>Niedersachsen</td>\n",
       "      <td>47709.51</td>\n",
       "      <td>7982448.0</td>\n",
       "      <td>3943243.0</td>\n",
       "      <td>4039205.0</td>\n",
       "      <td>167.0</td>\n",
       "      <td>339414</td>\n",
       "    </tr>\n",
       "    <tr>\n",
       "      <th>3</th>\n",
       "      <td>4</td>\n",
       "      <td>Bremen</td>\n",
       "      <td>419.36</td>\n",
       "      <td>682986.0</td>\n",
       "      <td>338035.0</td>\n",
       "      <td>344951.0</td>\n",
       "      <td>1629.0</td>\n",
       "      <td>38698</td>\n",
       "    </tr>\n",
       "    <tr>\n",
       "      <th>4</th>\n",
       "      <td>5</td>\n",
       "      <td>Nordrhein-Westfalen</td>\n",
       "      <td>34112.31</td>\n",
       "      <td>17932651.0</td>\n",
       "      <td>8798631.0</td>\n",
       "      <td>9134020.0</td>\n",
       "      <td>526.0</td>\n",
       "      <td>793790</td>\n",
       "    </tr>\n",
       "    <tr>\n",
       "      <th>5</th>\n",
       "      <td>6</td>\n",
       "      <td>Hessen</td>\n",
       "      <td>21115.67</td>\n",
       "      <td>6265809.0</td>\n",
       "      <td>3093044.0</td>\n",
       "      <td>3172765.0</td>\n",
       "      <td>297.0</td>\n",
       "      <td>323352</td>\n",
       "    </tr>\n",
       "    <tr>\n",
       "      <th>6</th>\n",
       "      <td>7</td>\n",
       "      <td>Rheinland-Pfalz</td>\n",
       "      <td>19851.82</td>\n",
       "      <td>4084844.0</td>\n",
       "      <td>2017576.0</td>\n",
       "      <td>2067268.0</td>\n",
       "      <td>206.0</td>\n",
       "      <td>171699</td>\n",
       "    </tr>\n",
       "    <tr>\n",
       "      <th>7</th>\n",
       "      <td>8</td>\n",
       "      <td>Baden-Württemberg</td>\n",
       "      <td>35748.20</td>\n",
       "      <td>11069533.0</td>\n",
       "      <td>5501693.0</td>\n",
       "      <td>5567840.0</td>\n",
       "      <td>310.0</td>\n",
       "      <td>572837</td>\n",
       "    </tr>\n",
       "    <tr>\n",
       "      <th>8</th>\n",
       "      <td>9</td>\n",
       "      <td>Bayern</td>\n",
       "      <td>70541.61</td>\n",
       "      <td>13076721.0</td>\n",
       "      <td>6483793.0</td>\n",
       "      <td>6592928.0</td>\n",
       "      <td>185.0</td>\n",
       "      <td>716784</td>\n",
       "    </tr>\n",
       "    <tr>\n",
       "      <th>9</th>\n",
       "      <td>10</td>\n",
       "      <td>Saarland</td>\n",
       "      <td>2571.11</td>\n",
       "      <td>990509.0</td>\n",
       "      <td>486159.0</td>\n",
       "      <td>504350.0</td>\n",
       "      <td>385.0</td>\n",
       "      <td>38505</td>\n",
       "    </tr>\n",
       "    <tr>\n",
       "      <th>10</th>\n",
       "      <td>11</td>\n",
       "      <td>Berlin</td>\n",
       "      <td>891.12</td>\n",
       "      <td>3644826.0</td>\n",
       "      <td>1792801.0</td>\n",
       "      <td>1852025.0</td>\n",
       "      <td>4090.0</td>\n",
       "      <td>179379</td>\n",
       "    </tr>\n",
       "    <tr>\n",
       "      <th>11</th>\n",
       "      <td>12</td>\n",
       "      <td>Brandenburg</td>\n",
       "      <td>29654.48</td>\n",
       "      <td>2511917.0</td>\n",
       "      <td>1239460.0</td>\n",
       "      <td>1272457.0</td>\n",
       "      <td>85.0</td>\n",
       "      <td>88800</td>\n",
       "    </tr>\n",
       "    <tr>\n",
       "      <th>12</th>\n",
       "      <td>13</td>\n",
       "      <td>Mecklenburg-Vorpommern</td>\n",
       "      <td>23293.61</td>\n",
       "      <td>1609675.0</td>\n",
       "      <td>793639.0</td>\n",
       "      <td>816036.0</td>\n",
       "      <td>69.0</td>\n",
       "      <td>53440</td>\n",
       "    </tr>\n",
       "    <tr>\n",
       "      <th>13</th>\n",
       "      <td>14</td>\n",
       "      <td>Sachsen</td>\n",
       "      <td>18449.95</td>\n",
       "      <td>4077937.0</td>\n",
       "      <td>2009619.0</td>\n",
       "      <td>2068318.0</td>\n",
       "      <td>221.0</td>\n",
       "      <td>146511</td>\n",
       "    </tr>\n",
       "    <tr>\n",
       "      <th>14</th>\n",
       "      <td>15</td>\n",
       "      <td>Sachsen-Anhalt</td>\n",
       "      <td>20454.31</td>\n",
       "      <td>2208321.0</td>\n",
       "      <td>1086679.0</td>\n",
       "      <td>1121642.0</td>\n",
       "      <td>108.0</td>\n",
       "      <td>75436</td>\n",
       "    </tr>\n",
       "    <tr>\n",
       "      <th>15</th>\n",
       "      <td>16</td>\n",
       "      <td>Thüringen</td>\n",
       "      <td>16202.39</td>\n",
       "      <td>2143145.0</td>\n",
       "      <td>1060814.0</td>\n",
       "      <td>1082331.0</td>\n",
       "      <td>132.0</td>\n",
       "      <td>71430</td>\n",
       "    </tr>\n",
       "  </tbody>\n",
       "</table>\n",
       "</div>"
      ],
      "text/plain": [
       "    administration_unit_id           bundesland_de  area_sqkm  population  \\\n",
       "0                        1      Schleswig-Holstein   15804.30   2896712.0   \n",
       "1                        2                 Hamburg     755.09   1841179.0   \n",
       "2                        3           Niedersachsen   47709.51   7982448.0   \n",
       "3                        4                  Bremen     419.36    682986.0   \n",
       "4                        5     Nordrhein-Westfalen   34112.31  17932651.0   \n",
       "5                        6                  Hessen   21115.67   6265809.0   \n",
       "6                        7         Rheinland-Pfalz   19851.82   4084844.0   \n",
       "7                        8       Baden-Württemberg   35748.20  11069533.0   \n",
       "8                        9                  Bayern   70541.61  13076721.0   \n",
       "9                       10                Saarland    2571.11    990509.0   \n",
       "10                      11                  Berlin     891.12   3644826.0   \n",
       "11                      12             Brandenburg   29654.48   2511917.0   \n",
       "12                      13  Mecklenburg-Vorpommern   23293.61   1609675.0   \n",
       "13                      14                 Sachsen   18449.95   4077937.0   \n",
       "14                      15          Sachsen-Anhalt   20454.31   2208321.0   \n",
       "15                      16               Thüringen   16202.39   2143145.0   \n",
       "\n",
       "         male     female  population_per_sqkm  gdp_mill_euro  \n",
       "0   1419457.0  1477255.0                183.0         112755  \n",
       "1    902048.0   939131.0               2438.0         144220  \n",
       "2   3943243.0  4039205.0                167.0         339414  \n",
       "3    338035.0   344951.0               1629.0          38698  \n",
       "4   8798631.0  9134020.0                526.0         793790  \n",
       "5   3093044.0  3172765.0                297.0         323352  \n",
       "6   2017576.0  2067268.0                206.0         171699  \n",
       "7   5501693.0  5567840.0                310.0         572837  \n",
       "8   6483793.0  6592928.0                185.0         716784  \n",
       "9    486159.0   504350.0                385.0          38505  \n",
       "10  1792801.0  1852025.0               4090.0         179379  \n",
       "11  1239460.0  1272457.0                 85.0          88800  \n",
       "12   793639.0   816036.0                 69.0          53440  \n",
       "13  2009619.0  2068318.0                221.0         146511  \n",
       "14  1086679.0  1121642.0                108.0          75436  \n",
       "15  1060814.0  1082331.0                132.0          71430  "
      ]
     },
     "execution_count": 29,
     "metadata": {},
     "output_type": "execute_result"
    }
   ],
   "source": [
    "# Merge the existing DataFrame with the new DataFrame based on the 'State' column\n",
    "bundesland_gdp = pd.merge(bundesland_de, gdp, on='bundesland_de')\n",
    "\n",
    "# See results\n",
    "bundesland_gdp"
   ]
  },
  {
   "cell_type": "markdown",
   "id": "bd6f1c3c",
   "metadata": {},
   "source": [
    "## 3.3 German population regional"
   ]
  },
  {
   "cell_type": "markdown",
   "id": "e7e87c96",
   "metadata": {},
   "source": [
    "### 3.3.1 Habitants per postcode"
   ]
  },
  {
   "cell_type": "code",
   "execution_count": 38,
   "id": "5f1e0b08",
   "metadata": {},
   "outputs": [
    {
     "data": {
      "text/html": [
       "<div>\n",
       "<style scoped>\n",
       "    .dataframe tbody tr th:only-of-type {\n",
       "        vertical-align: middle;\n",
       "    }\n",
       "\n",
       "    .dataframe tbody tr th {\n",
       "        vertical-align: top;\n",
       "    }\n",
       "\n",
       "    .dataframe thead th {\n",
       "        text-align: right;\n",
       "    }\n",
       "</style>\n",
       "<table border=\"1\" class=\"dataframe\">\n",
       "  <thead>\n",
       "    <tr style=\"text-align: right;\">\n",
       "      <th></th>\n",
       "      <th>plz</th>\n",
       "      <th>note</th>\n",
       "      <th>einwohner</th>\n",
       "      <th>qkm</th>\n",
       "      <th>lat</th>\n",
       "      <th>lon</th>\n",
       "    </tr>\n",
       "  </thead>\n",
       "  <tbody>\n",
       "    <tr>\n",
       "      <th>0</th>\n",
       "      <td>01067</td>\n",
       "      <td>01067 Dresden</td>\n",
       "      <td>11957</td>\n",
       "      <td>6.866839</td>\n",
       "      <td>51.06019</td>\n",
       "      <td>13.71117</td>\n",
       "    </tr>\n",
       "    <tr>\n",
       "      <th>1</th>\n",
       "      <td>01069</td>\n",
       "      <td>01069 Dresden</td>\n",
       "      <td>25483</td>\n",
       "      <td>5.339213</td>\n",
       "      <td>51.03964</td>\n",
       "      <td>13.73030</td>\n",
       "    </tr>\n",
       "    <tr>\n",
       "      <th>2</th>\n",
       "      <td>01097</td>\n",
       "      <td>01097 Dresden</td>\n",
       "      <td>14821</td>\n",
       "      <td>3.298022</td>\n",
       "      <td>51.06945</td>\n",
       "      <td>13.73781</td>\n",
       "    </tr>\n",
       "    <tr>\n",
       "      <th>3</th>\n",
       "      <td>01099</td>\n",
       "      <td>01099 Dresden</td>\n",
       "      <td>28018</td>\n",
       "      <td>58.505818</td>\n",
       "      <td>51.09272</td>\n",
       "      <td>13.82842</td>\n",
       "    </tr>\n",
       "    <tr>\n",
       "      <th>4</th>\n",
       "      <td>01108</td>\n",
       "      <td>01108 Dresden</td>\n",
       "      <td>5876</td>\n",
       "      <td>16.447222</td>\n",
       "      <td>51.15180</td>\n",
       "      <td>13.79227</td>\n",
       "    </tr>\n",
       "  </tbody>\n",
       "</table>\n",
       "</div>"
      ],
      "text/plain": [
       "     plz           note  einwohner        qkm       lat       lon\n",
       "0  01067  01067 Dresden      11957   6.866839  51.06019  13.71117\n",
       "1  01069  01069 Dresden      25483   5.339213  51.03964  13.73030\n",
       "2  01097  01097 Dresden      14821   3.298022  51.06945  13.73781\n",
       "3  01099  01099 Dresden      28018  58.505818  51.09272  13.82842\n",
       "4  01108  01108 Dresden       5876  16.447222  51.15180  13.79227"
      ]
     },
     "execution_count": 38,
     "metadata": {},
     "output_type": "execute_result"
    }
   ],
   "source": [
    "# See headers\n",
    "plz_de.head()"
   ]
  },
  {
   "cell_type": "markdown",
   "id": "9877085b",
   "metadata": {},
   "source": [
    "### Dropping columns"
   ]
  },
  {
   "cell_type": "code",
   "execution_count": 7,
   "id": "614288f8",
   "metadata": {},
   "outputs": [],
   "source": [
    "# Dropping function with function df.drop(columns = ['variable'])\n",
    "plz_de = plz_de.drop(columns = ['lat', 'lon', 'note'])"
   ]
  },
  {
   "cell_type": "code",
   "execution_count": 8,
   "id": "7a3e58b7",
   "metadata": {},
   "outputs": [
    {
     "data": {
      "text/html": [
       "<div>\n",
       "<style scoped>\n",
       "    .dataframe tbody tr th:only-of-type {\n",
       "        vertical-align: middle;\n",
       "    }\n",
       "\n",
       "    .dataframe tbody tr th {\n",
       "        vertical-align: top;\n",
       "    }\n",
       "\n",
       "    .dataframe thead th {\n",
       "        text-align: right;\n",
       "    }\n",
       "</style>\n",
       "<table border=\"1\" class=\"dataframe\">\n",
       "  <thead>\n",
       "    <tr style=\"text-align: right;\">\n",
       "      <th></th>\n",
       "      <th>plz</th>\n",
       "      <th>einwohner</th>\n",
       "      <th>qkm</th>\n",
       "    </tr>\n",
       "  </thead>\n",
       "  <tbody>\n",
       "    <tr>\n",
       "      <th>0</th>\n",
       "      <td>01067</td>\n",
       "      <td>11957</td>\n",
       "      <td>6.866839</td>\n",
       "    </tr>\n",
       "    <tr>\n",
       "      <th>1</th>\n",
       "      <td>01069</td>\n",
       "      <td>25483</td>\n",
       "      <td>5.339213</td>\n",
       "    </tr>\n",
       "    <tr>\n",
       "      <th>2</th>\n",
       "      <td>01097</td>\n",
       "      <td>14821</td>\n",
       "      <td>3.298022</td>\n",
       "    </tr>\n",
       "    <tr>\n",
       "      <th>3</th>\n",
       "      <td>01099</td>\n",
       "      <td>28018</td>\n",
       "      <td>58.505818</td>\n",
       "    </tr>\n",
       "    <tr>\n",
       "      <th>4</th>\n",
       "      <td>01108</td>\n",
       "      <td>5876</td>\n",
       "      <td>16.447222</td>\n",
       "    </tr>\n",
       "  </tbody>\n",
       "</table>\n",
       "</div>"
      ],
      "text/plain": [
       "     plz  einwohner        qkm\n",
       "0  01067      11957   6.866839\n",
       "1  01069      25483   5.339213\n",
       "2  01097      14821   3.298022\n",
       "3  01099      28018  58.505818\n",
       "4  01108       5876  16.447222"
      ]
     },
     "execution_count": 8,
     "metadata": {},
     "output_type": "execute_result"
    }
   ],
   "source": [
    "# See results\n",
    "plz_de.head()"
   ]
  },
  {
   "cell_type": "markdown",
   "id": "85c9dae5",
   "metadata": {},
   "source": [
    "### Renaming variables"
   ]
  },
  {
   "cell_type": "code",
   "execution_count": 9,
   "id": "37b02db1",
   "metadata": {},
   "outputs": [],
   "source": [
    "# Rename variable using df.rename(columns = {'old_name' : 'new_name'}, inplace = True)\n",
    "plz_de.rename(columns = {'einwohner' : 'habitants'}, inplace = True)"
   ]
  },
  {
   "cell_type": "code",
   "execution_count": 10,
   "id": "70eaec84",
   "metadata": {},
   "outputs": [],
   "source": [
    "# Rename variable using df.rename(columns = {'old_name' : 'new_name'}, inplace = True)\n",
    "plz_de.rename(columns = {'qkm' : 'area_sqkm'}, inplace = True)"
   ]
  },
  {
   "cell_type": "code",
   "execution_count": 11,
   "id": "fb5e85e5",
   "metadata": {},
   "outputs": [
    {
     "data": {
      "text/html": [
       "<div>\n",
       "<style scoped>\n",
       "    .dataframe tbody tr th:only-of-type {\n",
       "        vertical-align: middle;\n",
       "    }\n",
       "\n",
       "    .dataframe tbody tr th {\n",
       "        vertical-align: top;\n",
       "    }\n",
       "\n",
       "    .dataframe thead th {\n",
       "        text-align: right;\n",
       "    }\n",
       "</style>\n",
       "<table border=\"1\" class=\"dataframe\">\n",
       "  <thead>\n",
       "    <tr style=\"text-align: right;\">\n",
       "      <th></th>\n",
       "      <th>plz</th>\n",
       "      <th>habitants</th>\n",
       "      <th>area_sqkm</th>\n",
       "    </tr>\n",
       "  </thead>\n",
       "  <tbody>\n",
       "    <tr>\n",
       "      <th>0</th>\n",
       "      <td>01067</td>\n",
       "      <td>11957</td>\n",
       "      <td>6.866839</td>\n",
       "    </tr>\n",
       "    <tr>\n",
       "      <th>1</th>\n",
       "      <td>01069</td>\n",
       "      <td>25483</td>\n",
       "      <td>5.339213</td>\n",
       "    </tr>\n",
       "    <tr>\n",
       "      <th>2</th>\n",
       "      <td>01097</td>\n",
       "      <td>14821</td>\n",
       "      <td>3.298022</td>\n",
       "    </tr>\n",
       "    <tr>\n",
       "      <th>3</th>\n",
       "      <td>01099</td>\n",
       "      <td>28018</td>\n",
       "      <td>58.505818</td>\n",
       "    </tr>\n",
       "    <tr>\n",
       "      <th>4</th>\n",
       "      <td>01108</td>\n",
       "      <td>5876</td>\n",
       "      <td>16.447222</td>\n",
       "    </tr>\n",
       "  </tbody>\n",
       "</table>\n",
       "</div>"
      ],
      "text/plain": [
       "     plz  habitants  area_sqkm\n",
       "0  01067      11957   6.866839\n",
       "1  01069      25483   5.339213\n",
       "2  01097      14821   3.298022\n",
       "3  01099      28018  58.505818\n",
       "4  01108       5876  16.447222"
      ]
     },
     "execution_count": 11,
     "metadata": {},
     "output_type": "execute_result"
    }
   ],
   "source": [
    "# See results\n",
    "plz_de.head()"
   ]
  },
  {
   "cell_type": "markdown",
   "id": "f0f0d396",
   "metadata": {},
   "source": [
    "### Mixed types"
   ]
  },
  {
   "cell_type": "code",
   "execution_count": 44,
   "id": "78035145",
   "metadata": {},
   "outputs": [],
   "source": [
    "# Check for mixed data types\n",
    "for col in plz_de.columns.tolist():\n",
    "  weird = (plz_de[[col]].map(type) != plz_de[[col]].iloc[0].apply(type)).any(axis = 1)\n",
    "  if len (plz_de[weird]) > 0:\n",
    "    print (col)\n",
    "    #no mixed data type"
   ]
  },
  {
   "cell_type": "markdown",
   "id": "5575b65b",
   "metadata": {},
   "source": [
    "### Duplicates"
   ]
  },
  {
   "cell_type": "code",
   "execution_count": 45,
   "id": "44067461",
   "metadata": {},
   "outputs": [],
   "source": [
    "# The following command will look for full duplicates within your df\n",
    "plz_dups = plz_de[plz_de.duplicated()]"
   ]
  },
  {
   "cell_type": "code",
   "execution_count": 46,
   "id": "2c4ccc70",
   "metadata": {},
   "outputs": [
    {
     "data": {
      "text/html": [
       "<div>\n",
       "<style scoped>\n",
       "    .dataframe tbody tr th:only-of-type {\n",
       "        vertical-align: middle;\n",
       "    }\n",
       "\n",
       "    .dataframe tbody tr th {\n",
       "        vertical-align: top;\n",
       "    }\n",
       "\n",
       "    .dataframe thead th {\n",
       "        text-align: right;\n",
       "    }\n",
       "</style>\n",
       "<table border=\"1\" class=\"dataframe\">\n",
       "  <thead>\n",
       "    <tr style=\"text-align: right;\">\n",
       "      <th></th>\n",
       "      <th>plz</th>\n",
       "      <th>habitants</th>\n",
       "      <th>area_sqkm</th>\n",
       "    </tr>\n",
       "  </thead>\n",
       "  <tbody>\n",
       "  </tbody>\n",
       "</table>\n",
       "</div>"
      ],
      "text/plain": [
       "Empty DataFrame\n",
       "Columns: [plz, habitants, area_sqkm]\n",
       "Index: []"
      ]
     },
     "execution_count": 46,
     "metadata": {},
     "output_type": "execute_result"
    }
   ],
   "source": [
    "# See results\n",
    "plz_dups\n",
    "# no duplicate data"
   ]
  },
  {
   "cell_type": "markdown",
   "id": "46b417dd",
   "metadata": {},
   "source": [
    "### Missing data"
   ]
  },
  {
   "cell_type": "code",
   "execution_count": 47,
   "id": "9372fe7c",
   "metadata": {},
   "outputs": [
    {
     "data": {
      "text/plain": [
       "plz          0\n",
       "habitants    0\n",
       "area_sqkm    0\n",
       "dtype: int64"
      ]
     },
     "execution_count": 47,
     "metadata": {},
     "output_type": "execute_result"
    }
   ],
   "source": [
    "# Finding missing values\n",
    "# isnull() function is used to find missing observations, with “observations” referring to entries in your df = cells in Excel\n",
    "plz_de.isnull().sum() \n",
    "#no missing data"
   ]
  },
  {
   "cell_type": "markdown",
   "id": "6d92ec31",
   "metadata": {},
   "source": [
    "### Basic descriptive statistics"
   ]
  },
  {
   "cell_type": "code",
   "execution_count": 12,
   "id": "b8fde375",
   "metadata": {},
   "outputs": [
    {
     "data": {
      "text/html": [
       "<div>\n",
       "<style scoped>\n",
       "    .dataframe tbody tr th:only-of-type {\n",
       "        vertical-align: middle;\n",
       "    }\n",
       "\n",
       "    .dataframe tbody tr th {\n",
       "        vertical-align: top;\n",
       "    }\n",
       "\n",
       "    .dataframe thead th {\n",
       "        text-align: right;\n",
       "    }\n",
       "</style>\n",
       "<table border=\"1\" class=\"dataframe\">\n",
       "  <thead>\n",
       "    <tr style=\"text-align: right;\">\n",
       "      <th></th>\n",
       "      <th>habitants</th>\n",
       "      <th>area_sqkm</th>\n",
       "    </tr>\n",
       "  </thead>\n",
       "  <tbody>\n",
       "    <tr>\n",
       "      <th>count</th>\n",
       "      <td>8170.000000</td>\n",
       "      <td>8170.000000</td>\n",
       "    </tr>\n",
       "    <tr>\n",
       "      <th>mean</th>\n",
       "      <td>9831.355202</td>\n",
       "      <td>43.730794</td>\n",
       "    </tr>\n",
       "    <tr>\n",
       "      <th>std</th>\n",
       "      <td>8866.105266</td>\n",
       "      <td>52.630298</td>\n",
       "    </tr>\n",
       "    <tr>\n",
       "      <th>min</th>\n",
       "      <td>0.000000</td>\n",
       "      <td>0.001829</td>\n",
       "    </tr>\n",
       "    <tr>\n",
       "      <th>25%</th>\n",
       "      <td>2789.250000</td>\n",
       "      <td>12.738848</td>\n",
       "    </tr>\n",
       "    <tr>\n",
       "      <th>50%</th>\n",
       "      <td>6559.500000</td>\n",
       "      <td>27.271940</td>\n",
       "    </tr>\n",
       "    <tr>\n",
       "      <th>75%</th>\n",
       "      <td>15162.250000</td>\n",
       "      <td>56.228272</td>\n",
       "    </tr>\n",
       "    <tr>\n",
       "      <th>max</th>\n",
       "      <td>58782.000000</td>\n",
       "      <td>891.943577</td>\n",
       "    </tr>\n",
       "  </tbody>\n",
       "</table>\n",
       "</div>"
      ],
      "text/plain": [
       "          habitants    area_sqkm\n",
       "count   8170.000000  8170.000000\n",
       "mean    9831.355202    43.730794\n",
       "std     8866.105266    52.630298\n",
       "min        0.000000     0.001829\n",
       "25%     2789.250000    12.738848\n",
       "50%     6559.500000    27.271940\n",
       "75%    15162.250000    56.228272\n",
       "max    58782.000000   891.943577"
      ]
     },
     "execution_count": 12,
     "metadata": {},
     "output_type": "execute_result"
    }
   ],
   "source": [
    "#Evaluate general trends of variables\n",
    "plz_de.describe()\n",
    "#\"habitants\" there are not habitants associated to some postcodes ISSUE 1\n",
    "#\"area_sqkm\" some postcodes have a pretty small area ISSUE 2"
   ]
  },
  {
   "cell_type": "code",
   "execution_count": 13,
   "id": "2ccfa58c",
   "metadata": {},
   "outputs": [
    {
     "data": {
      "text/html": [
       "<div>\n",
       "<style scoped>\n",
       "    .dataframe tbody tr th:only-of-type {\n",
       "        vertical-align: middle;\n",
       "    }\n",
       "\n",
       "    .dataframe tbody tr th {\n",
       "        vertical-align: top;\n",
       "    }\n",
       "\n",
       "    .dataframe thead th {\n",
       "        text-align: right;\n",
       "    }\n",
       "</style>\n",
       "<table border=\"1\" class=\"dataframe\">\n",
       "  <thead>\n",
       "    <tr style=\"text-align: right;\">\n",
       "      <th></th>\n",
       "      <th>plz</th>\n",
       "      <th>habitants</th>\n",
       "      <th>area_sqkm</th>\n",
       "    </tr>\n",
       "  </thead>\n",
       "  <tbody>\n",
       "    <tr>\n",
       "      <th>1956</th>\n",
       "      <td>27499</td>\n",
       "      <td>8</td>\n",
       "      <td>7.621130</td>\n",
       "    </tr>\n",
       "    <tr>\n",
       "      <th>2160</th>\n",
       "      <td>30669</td>\n",
       "      <td>0</td>\n",
       "      <td>4.694415</td>\n",
       "    </tr>\n",
       "    <tr>\n",
       "      <th>2349</th>\n",
       "      <td>33333</td>\n",
       "      <td>3</td>\n",
       "      <td>0.413182</td>\n",
       "    </tr>\n",
       "    <tr>\n",
       "      <th>4188</th>\n",
       "      <td>60306</td>\n",
       "      <td>0</td>\n",
       "      <td>0.005761</td>\n",
       "    </tr>\n",
       "    <tr>\n",
       "      <th>4189</th>\n",
       "      <td>60308</td>\n",
       "      <td>0</td>\n",
       "      <td>0.004477</td>\n",
       "    </tr>\n",
       "    <tr>\n",
       "      <th>4190</th>\n",
       "      <td>60310</td>\n",
       "      <td>0</td>\n",
       "      <td>0.007112</td>\n",
       "    </tr>\n",
       "    <tr>\n",
       "      <th>4192</th>\n",
       "      <td>60312</td>\n",
       "      <td>0</td>\n",
       "      <td>0.001829</td>\n",
       "    </tr>\n",
       "    <tr>\n",
       "      <th>4195</th>\n",
       "      <td>60315</td>\n",
       "      <td>0</td>\n",
       "      <td>0.017285</td>\n",
       "    </tr>\n",
       "    <tr>\n",
       "      <th>4419</th>\n",
       "      <td>64743</td>\n",
       "      <td>3</td>\n",
       "      <td>0.082066</td>\n",
       "    </tr>\n",
       "    <tr>\n",
       "      <th>4917</th>\n",
       "      <td>70629</td>\n",
       "      <td>8</td>\n",
       "      <td>4.368498</td>\n",
       "    </tr>\n",
       "    <tr>\n",
       "      <th>6025</th>\n",
       "      <td>82475</td>\n",
       "      <td>0</td>\n",
       "      <td>6.474880</td>\n",
       "    </tr>\n",
       "  </tbody>\n",
       "</table>\n",
       "</div>"
      ],
      "text/plain": [
       "        plz  habitants  area_sqkm\n",
       "1956  27499          8   7.621130\n",
       "2160  30669          0   4.694415\n",
       "2349  33333          3   0.413182\n",
       "4188  60306          0   0.005761\n",
       "4189  60308          0   0.004477\n",
       "4190  60310          0   0.007112\n",
       "4192  60312          0   0.001829\n",
       "4195  60315          0   0.017285\n",
       "4419  64743          3   0.082066\n",
       "4917  70629          8   4.368498\n",
       "6025  82475          0   6.474880"
      ]
     },
     "execution_count": 13,
     "metadata": {},
     "output_type": "execute_result"
    }
   ],
   "source": [
    "# ISSUE 1 & ISSUE 2\n",
    "# subset for habitants less than 10 people\n",
    "subset_df = plz_de[plz_de['habitants'] < 10]\n",
    "subset_df\n",
    "# After further investigation it is known that in Germany buildings can have their own postcode\n",
    "# e.g. The Münchner Haus has the mailing address and post-code: “Münchner Haus, 82475, Zugspitze”\n",
    "# so it is not odd for some German postcodes not to have any habitants\n",
    "# Similarly the area in sqkm of a building would be small"
   ]
  },
  {
   "cell_type": "code",
   "execution_count": 14,
   "id": "b886e7a3",
   "metadata": {},
   "outputs": [
    {
     "name": "stdout",
     "output_type": "stream",
     "text": [
      "Total area in sqkm of Germany: 357280.58764199994\n",
      "Total habitants in Germany: 80322172\n"
     ]
    }
   ],
   "source": [
    "# Calculate the sum of 'sqkm' and 'habitants' variables\n",
    "total_sqkm = plz_de['area_sqkm'].sum()\n",
    "total_habitants = plz_de['habitants'].sum()\n",
    "\n",
    "# Print the results\n",
    "print(f\"Total area in sqkm of Germany: {total_sqkm}\")\n",
    "print(f\"Total habitants in Germany: {total_habitants}\")\n",
    "\n",
    "# The total number of inhabitants and area corresponds to that of Germany"
   ]
  },
  {
   "cell_type": "markdown",
   "id": "e8287aa8",
   "metadata": {},
   "source": [
    "### 3.3.2 Regions per postcode"
   ]
  },
  {
   "cell_type": "code",
   "execution_count": 57,
   "id": "5e1563cf",
   "metadata": {},
   "outputs": [
    {
     "data": {
      "text/html": [
       "<div>\n",
       "<style scoped>\n",
       "    .dataframe tbody tr th:only-of-type {\n",
       "        vertical-align: middle;\n",
       "    }\n",
       "\n",
       "    .dataframe tbody tr th {\n",
       "        vertical-align: top;\n",
       "    }\n",
       "\n",
       "    .dataframe thead th {\n",
       "        text-align: right;\n",
       "    }\n",
       "</style>\n",
       "<table border=\"1\" class=\"dataframe\">\n",
       "  <thead>\n",
       "    <tr style=\"text-align: right;\">\n",
       "      <th></th>\n",
       "      <th>osm_id</th>\n",
       "      <th>ags</th>\n",
       "      <th>ort</th>\n",
       "      <th>plz</th>\n",
       "      <th>landkreis</th>\n",
       "      <th>bundesland</th>\n",
       "    </tr>\n",
       "  </thead>\n",
       "  <tbody>\n",
       "    <tr>\n",
       "      <th>0</th>\n",
       "      <td>1104550</td>\n",
       "      <td>8335001</td>\n",
       "      <td>Aach</td>\n",
       "      <td>78267</td>\n",
       "      <td>Landkreis Konstanz</td>\n",
       "      <td>Baden-Württemberg</td>\n",
       "    </tr>\n",
       "    <tr>\n",
       "      <th>1</th>\n",
       "      <td>1255910</td>\n",
       "      <td>7235001</td>\n",
       "      <td>Aach</td>\n",
       "      <td>54298</td>\n",
       "      <td>Landkreis Trier-Saarburg</td>\n",
       "      <td>Rheinland-Pfalz</td>\n",
       "    </tr>\n",
       "    <tr>\n",
       "      <th>2</th>\n",
       "      <td>62564</td>\n",
       "      <td>5334002</td>\n",
       "      <td>Aachen</td>\n",
       "      <td>52062</td>\n",
       "      <td>Städteregion Aachen</td>\n",
       "      <td>Nordrhein-Westfalen</td>\n",
       "    </tr>\n",
       "    <tr>\n",
       "      <th>3</th>\n",
       "      <td>62564</td>\n",
       "      <td>5334002</td>\n",
       "      <td>Aachen</td>\n",
       "      <td>52064</td>\n",
       "      <td>Städteregion Aachen</td>\n",
       "      <td>Nordrhein-Westfalen</td>\n",
       "    </tr>\n",
       "    <tr>\n",
       "      <th>4</th>\n",
       "      <td>62564</td>\n",
       "      <td>5334002</td>\n",
       "      <td>Aachen</td>\n",
       "      <td>52066</td>\n",
       "      <td>Städteregion Aachen</td>\n",
       "      <td>Nordrhein-Westfalen</td>\n",
       "    </tr>\n",
       "  </tbody>\n",
       "</table>\n",
       "</div>"
      ],
      "text/plain": [
       "    osm_id      ags     ort    plz                 landkreis  \\\n",
       "0  1104550  8335001    Aach  78267        Landkreis Konstanz   \n",
       "1  1255910  7235001    Aach  54298  Landkreis Trier-Saarburg   \n",
       "2    62564  5334002  Aachen  52062       Städteregion Aachen   \n",
       "3    62564  5334002  Aachen  52064       Städteregion Aachen   \n",
       "4    62564  5334002  Aachen  52066       Städteregion Aachen   \n",
       "\n",
       "            bundesland  \n",
       "0    Baden-Württemberg  \n",
       "1      Rheinland-Pfalz  \n",
       "2  Nordrhein-Westfalen  \n",
       "3  Nordrhein-Westfalen  \n",
       "4  Nordrhein-Westfalen  "
      ]
     },
     "execution_count": 57,
     "metadata": {},
     "output_type": "execute_result"
    }
   ],
   "source": [
    "# See headers\n",
    "ort_de.head()"
   ]
  },
  {
   "cell_type": "markdown",
   "id": "06a95983",
   "metadata": {},
   "source": [
    "### Dropping columns"
   ]
  },
  {
   "cell_type": "code",
   "execution_count": 15,
   "id": "eaa82d4e",
   "metadata": {},
   "outputs": [],
   "source": [
    "# Dropping function with function df.drop(columns = ['variable'])\n",
    "ort_de = ort_de.drop(columns = ['osm_id', 'ags'])"
   ]
  },
  {
   "cell_type": "code",
   "execution_count": 16,
   "id": "fd647ba3",
   "metadata": {},
   "outputs": [
    {
     "data": {
      "text/html": [
       "<div>\n",
       "<style scoped>\n",
       "    .dataframe tbody tr th:only-of-type {\n",
       "        vertical-align: middle;\n",
       "    }\n",
       "\n",
       "    .dataframe tbody tr th {\n",
       "        vertical-align: top;\n",
       "    }\n",
       "\n",
       "    .dataframe thead th {\n",
       "        text-align: right;\n",
       "    }\n",
       "</style>\n",
       "<table border=\"1\" class=\"dataframe\">\n",
       "  <thead>\n",
       "    <tr style=\"text-align: right;\">\n",
       "      <th></th>\n",
       "      <th>ort</th>\n",
       "      <th>plz</th>\n",
       "      <th>landkreis</th>\n",
       "      <th>bundesland</th>\n",
       "    </tr>\n",
       "  </thead>\n",
       "  <tbody>\n",
       "    <tr>\n",
       "      <th>0</th>\n",
       "      <td>Aach</td>\n",
       "      <td>78267</td>\n",
       "      <td>Landkreis Konstanz</td>\n",
       "      <td>Baden-Württemberg</td>\n",
       "    </tr>\n",
       "    <tr>\n",
       "      <th>1</th>\n",
       "      <td>Aach</td>\n",
       "      <td>54298</td>\n",
       "      <td>Landkreis Trier-Saarburg</td>\n",
       "      <td>Rheinland-Pfalz</td>\n",
       "    </tr>\n",
       "    <tr>\n",
       "      <th>2</th>\n",
       "      <td>Aachen</td>\n",
       "      <td>52062</td>\n",
       "      <td>Städteregion Aachen</td>\n",
       "      <td>Nordrhein-Westfalen</td>\n",
       "    </tr>\n",
       "    <tr>\n",
       "      <th>3</th>\n",
       "      <td>Aachen</td>\n",
       "      <td>52064</td>\n",
       "      <td>Städteregion Aachen</td>\n",
       "      <td>Nordrhein-Westfalen</td>\n",
       "    </tr>\n",
       "    <tr>\n",
       "      <th>4</th>\n",
       "      <td>Aachen</td>\n",
       "      <td>52066</td>\n",
       "      <td>Städteregion Aachen</td>\n",
       "      <td>Nordrhein-Westfalen</td>\n",
       "    </tr>\n",
       "  </tbody>\n",
       "</table>\n",
       "</div>"
      ],
      "text/plain": [
       "      ort    plz                 landkreis           bundesland\n",
       "0    Aach  78267        Landkreis Konstanz    Baden-Württemberg\n",
       "1    Aach  54298  Landkreis Trier-Saarburg      Rheinland-Pfalz\n",
       "2  Aachen  52062       Städteregion Aachen  Nordrhein-Westfalen\n",
       "3  Aachen  52064       Städteregion Aachen  Nordrhein-Westfalen\n",
       "4  Aachen  52066       Städteregion Aachen  Nordrhein-Westfalen"
      ]
     },
     "execution_count": 16,
     "metadata": {},
     "output_type": "execute_result"
    }
   ],
   "source": [
    "# see results\n",
    "ort_de.head()"
   ]
  },
  {
   "cell_type": "markdown",
   "id": "e2bcaeb8",
   "metadata": {},
   "source": [
    "### Renaming variables"
   ]
  },
  {
   "cell_type": "code",
   "execution_count": 17,
   "id": "1f80a703",
   "metadata": {},
   "outputs": [],
   "source": [
    "# Rename variable using df.rename(columns = {'old_name' : 'new_name'}, inplace = True)\n",
    "ort_de.rename(columns = {'ort' : 'city'}, inplace = True)"
   ]
  },
  {
   "cell_type": "code",
   "execution_count": 18,
   "id": "e08b4f1c",
   "metadata": {},
   "outputs": [],
   "source": [
    "# Rename variable using df.rename(columns = {'old_name' : 'new_name'}, inplace = True)\n",
    "ort_de.rename(columns = {'landkreis' : 'region'}, inplace = True)"
   ]
  },
  {
   "cell_type": "code",
   "execution_count": 19,
   "id": "c969394c",
   "metadata": {},
   "outputs": [
    {
     "data": {
      "text/html": [
       "<div>\n",
       "<style scoped>\n",
       "    .dataframe tbody tr th:only-of-type {\n",
       "        vertical-align: middle;\n",
       "    }\n",
       "\n",
       "    .dataframe tbody tr th {\n",
       "        vertical-align: top;\n",
       "    }\n",
       "\n",
       "    .dataframe thead th {\n",
       "        text-align: right;\n",
       "    }\n",
       "</style>\n",
       "<table border=\"1\" class=\"dataframe\">\n",
       "  <thead>\n",
       "    <tr style=\"text-align: right;\">\n",
       "      <th></th>\n",
       "      <th>city</th>\n",
       "      <th>plz</th>\n",
       "      <th>region</th>\n",
       "      <th>bundesland</th>\n",
       "    </tr>\n",
       "  </thead>\n",
       "  <tbody>\n",
       "    <tr>\n",
       "      <th>0</th>\n",
       "      <td>Aach</td>\n",
       "      <td>78267</td>\n",
       "      <td>Landkreis Konstanz</td>\n",
       "      <td>Baden-Württemberg</td>\n",
       "    </tr>\n",
       "    <tr>\n",
       "      <th>1</th>\n",
       "      <td>Aach</td>\n",
       "      <td>54298</td>\n",
       "      <td>Landkreis Trier-Saarburg</td>\n",
       "      <td>Rheinland-Pfalz</td>\n",
       "    </tr>\n",
       "    <tr>\n",
       "      <th>2</th>\n",
       "      <td>Aachen</td>\n",
       "      <td>52062</td>\n",
       "      <td>Städteregion Aachen</td>\n",
       "      <td>Nordrhein-Westfalen</td>\n",
       "    </tr>\n",
       "    <tr>\n",
       "      <th>3</th>\n",
       "      <td>Aachen</td>\n",
       "      <td>52064</td>\n",
       "      <td>Städteregion Aachen</td>\n",
       "      <td>Nordrhein-Westfalen</td>\n",
       "    </tr>\n",
       "    <tr>\n",
       "      <th>4</th>\n",
       "      <td>Aachen</td>\n",
       "      <td>52066</td>\n",
       "      <td>Städteregion Aachen</td>\n",
       "      <td>Nordrhein-Westfalen</td>\n",
       "    </tr>\n",
       "  </tbody>\n",
       "</table>\n",
       "</div>"
      ],
      "text/plain": [
       "     city    plz                    region           bundesland\n",
       "0    Aach  78267        Landkreis Konstanz    Baden-Württemberg\n",
       "1    Aach  54298  Landkreis Trier-Saarburg      Rheinland-Pfalz\n",
       "2  Aachen  52062       Städteregion Aachen  Nordrhein-Westfalen\n",
       "3  Aachen  52064       Städteregion Aachen  Nordrhein-Westfalen\n",
       "4  Aachen  52066       Städteregion Aachen  Nordrhein-Westfalen"
      ]
     },
     "execution_count": 19,
     "metadata": {},
     "output_type": "execute_result"
    }
   ],
   "source": [
    "# see results\n",
    "ort_de.head()"
   ]
  },
  {
   "cell_type": "markdown",
   "id": "ea3ce086",
   "metadata": {},
   "source": [
    "### Duplicates"
   ]
  },
  {
   "cell_type": "code",
   "execution_count": 20,
   "id": "c3f73243",
   "metadata": {},
   "outputs": [
    {
     "data": {
      "text/html": [
       "<div>\n",
       "<style scoped>\n",
       "    .dataframe tbody tr th:only-of-type {\n",
       "        vertical-align: middle;\n",
       "    }\n",
       "\n",
       "    .dataframe tbody tr th {\n",
       "        vertical-align: top;\n",
       "    }\n",
       "\n",
       "    .dataframe thead th {\n",
       "        text-align: right;\n",
       "    }\n",
       "</style>\n",
       "<table border=\"1\" class=\"dataframe\">\n",
       "  <thead>\n",
       "    <tr style=\"text-align: right;\">\n",
       "      <th></th>\n",
       "      <th>city</th>\n",
       "      <th>plz</th>\n",
       "      <th>region</th>\n",
       "      <th>bundesland</th>\n",
       "    </tr>\n",
       "  </thead>\n",
       "  <tbody>\n",
       "  </tbody>\n",
       "</table>\n",
       "</div>"
      ],
      "text/plain": [
       "Empty DataFrame\n",
       "Columns: [city, plz, region, bundesland]\n",
       "Index: []"
      ]
     },
     "execution_count": 20,
     "metadata": {},
     "output_type": "execute_result"
    }
   ],
   "source": [
    "# The following command will look for full duplicates within your df\n",
    "ort_dups = ort_de[ort_de.duplicated()]\n",
    "ort_dups # no dups"
   ]
  },
  {
   "cell_type": "markdown",
   "id": "c662d26a",
   "metadata": {},
   "source": [
    "### Missing data"
   ]
  },
  {
   "cell_type": "code",
   "execution_count": 21,
   "id": "b9c0e373",
   "metadata": {},
   "outputs": [
    {
     "data": {
      "text/plain": [
       "city             0\n",
       "plz              0\n",
       "region        1404\n",
       "bundesland       0\n",
       "dtype: int64"
      ]
     },
     "execution_count": 21,
     "metadata": {},
     "output_type": "execute_result"
    }
   ],
   "source": [
    "# isnull() function is used to find missing observations, with “observations” referring to entries in your df = cells in Excel\n",
    "ort_de.isnull().sum()\n",
    "# the region would be imputed by the city variable"
   ]
  },
  {
   "cell_type": "code",
   "execution_count": 22,
   "id": "6d1ddd72",
   "metadata": {},
   "outputs": [],
   "source": [
    "# Filling missing values with corresponding city values\n",
    "ort_de['region'] = ort_de['region'].fillna(ort_de['city'])"
   ]
  },
  {
   "cell_type": "code",
   "execution_count": 23,
   "id": "792a24e2",
   "metadata": {},
   "outputs": [
    {
     "data": {
      "text/plain": [
       "city          0\n",
       "plz           0\n",
       "region        0\n",
       "bundesland    0\n",
       "dtype: int64"
      ]
     },
     "execution_count": 23,
     "metadata": {},
     "output_type": "execute_result"
    }
   ],
   "source": [
    "# check for missing values\n",
    "ort_de.isnull().sum() # no missing values"
   ]
  },
  {
   "cell_type": "markdown",
   "id": "f0b56563",
   "metadata": {},
   "source": [
    "### Mixed data types"
   ]
  },
  {
   "cell_type": "code",
   "execution_count": 24,
   "id": "19eb5204",
   "metadata": {},
   "outputs": [],
   "source": [
    "# Check for mixed data types\n",
    "for col in ort_de.columns.tolist():\n",
    "  weird = (ort_de[[col]].map(type) != ort_de[[col]].iloc[0].apply(type)).any(axis = 1)\n",
    "  if len (ort_de[weird]) > 0:\n",
    "    print (col) # no mixed data types"
   ]
  },
  {
   "cell_type": "markdown",
   "id": "1f2842a1",
   "metadata": {},
   "source": [
    "# 4. Merging German population regional"
   ]
  },
  {
   "cell_type": "markdown",
   "id": "a2dfca9b",
   "metadata": {},
   "source": [
    "## 4.1 Key variable"
   ]
  },
  {
   "cell_type": "code",
   "execution_count": 25,
   "id": "9389d385",
   "metadata": {},
   "outputs": [
    {
     "name": "stdout",
     "output_type": "stream",
     "text": [
      "Are PLZ values unique? True\n"
     ]
    }
   ],
   "source": [
    "# Are plz values unique on the plz_de df?\n",
    "are_plz_values_unique = not plz_de['plz'].duplicated().any()\n",
    "\n",
    "# Print the result\n",
    "print(f\"Are PLZ values unique? {are_plz_values_unique}\")"
   ]
  },
  {
   "cell_type": "code",
   "execution_count": 26,
   "id": "1b208b9c",
   "metadata": {},
   "outputs": [
    {
     "name": "stdout",
     "output_type": "stream",
     "text": [
      "Are PLZ values unique? False\n"
     ]
    }
   ],
   "source": [
    "# Are plz values unique on the ort_de df?\n",
    "are_plz_values_unique = not ort_de['plz'].duplicated().any()\n",
    "\n",
    "# Print the result\n",
    "print(f\"Are PLZ values unique? {are_plz_values_unique}\")\n",
    "# this is expected as some German poscodes are associated to several places,\n",
    "# e.g. 13 places in Germany found with the postal code 99947\n",
    "# Although a single postcode can be linked to several cities in Germany, \n",
    "# the postcode information is linked to the same region and Bundesland"
   ]
  },
  {
   "cell_type": "code",
   "execution_count": 27,
   "id": "ddceb7b4",
   "metadata": {},
   "outputs": [
    {
     "data": {
      "text/html": [
       "<div>\n",
       "<style scoped>\n",
       "    .dataframe tbody tr th:only-of-type {\n",
       "        vertical-align: middle;\n",
       "    }\n",
       "\n",
       "    .dataframe tbody tr th {\n",
       "        vertical-align: top;\n",
       "    }\n",
       "\n",
       "    .dataframe thead th {\n",
       "        text-align: right;\n",
       "    }\n",
       "</style>\n",
       "<table border=\"1\" class=\"dataframe\">\n",
       "  <thead>\n",
       "    <tr style=\"text-align: right;\">\n",
       "      <th></th>\n",
       "      <th>city</th>\n",
       "      <th>plz</th>\n",
       "      <th>region</th>\n",
       "      <th>bundesland</th>\n",
       "    </tr>\n",
       "  </thead>\n",
       "  <tbody>\n",
       "    <tr>\n",
       "      <th>1</th>\n",
       "      <td>Aach</td>\n",
       "      <td>54298</td>\n",
       "      <td>Landkreis Trier-Saarburg</td>\n",
       "      <td>Rheinland-Pfalz</td>\n",
       "    </tr>\n",
       "    <tr>\n",
       "      <th>16</th>\n",
       "      <td>Aalen</td>\n",
       "      <td>73434</td>\n",
       "      <td>Ostalbkreis</td>\n",
       "      <td>Baden-Württemberg</td>\n",
       "    </tr>\n",
       "    <tr>\n",
       "      <th>18</th>\n",
       "      <td>Aasbüttel</td>\n",
       "      <td>25560</td>\n",
       "      <td>Kreis Steinburg</td>\n",
       "      <td>Schleswig-Holstein</td>\n",
       "    </tr>\n",
       "    <tr>\n",
       "      <th>21</th>\n",
       "      <td>Abentheuer</td>\n",
       "      <td>55767</td>\n",
       "      <td>Landkreis Birkenfeld</td>\n",
       "      <td>Rheinland-Pfalz</td>\n",
       "    </tr>\n",
       "    <tr>\n",
       "      <th>24</th>\n",
       "      <td>Abtsbessingen</td>\n",
       "      <td>99713</td>\n",
       "      <td>Kyffhäuserkreis</td>\n",
       "      <td>Thüringen</td>\n",
       "    </tr>\n",
       "    <tr>\n",
       "      <th>...</th>\n",
       "      <td>...</td>\n",
       "      <td>...</td>\n",
       "      <td>...</td>\n",
       "      <td>...</td>\n",
       "    </tr>\n",
       "    <tr>\n",
       "      <th>12834</th>\n",
       "      <td>Züsch</td>\n",
       "      <td>54422</td>\n",
       "      <td>Landkreis Trier-Saarburg</td>\n",
       "      <td>Rheinland-Pfalz</td>\n",
       "    </tr>\n",
       "    <tr>\n",
       "      <th>12836</th>\n",
       "      <td>Züsow</td>\n",
       "      <td>23992</td>\n",
       "      <td>Landkreis Nordwestmecklenburg</td>\n",
       "      <td>Mecklenburg-Vorpommern</td>\n",
       "    </tr>\n",
       "    <tr>\n",
       "      <th>12837</th>\n",
       "      <td>Züssow</td>\n",
       "      <td>17495</td>\n",
       "      <td>Landkreis Vorpommern-Greifswald</td>\n",
       "      <td>Mecklenburg-Vorpommern</td>\n",
       "    </tr>\n",
       "    <tr>\n",
       "      <th>12840</th>\n",
       "      <td>Zweifelscheid</td>\n",
       "      <td>54673</td>\n",
       "      <td>Eifelkreis Bitburg-Prüm</td>\n",
       "      <td>Rheinland-Pfalz</td>\n",
       "    </tr>\n",
       "    <tr>\n",
       "      <th>12850</th>\n",
       "      <td>Zwiesel</td>\n",
       "      <td>94227</td>\n",
       "      <td>Landkreis Regen</td>\n",
       "      <td>Bayern</td>\n",
       "    </tr>\n",
       "  </tbody>\n",
       "</table>\n",
       "<p>6071 rows × 4 columns</p>\n",
       "</div>"
      ],
      "text/plain": [
       "                city    plz                           region  \\\n",
       "1               Aach  54298         Landkreis Trier-Saarburg   \n",
       "16             Aalen  73434                      Ostalbkreis   \n",
       "18         Aasbüttel  25560                  Kreis Steinburg   \n",
       "21        Abentheuer  55767             Landkreis Birkenfeld   \n",
       "24     Abtsbessingen  99713                  Kyffhäuserkreis   \n",
       "...              ...    ...                              ...   \n",
       "12834          Züsch  54422         Landkreis Trier-Saarburg   \n",
       "12836          Züsow  23992    Landkreis Nordwestmecklenburg   \n",
       "12837         Züssow  17495  Landkreis Vorpommern-Greifswald   \n",
       "12840  Zweifelscheid  54673          Eifelkreis Bitburg-Prüm   \n",
       "12850        Zwiesel  94227                  Landkreis Regen   \n",
       "\n",
       "                   bundesland  \n",
       "1             Rheinland-Pfalz  \n",
       "16          Baden-Württemberg  \n",
       "18         Schleswig-Holstein  \n",
       "21            Rheinland-Pfalz  \n",
       "24                  Thüringen  \n",
       "...                       ...  \n",
       "12834         Rheinland-Pfalz  \n",
       "12836  Mecklenburg-Vorpommern  \n",
       "12837  Mecklenburg-Vorpommern  \n",
       "12840         Rheinland-Pfalz  \n",
       "12850                  Bayern  \n",
       "\n",
       "[6071 rows x 4 columns]"
      ]
     },
     "execution_count": 27,
     "metadata": {},
     "output_type": "execute_result"
    }
   ],
   "source": [
    "# Investigating duplicates in the ort_de df\n",
    "duplicate_plz_subset = ort_de[ort_de['plz'].duplicated(keep=False)]\n",
    "duplicate_plz_subset\n",
    "# there are 6071 postcodes values that are duplicated"
   ]
  },
  {
   "cell_type": "code",
   "execution_count": 28,
   "id": "7c8255db",
   "metadata": {},
   "outputs": [
    {
     "name": "stdout",
     "output_type": "stream",
     "text": [
      "Number of rows before removing duplicates: 12854\n",
      "Number of rows after removing duplicates: 8170\n"
     ]
    }
   ],
   "source": [
    "# To simplify the merging process, I will keep only the first unique postcode information\n",
    "# Drop duplicates based on 'plz' column\n",
    "ort_de_unique_plz = ort_de.drop_duplicates(subset='plz', keep='first')\n",
    "\n",
    "# Print the result\n",
    "print(f\"Number of rows before removing duplicates: {len(ort_de)}\")\n",
    "print(f\"Number of rows after removing duplicates: {len(ort_de_unique_plz)}\")\n",
    "#Number of rows after removing duplicates equals to those in the plz_de df"
   ]
  },
  {
   "cell_type": "code",
   "execution_count": 29,
   "id": "7dac108f",
   "metadata": {},
   "outputs": [
    {
     "name": "stdout",
     "output_type": "stream",
     "text": [
      "Are PLZ values unique? True\n"
     ]
    }
   ],
   "source": [
    "# Check removal of duplicates\n",
    "# Are plz values unique on the ort_de_unique_plz df?\n",
    "are_plz_values_unique = not ort_de_unique_plz['plz'].duplicated().any()\n",
    "\n",
    "# Print the result\n",
    "print(f\"Are PLZ values unique? {are_plz_values_unique}\")"
   ]
  },
  {
   "cell_type": "markdown",
   "id": "37907514",
   "metadata": {},
   "source": [
    "## 4.2 Merge"
   ]
  },
  {
   "cell_type": "code",
   "execution_count": 30,
   "id": "7196b7b3",
   "metadata": {},
   "outputs": [
    {
     "data": {
      "text/plain": [
       "(8170, 3)"
      ]
     },
     "execution_count": 30,
     "metadata": {},
     "output_type": "execute_result"
    }
   ],
   "source": [
    "# check size before merge for plz_de\n",
    "plz_de.shape\n",
    "# there are 8203 different postal codes for ordinary delivery, i.e. that are associated to a geographical area"
   ]
  },
  {
   "cell_type": "code",
   "execution_count": 31,
   "id": "5975eb75",
   "metadata": {},
   "outputs": [
    {
     "data": {
      "text/plain": [
       "(8170, 4)"
      ]
     },
     "execution_count": 31,
     "metadata": {},
     "output_type": "execute_result"
    }
   ],
   "source": [
    "# check size before merge for ort_de\n",
    "ort_de_unique_plz.shape\n",
    "# In 2018, 28,278 different postal codes are awarded in Germany, including 8,181 for places, \n",
    "# 16,137 for mailboxes, 3,095 for major customers and 865 so-called \"Aktions-PLZ\" (e.g. for lottery games). \n",
    "# Also buildings might have their own postcode"
   ]
  },
  {
   "cell_type": "code",
   "execution_count": 32,
   "id": "de170244",
   "metadata": {},
   "outputs": [],
   "source": [
    "# Perform the merge\n",
    "population_plz = plz_de.merge(ort_de_unique_plz, on='plz')"
   ]
  },
  {
   "cell_type": "code",
   "execution_count": 33,
   "id": "57028cc8",
   "metadata": {},
   "outputs": [
    {
     "data": {
      "text/html": [
       "<div>\n",
       "<style scoped>\n",
       "    .dataframe tbody tr th:only-of-type {\n",
       "        vertical-align: middle;\n",
       "    }\n",
       "\n",
       "    .dataframe tbody tr th {\n",
       "        vertical-align: top;\n",
       "    }\n",
       "\n",
       "    .dataframe thead th {\n",
       "        text-align: right;\n",
       "    }\n",
       "</style>\n",
       "<table border=\"1\" class=\"dataframe\">\n",
       "  <thead>\n",
       "    <tr style=\"text-align: right;\">\n",
       "      <th></th>\n",
       "      <th>plz</th>\n",
       "      <th>habitants</th>\n",
       "      <th>area_sqkm</th>\n",
       "      <th>city</th>\n",
       "      <th>region</th>\n",
       "      <th>bundesland</th>\n",
       "    </tr>\n",
       "  </thead>\n",
       "  <tbody>\n",
       "    <tr>\n",
       "      <th>0</th>\n",
       "      <td>01067</td>\n",
       "      <td>11957</td>\n",
       "      <td>6.866839</td>\n",
       "      <td>Dresden</td>\n",
       "      <td>Dresden</td>\n",
       "      <td>Sachsen</td>\n",
       "    </tr>\n",
       "    <tr>\n",
       "      <th>1</th>\n",
       "      <td>01069</td>\n",
       "      <td>25483</td>\n",
       "      <td>5.339213</td>\n",
       "      <td>Dresden</td>\n",
       "      <td>Dresden</td>\n",
       "      <td>Sachsen</td>\n",
       "    </tr>\n",
       "    <tr>\n",
       "      <th>2</th>\n",
       "      <td>01097</td>\n",
       "      <td>14821</td>\n",
       "      <td>3.298022</td>\n",
       "      <td>Dresden</td>\n",
       "      <td>Dresden</td>\n",
       "      <td>Sachsen</td>\n",
       "    </tr>\n",
       "    <tr>\n",
       "      <th>3</th>\n",
       "      <td>01099</td>\n",
       "      <td>28018</td>\n",
       "      <td>58.505818</td>\n",
       "      <td>Dresden</td>\n",
       "      <td>Dresden</td>\n",
       "      <td>Sachsen</td>\n",
       "    </tr>\n",
       "    <tr>\n",
       "      <th>4</th>\n",
       "      <td>01108</td>\n",
       "      <td>5876</td>\n",
       "      <td>16.447222</td>\n",
       "      <td>Dresden</td>\n",
       "      <td>Dresden</td>\n",
       "      <td>Sachsen</td>\n",
       "    </tr>\n",
       "  </tbody>\n",
       "</table>\n",
       "</div>"
      ],
      "text/plain": [
       "     plz  habitants  area_sqkm     city   region bundesland\n",
       "0  01067      11957   6.866839  Dresden  Dresden    Sachsen\n",
       "1  01069      25483   5.339213  Dresden  Dresden    Sachsen\n",
       "2  01097      14821   3.298022  Dresden  Dresden    Sachsen\n",
       "3  01099      28018  58.505818  Dresden  Dresden    Sachsen\n",
       "4  01108       5876  16.447222  Dresden  Dresden    Sachsen"
      ]
     },
     "execution_count": 33,
     "metadata": {},
     "output_type": "execute_result"
    }
   ],
   "source": [
    "# See results\n",
    "population_plz.head()"
   ]
  },
  {
   "cell_type": "code",
   "execution_count": 34,
   "id": "10033652",
   "metadata": {},
   "outputs": [
    {
     "data": {
      "text/plain": [
       "plz           0\n",
       "habitants     0\n",
       "area_sqkm     0\n",
       "city          0\n",
       "region        0\n",
       "bundesland    0\n",
       "dtype: int64"
      ]
     },
     "execution_count": 34,
     "metadata": {},
     "output_type": "execute_result"
    }
   ],
   "source": [
    "# Checking for missing values afer merge\n",
    "# isnull() function is used to find missing observations, with “observations” referring to entries in your df = cells in Excel\n",
    "population_plz.isnull().sum()\n",
    "# no missing data"
   ]
  },
  {
   "cell_type": "code",
   "execution_count": 35,
   "id": "ec66b7c8",
   "metadata": {},
   "outputs": [
    {
     "data": {
      "text/plain": [
       "(8170, 6)"
      ]
     },
     "execution_count": 35,
     "metadata": {},
     "output_type": "execute_result"
    }
   ],
   "source": [
    "# Check results\n",
    "population_plz.shape\n",
    "# all observation on the plz_de were listed in the resulted merged dataframe"
   ]
  },
  {
   "cell_type": "code",
   "execution_count": 36,
   "id": "c16502ba",
   "metadata": {},
   "outputs": [
    {
     "data": {
      "text/html": [
       "<div>\n",
       "<style scoped>\n",
       "    .dataframe tbody tr th:only-of-type {\n",
       "        vertical-align: middle;\n",
       "    }\n",
       "\n",
       "    .dataframe tbody tr th {\n",
       "        vertical-align: top;\n",
       "    }\n",
       "\n",
       "    .dataframe thead th {\n",
       "        text-align: right;\n",
       "    }\n",
       "</style>\n",
       "<table border=\"1\" class=\"dataframe\">\n",
       "  <thead>\n",
       "    <tr style=\"text-align: right;\">\n",
       "      <th></th>\n",
       "      <th>habitants</th>\n",
       "      <th>area_sqkm</th>\n",
       "    </tr>\n",
       "  </thead>\n",
       "  <tbody>\n",
       "    <tr>\n",
       "      <th>count</th>\n",
       "      <td>8170.000000</td>\n",
       "      <td>8170.000000</td>\n",
       "    </tr>\n",
       "    <tr>\n",
       "      <th>mean</th>\n",
       "      <td>9831.355202</td>\n",
       "      <td>43.730794</td>\n",
       "    </tr>\n",
       "    <tr>\n",
       "      <th>std</th>\n",
       "      <td>8866.105266</td>\n",
       "      <td>52.630298</td>\n",
       "    </tr>\n",
       "    <tr>\n",
       "      <th>min</th>\n",
       "      <td>0.000000</td>\n",
       "      <td>0.001829</td>\n",
       "    </tr>\n",
       "    <tr>\n",
       "      <th>25%</th>\n",
       "      <td>2789.250000</td>\n",
       "      <td>12.738848</td>\n",
       "    </tr>\n",
       "    <tr>\n",
       "      <th>50%</th>\n",
       "      <td>6559.500000</td>\n",
       "      <td>27.271940</td>\n",
       "    </tr>\n",
       "    <tr>\n",
       "      <th>75%</th>\n",
       "      <td>15162.250000</td>\n",
       "      <td>56.228272</td>\n",
       "    </tr>\n",
       "    <tr>\n",
       "      <th>max</th>\n",
       "      <td>58782.000000</td>\n",
       "      <td>891.943577</td>\n",
       "    </tr>\n",
       "  </tbody>\n",
       "</table>\n",
       "</div>"
      ],
      "text/plain": [
       "          habitants    area_sqkm\n",
       "count   8170.000000  8170.000000\n",
       "mean    9831.355202    43.730794\n",
       "std     8866.105266    52.630298\n",
       "min        0.000000     0.001829\n",
       "25%     2789.250000    12.738848\n",
       "50%     6559.500000    27.271940\n",
       "75%    15162.250000    56.228272\n",
       "max    58782.000000   891.943577"
      ]
     },
     "execution_count": 36,
     "metadata": {},
     "output_type": "execute_result"
    }
   ],
   "source": [
    "# Check results\n",
    "# Evaluate general trends of variables\n",
    "population_plz.describe()\n",
    "# the basis statistics reflects those originally observed for the ort_de df"
   ]
  },
  {
   "cell_type": "markdown",
   "id": "f8fa3d74",
   "metadata": {},
   "source": [
    "# 5. Exporting dataframes"
   ]
  },
  {
   "cell_type": "markdown",
   "id": "56538ba0",
   "metadata": {},
   "source": [
    "## German companies"
   ]
  },
  {
   "cell_type": "code",
   "execution_count": 44,
   "id": "e5e27aa7",
   "metadata": {},
   "outputs": [
    {
     "data": {
      "text/plain": [
       "(2393515, 8)"
      ]
     },
     "execution_count": 44,
     "metadata": {},
     "output_type": "execute_result"
    }
   ],
   "source": [
    "# Check shape before exporting\n",
    "companies_reg.shape\n",
    "# nearly 2.4 active companies were extracted from the original file for Germany"
   ]
  },
  {
   "cell_type": "code",
   "execution_count": 45,
   "id": "4286e950",
   "metadata": {},
   "outputs": [
    {
     "data": {
      "text/html": [
       "<div>\n",
       "<style scoped>\n",
       "    .dataframe tbody tr th:only-of-type {\n",
       "        vertical-align: middle;\n",
       "    }\n",
       "\n",
       "    .dataframe tbody tr th {\n",
       "        vertical-align: top;\n",
       "    }\n",
       "\n",
       "    .dataframe thead th {\n",
       "        text-align: right;\n",
       "    }\n",
       "</style>\n",
       "<table border=\"1\" class=\"dataframe\">\n",
       "  <thead>\n",
       "    <tr style=\"text-align: right;\">\n",
       "      <th></th>\n",
       "      <th>company_number</th>\n",
       "      <th>company_name</th>\n",
       "      <th>registered_address</th>\n",
       "      <th>bundesland_en</th>\n",
       "      <th>labor</th>\n",
       "      <th>cancer</th>\n",
       "      <th>plz_original</th>\n",
       "      <th>plz_imputed</th>\n",
       "    </tr>\n",
       "  </thead>\n",
       "  <tbody>\n",
       "    <tr>\n",
       "      <th>0</th>\n",
       "      <td>K1101R_HRB150148</td>\n",
       "      <td>olly UG (haftungsbeschränkt)</td>\n",
       "      <td>Waidmannstraße 1, 22769 Hamburg.</td>\n",
       "      <td>Hamburg</td>\n",
       "      <td>0</td>\n",
       "      <td>0</td>\n",
       "      <td>22769</td>\n",
       "      <td>22769</td>\n",
       "    </tr>\n",
       "    <tr>\n",
       "      <th>1</th>\n",
       "      <td>R1101_HRB81092</td>\n",
       "      <td>BLUECHILLED Verwaltungs GmbH</td>\n",
       "      <td>Oststr.</td>\n",
       "      <td>North Rhine-Westphalia</td>\n",
       "      <td>0</td>\n",
       "      <td>0</td>\n",
       "      <td>NaN</td>\n",
       "      <td>40549</td>\n",
       "    </tr>\n",
       "    <tr>\n",
       "      <th>2</th>\n",
       "      <td>H1101_H1101_HRB18423</td>\n",
       "      <td>Mittelständische Beteiligungsgesellschaft Brem...</td>\n",
       "      <td>Langenstraße 2-4, 28195 Bremen.</td>\n",
       "      <td>Bremen</td>\n",
       "      <td>0</td>\n",
       "      <td>0</td>\n",
       "      <td>28195</td>\n",
       "      <td>28195</td>\n",
       "    </tr>\n",
       "    <tr>\n",
       "      <th>3</th>\n",
       "      <td>R1101_HRB45109</td>\n",
       "      <td>Albert Barufe GmbH</td>\n",
       "      <td>Hans-Sachs-Straße 11, 40721 Hilden.</td>\n",
       "      <td>North Rhine-Westphalia</td>\n",
       "      <td>0</td>\n",
       "      <td>0</td>\n",
       "      <td>40721</td>\n",
       "      <td>40721</td>\n",
       "    </tr>\n",
       "    <tr>\n",
       "      <th>4</th>\n",
       "      <td>R1101_HRB37996</td>\n",
       "      <td>ITERGO Informationstechnologie GmbH</td>\n",
       "      <td>ERGO-Platz 1, 40477 Düsseldorf.</td>\n",
       "      <td>North Rhine-Westphalia</td>\n",
       "      <td>0</td>\n",
       "      <td>0</td>\n",
       "      <td>40477</td>\n",
       "      <td>40477</td>\n",
       "    </tr>\n",
       "  </tbody>\n",
       "</table>\n",
       "</div>"
      ],
      "text/plain": [
       "         company_number                                       company_name  \\\n",
       "0      K1101R_HRB150148                       olly UG (haftungsbeschränkt)   \n",
       "1        R1101_HRB81092                       BLUECHILLED Verwaltungs GmbH   \n",
       "2  H1101_H1101_HRB18423  Mittelständische Beteiligungsgesellschaft Brem...   \n",
       "3        R1101_HRB45109                                 Albert Barufe GmbH   \n",
       "4        R1101_HRB37996                ITERGO Informationstechnologie GmbH   \n",
       "\n",
       "                    registered_address           bundesland_en  labor  cancer  \\\n",
       "0     Waidmannstraße 1, 22769 Hamburg.                 Hamburg      0       0   \n",
       "1                              Oststr.  North Rhine-Westphalia      0       0   \n",
       "2      Langenstraße 2-4, 28195 Bremen.                  Bremen      0       0   \n",
       "3  Hans-Sachs-Straße 11, 40721 Hilden.  North Rhine-Westphalia      0       0   \n",
       "4      ERGO-Platz 1, 40477 Düsseldorf.  North Rhine-Westphalia      0       0   \n",
       "\n",
       "  plz_original plz_imputed  \n",
       "0        22769       22769  \n",
       "1          NaN       40549  \n",
       "2        28195       28195  \n",
       "3        40721       40721  \n",
       "4        40477       40477  "
      ]
     },
     "execution_count": 45,
     "metadata": {},
     "output_type": "execute_result"
    }
   ],
   "source": [
    "# Check header before exporting\n",
    "companies_reg.head()"
   ]
  },
  {
   "cell_type": "code",
   "execution_count": 46,
   "id": "3e46ba8b",
   "metadata": {},
   "outputs": [],
   "source": [
    "# Exporting to prepared data folder\n",
    "#\"index = False\" avoids the automatic creation of an unnamed column in the exported csv file\n",
    "companies_reg.to_csv(os.path.join(path, '02_Data','Prepared_data', 'all_company_de_step1.csv'), index = False)"
   ]
  },
  {
   "cell_type": "markdown",
   "id": "1fb70f29",
   "metadata": {},
   "source": [
    "## German population Bundesland"
   ]
  },
  {
   "cell_type": "code",
   "execution_count": 30,
   "id": "c5d23750",
   "metadata": {},
   "outputs": [
    {
     "data": {
      "text/plain": [
       "(16, 8)"
      ]
     },
     "execution_count": 30,
     "metadata": {},
     "output_type": "execute_result"
    }
   ],
   "source": [
    "# Check shape before exporting\n",
    "bundesland_gdp.shape\n",
    "# Financial, demographic information for all 16 Bundesländer in Germany"
   ]
  },
  {
   "cell_type": "code",
   "execution_count": 31,
   "id": "78ecbf62",
   "metadata": {},
   "outputs": [
    {
     "data": {
      "text/html": [
       "<div>\n",
       "<style scoped>\n",
       "    .dataframe tbody tr th:only-of-type {\n",
       "        vertical-align: middle;\n",
       "    }\n",
       "\n",
       "    .dataframe tbody tr th {\n",
       "        vertical-align: top;\n",
       "    }\n",
       "\n",
       "    .dataframe thead th {\n",
       "        text-align: right;\n",
       "    }\n",
       "</style>\n",
       "<table border=\"1\" class=\"dataframe\">\n",
       "  <thead>\n",
       "    <tr style=\"text-align: right;\">\n",
       "      <th></th>\n",
       "      <th>administration_unit_id</th>\n",
       "      <th>bundesland_de</th>\n",
       "      <th>area_sqkm</th>\n",
       "      <th>population</th>\n",
       "      <th>male</th>\n",
       "      <th>female</th>\n",
       "      <th>population_per_sqkm</th>\n",
       "      <th>gdp_mill_euro</th>\n",
       "    </tr>\n",
       "  </thead>\n",
       "  <tbody>\n",
       "    <tr>\n",
       "      <th>0</th>\n",
       "      <td>1</td>\n",
       "      <td>Schleswig-Holstein</td>\n",
       "      <td>15804.30</td>\n",
       "      <td>2896712.0</td>\n",
       "      <td>1419457.0</td>\n",
       "      <td>1477255.0</td>\n",
       "      <td>183.0</td>\n",
       "      <td>112755</td>\n",
       "    </tr>\n",
       "    <tr>\n",
       "      <th>1</th>\n",
       "      <td>2</td>\n",
       "      <td>Hamburg</td>\n",
       "      <td>755.09</td>\n",
       "      <td>1841179.0</td>\n",
       "      <td>902048.0</td>\n",
       "      <td>939131.0</td>\n",
       "      <td>2438.0</td>\n",
       "      <td>144220</td>\n",
       "    </tr>\n",
       "    <tr>\n",
       "      <th>2</th>\n",
       "      <td>3</td>\n",
       "      <td>Niedersachsen</td>\n",
       "      <td>47709.51</td>\n",
       "      <td>7982448.0</td>\n",
       "      <td>3943243.0</td>\n",
       "      <td>4039205.0</td>\n",
       "      <td>167.0</td>\n",
       "      <td>339414</td>\n",
       "    </tr>\n",
       "    <tr>\n",
       "      <th>3</th>\n",
       "      <td>4</td>\n",
       "      <td>Bremen</td>\n",
       "      <td>419.36</td>\n",
       "      <td>682986.0</td>\n",
       "      <td>338035.0</td>\n",
       "      <td>344951.0</td>\n",
       "      <td>1629.0</td>\n",
       "      <td>38698</td>\n",
       "    </tr>\n",
       "    <tr>\n",
       "      <th>4</th>\n",
       "      <td>5</td>\n",
       "      <td>Nordrhein-Westfalen</td>\n",
       "      <td>34112.31</td>\n",
       "      <td>17932651.0</td>\n",
       "      <td>8798631.0</td>\n",
       "      <td>9134020.0</td>\n",
       "      <td>526.0</td>\n",
       "      <td>793790</td>\n",
       "    </tr>\n",
       "  </tbody>\n",
       "</table>\n",
       "</div>"
      ],
      "text/plain": [
       "   administration_unit_id        bundesland_de  area_sqkm  population  \\\n",
       "0                       1   Schleswig-Holstein   15804.30   2896712.0   \n",
       "1                       2              Hamburg     755.09   1841179.0   \n",
       "2                       3        Niedersachsen   47709.51   7982448.0   \n",
       "3                       4               Bremen     419.36    682986.0   \n",
       "4                       5  Nordrhein-Westfalen   34112.31  17932651.0   \n",
       "\n",
       "        male     female  population_per_sqkm  gdp_mill_euro  \n",
       "0  1419457.0  1477255.0                183.0         112755  \n",
       "1   902048.0   939131.0               2438.0         144220  \n",
       "2  3943243.0  4039205.0                167.0         339414  \n",
       "3   338035.0   344951.0               1629.0          38698  \n",
       "4  8798631.0  9134020.0                526.0         793790  "
      ]
     },
     "execution_count": 31,
     "metadata": {},
     "output_type": "execute_result"
    }
   ],
   "source": [
    "# Check header before exporting\n",
    "bundesland_gdp.head()"
   ]
  },
  {
   "cell_type": "code",
   "execution_count": 32,
   "id": "5860fcf2",
   "metadata": {},
   "outputs": [],
   "source": [
    "# Exporting to prepared data folder\n",
    "#\"index = False\" avoids the automatic creation of an unnamed column in the exported csv file\n",
    "bundesland_gdp.to_csv(os.path.join(path, '02_Data','Prepared_data', 'population_bundesland_step1.csv'), index = False)"
   ]
  },
  {
   "cell_type": "markdown",
   "id": "3220bedf",
   "metadata": {},
   "source": [
    "## German population regional"
   ]
  },
  {
   "cell_type": "code",
   "execution_count": 77,
   "id": "a438db68",
   "metadata": {},
   "outputs": [
    {
     "data": {
      "text/plain": [
       "(8170, 6)"
      ]
     },
     "execution_count": 77,
     "metadata": {},
     "output_type": "execute_result"
    }
   ],
   "source": [
    "# Check shape before exporting\n",
    "population_plz.shape\n",
    "# there is demographic information for 8170 German postcodes"
   ]
  },
  {
   "cell_type": "code",
   "execution_count": 78,
   "id": "b6efbf49",
   "metadata": {},
   "outputs": [
    {
     "data": {
      "text/html": [
       "<div>\n",
       "<style scoped>\n",
       "    .dataframe tbody tr th:only-of-type {\n",
       "        vertical-align: middle;\n",
       "    }\n",
       "\n",
       "    .dataframe tbody tr th {\n",
       "        vertical-align: top;\n",
       "    }\n",
       "\n",
       "    .dataframe thead th {\n",
       "        text-align: right;\n",
       "    }\n",
       "</style>\n",
       "<table border=\"1\" class=\"dataframe\">\n",
       "  <thead>\n",
       "    <tr style=\"text-align: right;\">\n",
       "      <th></th>\n",
       "      <th>plz</th>\n",
       "      <th>habitants</th>\n",
       "      <th>area_sqkm</th>\n",
       "      <th>city</th>\n",
       "      <th>region</th>\n",
       "      <th>bundesland</th>\n",
       "    </tr>\n",
       "  </thead>\n",
       "  <tbody>\n",
       "    <tr>\n",
       "      <th>0</th>\n",
       "      <td>01067</td>\n",
       "      <td>11957</td>\n",
       "      <td>6.866839</td>\n",
       "      <td>Dresden</td>\n",
       "      <td>Dresden</td>\n",
       "      <td>Sachsen</td>\n",
       "    </tr>\n",
       "    <tr>\n",
       "      <th>1</th>\n",
       "      <td>01069</td>\n",
       "      <td>25483</td>\n",
       "      <td>5.339213</td>\n",
       "      <td>Dresden</td>\n",
       "      <td>Dresden</td>\n",
       "      <td>Sachsen</td>\n",
       "    </tr>\n",
       "    <tr>\n",
       "      <th>2</th>\n",
       "      <td>01097</td>\n",
       "      <td>14821</td>\n",
       "      <td>3.298022</td>\n",
       "      <td>Dresden</td>\n",
       "      <td>Dresden</td>\n",
       "      <td>Sachsen</td>\n",
       "    </tr>\n",
       "    <tr>\n",
       "      <th>3</th>\n",
       "      <td>01099</td>\n",
       "      <td>28018</td>\n",
       "      <td>58.505818</td>\n",
       "      <td>Dresden</td>\n",
       "      <td>Dresden</td>\n",
       "      <td>Sachsen</td>\n",
       "    </tr>\n",
       "    <tr>\n",
       "      <th>4</th>\n",
       "      <td>01108</td>\n",
       "      <td>5876</td>\n",
       "      <td>16.447222</td>\n",
       "      <td>Dresden</td>\n",
       "      <td>Dresden</td>\n",
       "      <td>Sachsen</td>\n",
       "    </tr>\n",
       "  </tbody>\n",
       "</table>\n",
       "</div>"
      ],
      "text/plain": [
       "     plz  habitants  area_sqkm     city   region bundesland\n",
       "0  01067      11957   6.866839  Dresden  Dresden    Sachsen\n",
       "1  01069      25483   5.339213  Dresden  Dresden    Sachsen\n",
       "2  01097      14821   3.298022  Dresden  Dresden    Sachsen\n",
       "3  01099      28018  58.505818  Dresden  Dresden    Sachsen\n",
       "4  01108       5876  16.447222  Dresden  Dresden    Sachsen"
      ]
     },
     "execution_count": 78,
     "metadata": {},
     "output_type": "execute_result"
    }
   ],
   "source": [
    "# Check header before exporting\n",
    "population_plz.head()"
   ]
  },
  {
   "cell_type": "code",
   "execution_count": 79,
   "id": "6273a506",
   "metadata": {},
   "outputs": [],
   "source": [
    "# Exporting to prepared data folder\n",
    "#\"index = False\" avoids the automatic creation of an unnamed column in the exported csv file\n",
    "population_plz.to_csv(os.path.join(path, '02_Data','Prepared_data', 'population_regional_step1.csv'), index = False)"
   ]
  }
 ],
 "metadata": {
  "kernelspec": {
   "display_name": "Python 3 (ipykernel)",
   "language": "python",
   "name": "python3"
  },
  "language_info": {
   "codemirror_mode": {
    "name": "ipython",
    "version": 3
   },
   "file_extension": ".py",
   "mimetype": "text/x-python",
   "name": "python",
   "nbconvert_exporter": "python",
   "pygments_lexer": "ipython3",
   "version": "3.11.4"
  }
 },
 "nbformat": 4,
 "nbformat_minor": 5
}
