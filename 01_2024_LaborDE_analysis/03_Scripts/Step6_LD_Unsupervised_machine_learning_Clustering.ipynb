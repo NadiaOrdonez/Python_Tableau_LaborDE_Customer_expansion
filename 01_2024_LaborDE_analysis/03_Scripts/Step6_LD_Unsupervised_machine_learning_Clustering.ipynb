{
 "cells": [
  {
   "cell_type": "markdown",
   "metadata": {},
   "source": [
    "# Project: 01-2024 LaborDE Analysis\n",
    "## Author: Nadia Ordonez\n",
    "## Step 6 LD Unsupervised machine learning Clustering"
   ]
  },
  {
   "cell_type": "markdown",
   "metadata": {},
   "source": [
    "* [1. Introduction](#1.-Introduction)\n",
    "* [2. Importing data](#2.-Importing-data)  \n",
    "    * [2.1 Importing libraries](#2.1-Importing-libraries) \n",
    "    * [2.2 Importing dataframe](#2.2-Importing-dataframe)\n",
    "* [3. Data wrangling before clustering](#3.-Data-wrangling-before-clustering)\n",
    "* [4. Clustering analysis](#4.-Clustering-analysis)\n",
    "    * [4.1 The elbow technique](#4.1-The-elbow-technique) \n",
    "    * [4.2 k means](#4.2-k-means)\n",
    "    * [4.3 Plotting clusters](#4.3-Plotting-clusters)\n",
    "    * [4.4 Cluster basis stats](#4.4-Cluster-basic-stats)\n",
    "* [5. Data driven insights](#5.-Data-driven-insights)"
   ]
  },
  {
   "cell_type": "markdown",
   "metadata": {},
   "source": [
    "# 1. Introduction"
   ]
  },
  {
   "cell_type": "markdown",
   "metadata": {},
   "source": [
    "In Step 3 Exploring relationships, Bundesländer were manually categorized into three groups based solely on the number of potential laboratory customers for our client, LaborDE. Now, I aim to leverage unsupervised machine learning techniques, specifically the k-means clustering algorithm. This algorithm, a widely used clustering method, iteratively partitions data points into k clusters based on their similarity.\n",
    "\n",
    "The k-means algorithm minimizes the within-cluster variance, assigning data points to clusters in a way that maximizes their similarity within the cluster and minimizes the dissimilarity between clusters. In this case, I will apply the algorithm to all numerical variables available in my dataframe at the Bundesland level.\n",
    "\n",
    "The selected algorithm will analyze patterns in the dataframe, suggesting the optimal number of groups for data point grouping. In this business project, my objective is to investigate how Bundesländer can be clustered based on their unique features. The aim is to identify Bundesländer with the highest business potential for our client."
   ]
  },
  {
   "cell_type": "markdown",
   "metadata": {},
   "source": [
    "# 2. Importing data"
   ]
  },
  {
   "cell_type": "markdown",
   "metadata": {},
   "source": [
    "## 2.1 Importing libraries"
   ]
  },
  {
   "cell_type": "code",
   "execution_count": 1,
   "metadata": {},
   "outputs": [],
   "source": [
    "import pandas as pd\n",
    "import numpy as np\n",
    "import seaborn as sns\n",
    "import matplotlib\n",
    "import matplotlib.pyplot as plt\n",
    "import os\n",
    "import sklearn\n",
    "from sklearn.cluster import KMeans # Here is where you import the k-means algorithm from scikit-learn.\n",
    "from sklearn.preprocessing import StandardScaler # to standardize data\n",
    "import pylab as pl # PyLab is a convenience module that bulk imports matplotlib.\n",
    "\n",
    "import warnings # This is a library that handles warnings.\n",
    "warnings.filterwarnings(\"ignore\") # Disable deprecation warnings that could indicate, for instance, a suspended library or \n",
    "# feature. These are more relevant to developers and very seldom to analysts."
   ]
  },
  {
   "cell_type": "code",
   "execution_count": 2,
   "metadata": {},
   "outputs": [],
   "source": [
    "# This option ensures that the graphs you create are displayed within the notebook without the need to \"call\" them specifically.\n",
    "\n",
    "%matplotlib inline"
   ]
  },
  {
   "cell_type": "markdown",
   "metadata": {},
   "source": [
    "## 2.2 Importing dataframe"
   ]
  },
  {
   "cell_type": "code",
   "execution_count": 3,
   "metadata": {},
   "outputs": [],
   "source": [
    "# Define path\n",
    "path = r'C:\\Users\\Ich\\Documents\\01_2024_LaborDE_analysis'"
   ]
  },
  {
   "cell_type": "code",
   "execution_count": 4,
   "metadata": {},
   "outputs": [],
   "source": [
    "# Import df\n",
    "df = pd.read_csv(os.path.join(path,'02_Data', 'Prepared_data', 'company_bundesland_step2.csv'), encoding='utf-8')"
   ]
  },
  {
   "cell_type": "code",
   "execution_count": 5,
   "metadata": {
    "scrolled": true
   },
   "outputs": [
    {
     "data": {
      "text/plain": [
       "Index(['bundesland_en', 'company_total', 'labor_total', 'cancer_total',\n",
       "       'plz_total', 'administration_unit_id', 'bundesland_de', 'area_sqkm',\n",
       "       'population', 'male', 'female', 'population_per_sqkm', 'gdp_mill_euro'],\n",
       "      dtype='object')"
      ]
     },
     "execution_count": 5,
     "metadata": {},
     "output_type": "execute_result"
    }
   ],
   "source": [
    "df.columns"
   ]
  },
  {
   "cell_type": "code",
   "execution_count": 6,
   "metadata": {
    "scrolled": true
   },
   "outputs": [
    {
     "data": {
      "text/html": [
       "<div>\n",
       "<style scoped>\n",
       "    .dataframe tbody tr th:only-of-type {\n",
       "        vertical-align: middle;\n",
       "    }\n",
       "\n",
       "    .dataframe tbody tr th {\n",
       "        vertical-align: top;\n",
       "    }\n",
       "\n",
       "    .dataframe thead th {\n",
       "        text-align: right;\n",
       "    }\n",
       "</style>\n",
       "<table border=\"1\" class=\"dataframe\">\n",
       "  <thead>\n",
       "    <tr style=\"text-align: right;\">\n",
       "      <th></th>\n",
       "      <th>bundesland_en</th>\n",
       "      <th>company_total</th>\n",
       "      <th>labor_total</th>\n",
       "      <th>cancer_total</th>\n",
       "      <th>plz_total</th>\n",
       "      <th>administration_unit_id</th>\n",
       "      <th>bundesland_de</th>\n",
       "      <th>area_sqkm</th>\n",
       "      <th>population</th>\n",
       "      <th>male</th>\n",
       "      <th>female</th>\n",
       "      <th>population_per_sqkm</th>\n",
       "      <th>gdp_mill_euro</th>\n",
       "    </tr>\n",
       "  </thead>\n",
       "  <tbody>\n",
       "    <tr>\n",
       "      <th>0</th>\n",
       "      <td>Baden-Württemberg</td>\n",
       "      <td>299894</td>\n",
       "      <td>1381</td>\n",
       "      <td>133</td>\n",
       "      <td>2073</td>\n",
       "      <td>8</td>\n",
       "      <td>Baden-Württemberg</td>\n",
       "      <td>35748.20</td>\n",
       "      <td>11069533.0</td>\n",
       "      <td>5501693.0</td>\n",
       "      <td>5567840.0</td>\n",
       "      <td>310.0</td>\n",
       "      <td>572837</td>\n",
       "    </tr>\n",
       "    <tr>\n",
       "      <th>1</th>\n",
       "      <td>Bavaria</td>\n",
       "      <td>412937</td>\n",
       "      <td>1604</td>\n",
       "      <td>158</td>\n",
       "      <td>3160</td>\n",
       "      <td>9</td>\n",
       "      <td>Bayern</td>\n",
       "      <td>70541.61</td>\n",
       "      <td>13076721.0</td>\n",
       "      <td>6483793.0</td>\n",
       "      <td>6592928.0</td>\n",
       "      <td>185.0</td>\n",
       "      <td>716784</td>\n",
       "    </tr>\n",
       "    <tr>\n",
       "      <th>2</th>\n",
       "      <td>Berlin</td>\n",
       "      <td>142570</td>\n",
       "      <td>668</td>\n",
       "      <td>75</td>\n",
       "      <td>1318</td>\n",
       "      <td>11</td>\n",
       "      <td>Berlin</td>\n",
       "      <td>891.12</td>\n",
       "      <td>3644826.0</td>\n",
       "      <td>1792801.0</td>\n",
       "      <td>1852025.0</td>\n",
       "      <td>4090.0</td>\n",
       "      <td>179379</td>\n",
       "    </tr>\n",
       "    <tr>\n",
       "      <th>3</th>\n",
       "      <td>Brandenburg</td>\n",
       "      <td>57793</td>\n",
       "      <td>247</td>\n",
       "      <td>31</td>\n",
       "      <td>570</td>\n",
       "      <td>12</td>\n",
       "      <td>Brandenburg</td>\n",
       "      <td>29654.48</td>\n",
       "      <td>2511917.0</td>\n",
       "      <td>1239460.0</td>\n",
       "      <td>1272457.0</td>\n",
       "      <td>85.0</td>\n",
       "      <td>88800</td>\n",
       "    </tr>\n",
       "    <tr>\n",
       "      <th>4</th>\n",
       "      <td>Bremen</td>\n",
       "      <td>21891</td>\n",
       "      <td>115</td>\n",
       "      <td>9</td>\n",
       "      <td>157</td>\n",
       "      <td>4</td>\n",
       "      <td>Bremen</td>\n",
       "      <td>419.36</td>\n",
       "      <td>682986.0</td>\n",
       "      <td>338035.0</td>\n",
       "      <td>344951.0</td>\n",
       "      <td>1629.0</td>\n",
       "      <td>38698</td>\n",
       "    </tr>\n",
       "  </tbody>\n",
       "</table>\n",
       "</div>"
      ],
      "text/plain": [
       "       bundesland_en  company_total  labor_total  cancer_total  plz_total  \\\n",
       "0  Baden-Württemberg         299894         1381           133       2073   \n",
       "1            Bavaria         412937         1604           158       3160   \n",
       "2             Berlin         142570          668            75       1318   \n",
       "3        Brandenburg          57793          247            31        570   \n",
       "4             Bremen          21891          115             9        157   \n",
       "\n",
       "   administration_unit_id      bundesland_de  area_sqkm  population  \\\n",
       "0                       8  Baden-Württemberg   35748.20  11069533.0   \n",
       "1                       9             Bayern   70541.61  13076721.0   \n",
       "2                      11             Berlin     891.12   3644826.0   \n",
       "3                      12        Brandenburg   29654.48   2511917.0   \n",
       "4                       4             Bremen     419.36    682986.0   \n",
       "\n",
       "        male     female  population_per_sqkm  gdp_mill_euro  \n",
       "0  5501693.0  5567840.0                310.0         572837  \n",
       "1  6483793.0  6592928.0                185.0         716784  \n",
       "2  1792801.0  1852025.0               4090.0         179379  \n",
       "3  1239460.0  1272457.0                 85.0          88800  \n",
       "4   338035.0   344951.0               1629.0          38698  "
      ]
     },
     "execution_count": 6,
     "metadata": {},
     "output_type": "execute_result"
    }
   ],
   "source": [
    "df.head()"
   ]
  },
  {
   "cell_type": "code",
   "execution_count": 7,
   "metadata": {
    "scrolled": true
   },
   "outputs": [
    {
     "data": {
      "text/plain": [
       "(16, 13)"
      ]
     },
     "execution_count": 7,
     "metadata": {},
     "output_type": "execute_result"
    }
   ],
   "source": [
    "df.shape"
   ]
  },
  {
   "cell_type": "markdown",
   "metadata": {},
   "source": [
    "# 3. Data wrangling before clustering"
   ]
  },
  {
   "cell_type": "markdown",
   "metadata": {},
   "source": [
    "## Selecting numerical variables"
   ]
  },
  {
   "cell_type": "code",
   "execution_count": 8,
   "metadata": {},
   "outputs": [],
   "source": [
    "# Subsetting dataframe\n",
    "selected_variables = ['company_total', 'labor_total', 'cancer_total', 'plz_total', 'area_sqkm', 'population', 'male', 'female', 'population_per_sqkm', 'gdp_mill_euro']\n",
    "sub_df = df[selected_variables]"
   ]
  },
  {
   "cell_type": "code",
   "execution_count": 9,
   "metadata": {},
   "outputs": [
    {
     "data": {
      "text/html": [
       "<div>\n",
       "<style scoped>\n",
       "    .dataframe tbody tr th:only-of-type {\n",
       "        vertical-align: middle;\n",
       "    }\n",
       "\n",
       "    .dataframe tbody tr th {\n",
       "        vertical-align: top;\n",
       "    }\n",
       "\n",
       "    .dataframe thead th {\n",
       "        text-align: right;\n",
       "    }\n",
       "</style>\n",
       "<table border=\"1\" class=\"dataframe\">\n",
       "  <thead>\n",
       "    <tr style=\"text-align: right;\">\n",
       "      <th></th>\n",
       "      <th>company_total</th>\n",
       "      <th>labor_total</th>\n",
       "      <th>cancer_total</th>\n",
       "      <th>plz_total</th>\n",
       "      <th>area_sqkm</th>\n",
       "      <th>population</th>\n",
       "      <th>male</th>\n",
       "      <th>female</th>\n",
       "      <th>population_per_sqkm</th>\n",
       "      <th>gdp_mill_euro</th>\n",
       "    </tr>\n",
       "  </thead>\n",
       "  <tbody>\n",
       "    <tr>\n",
       "      <th>0</th>\n",
       "      <td>299894</td>\n",
       "      <td>1381</td>\n",
       "      <td>133</td>\n",
       "      <td>2073</td>\n",
       "      <td>35748.20</td>\n",
       "      <td>11069533.0</td>\n",
       "      <td>5501693.0</td>\n",
       "      <td>5567840.0</td>\n",
       "      <td>310.0</td>\n",
       "      <td>572837</td>\n",
       "    </tr>\n",
       "    <tr>\n",
       "      <th>1</th>\n",
       "      <td>412937</td>\n",
       "      <td>1604</td>\n",
       "      <td>158</td>\n",
       "      <td>3160</td>\n",
       "      <td>70541.61</td>\n",
       "      <td>13076721.0</td>\n",
       "      <td>6483793.0</td>\n",
       "      <td>6592928.0</td>\n",
       "      <td>185.0</td>\n",
       "      <td>716784</td>\n",
       "    </tr>\n",
       "    <tr>\n",
       "      <th>2</th>\n",
       "      <td>142570</td>\n",
       "      <td>668</td>\n",
       "      <td>75</td>\n",
       "      <td>1318</td>\n",
       "      <td>891.12</td>\n",
       "      <td>3644826.0</td>\n",
       "      <td>1792801.0</td>\n",
       "      <td>1852025.0</td>\n",
       "      <td>4090.0</td>\n",
       "      <td>179379</td>\n",
       "    </tr>\n",
       "    <tr>\n",
       "      <th>3</th>\n",
       "      <td>57793</td>\n",
       "      <td>247</td>\n",
       "      <td>31</td>\n",
       "      <td>570</td>\n",
       "      <td>29654.48</td>\n",
       "      <td>2511917.0</td>\n",
       "      <td>1239460.0</td>\n",
       "      <td>1272457.0</td>\n",
       "      <td>85.0</td>\n",
       "      <td>88800</td>\n",
       "    </tr>\n",
       "    <tr>\n",
       "      <th>4</th>\n",
       "      <td>21891</td>\n",
       "      <td>115</td>\n",
       "      <td>9</td>\n",
       "      <td>157</td>\n",
       "      <td>419.36</td>\n",
       "      <td>682986.0</td>\n",
       "      <td>338035.0</td>\n",
       "      <td>344951.0</td>\n",
       "      <td>1629.0</td>\n",
       "      <td>38698</td>\n",
       "    </tr>\n",
       "  </tbody>\n",
       "</table>\n",
       "</div>"
      ],
      "text/plain": [
       "   company_total  labor_total  cancer_total  plz_total  area_sqkm  population  \\\n",
       "0         299894         1381           133       2073   35748.20  11069533.0   \n",
       "1         412937         1604           158       3160   70541.61  13076721.0   \n",
       "2         142570          668            75       1318     891.12   3644826.0   \n",
       "3          57793          247            31        570   29654.48   2511917.0   \n",
       "4          21891          115             9        157     419.36    682986.0   \n",
       "\n",
       "        male     female  population_per_sqkm  gdp_mill_euro  \n",
       "0  5501693.0  5567840.0                310.0         572837  \n",
       "1  6483793.0  6592928.0                185.0         716784  \n",
       "2  1792801.0  1852025.0               4090.0         179379  \n",
       "3  1239460.0  1272457.0                 85.0          88800  \n",
       "4   338035.0   344951.0               1629.0          38698  "
      ]
     },
     "execution_count": 9,
     "metadata": {},
     "output_type": "execute_result"
    }
   ],
   "source": [
    "# See results\n",
    "sub_df.head()"
   ]
  },
  {
   "cell_type": "code",
   "execution_count": 10,
   "metadata": {},
   "outputs": [
    {
     "data": {
      "text/html": [
       "<div>\n",
       "<style scoped>\n",
       "    .dataframe tbody tr th:only-of-type {\n",
       "        vertical-align: middle;\n",
       "    }\n",
       "\n",
       "    .dataframe tbody tr th {\n",
       "        vertical-align: top;\n",
       "    }\n",
       "\n",
       "    .dataframe thead th {\n",
       "        text-align: right;\n",
       "    }\n",
       "</style>\n",
       "<table border=\"1\" class=\"dataframe\">\n",
       "  <thead>\n",
       "    <tr style=\"text-align: right;\">\n",
       "      <th></th>\n",
       "      <th>company_total</th>\n",
       "      <th>labor_total</th>\n",
       "      <th>cancer_total</th>\n",
       "      <th>plz_total</th>\n",
       "      <th>area_sqkm</th>\n",
       "      <th>population</th>\n",
       "      <th>male</th>\n",
       "      <th>female</th>\n",
       "      <th>population_per_sqkm</th>\n",
       "      <th>gdp_mill_euro</th>\n",
       "    </tr>\n",
       "  </thead>\n",
       "  <tbody>\n",
       "    <tr>\n",
       "      <th>count</th>\n",
       "      <td>16.000000</td>\n",
       "      <td>16.000000</td>\n",
       "      <td>16.000000</td>\n",
       "      <td>16.000000</td>\n",
       "      <td>16.000000</td>\n",
       "      <td>1.600000e+01</td>\n",
       "      <td>1.600000e+01</td>\n",
       "      <td>1.600000e+01</td>\n",
       "      <td>16.000000</td>\n",
       "      <td>16.000000</td>\n",
       "    </tr>\n",
       "    <tr>\n",
       "      <th>mean</th>\n",
       "      <td>149594.687500</td>\n",
       "      <td>625.937500</td>\n",
       "      <td>75.750000</td>\n",
       "      <td>1124.062500</td>\n",
       "      <td>22348.427500</td>\n",
       "      <td>5.188701e+06</td>\n",
       "      <td>2.560418e+06</td>\n",
       "      <td>2.628283e+06</td>\n",
       "      <td>689.437500</td>\n",
       "      <td>241690.625000</td>\n",
       "    </tr>\n",
       "    <tr>\n",
       "      <th>std</th>\n",
       "      <td>143929.614759</td>\n",
       "      <td>591.354769</td>\n",
       "      <td>70.338704</td>\n",
       "      <td>843.152218</td>\n",
       "      <td>18697.298273</td>\n",
       "      <td>4.936479e+06</td>\n",
       "      <td>2.434791e+06</td>\n",
       "      <td>2.501830e+06</td>\n",
       "      <td>1112.281857</td>\n",
       "      <td>244717.928213</td>\n",
       "    </tr>\n",
       "    <tr>\n",
       "      <th>min</th>\n",
       "      <td>21891.000000</td>\n",
       "      <td>115.000000</td>\n",
       "      <td>9.000000</td>\n",
       "      <td>157.000000</td>\n",
       "      <td>419.360000</td>\n",
       "      <td>6.829860e+05</td>\n",
       "      <td>3.380350e+05</td>\n",
       "      <td>3.449510e+05</td>\n",
       "      <td>69.000000</td>\n",
       "      <td>38505.000000</td>\n",
       "    </tr>\n",
       "    <tr>\n",
       "      <th>25%</th>\n",
       "      <td>48823.750000</td>\n",
       "      <td>211.750000</td>\n",
       "      <td>24.000000</td>\n",
       "      <td>499.750000</td>\n",
       "      <td>12496.002500</td>\n",
       "      <td>2.067654e+06</td>\n",
       "      <td>1.021122e+06</td>\n",
       "      <td>1.046531e+06</td>\n",
       "      <td>158.250000</td>\n",
       "      <td>74434.500000</td>\n",
       "    </tr>\n",
       "    <tr>\n",
       "      <th>50%</th>\n",
       "      <td>91395.500000</td>\n",
       "      <td>388.000000</td>\n",
       "      <td>48.500000</td>\n",
       "      <td>906.000000</td>\n",
       "      <td>20153.065000</td>\n",
       "      <td>3.270769e+06</td>\n",
       "      <td>1.606129e+06</td>\n",
       "      <td>1.664640e+06</td>\n",
       "      <td>213.500000</td>\n",
       "      <td>145365.500000</td>\n",
       "    </tr>\n",
       "    <tr>\n",
       "      <th>75%</th>\n",
       "      <td>201430.500000</td>\n",
       "      <td>807.500000</td>\n",
       "      <td>124.000000</td>\n",
       "      <td>1518.000000</td>\n",
       "      <td>30768.937500</td>\n",
       "      <td>6.694969e+06</td>\n",
       "      <td>3.305594e+06</td>\n",
       "      <td>3.389375e+06</td>\n",
       "      <td>420.250000</td>\n",
       "      <td>327367.500000</td>\n",
       "    </tr>\n",
       "    <tr>\n",
       "      <th>max</th>\n",
       "      <td>505294.000000</td>\n",
       "      <td>2112.000000</td>\n",
       "      <td>267.000000</td>\n",
       "      <td>3160.000000</td>\n",
       "      <td>70541.610000</td>\n",
       "      <td>1.793265e+07</td>\n",
       "      <td>8.798631e+06</td>\n",
       "      <td>9.134020e+06</td>\n",
       "      <td>4090.000000</td>\n",
       "      <td>793790.000000</td>\n",
       "    </tr>\n",
       "  </tbody>\n",
       "</table>\n",
       "</div>"
      ],
      "text/plain": [
       "       company_total  labor_total  cancer_total    plz_total     area_sqkm  \\\n",
       "count      16.000000    16.000000     16.000000    16.000000     16.000000   \n",
       "mean   149594.687500   625.937500     75.750000  1124.062500  22348.427500   \n",
       "std    143929.614759   591.354769     70.338704   843.152218  18697.298273   \n",
       "min     21891.000000   115.000000      9.000000   157.000000    419.360000   \n",
       "25%     48823.750000   211.750000     24.000000   499.750000  12496.002500   \n",
       "50%     91395.500000   388.000000     48.500000   906.000000  20153.065000   \n",
       "75%    201430.500000   807.500000    124.000000  1518.000000  30768.937500   \n",
       "max    505294.000000  2112.000000    267.000000  3160.000000  70541.610000   \n",
       "\n",
       "         population          male        female  population_per_sqkm  \\\n",
       "count  1.600000e+01  1.600000e+01  1.600000e+01            16.000000   \n",
       "mean   5.188701e+06  2.560418e+06  2.628283e+06           689.437500   \n",
       "std    4.936479e+06  2.434791e+06  2.501830e+06          1112.281857   \n",
       "min    6.829860e+05  3.380350e+05  3.449510e+05            69.000000   \n",
       "25%    2.067654e+06  1.021122e+06  1.046531e+06           158.250000   \n",
       "50%    3.270769e+06  1.606129e+06  1.664640e+06           213.500000   \n",
       "75%    6.694969e+06  3.305594e+06  3.389375e+06           420.250000   \n",
       "max    1.793265e+07  8.798631e+06  9.134020e+06          4090.000000   \n",
       "\n",
       "       gdp_mill_euro  \n",
       "count      16.000000  \n",
       "mean   241690.625000  \n",
       "std    244717.928213  \n",
       "min     38505.000000  \n",
       "25%     74434.500000  \n",
       "50%    145365.500000  \n",
       "75%    327367.500000  \n",
       "max    793790.000000  "
      ]
     },
     "execution_count": 10,
     "metadata": {},
     "output_type": "execute_result"
    }
   ],
   "source": [
    "# Basic descriptive analysis\n",
    "sub_df.describe()\n",
    "# Values within variables are quite different among variables therefore data needs to be standarized prior to analysis"
   ]
  },
  {
   "cell_type": "markdown",
   "metadata": {},
   "source": [
    "## Standarize data"
   ]
  },
  {
   "cell_type": "code",
   "execution_count": 11,
   "metadata": {},
   "outputs": [],
   "source": [
    "# Using Standard Scaler to standardize our data\n",
    "scaler = StandardScaler()\n",
    "sub_df_std = scaler.fit_transform(sub_df) "
   ]
  },
  {
   "cell_type": "markdown",
   "metadata": {},
   "source": [
    "# 4. Clustering analysis"
   ]
  },
  {
   "cell_type": "markdown",
   "metadata": {},
   "source": [
    "## 4.1 The elbow technique"
   ]
  },
  {
   "cell_type": "markdown",
   "metadata": {},
   "source": [
    "The optimal number of clusters shouldn’t be too many (otherwise, there won’t be much difference between them), while also not being too few (otherwise, you won’t get enough granularity). What the elbow technique does, then, is showing the breaking point, or “elbow,” at which adding more clusters won’t help better explain the variances in the data."
   ]
  },
  {
   "cell_type": "code",
   "execution_count": 12,
   "metadata": {},
   "outputs": [],
   "source": [
    "num_cl = range(1, 8) # Defines the range of potential clusters in the data\n",
    "# since there are 16 Bundesländer in Germany, then I set a maximum of 8 cluster among them\n",
    "kmeans = [KMeans(n_clusters=i) for i in num_cl] # Defines k-means clusters in the range assigned above"
   ]
  },
  {
   "cell_type": "code",
   "execution_count": 13,
   "metadata": {},
   "outputs": [
    {
     "data": {
      "text/plain": [
       "[-160.0,\n",
       " -55.133443006088825,\n",
       " -35.76730481375208,\n",
       " -20.668425369925068,\n",
       " -14.556562326062107,\n",
       " -10.281462516587382,\n",
       " -7.043015094030226]"
      ]
     },
     "execution_count": 13,
     "metadata": {},
     "output_type": "execute_result"
    }
   ],
   "source": [
    "score = [kmeans[i].fit(sub_df_std).score(sub_df_std) for i in range(len(kmeans))] \n",
    "# Creates a score that represents a rate of variation for the given cluster option.\n",
    "score"
   ]
  },
  {
   "cell_type": "code",
   "execution_count": 14,
   "metadata": {},
   "outputs": [
    {
     "data": {
      "image/png": "[encoded data removed]",
      "text/plain": [
       "<Figure size 640x480 with 1 Axes>"
      ]
     },
     "metadata": {},
     "output_type": "display_data"
    }
   ],
   "source": [
    "# Plot the elbow curve using PyLab.\n",
    "pl.plot(num_cl,score)\n",
    "pl.xlabel('Number of Clusters')\n",
    "pl.ylabel('Score')\n",
    "pl.title('Elbow Curve')\n",
    "pl.show()"
   ]
  },
  {
   "cell_type": "markdown",
   "metadata": {},
   "source": [
    "In this example, there's a particularly large jump from one to two on the x-axis, but after two the curve straightens out. This means that the optimal count for my cluster is two."
   ]
  },
  {
   "cell_type": "markdown",
   "metadata": {},
   "source": [
    "## 4.2 k means"
   ]
  },
  {
   "cell_type": "code",
   "execution_count": 15,
   "metadata": {},
   "outputs": [],
   "source": [
    "# Create the k-means objecs\n",
    "kmeans = KMeans(n_clusters = 2)"
   ]
  },
  {
   "cell_type": "code",
   "execution_count": 16,
   "metadata": {},
   "outputs": [
    {
     "data": {
      "text/html": [
       "<style>#sk-container-id-1 {color: black;}#sk-container-id-1 pre{padding: 0;}#sk-container-id-1 div.sk-toggleable {background-color: white;}#sk-container-id-1 label.sk-toggleable__label {cursor: pointer;display: block;width: 100%;margin-bottom: 0;padding: 0.3em;box-sizing: border-box;text-align: center;}#sk-container-id-1 label.sk-toggleable__label-arrow:before {content: \"▸\";float: left;margin-right: 0.25em;color: #696969;}#sk-container-id-1 label.sk-toggleable__label-arrow:hover:before {color: black;}#sk-container-id-1 div.sk-estimator:hover label.sk-toggleable__label-arrow:before {color: black;}#sk-container-id-1 div.sk-toggleable__content {max-height: 0;max-width: 0;overflow: hidden;text-align: left;background-color: #f0f8ff;}#sk-container-id-1 div.sk-toggleable__content pre {margin: 0.2em;color: black;border-radius: 0.25em;background-color: #f0f8ff;}#sk-container-id-1 input.sk-toggleable__control:checked~div.sk-toggleable__content {max-height: 200px;max-width: 100%;overflow: auto;}#sk-container-id-1 input.sk-toggleable__control:checked~label.sk-toggleable__label-arrow:before {content: \"▾\";}#sk-container-id-1 div.sk-estimator input.sk-toggleable__control:checked~label.sk-toggleable__label {background-color: #d4ebff;}#sk-container-id-1 div.sk-label input.sk-toggleable__control:checked~label.sk-toggleable__label {background-color: #d4ebff;}#sk-container-id-1 input.sk-hidden--visually {border: 0;clip: rect(1px 1px 1px 1px);clip: rect(1px, 1px, 1px, 1px);height: 1px;margin: -1px;overflow: hidden;padding: 0;position: absolute;width: 1px;}#sk-container-id-1 div.sk-estimator {font-family: monospace;background-color: #f0f8ff;border: 1px dotted black;border-radius: 0.25em;box-sizing: border-box;margin-bottom: 0.5em;}#sk-container-id-1 div.sk-estimator:hover {background-color: #d4ebff;}#sk-container-id-1 div.sk-parallel-item::after {content: \"\";width: 100%;border-bottom: 1px solid gray;flex-grow: 1;}#sk-container-id-1 div.sk-label:hover label.sk-toggleable__label {background-color: #d4ebff;}#sk-container-id-1 div.sk-serial::before {content: \"\";position: absolute;border-left: 1px solid gray;box-sizing: border-box;top: 0;bottom: 0;left: 50%;z-index: 0;}#sk-container-id-1 div.sk-serial {display: flex;flex-direction: column;align-items: center;background-color: white;padding-right: 0.2em;padding-left: 0.2em;position: relative;}#sk-container-id-1 div.sk-item {position: relative;z-index: 1;}#sk-container-id-1 div.sk-parallel {display: flex;align-items: stretch;justify-content: center;background-color: white;position: relative;}#sk-container-id-1 div.sk-item::before, #sk-container-id-1 div.sk-parallel-item::before {content: \"\";position: absolute;border-left: 1px solid gray;box-sizing: border-box;top: 0;bottom: 0;left: 50%;z-index: -1;}#sk-container-id-1 div.sk-parallel-item {display: flex;flex-direction: column;z-index: 1;position: relative;background-color: white;}#sk-container-id-1 div.sk-parallel-item:first-child::after {align-self: flex-end;width: 50%;}#sk-container-id-1 div.sk-parallel-item:last-child::after {align-self: flex-start;width: 50%;}#sk-container-id-1 div.sk-parallel-item:only-child::after {width: 0;}#sk-container-id-1 div.sk-dashed-wrapped {border: 1px dashed gray;margin: 0 0.4em 0.5em 0.4em;box-sizing: border-box;padding-bottom: 0.4em;background-color: white;}#sk-container-id-1 div.sk-label label {font-family: monospace;font-weight: bold;display: inline-block;line-height: 1.2em;}#sk-container-id-1 div.sk-label-container {text-align: center;}#sk-container-id-1 div.sk-container {/* jupyter's `normalize.less` sets `[hidden] { display: none; }` but bootstrap.min.css set `[hidden] { display: none !important; }` so we also need the `!important` here to be able to override the default hidden behavior on the sphinx rendered scikit-learn.org. See: https://github.com/scikit-learn/scikit-learn/issues/21755 */display: inline-block !important;position: relative;}#sk-container-id-1 div.sk-text-repr-fallback {display: none;}</style><div id=\"sk-container-id-1\" class=\"sk-top-container\"><div class=\"sk-text-repr-fallback\"><pre>KMeans(n_clusters=2)</pre><b>In a Jupyter environment, please rerun this cell to show the HTML representation or trust the notebook. <br />On GitHub, the HTML representation is unable to render, please try loading this page with nbviewer.org.</b></div><div class=\"sk-container\" hidden><div class=\"sk-item\"><div class=\"sk-estimator sk-toggleable\"><input class=\"sk-toggleable__control sk-hidden--visually\" id=\"sk-estimator-id-1\" type=\"checkbox\" checked><label for=\"sk-estimator-id-1\" class=\"sk-toggleable__label sk-toggleable__label-arrow\">KMeans</label><div class=\"sk-toggleable__content\"><pre>KMeans(n_clusters=2)</pre></div></div></div></div></div>"
      ],
      "text/plain": [
       "KMeans(n_clusters=2)"
      ]
     },
     "execution_count": 16,
     "metadata": {},
     "output_type": "execute_result"
    }
   ],
   "source": [
    "# Fit the k-means object to the data.\n",
    "kmeans.fit(sub_df)"
   ]
  },
  {
   "cell_type": "code",
   "execution_count": 17,
   "metadata": {},
   "outputs": [],
   "source": [
    "df['clusters'] = kmeans.fit_predict(sub_df)"
   ]
  },
  {
   "cell_type": "code",
   "execution_count": 18,
   "metadata": {},
   "outputs": [
    {
     "data": {
      "text/html": [
       "<div>\n",
       "<style scoped>\n",
       "    .dataframe tbody tr th:only-of-type {\n",
       "        vertical-align: middle;\n",
       "    }\n",
       "\n",
       "    .dataframe tbody tr th {\n",
       "        vertical-align: top;\n",
       "    }\n",
       "\n",
       "    .dataframe thead th {\n",
       "        text-align: right;\n",
       "    }\n",
       "</style>\n",
       "<table border=\"1\" class=\"dataframe\">\n",
       "  <thead>\n",
       "    <tr style=\"text-align: right;\">\n",
       "      <th></th>\n",
       "      <th>bundesland_en</th>\n",
       "      <th>company_total</th>\n",
       "      <th>labor_total</th>\n",
       "      <th>cancer_total</th>\n",
       "      <th>plz_total</th>\n",
       "      <th>administration_unit_id</th>\n",
       "      <th>bundesland_de</th>\n",
       "      <th>area_sqkm</th>\n",
       "      <th>population</th>\n",
       "      <th>male</th>\n",
       "      <th>female</th>\n",
       "      <th>population_per_sqkm</th>\n",
       "      <th>gdp_mill_euro</th>\n",
       "      <th>clusters</th>\n",
       "    </tr>\n",
       "  </thead>\n",
       "  <tbody>\n",
       "    <tr>\n",
       "      <th>0</th>\n",
       "      <td>Baden-Württemberg</td>\n",
       "      <td>299894</td>\n",
       "      <td>1381</td>\n",
       "      <td>133</td>\n",
       "      <td>2073</td>\n",
       "      <td>8</td>\n",
       "      <td>Baden-Württemberg</td>\n",
       "      <td>35748.20</td>\n",
       "      <td>11069533.0</td>\n",
       "      <td>5501693.0</td>\n",
       "      <td>5567840.0</td>\n",
       "      <td>310.0</td>\n",
       "      <td>572837</td>\n",
       "      <td>0</td>\n",
       "    </tr>\n",
       "    <tr>\n",
       "      <th>1</th>\n",
       "      <td>Bavaria</td>\n",
       "      <td>412937</td>\n",
       "      <td>1604</td>\n",
       "      <td>158</td>\n",
       "      <td>3160</td>\n",
       "      <td>9</td>\n",
       "      <td>Bayern</td>\n",
       "      <td>70541.61</td>\n",
       "      <td>13076721.0</td>\n",
       "      <td>6483793.0</td>\n",
       "      <td>6592928.0</td>\n",
       "      <td>185.0</td>\n",
       "      <td>716784</td>\n",
       "      <td>0</td>\n",
       "    </tr>\n",
       "    <tr>\n",
       "      <th>2</th>\n",
       "      <td>Berlin</td>\n",
       "      <td>142570</td>\n",
       "      <td>668</td>\n",
       "      <td>75</td>\n",
       "      <td>1318</td>\n",
       "      <td>11</td>\n",
       "      <td>Berlin</td>\n",
       "      <td>891.12</td>\n",
       "      <td>3644826.0</td>\n",
       "      <td>1792801.0</td>\n",
       "      <td>1852025.0</td>\n",
       "      <td>4090.0</td>\n",
       "      <td>179379</td>\n",
       "      <td>1</td>\n",
       "    </tr>\n",
       "    <tr>\n",
       "      <th>3</th>\n",
       "      <td>Brandenburg</td>\n",
       "      <td>57793</td>\n",
       "      <td>247</td>\n",
       "      <td>31</td>\n",
       "      <td>570</td>\n",
       "      <td>12</td>\n",
       "      <td>Brandenburg</td>\n",
       "      <td>29654.48</td>\n",
       "      <td>2511917.0</td>\n",
       "      <td>1239460.0</td>\n",
       "      <td>1272457.0</td>\n",
       "      <td>85.0</td>\n",
       "      <td>88800</td>\n",
       "      <td>1</td>\n",
       "    </tr>\n",
       "    <tr>\n",
       "      <th>4</th>\n",
       "      <td>Bremen</td>\n",
       "      <td>21891</td>\n",
       "      <td>115</td>\n",
       "      <td>9</td>\n",
       "      <td>157</td>\n",
       "      <td>4</td>\n",
       "      <td>Bremen</td>\n",
       "      <td>419.36</td>\n",
       "      <td>682986.0</td>\n",
       "      <td>338035.0</td>\n",
       "      <td>344951.0</td>\n",
       "      <td>1629.0</td>\n",
       "      <td>38698</td>\n",
       "      <td>1</td>\n",
       "    </tr>\n",
       "    <tr>\n",
       "      <th>5</th>\n",
       "      <td>Hamburg</td>\n",
       "      <td>90427</td>\n",
       "      <td>340</td>\n",
       "      <td>33</td>\n",
       "      <td>962</td>\n",
       "      <td>2</td>\n",
       "      <td>Hamburg</td>\n",
       "      <td>755.09</td>\n",
       "      <td>1841179.0</td>\n",
       "      <td>902048.0</td>\n",
       "      <td>939131.0</td>\n",
       "      <td>2438.0</td>\n",
       "      <td>144220</td>\n",
       "      <td>1</td>\n",
       "    </tr>\n",
       "    <tr>\n",
       "      <th>6</th>\n",
       "      <td>Hesse</td>\n",
       "      <td>195520</td>\n",
       "      <td>812</td>\n",
       "      <td>139</td>\n",
       "      <td>1746</td>\n",
       "      <td>6</td>\n",
       "      <td>Hessen</td>\n",
       "      <td>21115.67</td>\n",
       "      <td>6265809.0</td>\n",
       "      <td>3093044.0</td>\n",
       "      <td>3172765.0</td>\n",
       "      <td>297.0</td>\n",
       "      <td>323352</td>\n",
       "      <td>1</td>\n",
       "    </tr>\n",
       "    <tr>\n",
       "      <th>7</th>\n",
       "      <td>Lower Saxony</td>\n",
       "      <td>219162</td>\n",
       "      <td>806</td>\n",
       "      <td>121</td>\n",
       "      <td>1442</td>\n",
       "      <td>3</td>\n",
       "      <td>Niedersachsen</td>\n",
       "      <td>47709.51</td>\n",
       "      <td>7982448.0</td>\n",
       "      <td>3943243.0</td>\n",
       "      <td>4039205.0</td>\n",
       "      <td>167.0</td>\n",
       "      <td>339414</td>\n",
       "      <td>1</td>\n",
       "    </tr>\n",
       "    <tr>\n",
       "      <th>8</th>\n",
       "      <td>Mecklenburg-Western Pomerania</td>\n",
       "      <td>37426</td>\n",
       "      <td>183</td>\n",
       "      <td>24</td>\n",
       "      <td>462</td>\n",
       "      <td>13</td>\n",
       "      <td>Mecklenburg-Vorpommern</td>\n",
       "      <td>23293.61</td>\n",
       "      <td>1609675.0</td>\n",
       "      <td>793639.0</td>\n",
       "      <td>816036.0</td>\n",
       "      <td>69.0</td>\n",
       "      <td>53440</td>\n",
       "      <td>1</td>\n",
       "    </tr>\n",
       "    <tr>\n",
       "      <th>9</th>\n",
       "      <td>North Rhine-Westphalia</td>\n",
       "      <td>505294</td>\n",
       "      <td>2112</td>\n",
       "      <td>267</td>\n",
       "      <td>2310</td>\n",
       "      <td>5</td>\n",
       "      <td>Nordrhein-Westfalen</td>\n",
       "      <td>34112.31</td>\n",
       "      <td>17932651.0</td>\n",
       "      <td>8798631.0</td>\n",
       "      <td>9134020.0</td>\n",
       "      <td>526.0</td>\n",
       "      <td>793790</td>\n",
       "      <td>0</td>\n",
       "    </tr>\n",
       "    <tr>\n",
       "      <th>10</th>\n",
       "      <td>Rhineland-Palatinate</td>\n",
       "      <td>109797</td>\n",
       "      <td>441</td>\n",
       "      <td>60</td>\n",
       "      <td>1089</td>\n",
       "      <td>7</td>\n",
       "      <td>Rheinland-Pfalz</td>\n",
       "      <td>19851.82</td>\n",
       "      <td>4084844.0</td>\n",
       "      <td>2017576.0</td>\n",
       "      <td>2067268.0</td>\n",
       "      <td>206.0</td>\n",
       "      <td>171699</td>\n",
       "      <td>1</td>\n",
       "    </tr>\n",
       "    <tr>\n",
       "      <th>11</th>\n",
       "      <td>Saarland</td>\n",
       "      <td>27738</td>\n",
       "      <td>124</td>\n",
       "      <td>19</td>\n",
       "      <td>160</td>\n",
       "      <td>10</td>\n",
       "      <td>Saarland</td>\n",
       "      <td>2571.11</td>\n",
       "      <td>990509.0</td>\n",
       "      <td>486159.0</td>\n",
       "      <td>504350.0</td>\n",
       "      <td>385.0</td>\n",
       "      <td>38505</td>\n",
       "      <td>1</td>\n",
       "    </tr>\n",
       "    <tr>\n",
       "      <th>12</th>\n",
       "      <td>Saxony</td>\n",
       "      <td>92364</td>\n",
       "      <td>436</td>\n",
       "      <td>54</td>\n",
       "      <td>850</td>\n",
       "      <td>14</td>\n",
       "      <td>Sachsen</td>\n",
       "      <td>18449.95</td>\n",
       "      <td>4077937.0</td>\n",
       "      <td>2009619.0</td>\n",
       "      <td>2068318.0</td>\n",
       "      <td>221.0</td>\n",
       "      <td>146511</td>\n",
       "      <td>1</td>\n",
       "    </tr>\n",
       "    <tr>\n",
       "      <th>13</th>\n",
       "      <td>Saxony-Anhalt</td>\n",
       "      <td>48918</td>\n",
       "      <td>215</td>\n",
       "      <td>24</td>\n",
       "      <td>490</td>\n",
       "      <td>15</td>\n",
       "      <td>Sachsen-Anhalt</td>\n",
       "      <td>20454.31</td>\n",
       "      <td>2208321.0</td>\n",
       "      <td>1086679.0</td>\n",
       "      <td>1121642.0</td>\n",
       "      <td>108.0</td>\n",
       "      <td>75436</td>\n",
       "      <td>1</td>\n",
       "    </tr>\n",
       "    <tr>\n",
       "      <th>14</th>\n",
       "      <td>Schleswig-Holstein</td>\n",
       "      <td>83243</td>\n",
       "      <td>329</td>\n",
       "      <td>43</td>\n",
       "      <td>693</td>\n",
       "      <td>1</td>\n",
       "      <td>Schleswig-Holstein</td>\n",
       "      <td>15804.30</td>\n",
       "      <td>2896712.0</td>\n",
       "      <td>1419457.0</td>\n",
       "      <td>1477255.0</td>\n",
       "      <td>183.0</td>\n",
       "      <td>112755</td>\n",
       "      <td>1</td>\n",
       "    </tr>\n",
       "    <tr>\n",
       "      <th>15</th>\n",
       "      <td>Thuringia</td>\n",
       "      <td>48541</td>\n",
       "      <td>202</td>\n",
       "      <td>22</td>\n",
       "      <td>503</td>\n",
       "      <td>16</td>\n",
       "      <td>Thüringen</td>\n",
       "      <td>16202.39</td>\n",
       "      <td>2143145.0</td>\n",
       "      <td>1060814.0</td>\n",
       "      <td>1082331.0</td>\n",
       "      <td>132.0</td>\n",
       "      <td>71430</td>\n",
       "      <td>1</td>\n",
       "    </tr>\n",
       "  </tbody>\n",
       "</table>\n",
       "</div>"
      ],
      "text/plain": [
       "                    bundesland_en  company_total  labor_total  cancer_total  \\\n",
       "0               Baden-Württemberg         299894         1381           133   \n",
       "1                         Bavaria         412937         1604           158   \n",
       "2                          Berlin         142570          668            75   \n",
       "3                     Brandenburg          57793          247            31   \n",
       "4                          Bremen          21891          115             9   \n",
       "5                         Hamburg          90427          340            33   \n",
       "6                           Hesse         195520          812           139   \n",
       "7                    Lower Saxony         219162          806           121   \n",
       "8   Mecklenburg-Western Pomerania          37426          183            24   \n",
       "9          North Rhine-Westphalia         505294         2112           267   \n",
       "10           Rhineland-Palatinate         109797          441            60   \n",
       "11                       Saarland          27738          124            19   \n",
       "12                         Saxony          92364          436            54   \n",
       "13                  Saxony-Anhalt          48918          215            24   \n",
       "14             Schleswig-Holstein          83243          329            43   \n",
       "15                      Thuringia          48541          202            22   \n",
       "\n",
       "    plz_total  administration_unit_id           bundesland_de  area_sqkm  \\\n",
       "0        2073                       8       Baden-Württemberg   35748.20   \n",
       "1        3160                       9                  Bayern   70541.61   \n",
       "2        1318                      11                  Berlin     891.12   \n",
       "3         570                      12             Brandenburg   29654.48   \n",
       "4         157                       4                  Bremen     419.36   \n",
       "5         962                       2                 Hamburg     755.09   \n",
       "6        1746                       6                  Hessen   21115.67   \n",
       "7        1442                       3           Niedersachsen   47709.51   \n",
       "8         462                      13  Mecklenburg-Vorpommern   23293.61   \n",
       "9        2310                       5     Nordrhein-Westfalen   34112.31   \n",
       "10       1089                       7         Rheinland-Pfalz   19851.82   \n",
       "11        160                      10                Saarland    2571.11   \n",
       "12        850                      14                 Sachsen   18449.95   \n",
       "13        490                      15          Sachsen-Anhalt   20454.31   \n",
       "14        693                       1      Schleswig-Holstein   15804.30   \n",
       "15        503                      16               Thüringen   16202.39   \n",
       "\n",
       "    population       male     female  population_per_sqkm  gdp_mill_euro  \\\n",
       "0   11069533.0  5501693.0  5567840.0                310.0         572837   \n",
       "1   13076721.0  6483793.0  6592928.0                185.0         716784   \n",
       "2    3644826.0  1792801.0  1852025.0               4090.0         179379   \n",
       "3    2511917.0  1239460.0  1272457.0                 85.0          88800   \n",
       "4     682986.0   338035.0   344951.0               1629.0          38698   \n",
       "5    1841179.0   902048.0   939131.0               2438.0         144220   \n",
       "6    6265809.0  3093044.0  3172765.0                297.0         323352   \n",
       "7    7982448.0  3943243.0  4039205.0                167.0         339414   \n",
       "8    1609675.0   793639.0   816036.0                 69.0          53440   \n",
       "9   17932651.0  8798631.0  9134020.0                526.0         793790   \n",
       "10   4084844.0  2017576.0  2067268.0                206.0         171699   \n",
       "11    990509.0   486159.0   504350.0                385.0          38505   \n",
       "12   4077937.0  2009619.0  2068318.0                221.0         146511   \n",
       "13   2208321.0  1086679.0  1121642.0                108.0          75436   \n",
       "14   2896712.0  1419457.0  1477255.0                183.0         112755   \n",
       "15   2143145.0  1060814.0  1082331.0                132.0          71430   \n",
       "\n",
       "    clusters  \n",
       "0          0  \n",
       "1          0  \n",
       "2          1  \n",
       "3          1  \n",
       "4          1  \n",
       "5          1  \n",
       "6          1  \n",
       "7          1  \n",
       "8          1  \n",
       "9          0  \n",
       "10         1  \n",
       "11         1  \n",
       "12         1  \n",
       "13         1  \n",
       "14         1  \n",
       "15         1  "
      ]
     },
     "execution_count": 18,
     "metadata": {},
     "output_type": "execute_result"
    }
   ],
   "source": [
    "df"
   ]
  },
  {
   "cell_type": "code",
   "execution_count": 19,
   "metadata": {},
   "outputs": [
    {
     "data": {
      "text/plain": [
       "clusters\n",
       "1    13\n",
       "0     3\n",
       "Name: count, dtype: int64"
      ]
     },
     "execution_count": 19,
     "metadata": {},
     "output_type": "execute_result"
    }
   ],
   "source": [
    "df['clusters'].value_counts()"
   ]
  },
  {
   "cell_type": "markdown",
   "metadata": {},
   "source": [
    "As a resul of our clustering modeling, two clusters were created with Bundesländer NRW, Bayer and Baden-Württenberg being cluster within 0 and the rest of them Bundesländer within 1. "
   ]
  },
  {
   "cell_type": "markdown",
   "metadata": {},
   "source": [
    "## 4.3 Plotting clusters"
   ]
  },
  {
   "cell_type": "code",
   "execution_count": 20,
   "metadata": {},
   "outputs": [
    {
     "data": {
      "image/png": "[encoded data removed]",
      "text/plain": [
       "<Figure size 1200x800 with 1 Axes>"
      ]
     },
     "metadata": {},
     "output_type": "display_data"
    }
   ],
   "source": [
    "# Plot the clusters for the \"company_total\" and \"labor_total\" variables.\n",
    "\n",
    "plt.figure(figsize=(12,8))\n",
    "ax = sns.scatterplot(x=df['company_total'], y=df['labor_total'], hue=kmeans.labels_, s=100) \n",
    "# Here, you're subsetting `X` for the x and y arguments to avoid using their labels. \n",
    "# `hue` takes the value of the attribute `kmeans.labels_`, which is the result of running the k-means algorithm.\n",
    "# `s` represents the size of the points you want to see in the plot.\n",
    "\n",
    "ax.grid(False) # This removes the grid from the background.\n",
    "plt.xlabel('Total number of companies') # Label x-axis.\n",
    "plt.ylabel('Total number of potential company customers') # Label y-axis.\n",
    "plt.show()"
   ]
  },
  {
   "cell_type": "code",
   "execution_count": 21,
   "metadata": {},
   "outputs": [
    {
     "data": {
      "image/png": "[encoded data removed]",
      "text/plain": [
       "<Figure size 1200x800 with 1 Axes>"
      ]
     },
     "metadata": {},
     "output_type": "display_data"
    }
   ],
   "source": [
    "# Plot the clusters for the \"labor_total\" and \"population\" variables.\n",
    "\n",
    "plt.figure(figsize=(12,8))\n",
    "ax = sns.scatterplot(x=df['population'], y=df['labor_total'], hue=kmeans.labels_, s=100)\n",
    "\n",
    "ax.grid(False) \n",
    "plt.xlabel('Population') \n",
    "plt.ylabel('Total number of potential Laboratory company customers') \n",
    "\n",
    "# Save the cluster plot\n",
    "plt.savefig(os.path.join(path, '04_Analysis', 'Visuals', 'cluster_labor_vs_population_bundesland.png'))\n",
    "\n",
    "# Display the plot\n",
    "plt.show()"
   ]
  },
  {
   "cell_type": "code",
   "execution_count": 22,
   "metadata": {},
   "outputs": [
    {
     "data": {
      "image/png": "[encoded data removed]",
      "text/plain": [
       "<Figure size 1200x800 with 1 Axes>"
      ]
     },
     "metadata": {},
     "output_type": "display_data"
    }
   ],
   "source": [
    "# Plot the clusters for the \"labor_total\" and \"gdp\" variables.\n",
    "\n",
    "plt.figure(figsize=(12,8))\n",
    "ax = sns.scatterplot(x=df['gdp_mill_euro'], y=df['labor_total'], hue=kmeans.labels_, s=100)\n",
    "\n",
    "ax.grid(False) \n",
    "plt.xlabel('GDP in millions') \n",
    "plt.ylabel('Total number of potential Laboratory company customers') \n",
    "# Save the cluster plot\n",
    "plt.savefig(os.path.join(path, '04_Analysis', 'Visuals', 'cluster_labor_vs_gdp_bundesland.png'))\n",
    "\n",
    "# Display the plot\n",
    "plt.show()"
   ]
  },
  {
   "cell_type": "markdown",
   "metadata": {},
   "source": [
    "The visual analysis of the plots indicates that Bundesländer falling into Cluster 1 exhibit distinctive characteristics, including a sizable population, high GDP, significant industrial activity, and notably, a substantial number of potential company customers—considered crucial from the business perspective of our client. Consequently, this cluster will be appropriately labeled as \"high business potential.\" In contrast, the remaining cluster, lacking these prominent attributes, will be designated as \"low business potential.\" "
   ]
  },
  {
   "cell_type": "markdown",
   "metadata": {},
   "source": [
    "## 4.4 Cluster basic stats"
   ]
  },
  {
   "cell_type": "code",
   "execution_count": 23,
   "metadata": {},
   "outputs": [],
   "source": [
    "# Labeling cluster \n",
    "df.loc[df['clusters'] == 1, 'cluster'] = 'high business potential'\n",
    "df.loc[df['clusters'] == 0, 'cluster'] = 'low business potential'"
   ]
  },
  {
   "cell_type": "code",
   "execution_count": 24,
   "metadata": {},
   "outputs": [
    {
     "data": {
      "text/html": [
       "<div>\n",
       "<style scoped>\n",
       "    .dataframe tbody tr th:only-of-type {\n",
       "        vertical-align: middle;\n",
       "    }\n",
       "\n",
       "    .dataframe tbody tr th {\n",
       "        vertical-align: top;\n",
       "    }\n",
       "\n",
       "    .dataframe thead tr th {\n",
       "        text-align: left;\n",
       "    }\n",
       "\n",
       "    .dataframe thead tr:last-of-type th {\n",
       "        text-align: right;\n",
       "    }\n",
       "</style>\n",
       "<table border=\"1\" class=\"dataframe\">\n",
       "  <thead>\n",
       "    <tr>\n",
       "      <th></th>\n",
       "      <th colspan=\"2\" halign=\"left\">company_total</th>\n",
       "      <th colspan=\"2\" halign=\"left\">labor_total</th>\n",
       "      <th colspan=\"2\" halign=\"left\">cancer_total</th>\n",
       "      <th colspan=\"2\" halign=\"left\">area_sqkm</th>\n",
       "      <th colspan=\"2\" halign=\"left\">population</th>\n",
       "    </tr>\n",
       "    <tr>\n",
       "      <th></th>\n",
       "      <th>mean</th>\n",
       "      <th>median</th>\n",
       "      <th>mean</th>\n",
       "      <th>median</th>\n",
       "      <th>mean</th>\n",
       "      <th>median</th>\n",
       "      <th>mean</th>\n",
       "      <th>median</th>\n",
       "      <th>mean</th>\n",
       "      <th>median</th>\n",
       "    </tr>\n",
       "    <tr>\n",
       "      <th>cluster</th>\n",
       "      <th></th>\n",
       "      <th></th>\n",
       "      <th></th>\n",
       "      <th></th>\n",
       "      <th></th>\n",
       "      <th></th>\n",
       "      <th></th>\n",
       "      <th></th>\n",
       "      <th></th>\n",
       "      <th></th>\n",
       "    </tr>\n",
       "  </thead>\n",
       "  <tbody>\n",
       "    <tr>\n",
       "      <th>high business potential</th>\n",
       "      <td>90414.615385</td>\n",
       "      <td>83243.0</td>\n",
       "      <td>378.307692</td>\n",
       "      <td>329.0</td>\n",
       "      <td>50.307692</td>\n",
       "      <td>33.0</td>\n",
       "      <td>16705.593846</td>\n",
       "      <td>18449.95</td>\n",
       "      <td>3.149254e+06</td>\n",
       "      <td>2511917.0</td>\n",
       "    </tr>\n",
       "    <tr>\n",
       "      <th>low business potential</th>\n",
       "      <td>406041.666667</td>\n",
       "      <td>412937.0</td>\n",
       "      <td>1699.000000</td>\n",
       "      <td>1604.0</td>\n",
       "      <td>186.000000</td>\n",
       "      <td>158.0</td>\n",
       "      <td>46800.706667</td>\n",
       "      <td>35748.20</td>\n",
       "      <td>1.402630e+07</td>\n",
       "      <td>13076721.0</td>\n",
       "    </tr>\n",
       "  </tbody>\n",
       "</table>\n",
       "</div>"
      ],
      "text/plain": [
       "                         company_total            labor_total          \\\n",
       "                                  mean    median         mean  median   \n",
       "cluster                                                                 \n",
       "high business potential   90414.615385   83243.0   378.307692   329.0   \n",
       "low business potential   406041.666667  412937.0  1699.000000  1604.0   \n",
       "\n",
       "                        cancer_total            area_sqkm            \\\n",
       "                                mean median          mean    median   \n",
       "cluster                                                               \n",
       "high business potential    50.307692   33.0  16705.593846  18449.95   \n",
       "low business potential    186.000000  158.0  46800.706667  35748.20   \n",
       "\n",
       "                           population              \n",
       "                                 mean      median  \n",
       "cluster                                            \n",
       "high business potential  3.149254e+06   2511917.0  \n",
       "low business potential   1.402630e+07  13076721.0  "
      ]
     },
     "execution_count": 24,
     "metadata": {},
     "output_type": "execute_result"
    }
   ],
   "source": [
    "df.groupby('cluster').agg({'company_total':['mean', 'median'], \n",
    "                         'labor_total':['mean', 'median'], \n",
    "                         'cancer_total':['mean', 'median'],\n",
    "                           'area_sqkm':['mean', 'median'],\n",
    "                          'population':['mean', 'median']})"
   ]
  },
  {
   "cell_type": "markdown",
   "metadata": {},
   "source": [
    "In our cluster analysis, the \"high business potential\" cluster stands out with significantly higher mean and median values for key parameters, including company total, labor total, and cancer total. This suggests that the \"blue\" cluster comprises regions with heightened economic activity, specifically in the industrial sector, including potential laboratory and cancer-related enterprises—entities aligning with the target customer profile of our client, LaborDE.\n",
    "\n",
    "Additionally, the \"high business potential\" cluster demonstrates superior mean and median values for area_sqkm and population. This indicates that it likely represents Bundesländer with larger areas and populations on average, highlighting both economic vibrancy and providing valuable context for demographic and spatial characteristics."
   ]
  },
  {
   "cell_type": "markdown",
   "metadata": {},
   "source": [
    "### Exporting data"
   ]
  },
  {
   "cell_type": "code",
   "execution_count": 25,
   "metadata": {},
   "outputs": [],
   "source": [
    "# Exporting to prepared data folder\n",
    "#\"index = False\" avoids the automatic creation of an unnamed column in the exported csv file\n",
    "df.to_csv(os.path.join(path, '02_Data','Prepared_data', 'company_bundesland_step6.csv'), index = False)"
   ]
  },
  {
   "cell_type": "markdown",
   "metadata": {},
   "source": [
    "# 5. Data driven insights"
   ]
  },
  {
   "cell_type": "markdown",
   "metadata": {},
   "source": [
    "The k-means clustering algorithm has recommended dividing our datapoints into two distinct clusters. This analysis encompassed all numerical variables in my dataframe, including industrial activity, demographic factors, and financial indicators at the Bundesland level. In contrast to the previous manual grouping of Bundesländer into three categories in Step 3, where a single variable was considered, the applied algorithm suggests that clustering based on all variables provides a more comprehensive perspective.\n",
    "\n",
    "For our client, LaborDE, this analysis highlights Bayern and Baden-Württemberg as optimal Bundesländer for conducting business operations. Interestingly, NRW, where our client is currently located, also falls within the cluster characterized by \"high business potential\".\n",
    "\n",
    "Next Steps: To validate these findings, statistical tests to assess the statistical significance of the differences between the identified clusters is advised. This will provide a more robust foundation for strategic decision-making based on the clustering results."
   ]
  }
 ],
 "metadata": {
  "kernelspec": {
   "display_name": "Python 3 (ipykernel)",
   "language": "python",
   "name": "python3"
  },
  "language_info": {
   "codemirror_mode": {
    "name": "ipython",
    "version": 3
   },
   "file_extension": ".py",
   "mimetype": "text/x-python",
   "name": "python",
   "nbconvert_exporter": "python",
   "pygments_lexer": "ipython3",
   "version": "3.11.4"
  }
 },
 "nbformat": 4,
 "nbformat_minor": 4
}
